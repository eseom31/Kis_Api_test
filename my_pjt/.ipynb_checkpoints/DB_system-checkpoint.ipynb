{
 "cells": [
  {
   "cell_type": "markdown",
   "metadata": {},
   "source": [
    "#### 서비스 연결"
   ]
  },
  {
   "cell_type": "markdown",
   "metadata": {},
   "source": [
    "* 필요 라이브러리 Load"
   ]
  },
  {
   "cell_type": "code",
   "execution_count": 2,
   "metadata": {},
   "outputs": [],
   "source": [
    "import requests\n",
    "import json"
   ]
  },
  {
   "cell_type": "code",
   "execution_count": 23,
   "metadata": {},
   "outputs": [],
   "source": [
    "class StockConnection:\n",
    "    def __init__(self):\n",
    "        self.APP_KEY = \"PSWteYi8gYUyChnKTEvcNXLqguNIRUoFbNfP\"\n",
    "        self.APP_SECRET = 'ZnEPFAvBPKC09eFObRJ1hWqzwRH8tTKTxB4xkCBKBsnUkfROZJ2N4SrwsGj/sKqieHqLJnQWFZyT47K385TBhXDm8toY2tLDRK3dLo10f6B6+CYIqv89crgltD+pxenjfMu1tbivV0UHEEOID42XGoDFpuzD9BjEJ5/95OAr7NkNUVc8v1w='\n",
    "        self.URL_BASE = \"https://openapivts.koreainvestment.com:29443\"\n",
    "        self.TOKEN = self.get_key_for_monitor()\n",
    "        \n",
    "    def get_key_for_monitor(self):\n",
    "        '''보안인증키 발급 메서드\n",
    "        *보안인증키는 정보 조회시 사용'''\n",
    "        headers = {\"content-type\":\"application/json\"}\n",
    "        body = {\"grant_type\":\"client_credentials\", \"appkey\":self.APP_KEY, \"appsecret\":self.APP_SECRET}\n",
    "        url = self.URL_BASE + '/' + 'oauth2/tokenP'\n",
    "        res = requests.post(url, headers=headers, data=json.dumps(body))\n",
    "        return res.json()['access_token']\n",
    "    \n",
    "    def get_key_for_trading(self, data:dict):\n",
    "        '''hashkey발급 메서드\n",
    "        *hashkey는 거래 체결시 사용'''\n",
    "        headers = {\"content-type\":\"application/json\", \"appkey\":self.APP_KEY, \"appsecret\":self.APP_SECRET}\n",
    "        url = self.URL_BASE + '/' + 'uapi/hashkey'\n",
    "        print(url)\n",
    "        res = requests.post(url, headers=headers, data=json.dumps(data))\n",
    "        return res.json()[\"HASH\"]\n",
    "    \n",
    "    #### 국내주식 기간별 시세 (일/주/원/년) 최대 100건 조회가능 \n",
    "    def date_price(self, no:str, start:str, end:str, period:str):\n",
    "        '''국내주식기간별시세 조회 메서드\n",
    "        **input**\n",
    "        - no: 종목코드 ex)삼성전자->005930\n",
    "        - start: 입력날짜(시작) ex)20220501\n",
    "        - end: 입력날짜(종료) ex)20220530\n",
    "        - period: 기간분류코드 ex) 일봉->D, 주봉->W, 월봉->M, 년봉->Y\n",
    "        \n",
    "        ※ 제한: 1회 호출당 최대 100건까지 조회가능\n",
    "        '''\n",
    "        path = 'uapi/domestic-stock/v1/quotations/inquire-daily-itemchartprice'\n",
    "        url = f\"{self.URL_BASE}/{path}\"\n",
    "        headers = {\"Content-Type\":\"application/json\", \n",
    "              \"authorization\": f\"Bearer {self.TOKEN}\",\n",
    "              \"appKey\":self.APP_KEY,\n",
    "              \"appSecret\":self.APP_SECRET,\n",
    "              \"tr_id\":\"FHKST03010100\",\n",
    "              }\n",
    "        params = {\n",
    "                \"fid_cond_mrkt_div_code\": \"J\",\n",
    "                \"fid_input_date_1\": start,\n",
    "                \"fid_input_date_2\": end,\n",
    "                \"fid_input_iscd\": no,\n",
    "                \"fid_org_adj_prc\": \"0\",\n",
    "                \"fid_period_div_code\":period}\n",
    "\n",
    "        res = requests.get(url, headers=headers, params=params)\n",
    "        return res.json()"
   ]
  },
  {
   "cell_type": "code",
   "execution_count": 24,
   "metadata": {},
   "outputs": [],
   "source": [
    "sc = StockConnection()"
   ]
  },
  {
   "cell_type": "code",
   "execution_count": 25,
   "metadata": {},
   "outputs": [
    {
     "data": {
      "text/plain": [
       "{'output1': {'prdy_vrss': '0',\n",
       "  'prdy_ctrt': '0.00',\n",
       "  'stck_prdy_clpr': '0',\n",
       "  'acml_vol': '0',\n",
       "  'acml_tr_pbmn': '0',\n",
       "  'stck_prpr': '0',\n",
       "  'prdy_vol': '0',\n",
       "  'stck_mxpr': '0',\n",
       "  'stck_llam': '0',\n",
       "  'stck_oprc': '0',\n",
       "  'stck_hgpr': '0',\n",
       "  'stck_lwpr': '0',\n",
       "  'stck_prdy_oprc': '0',\n",
       "  'stck_prdy_hgpr': '0',\n",
       "  'stck_prdy_lwpr': '0',\n",
       "  'askp': '0',\n",
       "  'bidp': '0',\n",
       "  'prdy_vrss_vol': '0',\n",
       "  'vol_tnrt': '0.00',\n",
       "  'stck_fcam': '0',\n",
       "  'lstn_stcn': '0',\n",
       "  'cpfn': '0',\n",
       "  'hts_avls': '0',\n",
       "  'per': '0.00',\n",
       "  'eps': '0.00',\n",
       "  'pbr': '0.00',\n",
       "  'itewhol_loan_rmnd_ratem name': '0.00'},\n",
       " 'output2': [{},\n",
       "  {},\n",
       "  {},\n",
       "  {},\n",
       "  {},\n",
       "  {},\n",
       "  {},\n",
       "  {},\n",
       "  {},\n",
       "  {},\n",
       "  {},\n",
       "  {},\n",
       "  {},\n",
       "  {},\n",
       "  {},\n",
       "  {},\n",
       "  {},\n",
       "  {},\n",
       "  {}],\n",
       " 'rt_cd': '0',\n",
       " 'msg_cd': 'MCA00000',\n",
       " 'msg1': '정상처리 되었습니다.'}"
      ]
     },
     "execution_count": 25,
     "metadata": {},
     "output_type": "execute_result"
    }
   ],
   "source": [
    "sc.date_price('005900', '20220501', '20220530', 'D')"
   ]
  },
  {
   "cell_type": "markdown",
   "metadata": {},
   "source": [
    "# (핵심) 일봉 DB 만들기위한 code "
   ]
  },
  {
   "cell_type": "code",
   "execution_count": 149,
   "metadata": {},
   "outputs": [],
   "source": [
    "\n",
    "\n",
    "\n",
    "            "
   ]
  },
  {
   "cell_type": "code",
   "execution_count": 148,
   "metadata": {},
   "outputs": [],
   "source": [
    "# db 추출\n",
    "def db_extract(result):\n",
    "    name = result['output1']['hts_kor_isnm']\n",
    "    df = pd.DataFrame(result['output2'])\n",
    "    df.drop(df.iloc[:,6:],axis=1,inplace=True)\n",
    "    df['name'] = name\n",
    "    return df"
   ]
  },
  {
   "cell_type": "code",
   "execution_count": 150,
   "metadata": {},
   "outputs": [
    {
     "name": "stdout",
     "output_type": "stream",
     "text": [
      "20220101\n"
     ]
    }
   ],
   "source": [
    "year = 2022\n",
    "print(f'{year}0101')"
   ]
  },
  {
   "cell_type": "markdown",
   "metadata": {},
   "source": [
    "### 활용예시 (삼성전자 2022년도 1년치 주가를 저장)"
   ]
  },
  {
   "cell_type": "code",
   "execution_count": 159,
   "metadata": {},
   "outputs": [],
   "source": [
    "company = '005930'\n",
    "year = 2022\n",
    "result_1Q = date_price(company,f'{year}0101',f'{year}0331','D')\n",
    "result_2Q = date_price(company,f'{year}0401',f'{year}0630','D')\n",
    "result_3Q = date_price(company,f'{year}0701',f'{year}0930','D')\n",
    "result_4Q = date_price(company,f'{year}1001',f'{year}1231','D')"
   ]
  },
  {
   "cell_type": "code",
   "execution_count": 160,
   "metadata": {},
   "outputs": [],
   "source": [
    "df_1q = db_extract(result_1Q)\n",
    "df_2q = db_extract(result_2Q)\n",
    "df_3q = db_extract(result_3Q)\n",
    "df_4q = db_extract(result_4Q)"
   ]
  },
  {
   "cell_type": "code",
   "execution_count": 181,
   "metadata": {},
   "outputs": [],
   "source": [
    "df = pd.concat([df_1q,df_2q,df_3q,df_4q])\n",
    "df.columns =['날짜','종가','시가','최고가','최저가','누적거래량','종목명']\n",
    "df['날짜'] = pd.to_datetime(df['날짜'])\n",
    "df.sort_values(by='날짜',inplace=True)"
   ]
  },
  {
   "cell_type": "code",
   "execution_count": 187,
   "metadata": {},
   "outputs": [
    {
     "name": "stderr",
     "output_type": "stream",
     "text": [
      "C:\\Users\\smleo\\AppData\\Local\\Temp\\ipykernel_15596\\3874453458.py:1: FutureWarning: In a future version, `df.iloc[:, i] = newvals` will attempt to set the values inplace instead of always setting a new array. To retain the old behavior, use either `df[df.columns[i]] = newvals` or, if columns are non-unique, `df.isetitem(i, newvals)`\n",
      "  df.iloc[:,1:6] = df.iloc[:,1:6].astype('int')\n"
     ]
    }
   ],
   "source": [
    "df.iloc[:,1:6] = df.iloc[:,1:6].astype('int')"
   ]
  },
  {
   "cell_type": "code",
   "execution_count": 191,
   "metadata": {},
   "outputs": [],
   "source": [
    "# df.to_csv('df_example.csv')"
   ]
  }
 ],
 "metadata": {
  "kernelspec": {
   "display_name": "Python 3 (ipykernel)",
   "language": "python",
   "name": "python3"
  },
  "language_info": {
   "codemirror_mode": {
    "name": "ipython",
    "version": 3
   },
   "file_extension": ".py",
   "mimetype": "text/x-python",
   "name": "python",
   "nbconvert_exporter": "python",
   "pygments_lexer": "ipython3",
   "version": "3.10.8"
  },
  "vscode": {
   "interpreter": {
    "hash": "850ad2cd2f8e80602900a8081df256690dbe4c20624a8665947ed563e8defe83"
   }
  }
 },
 "nbformat": 4,
 "nbformat_minor": 2
}
