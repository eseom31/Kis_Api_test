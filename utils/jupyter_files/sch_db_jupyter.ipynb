{
 "cells": [
  {
   "cell_type": "code",
   "execution_count": 11,
   "id": "b17e0c05",
   "metadata": {},
   "outputs": [],
   "source": [
    "import os\n",
    "import sys\n",
    "sys.path.append('D:/ML/Kis_Api_test/1_DB_System/')"
   ]
  },
  {
   "cell_type": "code",
   "execution_count": 12,
   "id": "dca1557b",
   "metadata": {},
   "outputs": [],
   "source": [
    "from communication import StockConnection, DB_Handle\n",
    "import datetime\n",
    "import pandas as pd\n",
    "from queue import Queue\n",
    "from tqdm import tqdm\n",
    "import time"
   ]
  },
  {
   "cell_type": "code",
   "execution_count": 13,
   "id": "52c60f5f",
   "metadata": {},
   "outputs": [],
   "source": [
    "def date_to_string(date:datetime.date):\n",
    "    conv_date = str(date)\n",
    "    return conv_date[:4] + conv_date[5:7] + conv_date[-2:]"
   ]
  },
  {
   "cell_type": "code",
   "execution_count": 14,
   "id": "cf9d6904",
   "metadata": {},
   "outputs": [
    {
     "name": "stdout",
     "output_type": "stream",
     "text": [
      "good\n"
     ]
    }
   ],
   "source": [
    "sc = StockConnection()\n",
    "db = DB_Handle(db_name='kospi_fin')"
   ]
  },
  {
   "cell_type": "code",
   "execution_count": 15,
   "id": "4b3807a7",
   "metadata": {},
   "outputs": [],
   "source": [
    "sql = f\"\"\"drop database kospi\"\"\"\n",
    "db.CUR.execute(sql)\n",
    "db.commit()"
   ]
  },
  {
   "cell_type": "code",
   "execution_count": 6,
   "id": "1f5f985f",
   "metadata": {},
   "outputs": [],
   "source": [
    "sql = f\"\"\"create database kospi_fin\"\"\"\n",
    "db.CUR.execute(sql)\n",
    "db.commit()"
   ]
  },
  {
   "cell_type": "code",
   "execution_count": 50,
   "id": "761d05b6",
   "metadata": {},
   "outputs": [],
   "source": [
    "kospi = pd.read_csv('../../4_SRC/current_kospi_codes.csv')\n",
    "kospi['종목코드'] = kospi['종목코드'].apply(lambda x : str(x).zfill(6))"
   ]
  },
  {
   "cell_type": "code",
   "execution_count": 51,
   "id": "6e86439a",
   "metadata": {},
   "outputs": [],
   "source": [
    "# kosdaq = pd.read_csv('../../4_SRC/current_kosdaq_codes.csv')\n",
    "# kosdaq['종목코드'] = kosdaq['종목코드'].apply(lambda x : str(x).zfill(6))"
   ]
  },
  {
   "cell_type": "code",
   "execution_count": 61,
   "id": "55cee93b",
   "metadata": {},
   "outputs": [
    {
     "data": {
      "text/html": [
       "<div>\n",
       "<style scoped>\n",
       "    .dataframe tbody tr th:only-of-type {\n",
       "        vertical-align: middle;\n",
       "    }\n",
       "\n",
       "    .dataframe tbody tr th {\n",
       "        vertical-align: top;\n",
       "    }\n",
       "\n",
       "    .dataframe thead th {\n",
       "        text-align: right;\n",
       "    }\n",
       "</style>\n",
       "<table border=\"1\" class=\"dataframe\">\n",
       "  <thead>\n",
       "    <tr style=\"text-align: right;\">\n",
       "      <th></th>\n",
       "      <th>회사명</th>\n",
       "      <th>종목코드</th>\n",
       "      <th>상장일</th>\n",
       "    </tr>\n",
       "  </thead>\n",
       "  <tbody>\n",
       "    <tr>\n",
       "      <th>450</th>\n",
       "      <td>에이프로젠</td>\n",
       "      <td>007460</td>\n",
       "      <td>1995-07-08</td>\n",
       "    </tr>\n",
       "    <tr>\n",
       "      <th>451</th>\n",
       "      <td>제이준코스메틱</td>\n",
       "      <td>025620</td>\n",
       "      <td>1995-07-08</td>\n",
       "    </tr>\n",
       "    <tr>\n",
       "      <th>452</th>\n",
       "      <td>한국카본</td>\n",
       "      <td>017960</td>\n",
       "      <td>1995-07-08</td>\n",
       "    </tr>\n",
       "    <tr>\n",
       "      <th>453</th>\n",
       "      <td>KPX케미칼</td>\n",
       "      <td>025000</td>\n",
       "      <td>1994-12-27</td>\n",
       "    </tr>\n",
       "    <tr>\n",
       "      <th>454</th>\n",
       "      <td>에스엠벡셀</td>\n",
       "      <td>010580</td>\n",
       "      <td>1994-12-27</td>\n",
       "    </tr>\n",
       "    <tr>\n",
       "      <th>455</th>\n",
       "      <td>태평양물산</td>\n",
       "      <td>007980</td>\n",
       "      <td>1994-12-27</td>\n",
       "    </tr>\n",
       "    <tr>\n",
       "      <th>456</th>\n",
       "      <td>KC그린홀딩스</td>\n",
       "      <td>009440</td>\n",
       "      <td>1994-11-05</td>\n",
       "    </tr>\n",
       "    <tr>\n",
       "      <th>457</th>\n",
       "      <td>문배철강</td>\n",
       "      <td>008420</td>\n",
       "      <td>1994-11-05</td>\n",
       "    </tr>\n",
       "    <tr>\n",
       "      <th>458</th>\n",
       "      <td>웅진</td>\n",
       "      <td>016880</td>\n",
       "      <td>1994-11-05</td>\n",
       "    </tr>\n",
       "    <tr>\n",
       "      <th>459</th>\n",
       "      <td>HL_D_and_I</td>\n",
       "      <td>014790</td>\n",
       "      <td>1994-08-12</td>\n",
       "    </tr>\n",
       "    <tr>\n",
       "      <th>460</th>\n",
       "      <td>오뚜기</td>\n",
       "      <td>007310</td>\n",
       "      <td>1994-08-12</td>\n",
       "    </tr>\n",
       "    <tr>\n",
       "      <th>461</th>\n",
       "      <td>일정실업</td>\n",
       "      <td>008500</td>\n",
       "      <td>1994-08-12</td>\n",
       "    </tr>\n",
       "    <tr>\n",
       "      <th>462</th>\n",
       "      <td>엘에스일렉트릭</td>\n",
       "      <td>010120</td>\n",
       "      <td>1994-07-11</td>\n",
       "    </tr>\n",
       "    <tr>\n",
       "      <th>463</th>\n",
       "      <td>대양금속</td>\n",
       "      <td>009190</td>\n",
       "      <td>1994-04-29</td>\n",
       "    </tr>\n",
       "    <tr>\n",
       "      <th>464</th>\n",
       "      <td>이화산업</td>\n",
       "      <td>000760</td>\n",
       "      <td>1994-04-29</td>\n",
       "    </tr>\n",
       "    <tr>\n",
       "      <th>465</th>\n",
       "      <td>동원시스템즈</td>\n",
       "      <td>014820</td>\n",
       "      <td>1994-03-29</td>\n",
       "    </tr>\n",
       "    <tr>\n",
       "      <th>466</th>\n",
       "      <td>삼성중공업</td>\n",
       "      <td>010140</td>\n",
       "      <td>1994-01-28</td>\n",
       "    </tr>\n",
       "    <tr>\n",
       "      <th>467</th>\n",
       "      <td>모토닉</td>\n",
       "      <td>009680</td>\n",
       "      <td>1994-01-14</td>\n",
       "    </tr>\n",
       "    <tr>\n",
       "      <th>468</th>\n",
       "      <td>화신</td>\n",
       "      <td>010690</td>\n",
       "      <td>1994-01-14</td>\n",
       "    </tr>\n",
       "    <tr>\n",
       "      <th>469</th>\n",
       "      <td>삼화페인트공업</td>\n",
       "      <td>000390</td>\n",
       "      <td>1993-09-10</td>\n",
       "    </tr>\n",
       "  </tbody>\n",
       "</table>\n",
       "</div>"
      ],
      "text/plain": [
       "            회사명    종목코드         상장일\n",
       "450       에이프로젠  007460  1995-07-08\n",
       "451     제이준코스메틱  025620  1995-07-08\n",
       "452        한국카본  017960  1995-07-08\n",
       "453      KPX케미칼  025000  1994-12-27\n",
       "454       에스엠벡셀  010580  1994-12-27\n",
       "455       태평양물산  007980  1994-12-27\n",
       "456     KC그린홀딩스  009440  1994-11-05\n",
       "457        문배철강  008420  1994-11-05\n",
       "458          웅진  016880  1994-11-05\n",
       "459  HL_D_and_I  014790  1994-08-12\n",
       "460         오뚜기  007310  1994-08-12\n",
       "461        일정실업  008500  1994-08-12\n",
       "462     엘에스일렉트릭  010120  1994-07-11\n",
       "463        대양금속  009190  1994-04-29\n",
       "464        이화산업  000760  1994-04-29\n",
       "465      동원시스템즈  014820  1994-03-29\n",
       "466       삼성중공업  010140  1994-01-28\n",
       "467         모토닉  009680  1994-01-14\n",
       "468          화신  010690  1994-01-14\n",
       "469     삼화페인트공업  000390  1993-09-10"
      ]
     },
     "execution_count": 61,
     "metadata": {},
     "output_type": "execute_result"
    }
   ],
   "source": [
    "kospi.iloc[450:, :].head(20)"
   ]
  },
  {
   "cell_type": "code",
   "execution_count": 62,
   "id": "b6b71dc4",
   "metadata": {
    "scrolled": false
   },
   "outputs": [
    {
     "name": "stderr",
     "output_type": "stream",
     "text": [
      "0it [00:00, ?it/s]"
     ]
    },
    {
     "name": "stdout",
     "output_type": "stream",
     "text": [
      "삼성중공업\n"
     ]
    },
    {
     "name": "stderr",
     "output_type": "stream",
     "text": [
      "1it [02:09, 129.61s/it]"
     ]
    },
    {
     "name": "stdout",
     "output_type": "stream",
     "text": [
      "모토닉\n"
     ]
    },
    {
     "name": "stderr",
     "output_type": "stream",
     "text": [
      "2it [04:19, 130.06s/it]"
     ]
    },
    {
     "name": "stdout",
     "output_type": "stream",
     "text": [
      "화신\n"
     ]
    },
    {
     "name": "stderr",
     "output_type": "stream",
     "text": [
      "3it [06:34, 132.27s/it]"
     ]
    },
    {
     "name": "stdout",
     "output_type": "stream",
     "text": [
      "삼화페인트공업\n"
     ]
    },
    {
     "name": "stderr",
     "output_type": "stream",
     "text": [
      "4it [09:05, 139.65s/it]"
     ]
    },
    {
     "name": "stdout",
     "output_type": "stream",
     "text": [
      "경동나비엔\n"
     ]
    },
    {
     "name": "stderr",
     "output_type": "stream",
     "text": [
      "5it [11:20, 137.68s/it]"
     ]
    },
    {
     "name": "stdout",
     "output_type": "stream",
     "text": [
      "DB\n"
     ]
    },
    {
     "name": "stderr",
     "output_type": "stream",
     "text": [
      "6it [13:34, 136.55s/it]"
     ]
    },
    {
     "name": "stdout",
     "output_type": "stream",
     "text": [
      "SGC에너지\n"
     ]
    },
    {
     "name": "stderr",
     "output_type": "stream",
     "text": [
      "7it [15:48, 135.64s/it]"
     ]
    },
    {
     "name": "stdout",
     "output_type": "stream",
     "text": [
      "대림비앤코\n"
     ]
    },
    {
     "name": "stderr",
     "output_type": "stream",
     "text": [
      "8it [18:03, 135.47s/it]"
     ]
    },
    {
     "name": "stdout",
     "output_type": "stream",
     "text": [
      "대한해운\n"
     ]
    },
    {
     "name": "stderr",
     "output_type": "stream",
     "text": [
      "9it [20:21, 136.46s/it]"
     ]
    },
    {
     "name": "stdout",
     "output_type": "stream",
     "text": [
      "메리츠증권\n"
     ]
    },
    {
     "name": "stderr",
     "output_type": "stream",
     "text": [
      "10it [22:40, 137.02s/it]"
     ]
    },
    {
     "name": "stdout",
     "output_type": "stream",
     "text": [
      "휴니드테크놀러지스\n"
     ]
    },
    {
     "name": "stderr",
     "output_type": "stream",
     "text": [
      "11it [24:59, 137.81s/it]"
     ]
    },
    {
     "name": "stdout",
     "output_type": "stream",
     "text": [
      "수산중공업\n"
     ]
    },
    {
     "name": "stderr",
     "output_type": "stream",
     "text": [
      "12it [27:19, 138.39s/it]"
     ]
    },
    {
     "name": "stdout",
     "output_type": "stream",
     "text": [
      "롯데케미칼\n"
     ]
    },
    {
     "name": "stderr",
     "output_type": "stream",
     "text": [
      "13it [29:40, 139.10s/it]"
     ]
    },
    {
     "name": "stdout",
     "output_type": "stream",
     "text": [
      "세아베스틸지주\n"
     ]
    },
    {
     "name": "stderr",
     "output_type": "stream",
     "text": [
      "14it [32:02, 140.10s/it]"
     ]
    },
    {
     "name": "stdout",
     "output_type": "stream",
     "text": [
      "호텔신라\n"
     ]
    },
    {
     "name": "stderr",
     "output_type": "stream",
     "text": [
      "15it [34:24, 140.71s/it]"
     ]
    },
    {
     "name": "stdout",
     "output_type": "stream",
     "text": [
      "태경비케이\n"
     ]
    },
    {
     "name": "stderr",
     "output_type": "stream",
     "text": [
      "16it [36:46, 141.10s/it]"
     ]
    },
    {
     "name": "stdout",
     "output_type": "stream",
     "text": [
      "화승코퍼레이션\n"
     ]
    },
    {
     "name": "stderr",
     "output_type": "stream",
     "text": [
      "17it [39:09, 141.51s/it]"
     ]
    },
    {
     "name": "stdout",
     "output_type": "stream",
     "text": [
      "신흥\n"
     ]
    },
    {
     "name": "stderr",
     "output_type": "stream",
     "text": [
      "18it [41:31, 141.79s/it]"
     ]
    },
    {
     "name": "stdout",
     "output_type": "stream",
     "text": [
      "화승인더스트리\n"
     ]
    },
    {
     "name": "stderr",
     "output_type": "stream",
     "text": [
      "19it [43:53, 141.70s/it]"
     ]
    },
    {
     "name": "stdout",
     "output_type": "stream",
     "text": [
      "극동유화\n"
     ]
    },
    {
     "name": "stderr",
     "output_type": "stream",
     "text": [
      "20it [46:15, 141.82s/it]"
     ]
    },
    {
     "name": "stdout",
     "output_type": "stream",
     "text": [
      "고려산업\n"
     ]
    },
    {
     "name": "stderr",
     "output_type": "stream",
     "text": [
      "21it [48:38, 142.24s/it]"
     ]
    },
    {
     "name": "stdout",
     "output_type": "stream",
     "text": [
      "대현\n"
     ]
    },
    {
     "name": "stderr",
     "output_type": "stream",
     "text": [
      "22it [51:03, 142.96s/it]"
     ]
    },
    {
     "name": "stdout",
     "output_type": "stream",
     "text": [
      "케이비아이동국실업\n"
     ]
    },
    {
     "name": "stderr",
     "output_type": "stream",
     "text": [
      "23it [53:27, 143.36s/it]"
     ]
    },
    {
     "name": "stdout",
     "output_type": "stream",
     "text": [
      "광명전기\n"
     ]
    },
    {
     "name": "stderr",
     "output_type": "stream",
     "text": [
      "24it [55:52, 143.81s/it]"
     ]
    },
    {
     "name": "stdout",
     "output_type": "stream",
     "text": [
      "부산산업\n"
     ]
    },
    {
     "name": "stderr",
     "output_type": "stream",
     "text": [
      "25it [58:16, 144.07s/it]"
     ]
    },
    {
     "name": "stdout",
     "output_type": "stream",
     "text": [
      "STX\n"
     ]
    },
    {
     "name": "stderr",
     "output_type": "stream",
     "text": [
      "26it [1:00:42, 144.40s/it]"
     ]
    },
    {
     "name": "stdout",
     "output_type": "stream",
     "text": [
      "고려아연\n"
     ]
    },
    {
     "name": "stderr",
     "output_type": "stream",
     "text": [
      "27it [1:03:06, 144.43s/it]"
     ]
    },
    {
     "name": "stdout",
     "output_type": "stream",
     "text": [
      "센트럴인사이트\n"
     ]
    },
    {
     "name": "stderr",
     "output_type": "stream",
     "text": [
      "28it [1:05:31, 144.46s/it]"
     ]
    },
    {
     "name": "stdout",
     "output_type": "stream",
     "text": [
      "팜젠사이언스\n"
     ]
    },
    {
     "name": "stderr",
     "output_type": "stream",
     "text": [
      "29it [1:07:57, 144.88s/it]"
     ]
    },
    {
     "name": "stdout",
     "output_type": "stream",
     "text": [
      "무림페이퍼\n"
     ]
    },
    {
     "name": "stderr",
     "output_type": "stream",
     "text": [
      "30it [1:10:23, 145.24s/it]"
     ]
    },
    {
     "name": "stdout",
     "output_type": "stream",
     "text": [
      "현대차증권\n"
     ]
    },
    {
     "name": "stderr",
     "output_type": "stream",
     "text": [
      "31it [1:12:49, 145.60s/it]"
     ]
    },
    {
     "name": "stdout",
     "output_type": "stream",
     "text": [
      "금비\n"
     ]
    },
    {
     "name": "stderr",
     "output_type": "stream",
     "text": [
      "32it [1:15:15, 145.67s/it]"
     ]
    },
    {
     "name": "stdout",
     "output_type": "stream",
     "text": [
      "대동전자\n"
     ]
    },
    {
     "name": "stderr",
     "output_type": "stream",
     "text": [
      "33it [1:17:41, 145.67s/it]"
     ]
    },
    {
     "name": "stdout",
     "output_type": "stream",
     "text": [
      "원림\n"
     ]
    },
    {
     "name": "stderr",
     "output_type": "stream",
     "text": [
      "34it [1:20:06, 145.73s/it]"
     ]
    },
    {
     "name": "stdout",
     "output_type": "stream",
     "text": [
      "서흥\n"
     ]
    },
    {
     "name": "stderr",
     "output_type": "stream",
     "text": [
      "35it [1:22:32, 145.76s/it]"
     ]
    },
    {
     "name": "stdout",
     "output_type": "stream",
     "text": [
      "성문전자\n"
     ]
    },
    {
     "name": "stderr",
     "output_type": "stream",
     "text": [
      "36it [1:24:58, 145.79s/it]"
     ]
    },
    {
     "name": "stdout",
     "output_type": "stream",
     "text": [
      "HLB글로벌\n"
     ]
    },
    {
     "name": "stderr",
     "output_type": "stream",
     "text": [
      "37it [1:27:25, 146.21s/it]"
     ]
    },
    {
     "name": "stdout",
     "output_type": "stream",
     "text": [
      "일진홀딩스\n"
     ]
    },
    {
     "name": "stderr",
     "output_type": "stream",
     "text": [
      "38it [1:29:52, 146.42s/it]"
     ]
    },
    {
     "name": "stdout",
     "output_type": "stream",
     "text": [
      "대영포장\n"
     ]
    },
    {
     "name": "stderr",
     "output_type": "stream",
     "text": [
      "39it [1:32:19, 146.62s/it]"
     ]
    },
    {
     "name": "stdout",
     "output_type": "stream",
     "text": [
      "영화금속\n"
     ]
    },
    {
     "name": "stderr",
     "output_type": "stream",
     "text": [
      "40it [1:34:46, 146.77s/it]"
     ]
    },
    {
     "name": "stdout",
     "output_type": "stream",
     "text": [
      "신풍제약\n"
     ]
    },
    {
     "name": "stderr",
     "output_type": "stream",
     "text": [
      "41it [1:37:14, 146.92s/it]"
     ]
    },
    {
     "name": "stdout",
     "output_type": "stream",
     "text": [
      "동성제약\n"
     ]
    },
    {
     "name": "stderr",
     "output_type": "stream",
     "text": [
      "42it [1:39:41, 146.95s/it]"
     ]
    },
    {
     "name": "stdout",
     "output_type": "stream",
     "text": [
      "아센디오\n"
     ]
    },
    {
     "name": "stderr",
     "output_type": "stream",
     "text": [
      "43it [1:42:08, 147.18s/it]"
     ]
    },
    {
     "name": "stdout",
     "output_type": "stream",
     "text": [
      "한올바이오파마\n"
     ]
    },
    {
     "name": "stderr",
     "output_type": "stream",
     "text": [
      "44it [1:44:35, 147.13s/it]"
     ]
    },
    {
     "name": "stdout",
     "output_type": "stream",
     "text": [
      "유니켐\n"
     ]
    },
    {
     "name": "stderr",
     "output_type": "stream",
     "text": [
      "45it [1:47:03, 147.14s/it]"
     ]
    },
    {
     "name": "stdout",
     "output_type": "stream",
     "text": [
      "대창\n"
     ]
    },
    {
     "name": "stderr",
     "output_type": "stream",
     "text": [
      "46it [1:49:31, 147.40s/it]"
     ]
    },
    {
     "name": "stdout",
     "output_type": "stream",
     "text": [
      "국보\n"
     ]
    },
    {
     "name": "stderr",
     "output_type": "stream",
     "text": [
      "47it [1:51:59, 147.65s/it]"
     ]
    },
    {
     "name": "stdout",
     "output_type": "stream",
     "text": [
      "일성건설\n"
     ]
    },
    {
     "name": "stderr",
     "output_type": "stream",
     "text": [
      "48it [1:54:27, 147.76s/it]"
     ]
    },
    {
     "name": "stdout",
     "output_type": "stream",
     "text": [
      "까뮤이앤씨\n"
     ]
    },
    {
     "name": "stderr",
     "output_type": "stream",
     "text": [
      "49it [1:56:55, 147.99s/it]"
     ]
    },
    {
     "name": "stdout",
     "output_type": "stream",
     "text": [
      "보락\n"
     ]
    },
    {
     "name": "stderr",
     "output_type": "stream",
     "text": [
      "50it [1:59:23, 147.95s/it]"
     ]
    },
    {
     "name": "stdout",
     "output_type": "stream",
     "text": [
      "선도전기\n"
     ]
    },
    {
     "name": "stderr",
     "output_type": "stream",
     "text": [
      "51it [2:01:52, 148.13s/it]"
     ]
    },
    {
     "name": "stdout",
     "output_type": "stream",
     "text": [
      "씨아이테크\n"
     ]
    },
    {
     "name": "stderr",
     "output_type": "stream",
     "text": [
      "52it [2:04:20, 148.08s/it]"
     ]
    },
    {
     "name": "stdout",
     "output_type": "stream",
     "text": [
      "광동제약\n"
     ]
    },
    {
     "name": "stderr",
     "output_type": "stream",
     "text": [
      "53it [2:06:48, 148.19s/it]"
     ]
    },
    {
     "name": "stdout",
     "output_type": "stream",
     "text": [
      "갤럭시아에스엠\n"
     ]
    },
    {
     "name": "stderr",
     "output_type": "stream",
     "text": [
      "54it [2:09:16, 148.16s/it]"
     ]
    },
    {
     "name": "stdout",
     "output_type": "stream",
     "text": [
      "남성\n"
     ]
    },
    {
     "name": "stderr",
     "output_type": "stream",
     "text": [
      "55it [2:11:45, 148.27s/it]"
     ]
    },
    {
     "name": "stdout",
     "output_type": "stream",
     "text": [
      "KISCO홀딩스\n"
     ]
    },
    {
     "name": "stderr",
     "output_type": "stream",
     "text": [
      "56it [2:14:13, 148.28s/it]"
     ]
    },
    {
     "name": "stdout",
     "output_type": "stream",
     "text": [
      "태영건설\n"
     ]
    },
    {
     "name": "stderr",
     "output_type": "stream",
     "text": [
      "57it [2:16:42, 148.37s/it]"
     ]
    },
    {
     "name": "stdout",
     "output_type": "stream",
     "text": [
      "한국특강\n"
     ]
    },
    {
     "name": "stderr",
     "output_type": "stream",
     "text": [
      "58it [2:19:10, 148.30s/it]"
     ]
    },
    {
     "name": "stdout",
     "output_type": "stream",
     "text": [
      "한솔로지스틱스\n"
     ]
    },
    {
     "name": "stderr",
     "output_type": "stream",
     "text": [
      "59it [2:21:38, 148.40s/it]"
     ]
    },
    {
     "name": "stdout",
     "output_type": "stream",
     "text": [
      "삼양통상\n"
     ]
    },
    {
     "name": "stderr",
     "output_type": "stream",
     "text": [
      "60it [2:24:07, 148.33s/it]"
     ]
    },
    {
     "name": "stdout",
     "output_type": "stream",
     "text": [
      "SK텔레콤\n"
     ]
    },
    {
     "name": "stderr",
     "output_type": "stream",
     "text": [
      "61it [2:26:36, 148.54s/it]"
     ]
    },
    {
     "name": "stdout",
     "output_type": "stream",
     "text": [
      "진양폴리우레탄\n"
     ]
    },
    {
     "name": "stderr",
     "output_type": "stream",
     "text": [
      "62it [2:29:04, 148.51s/it]"
     ]
    },
    {
     "name": "stdout",
     "output_type": "stream",
     "text": [
      "미창석유공업\n"
     ]
    },
    {
     "name": "stderr",
     "output_type": "stream",
     "text": [
      "63it [2:31:33, 148.50s/it]"
     ]
    },
    {
     "name": "stdout",
     "output_type": "stream",
     "text": [
      "삼익THK\n"
     ]
    },
    {
     "name": "stderr",
     "output_type": "stream",
     "text": [
      "64it [2:34:01, 148.46s/it]"
     ]
    },
    {
     "name": "stdout",
     "output_type": "stream",
     "text": [
      "미원상사\n"
     ]
    },
    {
     "name": "stderr",
     "output_type": "stream",
     "text": [
      "65it [2:36:29, 148.48s/it]"
     ]
    },
    {
     "name": "stdout",
     "output_type": "stream",
     "text": [
      "서연\n"
     ]
    },
    {
     "name": "stderr",
     "output_type": "stream",
     "text": [
      "66it [2:38:58, 148.44s/it]"
     ]
    },
    {
     "name": "stdout",
     "output_type": "stream",
     "text": [
      "세우글로벌\n"
     ]
    },
    {
     "name": "stderr",
     "output_type": "stream",
     "text": [
      "67it [2:41:26, 148.45s/it]"
     ]
    },
    {
     "name": "stdout",
     "output_type": "stream",
     "text": [
      "현대모비스\n"
     ]
    },
    {
     "name": "stderr",
     "output_type": "stream",
     "text": [
      "68it [2:43:54, 148.37s/it]"
     ]
    },
    {
     "name": "stdout",
     "output_type": "stream",
     "text": [
      "쎌마테라퓨틱스\n"
     ]
    },
    {
     "name": "stderr",
     "output_type": "stream",
     "text": [
      "69it [2:46:24, 148.77s/it]"
     ]
    },
    {
     "name": "stdout",
     "output_type": "stream",
     "text": [
      "KG케미칼\n"
     ]
    },
    {
     "name": "stderr",
     "output_type": "stream",
     "text": [
      "70it [2:48:54, 148.97s/it]"
     ]
    },
    {
     "name": "stdout",
     "output_type": "stream",
     "text": [
      "대우부품\n"
     ]
    },
    {
     "name": "stderr",
     "output_type": "stream",
     "text": [
      "71it [2:51:23, 149.14s/it]"
     ]
    },
    {
     "name": "stdout",
     "output_type": "stream",
     "text": [
      "현대해상\n"
     ]
    },
    {
     "name": "stderr",
     "output_type": "stream",
     "text": [
      "72it [2:53:53, 149.21s/it]"
     ]
    },
    {
     "name": "stdout",
     "output_type": "stream",
     "text": [
      "현대그린푸드\n"
     ]
    },
    {
     "name": "stderr",
     "output_type": "stream",
     "text": [
      "73it [2:56:22, 149.27s/it]"
     ]
    },
    {
     "name": "stdout",
     "output_type": "stream",
     "text": [
      "한국전력공사\n"
     ]
    },
    {
     "name": "stderr",
     "output_type": "stream",
     "text": [
      "74it [2:58:51, 149.35s/it]"
     ]
    },
    {
     "name": "stdout",
     "output_type": "stream",
     "text": [
      "국도화학\n"
     ]
    },
    {
     "name": "stderr",
     "output_type": "stream",
     "text": [
      "74it [3:00:21, 146.24s/it]\n"
     ]
    },
    {
     "ename": "KeyError",
     "evalue": "'output2'",
     "output_type": "error",
     "traceback": [
      "\u001b[1;31m---------------------------------------------------------------------------\u001b[0m",
      "\u001b[1;31mKeyError\u001b[0m                                  Traceback (most recent call last)",
      "Cell \u001b[1;32mIn[62], line 15\u001b[0m\n\u001b[0;32m      9\u001b[0m         \u001b[39mwhile\u001b[39;00m end \u001b[39m<\u001b[39m\u001b[39m=\u001b[39m datetime\u001b[39m.\u001b[39mdate\u001b[39m.\u001b[39mtoday():\n\u001b[0;32m     10\u001b[0m \u001b[39m#             print(f'st:{start}, end:{end}')\u001b[39;00m\n\u001b[0;32m     11\u001b[0m             result \u001b[39m=\u001b[39m sc\u001b[39m.\u001b[39mdate_price(no\u001b[39m=\u001b[39mcontext[\u001b[39m'\u001b[39m\u001b[39m종목코드\u001b[39m\u001b[39m'\u001b[39m], \n\u001b[0;32m     12\u001b[0m                                 start\u001b[39m=\u001b[39mdate_to_string(start), \n\u001b[0;32m     13\u001b[0m                                 end\u001b[39m=\u001b[39mdate_to_string(end), \n\u001b[0;32m     14\u001b[0m                                 period\u001b[39m=\u001b[39m\u001b[39m'\u001b[39m\u001b[39mD\u001b[39m\u001b[39m'\u001b[39m)\n\u001b[1;32m---> 15\u001b[0m             \u001b[39mfor\u001b[39;00m idx, res \u001b[39min\u001b[39;00m \u001b[39menumerate\u001b[39m(result[\u001b[39m'\u001b[39;49m\u001b[39moutput2\u001b[39;49m\u001b[39m'\u001b[39;49m][::\u001b[39m-\u001b[39m\u001b[39m1\u001b[39m]):\n\u001b[0;32m     16\u001b[0m                 \u001b[39mtry\u001b[39;00m:\n\u001b[0;32m     17\u001b[0m                     buf \u001b[39m=\u001b[39m []\n",
      "\u001b[1;31mKeyError\u001b[0m: 'output2'"
     ]
    }
   ],
   "source": [
    "for idx, context in tqdm(kospi.iloc[466:, :].iterrows()):\n",
    "    if True:\n",
    "        db.create_table(context['회사명'])\n",
    "        print(context['회사명'])\n",
    "        first_y, first_m, first_d = context['상장일'].split('-')\n",
    "        first_date = datetime.date(int(first_y), int(first_m), int(first_d))\n",
    "        start = first_date\n",
    "        end = start + datetime.timedelta(99)\n",
    "        while end <= datetime.date.today():\n",
    "#             print(f'st:{start}, end:{end}')\n",
    "            result = sc.date_price(no=context['종목코드'], \n",
    "                                start=date_to_string(start), \n",
    "                                end=date_to_string(end), \n",
    "                                period='D')\n",
    "            for idx, res in enumerate(result['output2'][::-1]):\n",
    "                try:\n",
    "                    buf = []\n",
    "                    buf.append(result['output1']['stck_shrn_iscd'])\n",
    "                    buf.append(res['stck_bsop_date'])\n",
    "                    buf.append(res['stck_clpr'])\n",
    "                    buf.append(res['stck_oprc'])\n",
    "                    buf.append(res['stck_hgpr'])\n",
    "                    buf.append(res['stck_lwpr'])\n",
    "                    buf.append(res['acml_vol'])\n",
    "                    buf.append(res['acml_tr_pbmn'])\n",
    "                    db.insert(table_name=context['회사명'], telegram=buf)\n",
    "                except:\n",
    "                    pass\n",
    "            time.sleep(1.01)\n",
    "            start = end + datetime.timedelta(1)\n",
    "            end = start + datetime.timedelta(99)\n",
    "#         print(f'st:{start}, end:{end}')\n",
    "        result = sc.date_price(no=context['종목코드'], \n",
    "                                start=date_to_string(start), \n",
    "                                end=date_to_string(datetime.date.today()), \n",
    "                                period='D')\n",
    "        try:\n",
    "            for idx, res in enumerate(result['output2'][::-1]):\n",
    "                buf = []\n",
    "                buf.append(result['output1']['stck_shrn_iscd'])\n",
    "                buf.append(res['stck_bsop_date'])\n",
    "                buf.append(res['stck_clpr'])\n",
    "                buf.append(res['stck_oprc'])\n",
    "                buf.append(res['stck_hgpr'])\n",
    "                buf.append(res['stck_lwpr'])\n",
    "                buf.append(res['acml_vol'])\n",
    "                buf.append(res['acml_tr_pbmn'])\n",
    "                db.insert(table_name=context['회사명'], telegram=buf)\n",
    "        except:\n",
    "            pass\n",
    "    \n",
    "    else:\n",
    "        pass\n"
   ]
  },
  {
   "cell_type": "code",
   "execution_count": null,
   "id": "1aae8583",
   "metadata": {},
   "outputs": [],
   "source": []
  }
 ],
 "metadata": {
  "kernelspec": {
   "display_name": "side",
   "language": "python",
   "name": "python3"
  },
  "language_info": {
   "codemirror_mode": {
    "name": "ipython",
    "version": 3
   },
   "file_extension": ".py",
   "mimetype": "text/x-python",
   "name": "python",
   "nbconvert_exporter": "python",
   "pygments_lexer": "ipython3",
   "version": "3.10.8 | packaged by conda-forge | (main, Nov 24 2022, 14:07:00) [MSC v.1916 64 bit (AMD64)]"
  },
  "vscode": {
   "interpreter": {
    "hash": "19c5b079b0949d989e93d8d44da089aa5127371c84ae8f0b37929f6bc3106acf"
   }
  }
 },
 "nbformat": 4,
 "nbformat_minor": 5
}
