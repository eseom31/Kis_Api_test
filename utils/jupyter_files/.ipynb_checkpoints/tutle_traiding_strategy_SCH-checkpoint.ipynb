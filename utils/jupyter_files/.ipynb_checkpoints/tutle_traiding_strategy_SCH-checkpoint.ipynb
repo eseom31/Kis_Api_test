{
 "cells": [
  {
   "cell_type": "markdown",
   "metadata": {},
   "source": [
    "#### Turtle Trading"
   ]
  },
  {
   "cell_type": "markdown",
   "metadata": {},
   "source": [
    "#### Data, Library Load"
   ]
  },
  {
   "cell_type": "code",
   "execution_count": 1,
   "metadata": {},
   "outputs": [],
   "source": [
    "from tqdm import tqdm \n",
    "import pandas as pd\n",
    "from copy import deepcopy\n",
    "from dateutil.parser import parse\n",
    "import datetime as dt\n",
    "from pykrx import stock\n",
    "import numpy as np"
   ]
  },
  {
   "cell_type": "code",
   "execution_count": 2,
   "metadata": {},
   "outputs": [],
   "source": [
    "import sys\n",
    "sys.path.append('D:/ML/Kis_Api_test/')\n",
    "from BackTesting_System.backtesting import BackTesting,Utils"
   ]
  },
  {
   "cell_type": "code",
   "execution_count": 3,
   "metadata": {
    "scrolled": true
   },
   "outputs": [
    {
     "data": {
      "text/html": [
       "<div>\n",
       "<style scoped>\n",
       "    .dataframe tbody tr th:only-of-type {\n",
       "        vertical-align: middle;\n",
       "    }\n",
       "\n",
       "    .dataframe tbody tr th {\n",
       "        vertical-align: top;\n",
       "    }\n",
       "\n",
       "    .dataframe thead th {\n",
       "        text-align: right;\n",
       "    }\n",
       "</style>\n",
       "<table border=\"1\" class=\"dataframe\">\n",
       "  <thead>\n",
       "    <tr style=\"text-align: right;\">\n",
       "      <th></th>\n",
       "      <th>날짜</th>\n",
       "      <th>종가</th>\n",
       "      <th>시가</th>\n",
       "      <th>최고가</th>\n",
       "      <th>최저가</th>\n",
       "      <th>누적거래량</th>\n",
       "      <th>누적거래대금</th>\n",
       "      <th>종목명</th>\n",
       "    </tr>\n",
       "  </thead>\n",
       "  <tbody>\n",
       "    <tr>\n",
       "      <th>0</th>\n",
       "      <td>2022-12-22</td>\n",
       "      <td>10650</td>\n",
       "      <td>9980</td>\n",
       "      <td>11700</td>\n",
       "      <td>9930</td>\n",
       "      <td>28856232</td>\n",
       "      <td>309808795730</td>\n",
       "      <td>바이오노트</td>\n",
       "    </tr>\n",
       "  </tbody>\n",
       "</table>\n",
       "</div>"
      ],
      "text/plain": [
       "           날짜     종가    시가    최고가   최저가     누적거래량        누적거래대금    종목명\n",
       "0  2022-12-22  10650  9980  11700  9930  28856232  309808795730  바이오노트"
      ]
     },
     "execution_count": 3,
     "metadata": {},
     "output_type": "execute_result"
    }
   ],
   "source": [
    "path = '../../../mom.csv'\n",
    "df = pd.read_csv(path,index_col=0)\n",
    "df = df.drop(df.iloc[:,8:],axis=1)\n",
    "df.head(1)"
   ]
  },
  {
   "cell_type": "code",
   "execution_count": 4,
   "metadata": {},
   "outputs": [
    {
     "data": {
      "text/plain": [
       "(2621634, 8)"
      ]
     },
     "execution_count": 4,
     "metadata": {},
     "output_type": "execute_result"
    }
   ],
   "source": [
    "df.shape"
   ]
  },
  {
   "cell_type": "code",
   "execution_count": 5,
   "metadata": {
    "scrolled": true
   },
   "outputs": [
    {
     "data": {
      "text/plain": [
       "(2605276, 8)"
      ]
     },
     "execution_count": 5,
     "metadata": {},
     "output_type": "execute_result"
    }
   ],
   "source": [
    "df = df[df.apply(lambda x: '스팩' not in x['종목명'], axis=1)]\n",
    "# df = df[df.apply(lambda x: '대성홀딩스' not in x['종목명'], axis=1)]\n",
    "df.shape"
   ]
  },
  {
   "cell_type": "markdown",
   "metadata": {},
   "source": [
    "#### function define"
   ]
  },
  {
   "cell_type": "code",
   "execution_count": null,
   "metadata": {},
   "outputs": [],
   "source": []
  },
  {
   "cell_type": "code",
   "execution_count": 6,
   "metadata": {},
   "outputs": [],
   "source": [
    "# make momentum (10일,20일)\n",
    "def make_mom(df):\n",
    "    df = deepcopy(df)\n",
    "    buf = []\n",
    "    for _, gdf in tqdm(df.groupby('종목명')):\n",
    "        gdf['10_mom'] = gdf['종가'] / gdf['종가'].shift(11)*100\n",
    "        gdf['20_mom'] = gdf['종가'] / gdf['종가'].shift(21)*100\n",
    "        buf.append(gdf)\n",
    "    del df\n",
    "    res = pd.concat(buf)\n",
    "    return res "
   ]
  },
  {
   "cell_type": "code",
   "execution_count": 7,
   "metadata": {},
   "outputs": [],
   "source": [
    "# make tr\n",
    "def make_tr(df):\n",
    "    df = deepcopy(df)\n",
    "    buf = []\n",
    "    for _, gdf in tqdm(df.groupby('종목명')):\n",
    "        gdf['con1'] = gdf['최고가'] - gdf['종가'].shift(1)\n",
    "        gdf['con2'] = gdf['최저가'] - gdf['종가'].shift(1)\n",
    "        gdf['con1_per'] = (gdf['최고가'] - gdf['종가'].shift(1))/gdf['종가'].shift(1)*100\n",
    "        gdf['con2_per'] = (gdf['최저가'] - gdf['종가'].shift(1))/gdf['종가'].shift(1)*100\n",
    "        buf.append(gdf) \n",
    "    del df\n",
    "    res = pd.concat(buf)\n",
    "    res['con3'] = res['최고가'] - res['최저가']\n",
    "    res['con3_per'] = ((res['최고가']-res['최저가'])/res['최저가']*100).abs()\n",
    "    res['con1'] = res['con1'].abs()\n",
    "    res['con2'] = res['con2'].abs()\n",
    "    res['con1_per'] = res['con1_per'].abs()\n",
    "    res['con2_per'] = res['con2_per'].abs()\n",
    "    res['TR'] = res[['con1','con2','con3']].max(axis=1)\n",
    "    res['TR_per'] = res[['con1_per','con2_per','con3_per']].max(axis=1)\n",
    "    res = res.drop(columns=['con1', 'con2', 'con3'], axis=1)\n",
    "    res = res.drop(columns=['con1_per','con2_per','con3_per'], axis=1)\n",
    "    return res "
   ]
  },
  {
   "cell_type": "code",
   "execution_count": null,
   "metadata": {},
   "outputs": [],
   "source": []
  },
  {
   "cell_type": "code",
   "execution_count": 8,
   "metadata": {},
   "outputs": [],
   "source": [
    "# make atr 21일\n",
    "def make_atr(df):\n",
    "    df = deepcopy(df)\n",
    "    buf = []\n",
    "    for _, gdf in tqdm(df.groupby('종목명')):\n",
    "        gdf['ATR'] = gdf['TR'].rolling(21).mean()\n",
    "        gdf['ATR_per'] = gdf['TR_per'].rolling(21).mean()\n",
    "        gdf['ATR'].fillna(np.inf, inplace=True)\n",
    "        gdf['ATR_per'].fillna(np.inf, inplace=True)\n",
    "        buf.append(gdf)\n",
    "    del df\n",
    "    res = pd.concat(buf)\n",
    "    res = res.drop(columns=['TR'], axis=1)\n",
    "    return res "
   ]
  },
  {
   "cell_type": "code",
   "execution_count": 9,
   "metadata": {},
   "outputs": [],
   "source": [
    "def make_raking(df):\n",
    "    df = deepcopy(df)\n",
    "    buf = []\n",
    "    for _,gdf in tqdm(df.groupby('날짜')):\n",
    "        gdf['ranking'] = gdf['ATR'].rank(method='min', ascending=True)\n",
    "        buf.append(gdf)\n",
    "    del df\n",
    "    res = pd.concat(buf)\n",
    "    return res"
   ]
  },
  {
   "cell_type": "code",
   "execution_count": 10,
   "metadata": {},
   "outputs": [],
   "source": [
    "# make buy\n",
    "def make_buy(df):\n",
    "    df = deepcopy(df)\n",
    "    buf = []\n",
    "    for _, gdf in tqdm(df.groupby('종목명')):\n",
    "        gdf['buy1'] = (gdf['20_mom']>100)&(gdf['종가'].rolling(window=10, closed='left').max() < gdf['종가'])  #&(gdf['ranking'] <= 10)     \n",
    "        #gdf['middle_buy'] = (gdf['종가'].rolling(window=55, closed='left').max() < gdf['종가'])\n",
    "        #gdf['buy'] = gdf['short_buy'] | gdf['middle_buy']\n",
    "        buf.append(gdf)\n",
    "    del df\n",
    "    res = pd.concat(buf)\n",
    "    df = deepcopy(res)\n",
    "    del buf\n",
    "    buf = []\n",
    "    for (_, buy), gdf in tqdm(df.groupby(['날짜', 'buy1'])):\n",
    "        if buy == True:\n",
    "            gdf['buy2'] = gdf['ATR_per'].rank(method='min', ascending=True) <= 10\n",
    "        buf.append(gdf)\n",
    "    res = pd.concat(buf)\n",
    "    res['buy'] = res['buy1'] & res['buy2']\n",
    "    res = res.drop(columns=['buy1', 'buy2'], axis=1)\n",
    "    return res"
   ]
  },
  {
   "cell_type": "code",
   "execution_count": 11,
   "metadata": {},
   "outputs": [],
   "source": [
    "# make sell\n",
    "def make_sell(df):\n",
    "    df = deepcopy(df)\n",
    "    buf = []\n",
    "    for _,gdf in tqdm(df.groupby('종목명')):\n",
    "        con1 = (gdf['10_mom'] > 100)&(gdf['종가'].rolling(window=2,closed='left').min() > gdf['종가'])\n",
    "        #con2 = (gdf['10_mom'] < 100)&(gdf['종가'].rolling(window=10,closed='left').max() < gdf['종가'])\n",
    "        gdf['sell'] = con1\n",
    "        buf.append(gdf)\n",
    "    del df\n",
    "    res = pd.concat(buf)\n",
    "\n",
    "    return res "
   ]
  },
  {
   "cell_type": "markdown",
   "metadata": {},
   "source": [
    "#### Do!"
   ]
  },
  {
   "cell_type": "code",
   "execution_count": 12,
   "metadata": {},
   "outputs": [
    {
     "name": "stderr",
     "output_type": "stream",
     "text": [
      " ... (more hidden) ...\n"
     ]
    }
   ],
   "source": [
    "df = make_mom(df)"
   ]
  },
  {
   "cell_type": "code",
   "execution_count": 13,
   "metadata": {},
   "outputs": [
    {
     "name": "stderr",
     "output_type": "stream",
     "text": [
      " ... (more hidden) ...\n"
     ]
    }
   ],
   "source": [
    "df = make_tr(df)"
   ]
  },
  {
   "cell_type": "code",
   "execution_count": 14,
   "metadata": {},
   "outputs": [
    {
     "name": "stderr",
     "output_type": "stream",
     "text": [
      " ... (more hidden) ...\n"
     ]
    }
   ],
   "source": [
    "df = make_atr(df)"
   ]
  },
  {
   "cell_type": "code",
   "execution_count": 15,
   "metadata": {},
   "outputs": [],
   "source": [
    "# df = make_raking(df)"
   ]
  },
  {
   "cell_type": "code",
   "execution_count": 16,
   "metadata": {
    "scrolled": false
   },
   "outputs": [
    {
     "name": "stderr",
     "output_type": "stream",
     "text": [
      " ... (more hidden) ...\n",
      " ... (more hidden) ...\n"
     ]
    }
   ],
   "source": [
    "df = make_buy(df)"
   ]
  },
  {
   "cell_type": "code",
   "execution_count": 17,
   "metadata": {
    "scrolled": true
   },
   "outputs": [
    {
     "name": "stderr",
     "output_type": "stream",
     "text": [
      " ... (more hidden) ...\n"
     ]
    }
   ],
   "source": [
    "df = make_sell(df)"
   ]
  },
  {
   "cell_type": "code",
   "execution_count": 18,
   "metadata": {},
   "outputs": [],
   "source": [
    "code_kospi = pd.read_csv('../../SRC/current_kospi_codes.csv')\n",
    "code_kosdaq = pd.read_csv('../../SRC/current_kosdaq_codes.csv')\n",
    "code = pd.concat([code_kospi,code_kosdaq])\n",
    "code.rename(columns={'회사명':'종목명'},inplace=True)\n",
    "code['종목코드'] = code['종목코드'].astype('str')\n",
    "\n",
    "df_signal = df.merge(code,on='종목명',how='inner')\n",
    "df_signal.rename(columns={'종목코드':'코드'},inplace=True)\n",
    "df_signal['구매수량']=1"
   ]
  },
  {
   "cell_type": "code",
   "execution_count": 19,
   "metadata": {},
   "outputs": [],
   "source": [
    "df_signal['코드'] = df_signal['코드'].apply(lambda x: str(x).zfill(6))"
   ]
  },
  {
   "cell_type": "code",
   "execution_count": 20,
   "metadata": {},
   "outputs": [],
   "source": [
    "bt = BackTesting()\n",
    "ut = Utils()"
   ]
  },
  {
   "cell_type": "code",
   "execution_count": null,
   "metadata": {},
   "outputs": [],
   "source": []
  },
  {
   "cell_type": "code",
   "execution_count": null,
   "metadata": {},
   "outputs": [],
   "source": []
  },
  {
   "cell_type": "code",
   "execution_count": null,
   "metadata": {},
   "outputs": [],
   "source": []
  },
  {
   "cell_type": "markdown",
   "metadata": {},
   "source": [
    "### 일정기간"
   ]
  },
  {
   "cell_type": "code",
   "execution_count": 40,
   "metadata": {
    "collapsed": true
   },
   "outputs": [
    {
     "name": "stderr",
     "output_type": "stream",
     "text": [
      " ... (more hidden) ...\n"
     ]
    },
    {
     "name": "stdout",
     "output_type": "stream",
     "text": [
      "--------------------------------------------------\n",
      "기간:2018-01-29 00:00:00~2018-05-01 00:00:00\n",
      "승률: 4.76 %\n",
      "승리횟수:2\n",
      "전체횟수:42\n",
      "수익률 -1.26 %\n",
      "시장수익률: -3.19 %\n",
      "\n",
      "--------------------------------------------------\n"
     ]
    },
    {
     "name": "stderr",
     "output_type": "stream",
     "text": [
      " ... (more hidden) ...\n"
     ]
    },
    {
     "name": "stdout",
     "output_type": "stream",
     "text": [
      "--------------------------------------------------\n",
      "기간:2018-05-01 00:00:00~2018-08-01 00:00:00\n",
      "승률: 1.61 %\n",
      "승리횟수:1\n",
      "전체횟수:62\n",
      "수익률 -4.41 %\n",
      "시장수익률: -7.92 %\n",
      "\n",
      "--------------------------------------------------\n"
     ]
    },
    {
     "name": "stderr",
     "output_type": "stream",
     "text": [
      " ... (more hidden) ...\n"
     ]
    },
    {
     "name": "stdout",
     "output_type": "stream",
     "text": [
      "--------------------------------------------------\n",
      "기간:2018-08-01 00:00:00~2018-11-01 00:00:00\n",
      "승률: 11.67 %\n",
      "승리횟수:7\n",
      "전체횟수:60\n",
      "수익률 -8.34 %\n",
      "시장수익률: -12.25 %\n",
      "\n",
      "--------------------------------------------------\n"
     ]
    },
    {
     "name": "stderr",
     "output_type": "stream",
     "text": [
      " ... (more hidden) ...\n"
     ]
    },
    {
     "name": "stdout",
     "output_type": "stream",
     "text": [
      "--------------------------------------------------\n",
      "기간:2018-11-01 00:00:00~2019-02-01 00:00:00\n",
      "승률: 9.52 %\n",
      "승리횟수:6\n",
      "전체횟수:63\n",
      "수익률 -3.26 %\n",
      "시장수익률: 8.84 %\n",
      "\n",
      "--------------------------------------------------\n"
     ]
    },
    {
     "name": "stderr",
     "output_type": "stream",
     "text": [
      " ... (more hidden) ...\n"
     ]
    },
    {
     "name": "stdout",
     "output_type": "stream",
     "text": [
      "--------------------------------------------------\n",
      "기간:2019-02-01 00:00:00~2019-05-04 00:00:00\n",
      "승률: 10.0 %\n",
      "승리횟수:6\n",
      "전체횟수:60\n",
      "수익률 1.49 %\n",
      "시장수익률: -0.32 %\n",
      "\n",
      "--------------------------------------------------\n"
     ]
    },
    {
     "name": "stderr",
     "output_type": "stream",
     "text": [
      " ... (more hidden) ...\n"
     ]
    },
    {
     "name": "stdout",
     "output_type": "stream",
     "text": [
      "--------------------------------------------------\n",
      "기간:2019-05-04 00:00:00~2019-08-04 00:00:00\n",
      "승률: 7.94 %\n",
      "승리횟수:5\n",
      "전체횟수:63\n",
      "수익률 -3.49 %\n",
      "시장수익률: -8.22 %\n",
      "\n",
      "--------------------------------------------------\n"
     ]
    },
    {
     "name": "stderr",
     "output_type": "stream",
     "text": [
      " ... (more hidden) ...\n"
     ]
    },
    {
     "name": "stdout",
     "output_type": "stream",
     "text": [
      "--------------------------------------------------\n",
      "기간:2019-08-04 00:00:00~2019-11-04 00:00:00\n",
      "승률: 14.75 %\n",
      "승리횟수:9\n",
      "전체횟수:61\n",
      "수익률 -4.56 %\n",
      "시장수익률: 9.41 %\n",
      "\n",
      "--------------------------------------------------\n"
     ]
    },
    {
     "name": "stderr",
     "output_type": "stream",
     "text": [
      " ... (more hidden) ...\n"
     ]
    },
    {
     "name": "stdout",
     "output_type": "stream",
     "text": [
      "--------------------------------------------------\n",
      "기간:2019-11-04 00:00:00~2020-02-04 00:00:00\n",
      "승률: 6.56 %\n",
      "승리횟수:4\n",
      "전체횟수:61\n",
      "수익률 -5.83 %\n",
      "시장수익률: 1.3 %\n",
      "\n",
      "--------------------------------------------------\n"
     ]
    },
    {
     "name": "stderr",
     "output_type": "stream",
     "text": [
      " ... (more hidden) ...\n"
     ]
    },
    {
     "name": "stdout",
     "output_type": "stream",
     "text": [
      "--------------------------------------------------\n",
      "기간:2020-02-04 00:00:00~2020-05-06 00:00:00\n",
      "승률: 6.45 %\n",
      "승리횟수:4\n",
      "전체횟수:62\n",
      "수익률 -10.27 %\n",
      "시장수익률: -10.62 %\n",
      "\n",
      "--------------------------------------------------\n"
     ]
    },
    {
     "name": "stderr",
     "output_type": "stream",
     "text": [
      " ... (more hidden) ...\n"
     ]
    },
    {
     "name": "stdout",
     "output_type": "stream",
     "text": [
      "--------------------------------------------------\n",
      "기간:2020-05-06 00:00:00~2020-08-06 00:00:00\n",
      "승률: 4.55 %\n",
      "승리횟수:3\n",
      "전체횟수:66\n",
      "수익률 -2.48 %\n",
      "시장수익률: 21.46 %\n",
      "\n",
      "--------------------------------------------------\n"
     ]
    },
    {
     "name": "stderr",
     "output_type": "stream",
     "text": [
      " ... (more hidden) ...\n"
     ]
    },
    {
     "name": "stdout",
     "output_type": "stream",
     "text": [
      "--------------------------------------------------\n",
      "기간:2020-08-06 00:00:00~2020-11-06 00:00:00\n",
      "승률: 16.39 %\n",
      "승리횟수:10\n",
      "전체횟수:61\n",
      "수익률 1.19 %\n",
      "시장수익률: 3.15 %\n",
      "\n",
      "--------------------------------------------------\n"
     ]
    },
    {
     "name": "stderr",
     "output_type": "stream",
     "text": [
      " ... (more hidden) ...\n"
     ]
    },
    {
     "name": "stdout",
     "output_type": "stream",
     "text": [
      "--------------------------------------------------\n",
      "기간:2020-11-06 00:00:00~2021-02-06 00:00:00\n",
      "승률: 8.06 %\n",
      "승리횟수:5\n",
      "전체횟수:62\n",
      "수익률 2.56 %\n",
      "시장수익률: 29.14 %\n",
      "\n",
      "--------------------------------------------------\n"
     ]
    },
    {
     "name": "stderr",
     "output_type": "stream",
     "text": [
      " ... (more hidden) ...\n"
     ]
    },
    {
     "name": "stdout",
     "output_type": "stream",
     "text": [
      "--------------------------------------------------\n",
      "기간:2021-02-06 00:00:00~2021-05-09 00:00:00\n",
      "승률: 8.2 %\n",
      "승리횟수:5\n",
      "전체횟수:61\n",
      "수익률 0.03 %\n",
      "시장수익률: 3.43 %\n",
      "\n",
      "--------------------------------------------------\n"
     ]
    },
    {
     "name": "stderr",
     "output_type": "stream",
     "text": [
      " ... (more hidden) ...\n"
     ]
    },
    {
     "name": "stdout",
     "output_type": "stream",
     "text": [
      "--------------------------------------------------\n",
      "기간:2021-05-09 00:00:00~2021-08-09 00:00:00\n",
      "승률: 10.77 %\n",
      "승리횟수:7\n",
      "전체횟수:65\n",
      "수익률 -0.22 %\n",
      "시장수익률: 0.34 %\n",
      "\n",
      "--------------------------------------------------\n"
     ]
    },
    {
     "name": "stderr",
     "output_type": "stream",
     "text": [
      " ... (more hidden) ...\n"
     ]
    },
    {
     "name": "stdout",
     "output_type": "stream",
     "text": [
      "--------------------------------------------------\n",
      "기간:2021-08-09 00:00:00~2021-11-09 00:00:00\n",
      "승률: 8.33 %\n",
      "승리횟수:5\n",
      "전체횟수:60\n",
      "수익률 -4.43 %\n",
      "시장수익률: -9.14 %\n",
      "\n",
      "--------------------------------------------------\n"
     ]
    },
    {
     "name": "stderr",
     "output_type": "stream",
     "text": [
      " ... (more hidden) ...\n"
     ]
    },
    {
     "name": "stdout",
     "output_type": "stream",
     "text": [
      "--------------------------------------------------\n",
      "기간:2021-11-09 00:00:00~2022-02-09 00:00:00\n",
      "승률: 1.61 %\n",
      "승리횟수:1\n",
      "전체횟수:62\n",
      "수익률 -8.88 %\n",
      "시장수익률: -6.54 %\n",
      "\n",
      "--------------------------------------------------\n"
     ]
    },
    {
     "name": "stderr",
     "output_type": "stream",
     "text": [
      " ... (more hidden) ...\n"
     ]
    },
    {
     "name": "stdout",
     "output_type": "stream",
     "text": [
      "--------------------------------------------------\n",
      "기간:2022-02-09 00:00:00~2022-05-12 00:00:00\n",
      "승률: 9.52 %\n",
      "승리횟수:6\n",
      "전체횟수:63\n",
      "수익률 -0.46 %\n",
      "시장수익률: -7.9 %\n",
      "\n",
      "--------------------------------------------------\n"
     ]
    },
    {
     "name": "stderr",
     "output_type": "stream",
     "text": [
      " ... (more hidden) ...\n"
     ]
    },
    {
     "name": "stdout",
     "output_type": "stream",
     "text": [
      "--------------------------------------------------\n",
      "기간:2022-05-12 00:00:00~2022-08-12 00:00:00\n",
      "승률: 3.12 %\n",
      "승리횟수:2\n",
      "전체횟수:64\n",
      "수익률 -10.7 %\n",
      "시장수익률: -0.87 %\n",
      "\n",
      "--------------------------------------------------\n"
     ]
    },
    {
     "name": "stderr",
     "output_type": "stream",
     "text": [
      " ... (more hidden) ...\n"
     ]
    },
    {
     "name": "stdout",
     "output_type": "stream",
     "text": [
      "--------------------------------------------------\n",
      "기간:2022-08-12 00:00:00~2022-11-12 00:00:00\n",
      "승률: 5.0 %\n",
      "승리횟수:3\n",
      "전체횟수:60\n",
      "수익률 -12.52 %\n",
      "시장수익률: -1.77 %\n",
      "\n",
      "--------------------------------------------------\n"
     ]
    },
    {
     "name": "stderr",
     "output_type": "stream",
     "text": [
      " ... (more hidden) ...\n"
     ]
    },
    {
     "name": "stdout",
     "output_type": "stream",
     "text": [
      "--------------------------------------------------\n",
      "기간:2022-11-12 00:00:00~2022-12-29 00:00:00\n",
      "승률: 14.71 %\n",
      "승리횟수:5\n",
      "전체횟수:34\n",
      "수익률: -1.17 %\n",
      "시장수익률: -9.63 %\n",
      "\n",
      "--------------------------------------------------\n"
     ]
    }
   ],
   "source": [
    "res = []\n",
    "for days in [92]:\n",
    "    first_date = parse(sorted(df_signal['날짜'].unique())[0])\n",
    "    last_date = parse(sorted(df_signal['날짜'].unique())[-1])\n",
    "    term = dt.timedelta(days=days)\n",
    "    term_bias_date = first_date\n",
    "    while last_date - term_bias_date > term:        \n",
    "        df_signal_test = df_signal[((df_signal['날짜'] > str(term_bias_date)) & (df_signal['날짜'] < str(term_bias_date + term)))]\n",
    "        df_stock = stock.get_index_fundamental(str(term_bias_date)[:10], str(term_bias_date + term)[:10], '1001')\n",
    "        bt.MONEY = 10000000\n",
    "        first_monry = bt.MONEY\n",
    "        bt.buy_sell(df=df_signal_test,buy='buy',sell='sell')\n",
    "        bt.update_information()\n",
    "        \n",
    "        a = pd.DataFrame(bt.ASSET).T\n",
    "        a['코드'] = a.index\n",
    "        b= df_signal[df_signal['날짜'] == str(term_bias_date + term)][['코드', '종가']]\n",
    "        df_join = a.merge(b,on='코드', how='inner')\n",
    "        buf = pd.DataFrame((df_join['종가']* df_join['수량']) - (df_join['평단가']  * df_join['수량'])).sum()[0]\n",
    "\n",
    "        print('-'*50)\n",
    "        print('기간:' + str(term_bias_date) + '~' + str(term_bias_date + term))\n",
    "        print('승률:', round(bt.ECONO_INFORM[bt.ECONO_INFORM['실현손익'] > 0.0].shape[0] / bt.ECONO_INFORM.shape[0]*100,2),'%')\n",
    "        print('승리횟수:' + str(bt.ECONO_INFORM[bt.ECONO_INFORM['실현손익'] > 0.0].shape[0]))\n",
    "        print('전체횟수:' + str(bt.ECONO_INFORM.shape[0]))\n",
    "        print('수익률', round((bt.ECONO_INFORM['실현손익'].sum() + buf)/first_monry * 100, 2),'%')\n",
    "        print('시장수익률:', + round(((df_stock.iloc[-1, 0] - df_stock.iloc[0, 0]) / df_stock.iloc[0, 0]) *100, 2), '%')\n",
    "        print()\n",
    "        print('-'*50)\n",
    "        term_bias_date = term_bias_date + term\n",
    "        res.append(round(bt.ECONO_INFORM[bt.ECONO_INFORM['실현손익'] > 0.0].shape[0] / bt.ECONO_INFORM.shape[0]*100,2))\n",
    "    \n",
    "    df_signal_test = df_signal[((df_signal['날짜'] > str(term_bias_date)) & (df_signal['날짜'] <= str(last_date)))]\n",
    "    df_stock = stock.get_index_fundamental(str(term_bias_date)[:10], str(last_date), '1001')\n",
    "    bt.MONEY = 10000000\n",
    "    first_monry = bt.MONEY\n",
    "    bt.buy_sell(df=df_signal_test,buy='buy',sell='sell')\n",
    "    bt.update_information()\n",
    "    a = pd.DataFrame(bt.ASSET).T\n",
    "    a['코드'] = a.index\n",
    "    b= df_signal[df_signal['날짜'] == str(last_date)][['코드', '종가']]\n",
    "    df_join = a.merge(b,on='코드', how='inner')\n",
    "    buf = pd.DataFrame((df_join['종가']* df_join['수량']) - (df_join['평단가']  * df_join['수량'])).sum()[0]\n",
    "    \n",
    "    print('-'*50)\n",
    "    print('기간:' + str(term_bias_date) + '~' + str(last_date))\n",
    "    print('승률:', round(bt.ECONO_INFORM[bt.ECONO_INFORM['실현손익'] > 0.0].shape[0] / bt.ECONO_INFORM.shape[0]*100,2),'%')\n",
    "    print('승리횟수:' + str(bt.ECONO_INFORM[bt.ECONO_INFORM['실현손익'] > 0.0].shape[0]))\n",
    "    print('전체횟수:' + str(bt.ECONO_INFORM.shape[0]))\n",
    "    print('수익률:', round((bt.ECONO_INFORM['실현손익'].sum() + buf)/first_monry * 100, 2),'%')\n",
    "    print('시장수익률:', + round(((df_stock.iloc[-1, 0] - df_stock.iloc[0, 0]) / df_stock.iloc[0, 0]) *100, 2), '%')\n",
    "    print()\n",
    "    print('-'*50)\n",
    "    \n",
    "    res.append(round(bt.ECONO_INFORM[bt.ECONO_INFORM['실현손익'] > 0.0].shape[0] / bt.ECONO_INFORM.shape[0]*100,2))"
   ]
  },
  {
   "cell_type": "code",
   "execution_count": null,
   "metadata": {},
   "outputs": [],
   "source": []
  },
  {
   "cell_type": "code",
   "execution_count": null,
   "metadata": {},
   "outputs": [],
   "source": []
  },
  {
   "cell_type": "code",
   "execution_count": null,
   "metadata": {},
   "outputs": [],
   "source": []
  },
  {
   "cell_type": "code",
   "execution_count": null,
   "metadata": {},
   "outputs": [],
   "source": []
  },
  {
   "cell_type": "markdown",
   "metadata": {},
   "source": [
    "### 5년치 한꺼번에"
   ]
  },
  {
   "cell_type": "code",
   "execution_count": 28,
   "metadata": {
    "scrolled": true
   },
   "outputs": [
    {
     "name": "stderr",
     "output_type": "stream",
     "text": [
      " ... (more hidden) ..."
     ]
    },
    {
     "name": "stdout",
     "output_type": "stream",
     "text": [
      "2018-01-29\n",
      "2018-01-30\n",
      "2018-01-31\n"
     ]
    },
    {
     "name": "stderr",
     "output_type": "stream",
     "text": [
      " ... (more hidden) ..."
     ]
    },
    {
     "name": "stdout",
     "output_type": "stream",
     "text": [
      "2018-02-01\n",
      "2018-02-02\n",
      "2018-02-05\n"
     ]
    },
    {
     "name": "stderr",
     "output_type": "stream",
     "text": [
      " ... (more hidden) ..."
     ]
    },
    {
     "name": "stdout",
     "output_type": "stream",
     "text": [
      "2018-02-06\n",
      "2018-02-07\n",
      "2018-02-08\n"
     ]
    },
    {
     "name": "stderr",
     "output_type": "stream",
     "text": [
      " ... (more hidden) ..."
     ]
    },
    {
     "name": "stdout",
     "output_type": "stream",
     "text": [
      "2018-02-09\n",
      "2018-02-12\n",
      "2018-02-13\n"
     ]
    },
    {
     "name": "stderr",
     "output_type": "stream",
     "text": [
      "\r",
      " ... (more hidden) ..."
     ]
    },
    {
     "name": "stdout",
     "output_type": "stream",
     "text": [
      "2018-02-14\n",
      "2018-02-19\n",
      "2018-02-20\n"
     ]
    },
    {
     "name": "stderr",
     "output_type": "stream",
     "text": [
      "\r",
      " ... (more hidden) ..."
     ]
    },
    {
     "name": "stdout",
     "output_type": "stream",
     "text": [
      "2018-02-21\n",
      "2018-02-22\n",
      "2018-02-23\n"
     ]
    },
    {
     "name": "stderr",
     "output_type": "stream",
     "text": [
      " ... (more hidden) ..."
     ]
    },
    {
     "name": "stdout",
     "output_type": "stream",
     "text": [
      "2018-02-26\n",
      "2018-02-27\n",
      "2018-02-28\n"
     ]
    },
    {
     "name": "stderr",
     "output_type": "stream",
     "text": [
      " ... (more hidden) ..."
     ]
    },
    {
     "name": "stdout",
     "output_type": "stream",
     "text": [
      "2018-03-02\n",
      "2018-03-02\n",
      "2018-03-05\n"
     ]
    },
    {
     "name": "stderr",
     "output_type": "stream",
     "text": [
      " ... (more hidden) ..."
     ]
    },
    {
     "name": "stdout",
     "output_type": "stream",
     "text": [
      "2018-03-05\n",
      "2018-03-06\n",
      "2018-03-06\n",
      "2018-03-07\n",
      "2018-03-07\n"
     ]
    },
    {
     "name": "stderr",
     "output_type": "stream",
     "text": [
      "\r",
      " ... (more hidden) ..."
     ]
    },
    {
     "name": "stdout",
     "output_type": "stream",
     "text": [
      "2018-03-08\n",
      "2018-03-08\n",
      "2018-03-09\n",
      "2018-03-09\n",
      "2018-03-12\n"
     ]
    },
    {
     "name": "stderr",
     "output_type": "stream",
     "text": [
      " ... (more hidden) ..."
     ]
    },
    {
     "name": "stdout",
     "output_type": "stream",
     "text": [
      "2018-03-12\n",
      "2018-03-13\n",
      "2018-03-13\n",
      "2018-03-14\n"
     ]
    },
    {
     "name": "stderr",
     "output_type": "stream",
     "text": [
      " ... (more hidden) ..."
     ]
    },
    {
     "name": "stdout",
     "output_type": "stream",
     "text": [
      "2018-03-14\n",
      "2018-03-15\n",
      "2018-03-15\n",
      "2018-03-16\n",
      "2018-03-16\n",
      "2018-03-19\n"
     ]
    },
    {
     "name": "stderr",
     "output_type": "stream",
     "text": [
      " ... (more hidden) ..."
     ]
    },
    {
     "name": "stdout",
     "output_type": "stream",
     "text": [
      "2018-03-19\n",
      "2018-03-20\n",
      "2018-03-20\n",
      "2018-03-21\n",
      "2018-03-21\n",
      "2018-03-22\n"
     ]
    },
    {
     "name": "stderr",
     "output_type": "stream",
     "text": [
      " ... (more hidden) ..."
     ]
    },
    {
     "name": "stdout",
     "output_type": "stream",
     "text": [
      "2018-03-22\n",
      "2018-03-23\n",
      "2018-03-23\n",
      "2018-03-26\n",
      "2018-03-26\n",
      "2018-03-27\n"
     ]
    },
    {
     "name": "stderr",
     "output_type": "stream",
     "text": [
      " ... (more hidden) ..."
     ]
    },
    {
     "name": "stdout",
     "output_type": "stream",
     "text": [
      "2018-03-27\n",
      "2018-03-28\n",
      "2018-03-28\n",
      "2018-03-29\n",
      "2018-03-29\n",
      "2018-03-30\n"
     ]
    },
    {
     "name": "stderr",
     "output_type": "stream",
     "text": [
      " ... (more hidden) ..."
     ]
    },
    {
     "name": "stdout",
     "output_type": "stream",
     "text": [
      "2018-03-30\n",
      "2018-04-02\n",
      "2018-04-02\n",
      "2018-04-03\n"
     ]
    },
    {
     "name": "stderr",
     "output_type": "stream",
     "text": [
      " ... (more hidden) ..."
     ]
    },
    {
     "name": "stdout",
     "output_type": "stream",
     "text": [
      "2018-04-03\n",
      "2018-04-04\n",
      "2018-04-04\n",
      "2018-04-05\n",
      "2018-04-05\n",
      "2018-04-06\n"
     ]
    },
    {
     "name": "stderr",
     "output_type": "stream",
     "text": [
      " ... (more hidden) ..."
     ]
    },
    {
     "name": "stdout",
     "output_type": "stream",
     "text": [
      "2018-04-06\n",
      "2018-04-09\n",
      "2018-04-09\n",
      "2018-04-10\n",
      "2018-04-10\n",
      "2018-04-11\n"
     ]
    },
    {
     "name": "stderr",
     "output_type": "stream",
     "text": [
      " ... (more hidden) ..."
     ]
    },
    {
     "name": "stdout",
     "output_type": "stream",
     "text": [
      "2018-04-11\n",
      "2018-04-12\n",
      "2018-04-12\n",
      "2018-04-13\n",
      "2018-04-13\n"
     ]
    },
    {
     "name": "stderr",
     "output_type": "stream",
     "text": [
      "\r",
      " ... (more hidden) ..."
     ]
    },
    {
     "name": "stdout",
     "output_type": "stream",
     "text": [
      "2018-04-16\n",
      "2018-04-16\n",
      "2018-04-17\n",
      "2018-04-17\n",
      "2018-04-18\n"
     ]
    },
    {
     "name": "stderr",
     "output_type": "stream",
     "text": [
      " ... (more hidden) ..."
     ]
    },
    {
     "name": "stdout",
     "output_type": "stream",
     "text": [
      "2018-04-18\n",
      "2018-04-19\n",
      "2018-04-19\n",
      "2018-04-20\n"
     ]
    },
    {
     "name": "stderr",
     "output_type": "stream",
     "text": [
      " ... (more hidden) ..."
     ]
    },
    {
     "name": "stdout",
     "output_type": "stream",
     "text": [
      "2018-04-20\n",
      "2018-04-23\n",
      "2018-04-23\n",
      "2018-04-24\n",
      "2018-04-24\n",
      "2018-04-25\n"
     ]
    },
    {
     "name": "stderr",
     "output_type": "stream",
     "text": [
      "\r",
      " ... (more hidden) ..."
     ]
    },
    {
     "name": "stdout",
     "output_type": "stream",
     "text": [
      "2018-04-25\n",
      "2018-04-26\n",
      "2018-04-26\n",
      "2018-04-27\n",
      "2018-04-27\n",
      "2018-04-30\n"
     ]
    },
    {
     "name": "stderr",
     "output_type": "stream",
     "text": [
      " ... (more hidden) ..."
     ]
    },
    {
     "name": "stdout",
     "output_type": "stream",
     "text": [
      "2018-04-30\n",
      "2018-05-02\n",
      "2018-05-02\n",
      "2018-05-03\n",
      "2018-05-03\n",
      "2018-05-04\n"
     ]
    },
    {
     "name": "stderr",
     "output_type": "stream",
     "text": [
      " ... (more hidden) ..."
     ]
    },
    {
     "name": "stdout",
     "output_type": "stream",
     "text": [
      "2018-05-04\n",
      "2018-05-08\n",
      "2018-05-08\n",
      "2018-05-09\n",
      "2018-05-09\n",
      "2018-05-10\n"
     ]
    },
    {
     "name": "stderr",
     "output_type": "stream",
     "text": [
      "\r",
      " ... (more hidden) ..."
     ]
    },
    {
     "name": "stdout",
     "output_type": "stream",
     "text": [
      "2018-05-10\n",
      "2018-05-11\n",
      "2018-05-11\n",
      "2018-05-14\n",
      "2018-05-14\n",
      "2018-05-15\n"
     ]
    },
    {
     "name": "stderr",
     "output_type": "stream",
     "text": [
      " ... (more hidden) ..."
     ]
    },
    {
     "name": "stdout",
     "output_type": "stream",
     "text": [
      "2018-05-15\n",
      "2018-05-16\n",
      "2018-05-16\n",
      "2018-05-17\n",
      "2018-05-17\n",
      "2018-05-18\n"
     ]
    },
    {
     "name": "stderr",
     "output_type": "stream",
     "text": [
      " ... (more hidden) ..."
     ]
    },
    {
     "name": "stdout",
     "output_type": "stream",
     "text": [
      "2018-05-18\n",
      "2018-05-21\n",
      "2018-05-21\n",
      "2018-05-23\n"
     ]
    },
    {
     "name": "stderr",
     "output_type": "stream",
     "text": [
      " ... (more hidden) ..."
     ]
    },
    {
     "name": "stdout",
     "output_type": "stream",
     "text": [
      "2018-05-23\n",
      "2018-05-24\n",
      "2018-05-24\n",
      "2018-05-25\n",
      "2018-05-25\n",
      "2018-05-28\n"
     ]
    },
    {
     "name": "stderr",
     "output_type": "stream",
     "text": [
      " ... (more hidden) ..."
     ]
    },
    {
     "name": "stdout",
     "output_type": "stream",
     "text": [
      "2018-05-28\n",
      "2018-05-29\n",
      "2018-05-29\n",
      "2018-05-30\n"
     ]
    },
    {
     "name": "stderr",
     "output_type": "stream",
     "text": [
      " ... (more hidden) ..."
     ]
    },
    {
     "name": "stdout",
     "output_type": "stream",
     "text": [
      "2018-05-30\n",
      "2018-05-31\n",
      "2018-05-31\n",
      "2018-06-01\n",
      "2018-06-01\n"
     ]
    },
    {
     "name": "stderr",
     "output_type": "stream",
     "text": [
      "\r",
      " ... (more hidden) ..."
     ]
    },
    {
     "name": "stdout",
     "output_type": "stream",
     "text": [
      "2018-06-04\n",
      "2018-06-04\n",
      "2018-06-05\n"
     ]
    },
    {
     "name": "stderr",
     "output_type": "stream",
     "text": [
      " ... (more hidden) ..."
     ]
    },
    {
     "name": "stdout",
     "output_type": "stream",
     "text": [
      "2018-06-05\n",
      "2018-06-07\n",
      "2018-06-07\n",
      "2018-06-08\n",
      "2018-06-08\n",
      "2018-06-11\n"
     ]
    },
    {
     "name": "stderr",
     "output_type": "stream",
     "text": [
      " ... (more hidden) ..."
     ]
    },
    {
     "name": "stdout",
     "output_type": "stream",
     "text": [
      "2018-06-11\n",
      "2018-06-12\n",
      "2018-06-12\n",
      "2018-06-14\n"
     ]
    },
    {
     "name": "stderr",
     "output_type": "stream",
     "text": [
      " ... (more hidden) ..."
     ]
    },
    {
     "name": "stdout",
     "output_type": "stream",
     "text": [
      "2018-06-14\n",
      "2018-06-15\n",
      "2018-06-15\n",
      "2018-06-18\n",
      "2018-06-18\n",
      "2018-06-19\n",
      "2018-06-19\n"
     ]
    },
    {
     "name": "stderr",
     "output_type": "stream",
     "text": [
      " ... (more hidden) ..."
     ]
    },
    {
     "name": "stdout",
     "output_type": "stream",
     "text": [
      "2018-06-20\n",
      "2018-06-20\n",
      "2018-06-21\n",
      "2018-06-21\n",
      "2018-06-22\n",
      "2018-06-22\n"
     ]
    },
    {
     "name": "stderr",
     "output_type": "stream",
     "text": [
      "\r",
      " ... (more hidden) ..."
     ]
    },
    {
     "name": "stdout",
     "output_type": "stream",
     "text": [
      "2018-06-25\n",
      "2018-06-25\n",
      "2018-06-26\n",
      "2018-06-26\n",
      "2018-06-27\n"
     ]
    },
    {
     "name": "stderr",
     "output_type": "stream",
     "text": [
      " ... (more hidden) ..."
     ]
    },
    {
     "name": "stdout",
     "output_type": "stream",
     "text": [
      "2018-06-27\n",
      "2018-06-28\n",
      "2018-06-28\n",
      "2018-06-29\n",
      "2018-06-29\n",
      "2018-07-02\n"
     ]
    },
    {
     "name": "stderr",
     "output_type": "stream",
     "text": [
      " ... (more hidden) ..."
     ]
    },
    {
     "name": "stdout",
     "output_type": "stream",
     "text": [
      "2018-07-02\n",
      "2018-07-03\n",
      "2018-07-03\n",
      "2018-07-04\n",
      "2018-07-04\n",
      "2018-07-05\n"
     ]
    },
    {
     "name": "stderr",
     "output_type": "stream",
     "text": [
      " ... (more hidden) ..."
     ]
    },
    {
     "name": "stdout",
     "output_type": "stream",
     "text": [
      "2018-07-05\n",
      "2018-07-06\n",
      "2018-07-06\n",
      "2018-07-09\n",
      "2018-07-09\n",
      "2018-07-10\n"
     ]
    },
    {
     "name": "stderr",
     "output_type": "stream",
     "text": [
      " ... (more hidden) ..."
     ]
    },
    {
     "name": "stdout",
     "output_type": "stream",
     "text": [
      "2018-07-10\n",
      "2018-07-11\n",
      "2018-07-11\n",
      "2018-07-12\n",
      "2018-07-12\n",
      "2018-07-13\n"
     ]
    },
    {
     "name": "stderr",
     "output_type": "stream",
     "text": [
      " ... (more hidden) ..."
     ]
    },
    {
     "name": "stdout",
     "output_type": "stream",
     "text": [
      "2018-07-13\n",
      "2018-07-16\n",
      "2018-07-16\n",
      "2018-07-17\n"
     ]
    },
    {
     "name": "stderr",
     "output_type": "stream",
     "text": [
      " ... (more hidden) ..."
     ]
    },
    {
     "name": "stdout",
     "output_type": "stream",
     "text": [
      "2018-07-17\n",
      "2018-07-18\n",
      "2018-07-18\n",
      "2018-07-19\n",
      "2018-07-19\n",
      "2018-07-20\n"
     ]
    },
    {
     "name": "stderr",
     "output_type": "stream",
     "text": [
      " ... (more hidden) ..."
     ]
    },
    {
     "name": "stdout",
     "output_type": "stream",
     "text": [
      "2018-07-20\n",
      "2018-07-23\n",
      "2018-07-23\n",
      "2018-07-24\n",
      "2018-07-24\n"
     ]
    },
    {
     "name": "stderr",
     "output_type": "stream",
     "text": [
      "\r",
      " ... (more hidden) ..."
     ]
    },
    {
     "name": "stdout",
     "output_type": "stream",
     "text": [
      "2018-07-25\n",
      "2018-07-25\n",
      "2018-07-26\n"
     ]
    },
    {
     "name": "stderr",
     "output_type": "stream",
     "text": [
      " ... (more hidden) ..."
     ]
    },
    {
     "name": "stdout",
     "output_type": "stream",
     "text": [
      "2018-07-26\n",
      "2018-07-27\n",
      "2018-07-27\n",
      "2018-07-30\n",
      "2018-07-30\n",
      "2018-07-31\n"
     ]
    },
    {
     "name": "stderr",
     "output_type": "stream",
     "text": [
      " ... (more hidden) ..."
     ]
    },
    {
     "name": "stdout",
     "output_type": "stream",
     "text": [
      "2018-07-31\n",
      "2018-08-01\n",
      "2018-08-01\n",
      "2018-08-02\n"
     ]
    },
    {
     "name": "stderr",
     "output_type": "stream",
     "text": [
      " ... (more hidden) ..."
     ]
    },
    {
     "name": "stdout",
     "output_type": "stream",
     "text": [
      "2018-08-02\n",
      "2018-08-03\n",
      "2018-08-03\n",
      "2018-08-06\n",
      "2018-08-06\n",
      "2018-08-07\n"
     ]
    },
    {
     "name": "stderr",
     "output_type": "stream",
     "text": [
      " ... (more hidden) ..."
     ]
    },
    {
     "name": "stdout",
     "output_type": "stream",
     "text": [
      "2018-08-07\n",
      "2018-08-08\n",
      "2018-08-08\n",
      "2018-08-09\n"
     ]
    },
    {
     "name": "stderr",
     "output_type": "stream",
     "text": [
      " ... (more hidden) ..."
     ]
    },
    {
     "name": "stdout",
     "output_type": "stream",
     "text": [
      "2018-08-09\n",
      "2018-08-10\n",
      "2018-08-10\n",
      "2018-08-13\n",
      "2018-08-13\n",
      "2018-08-14\n"
     ]
    },
    {
     "name": "stderr",
     "output_type": "stream",
     "text": [
      " ... (more hidden) ..."
     ]
    },
    {
     "name": "stdout",
     "output_type": "stream",
     "text": [
      "2018-08-14\n",
      "2018-08-16\n",
      "2018-08-16\n",
      "2018-08-17\n"
     ]
    },
    {
     "name": "stderr",
     "output_type": "stream",
     "text": [
      " ... (more hidden) ..."
     ]
    },
    {
     "name": "stdout",
     "output_type": "stream",
     "text": [
      "2018-08-17\n",
      "2018-08-20\n",
      "2018-08-20\n",
      "2018-08-21\n",
      "2018-08-21\n",
      "2018-08-22\n"
     ]
    },
    {
     "name": "stderr",
     "output_type": "stream",
     "text": [
      " ... (more hidden) ..."
     ]
    },
    {
     "name": "stdout",
     "output_type": "stream",
     "text": [
      "2018-08-22\n",
      "2018-08-23\n",
      "2018-08-23\n",
      "2018-08-24\n"
     ]
    },
    {
     "name": "stderr",
     "output_type": "stream",
     "text": [
      " ... (more hidden) ..."
     ]
    },
    {
     "name": "stdout",
     "output_type": "stream",
     "text": [
      "2018-08-24\n",
      "2018-08-27\n",
      "2018-08-27\n",
      "2018-08-28\n",
      "2018-08-28\n",
      "2018-08-29\n"
     ]
    },
    {
     "name": "stderr",
     "output_type": "stream",
     "text": [
      " ... (more hidden) ..."
     ]
    },
    {
     "name": "stdout",
     "output_type": "stream",
     "text": [
      "2018-08-29\n",
      "2018-08-30\n",
      "2018-08-30\n",
      "2018-08-31\n",
      "2018-08-31\n",
      "2018-09-03\n"
     ]
    },
    {
     "name": "stderr",
     "output_type": "stream",
     "text": [
      " ... (more hidden) ..."
     ]
    },
    {
     "name": "stdout",
     "output_type": "stream",
     "text": [
      "2018-09-03\n",
      "2018-09-04\n",
      "2018-09-04\n",
      "2018-09-05\n"
     ]
    },
    {
     "name": "stderr",
     "output_type": "stream",
     "text": [
      " ... (more hidden) ..."
     ]
    },
    {
     "name": "stdout",
     "output_type": "stream",
     "text": [
      "2018-09-05\n",
      "2018-09-06\n",
      "2018-09-06\n",
      "2018-09-07\n"
     ]
    },
    {
     "name": "stderr",
     "output_type": "stream",
     "text": [
      " ... (more hidden) ..."
     ]
    },
    {
     "name": "stdout",
     "output_type": "stream",
     "text": [
      "2018-09-07\n",
      "2018-09-10\n",
      "2018-09-10\n",
      "2018-09-11\n"
     ]
    },
    {
     "name": "stderr",
     "output_type": "stream",
     "text": [
      " ... (more hidden) ..."
     ]
    },
    {
     "name": "stdout",
     "output_type": "stream",
     "text": [
      "2018-09-11\n",
      "2018-09-12\n",
      "2018-09-12\n",
      "2018-09-13\n",
      "2018-09-13\n",
      "2018-09-14\n"
     ]
    },
    {
     "name": "stderr",
     "output_type": "stream",
     "text": [
      " ... (more hidden) ..."
     ]
    },
    {
     "name": "stdout",
     "output_type": "stream",
     "text": [
      "2018-09-14\n",
      "2018-09-17\n",
      "2018-09-17\n",
      "2018-09-18\n"
     ]
    },
    {
     "name": "stderr",
     "output_type": "stream",
     "text": [
      " ... (more hidden) ..."
     ]
    },
    {
     "name": "stdout",
     "output_type": "stream",
     "text": [
      "2018-09-18\n",
      "2018-09-19\n"
     ]
    },
    {
     "name": "stderr",
     "output_type": "stream",
     "text": [
      "\r",
      " ... (more hidden) ..."
     ]
    },
    {
     "name": "stdout",
     "output_type": "stream",
     "text": [
      "2018-09-19\n",
      "2018-09-20\n",
      "2018-09-20\n",
      "2018-09-21\n"
     ]
    },
    {
     "name": "stderr",
     "output_type": "stream",
     "text": [
      " ... (more hidden) ..."
     ]
    },
    {
     "name": "stdout",
     "output_type": "stream",
     "text": [
      "2018-09-21\n",
      "2018-09-27\n",
      "2018-09-27\n",
      "2018-09-28\n"
     ]
    },
    {
     "name": "stderr",
     "output_type": "stream",
     "text": [
      " ... (more hidden) ..."
     ]
    },
    {
     "name": "stdout",
     "output_type": "stream",
     "text": [
      "2018-09-28\n",
      "2018-10-01\n",
      "2018-10-01\n",
      "2018-10-02\n"
     ]
    },
    {
     "name": "stderr",
     "output_type": "stream",
     "text": [
      " ... (more hidden) ..."
     ]
    },
    {
     "name": "stdout",
     "output_type": "stream",
     "text": [
      "2018-10-02\n",
      "2018-10-04\n",
      "2018-10-04\n",
      "2018-10-05\n"
     ]
    },
    {
     "name": "stderr",
     "output_type": "stream",
     "text": [
      " ... (more hidden) ..."
     ]
    },
    {
     "name": "stdout",
     "output_type": "stream",
     "text": [
      "2018-10-05\n",
      "2018-10-08\n",
      "2018-10-08\n",
      "2018-10-10\n"
     ]
    },
    {
     "name": "stderr",
     "output_type": "stream",
     "text": [
      " ... (more hidden) ..."
     ]
    },
    {
     "name": "stdout",
     "output_type": "stream",
     "text": [
      "2018-10-10\n",
      "2018-10-11\n",
      "2018-10-11\n",
      "2018-10-12\n"
     ]
    },
    {
     "name": "stderr",
     "output_type": "stream",
     "text": [
      " ... (more hidden) ..."
     ]
    },
    {
     "name": "stdout",
     "output_type": "stream",
     "text": [
      "2018-10-12\n",
      "2018-10-15\n",
      "2018-10-15\n",
      "2018-10-16\n",
      "2018-10-16\n",
      "2018-10-17\n"
     ]
    },
    {
     "name": "stderr",
     "output_type": "stream",
     "text": [
      " ... (more hidden) ..."
     ]
    },
    {
     "name": "stdout",
     "output_type": "stream",
     "text": [
      "2018-10-17\n",
      "2018-10-18\n",
      "2018-10-18\n",
      "2018-10-19\n"
     ]
    },
    {
     "name": "stderr",
     "output_type": "stream",
     "text": [
      " ... (more hidden) ..."
     ]
    },
    {
     "name": "stdout",
     "output_type": "stream",
     "text": [
      "2018-10-19\n",
      "2018-10-22\n",
      "2018-10-22\n",
      "2018-10-23\n"
     ]
    },
    {
     "name": "stderr",
     "output_type": "stream",
     "text": [
      " ... (more hidden) ..."
     ]
    },
    {
     "name": "stdout",
     "output_type": "stream",
     "text": [
      "2018-10-23\n",
      "2018-10-24\n",
      "2018-10-24\n",
      "2018-10-25\n",
      "2018-10-25\n",
      "2018-10-26\n"
     ]
    },
    {
     "name": "stderr",
     "output_type": "stream",
     "text": [
      " ... (more hidden) ..."
     ]
    },
    {
     "name": "stdout",
     "output_type": "stream",
     "text": [
      "2018-10-26\n",
      "2018-10-29\n",
      "2018-10-29\n",
      "2018-10-30\n"
     ]
    },
    {
     "name": "stderr",
     "output_type": "stream",
     "text": [
      " ... (more hidden) ..."
     ]
    },
    {
     "name": "stdout",
     "output_type": "stream",
     "text": [
      "2018-10-30\n",
      "2018-10-31\n",
      "2018-10-31\n",
      "2018-11-01\n"
     ]
    },
    {
     "name": "stderr",
     "output_type": "stream",
     "text": [
      " ... (more hidden) ..."
     ]
    },
    {
     "name": "stdout",
     "output_type": "stream",
     "text": [
      "2018-11-01\n",
      "2018-11-02\n",
      "2018-11-02\n",
      "2018-11-05\n"
     ]
    },
    {
     "name": "stderr",
     "output_type": "stream",
     "text": [
      " ... (more hidden) ..."
     ]
    },
    {
     "name": "stdout",
     "output_type": "stream",
     "text": [
      "2018-11-05\n",
      "2018-11-06\n",
      "2018-11-06\n",
      "2018-11-07\n"
     ]
    },
    {
     "name": "stderr",
     "output_type": "stream",
     "text": [
      " ... (more hidden) ..."
     ]
    },
    {
     "name": "stdout",
     "output_type": "stream",
     "text": [
      "2018-11-07\n",
      "2018-11-08\n",
      "2018-11-08\n",
      "2018-11-09\n"
     ]
    },
    {
     "name": "stderr",
     "output_type": "stream",
     "text": [
      " ... (more hidden) ..."
     ]
    },
    {
     "name": "stdout",
     "output_type": "stream",
     "text": [
      "2018-11-09\n",
      "2018-11-12\n",
      "2018-11-12\n",
      "2018-11-13\n"
     ]
    },
    {
     "name": "stderr",
     "output_type": "stream",
     "text": [
      " ... (more hidden) ..."
     ]
    },
    {
     "name": "stdout",
     "output_type": "stream",
     "text": [
      "2018-11-13\n",
      "2018-11-14\n",
      "2018-11-14\n",
      "2018-11-15\n",
      "2018-11-15\n",
      "2018-11-16\n"
     ]
    },
    {
     "name": "stderr",
     "output_type": "stream",
     "text": [
      " ... (more hidden) ..."
     ]
    },
    {
     "name": "stdout",
     "output_type": "stream",
     "text": [
      "2018-11-16\n",
      "2018-11-19\n",
      "2018-11-19\n",
      "2018-11-20\n",
      "2018-11-20\n",
      "2018-11-21\n"
     ]
    },
    {
     "name": "stderr",
     "output_type": "stream",
     "text": [
      " ... (more hidden) ..."
     ]
    },
    {
     "name": "stdout",
     "output_type": "stream",
     "text": [
      "2018-11-21\n",
      "2018-11-22\n",
      "2018-11-22\n",
      "2018-11-23\n"
     ]
    },
    {
     "name": "stderr",
     "output_type": "stream",
     "text": [
      " ... (more hidden) ..."
     ]
    },
    {
     "name": "stdout",
     "output_type": "stream",
     "text": [
      "2018-11-23\n",
      "2018-11-26\n",
      "2018-11-26\n",
      "2018-11-27\n",
      "2018-11-27\n",
      "2018-11-28\n"
     ]
    },
    {
     "name": "stderr",
     "output_type": "stream",
     "text": [
      " ... (more hidden) ..."
     ]
    },
    {
     "name": "stdout",
     "output_type": "stream",
     "text": [
      "2018-11-28\n",
      "2018-11-29\n",
      "2018-11-29\n",
      "2018-11-30\n"
     ]
    },
    {
     "name": "stderr",
     "output_type": "stream",
     "text": [
      " ... (more hidden) ..."
     ]
    },
    {
     "name": "stdout",
     "output_type": "stream",
     "text": [
      "2018-11-30\n",
      "2018-12-03\n",
      "2018-12-03\n",
      "2018-12-04\n"
     ]
    },
    {
     "name": "stderr",
     "output_type": "stream",
     "text": [
      " ... (more hidden) ..."
     ]
    },
    {
     "name": "stdout",
     "output_type": "stream",
     "text": [
      "2018-12-04\n",
      "2018-12-05\n",
      "2018-12-05\n",
      "2018-12-06\n",
      "2018-12-06\n",
      "2018-12-07\n"
     ]
    },
    {
     "name": "stderr",
     "output_type": "stream",
     "text": [
      " ... (more hidden) ..."
     ]
    },
    {
     "name": "stdout",
     "output_type": "stream",
     "text": [
      "2018-12-07\n",
      "2018-12-10\n",
      "2018-12-10\n",
      "2018-12-11\n"
     ]
    },
    {
     "name": "stderr",
     "output_type": "stream",
     "text": [
      " ... (more hidden) ..."
     ]
    },
    {
     "name": "stdout",
     "output_type": "stream",
     "text": [
      "2018-12-11\n",
      "2018-12-12\n",
      "2018-12-12\n",
      "2018-12-13\n"
     ]
    },
    {
     "name": "stderr",
     "output_type": "stream",
     "text": [
      "\r",
      " ... (more hidden) ..."
     ]
    },
    {
     "name": "stdout",
     "output_type": "stream",
     "text": [
      "2018-12-13\n",
      "2018-12-14\n",
      "2018-12-14\n",
      "2018-12-17\n"
     ]
    },
    {
     "name": "stderr",
     "output_type": "stream",
     "text": [
      " ... (more hidden) ..."
     ]
    },
    {
     "name": "stdout",
     "output_type": "stream",
     "text": [
      "2018-12-17\n",
      "2018-12-18\n",
      "2018-12-18\n",
      "2018-12-19\n"
     ]
    },
    {
     "name": "stderr",
     "output_type": "stream",
     "text": [
      " ... (more hidden) ..."
     ]
    },
    {
     "name": "stdout",
     "output_type": "stream",
     "text": [
      "2018-12-19\n",
      "2018-12-20\n",
      "2018-12-20\n",
      "2018-12-21\n"
     ]
    },
    {
     "name": "stderr",
     "output_type": "stream",
     "text": [
      " ... (more hidden) ..."
     ]
    },
    {
     "name": "stdout",
     "output_type": "stream",
     "text": [
      "2018-12-21\n",
      "2018-12-24\n",
      "2018-12-24\n",
      "2018-12-26\n"
     ]
    },
    {
     "name": "stderr",
     "output_type": "stream",
     "text": [
      "\r",
      " ... (more hidden) ..."
     ]
    },
    {
     "name": "stdout",
     "output_type": "stream",
     "text": [
      "2018-12-26\n",
      "2018-12-27\n",
      "2018-12-27\n",
      "2018-12-28\n"
     ]
    },
    {
     "name": "stderr",
     "output_type": "stream",
     "text": [
      " ... (more hidden) ..."
     ]
    },
    {
     "name": "stdout",
     "output_type": "stream",
     "text": [
      "2018-12-28\n",
      "2019-01-02\n",
      "2019-01-02\n",
      "2019-01-03\n"
     ]
    },
    {
     "name": "stderr",
     "output_type": "stream",
     "text": [
      " ... (more hidden) ..."
     ]
    },
    {
     "name": "stdout",
     "output_type": "stream",
     "text": [
      "2019-01-03\n",
      "2019-01-04\n",
      "2019-01-04\n",
      "2019-01-07\n"
     ]
    },
    {
     "name": "stderr",
     "output_type": "stream",
     "text": [
      " ... (more hidden) ..."
     ]
    },
    {
     "name": "stdout",
     "output_type": "stream",
     "text": [
      "2019-01-07\n",
      "2019-01-08\n",
      "2019-01-08\n",
      "2019-01-09\n"
     ]
    },
    {
     "name": "stderr",
     "output_type": "stream",
     "text": [
      " ... (more hidden) ..."
     ]
    },
    {
     "name": "stdout",
     "output_type": "stream",
     "text": [
      "2019-01-09\n",
      "2019-01-10\n",
      "2019-01-10\n",
      "2019-01-11\n"
     ]
    },
    {
     "name": "stderr",
     "output_type": "stream",
     "text": [
      " ... (more hidden) ..."
     ]
    },
    {
     "name": "stdout",
     "output_type": "stream",
     "text": [
      "2019-01-11\n",
      "2019-01-14\n",
      "2019-01-14\n",
      "2019-01-15\n"
     ]
    },
    {
     "name": "stderr",
     "output_type": "stream",
     "text": [
      "\r",
      " ... (more hidden) ..."
     ]
    },
    {
     "name": "stdout",
     "output_type": "stream",
     "text": [
      "2019-01-15\n",
      "2019-01-16\n",
      "2019-01-16\n",
      "2019-01-17\n"
     ]
    },
    {
     "name": "stderr",
     "output_type": "stream",
     "text": [
      " ... (more hidden) ..."
     ]
    },
    {
     "name": "stdout",
     "output_type": "stream",
     "text": [
      "2019-01-17\n",
      "2019-01-18\n",
      "2019-01-18\n",
      "2019-01-21\n"
     ]
    },
    {
     "name": "stderr",
     "output_type": "stream",
     "text": [
      "\r",
      " ... (more hidden) ..."
     ]
    },
    {
     "name": "stdout",
     "output_type": "stream",
     "text": [
      "2019-01-21\n",
      "2019-01-22\n",
      "2019-01-22\n",
      "2019-01-23\n"
     ]
    },
    {
     "name": "stderr",
     "output_type": "stream",
     "text": [
      " ... (more hidden) ..."
     ]
    },
    {
     "name": "stdout",
     "output_type": "stream",
     "text": [
      "2019-01-23\n",
      "2019-01-24\n",
      "2019-01-24\n",
      "2019-01-25\n"
     ]
    },
    {
     "name": "stderr",
     "output_type": "stream",
     "text": [
      " ... (more hidden) ..."
     ]
    },
    {
     "name": "stdout",
     "output_type": "stream",
     "text": [
      "2019-01-25\n",
      "2019-01-28\n",
      "2019-01-28\n",
      "2019-01-29\n"
     ]
    },
    {
     "name": "stderr",
     "output_type": "stream",
     "text": [
      " ... (more hidden) ..."
     ]
    },
    {
     "name": "stdout",
     "output_type": "stream",
     "text": [
      "2019-01-29\n",
      "2019-01-30\n",
      "2019-01-30\n",
      "2019-01-31\n"
     ]
    },
    {
     "name": "stderr",
     "output_type": "stream",
     "text": [
      " ... (more hidden) ..."
     ]
    },
    {
     "name": "stdout",
     "output_type": "stream",
     "text": [
      "2019-01-31\n",
      "2019-02-01\n",
      "2019-02-01\n",
      "2019-02-07\n"
     ]
    },
    {
     "name": "stderr",
     "output_type": "stream",
     "text": [
      " ... (more hidden) ..."
     ]
    },
    {
     "name": "stdout",
     "output_type": "stream",
     "text": [
      "2019-02-07\n",
      "2019-02-08\n",
      "2019-02-08\n",
      "2019-02-11\n"
     ]
    },
    {
     "name": "stderr",
     "output_type": "stream",
     "text": [
      " ... (more hidden) ..."
     ]
    },
    {
     "name": "stdout",
     "output_type": "stream",
     "text": [
      "2019-02-11\n",
      "2019-02-12\n",
      "2019-02-12\n",
      "2019-02-13\n"
     ]
    },
    {
     "name": "stderr",
     "output_type": "stream",
     "text": [
      " ... (more hidden) ..."
     ]
    },
    {
     "name": "stdout",
     "output_type": "stream",
     "text": [
      "2019-02-13\n",
      "2019-02-14\n",
      "2019-02-14\n",
      "2019-02-15\n"
     ]
    },
    {
     "name": "stderr",
     "output_type": "stream",
     "text": [
      " ... (more hidden) ..."
     ]
    },
    {
     "name": "stdout",
     "output_type": "stream",
     "text": [
      "2019-02-15\n",
      "2019-02-18\n",
      "2019-02-18\n",
      "2019-02-19\n"
     ]
    },
    {
     "name": "stderr",
     "output_type": "stream",
     "text": [
      " ... (more hidden) ..."
     ]
    },
    {
     "name": "stdout",
     "output_type": "stream",
     "text": [
      "2019-02-19\n",
      "2019-02-20\n",
      "2019-02-20\n",
      "2019-02-21\n"
     ]
    },
    {
     "name": "stderr",
     "output_type": "stream",
     "text": [
      " ... (more hidden) ..."
     ]
    },
    {
     "name": "stdout",
     "output_type": "stream",
     "text": [
      "2019-02-21\n",
      "2019-02-22\n",
      "2019-02-22\n",
      "2019-02-25\n"
     ]
    },
    {
     "name": "stderr",
     "output_type": "stream",
     "text": [
      " ... (more hidden) ..."
     ]
    },
    {
     "name": "stdout",
     "output_type": "stream",
     "text": [
      "2019-02-25\n",
      "2019-02-26\n",
      "2019-02-26\n",
      "2019-02-27\n",
      "2019-02-27\n",
      "2019-02-28\n"
     ]
    },
    {
     "name": "stderr",
     "output_type": "stream",
     "text": [
      " ... (more hidden) ..."
     ]
    },
    {
     "name": "stdout",
     "output_type": "stream",
     "text": [
      "2019-02-28\n",
      "2019-03-04\n",
      "2019-03-04\n",
      "2019-03-05\n",
      "2019-03-05\n",
      "2019-03-06\n"
     ]
    },
    {
     "name": "stderr",
     "output_type": "stream",
     "text": [
      " ... (more hidden) ..."
     ]
    },
    {
     "name": "stdout",
     "output_type": "stream",
     "text": [
      "2019-03-06\n",
      "2019-03-07\n",
      "2019-03-07\n",
      "2019-03-08\n"
     ]
    },
    {
     "name": "stderr",
     "output_type": "stream",
     "text": [
      " ... (more hidden) ..."
     ]
    },
    {
     "name": "stdout",
     "output_type": "stream",
     "text": [
      "2019-03-08\n",
      "2019-03-11\n",
      "2019-03-11\n",
      "2019-03-12\n"
     ]
    },
    {
     "name": "stderr",
     "output_type": "stream",
     "text": [
      " ... (more hidden) ..."
     ]
    },
    {
     "name": "stdout",
     "output_type": "stream",
     "text": [
      "2019-03-12\n",
      "2019-03-13\n",
      "2019-03-13\n",
      "2019-03-14\n"
     ]
    },
    {
     "name": "stderr",
     "output_type": "stream",
     "text": [
      " ... (more hidden) ..."
     ]
    },
    {
     "name": "stdout",
     "output_type": "stream",
     "text": [
      "2019-03-14\n",
      "2019-03-15\n",
      "2019-03-15\n",
      "2019-03-18\n"
     ]
    },
    {
     "name": "stderr",
     "output_type": "stream",
     "text": [
      "\r",
      " ... (more hidden) ..."
     ]
    },
    {
     "name": "stdout",
     "output_type": "stream",
     "text": [
      "2019-03-18\n",
      "2019-03-19\n",
      "2019-03-19\n",
      "2019-03-20\n"
     ]
    },
    {
     "name": "stderr",
     "output_type": "stream",
     "text": [
      " ... (more hidden) ..."
     ]
    },
    {
     "name": "stdout",
     "output_type": "stream",
     "text": [
      "2019-03-20\n",
      "2019-03-21\n",
      "2019-03-21\n",
      "2019-03-22\n",
      "2019-03-22\n",
      "2019-03-25\n"
     ]
    },
    {
     "name": "stderr",
     "output_type": "stream",
     "text": [
      " ... (more hidden) ..."
     ]
    },
    {
     "name": "stdout",
     "output_type": "stream",
     "text": [
      "2019-03-25\n",
      "2019-03-26\n",
      "2019-03-26\n",
      "2019-03-27\n"
     ]
    },
    {
     "name": "stderr",
     "output_type": "stream",
     "text": [
      "\r",
      " ... (more hidden) ..."
     ]
    },
    {
     "name": "stdout",
     "output_type": "stream",
     "text": [
      "2019-03-27\n",
      "2019-03-28\n",
      "2019-03-28\n",
      "2019-03-29\n"
     ]
    },
    {
     "name": "stderr",
     "output_type": "stream",
     "text": [
      " ... (more hidden) ..."
     ]
    },
    {
     "name": "stdout",
     "output_type": "stream",
     "text": [
      "2019-03-29\n",
      "2019-04-01\n",
      "2019-04-01\n",
      "2019-04-02\n"
     ]
    },
    {
     "name": "stderr",
     "output_type": "stream",
     "text": [
      "\r",
      " ... (more hidden) ..."
     ]
    },
    {
     "name": "stdout",
     "output_type": "stream",
     "text": [
      "2019-04-02\n",
      "2019-04-03\n",
      "2019-04-03\n",
      "2019-04-04\n"
     ]
    },
    {
     "name": "stderr",
     "output_type": "stream",
     "text": [
      " ... (more hidden) ..."
     ]
    },
    {
     "name": "stdout",
     "output_type": "stream",
     "text": [
      "2019-04-04\n",
      "2019-04-05\n",
      "2019-04-05\n",
      "2019-04-08\n"
     ]
    },
    {
     "name": "stderr",
     "output_type": "stream",
     "text": [
      " ... (more hidden) ..."
     ]
    },
    {
     "name": "stdout",
     "output_type": "stream",
     "text": [
      "2019-04-08\n",
      "2019-04-09\n",
      "2019-04-09\n",
      "2019-04-10\n"
     ]
    },
    {
     "name": "stderr",
     "output_type": "stream",
     "text": [
      " ... (more hidden) ..."
     ]
    },
    {
     "name": "stdout",
     "output_type": "stream",
     "text": [
      "2019-04-10\n",
      "2019-04-11\n",
      "2019-04-11\n",
      "2019-04-12\n"
     ]
    },
    {
     "name": "stderr",
     "output_type": "stream",
     "text": [
      " ... (more hidden) ..."
     ]
    },
    {
     "name": "stdout",
     "output_type": "stream",
     "text": [
      "2019-04-12\n",
      "2019-04-15\n",
      "2019-04-15\n",
      "2019-04-16\n"
     ]
    },
    {
     "name": "stderr",
     "output_type": "stream",
     "text": [
      " ... (more hidden) ..."
     ]
    },
    {
     "name": "stdout",
     "output_type": "stream",
     "text": [
      "2019-04-16\n",
      "2019-04-17\n",
      "2019-04-17\n",
      "2019-04-18\n"
     ]
    },
    {
     "name": "stderr",
     "output_type": "stream",
     "text": [
      "\r",
      " ... (more hidden) ..."
     ]
    },
    {
     "name": "stdout",
     "output_type": "stream",
     "text": [
      "2019-04-18\n",
      "2019-04-19\n",
      "2019-04-19\n",
      "2019-04-22\n"
     ]
    },
    {
     "name": "stderr",
     "output_type": "stream",
     "text": [
      " ... (more hidden) ..."
     ]
    },
    {
     "name": "stdout",
     "output_type": "stream",
     "text": [
      "2019-04-22\n",
      "2019-04-23\n",
      "2019-04-23\n",
      "2019-04-24\n"
     ]
    },
    {
     "name": "stderr",
     "output_type": "stream",
     "text": [
      " ... (more hidden) ..."
     ]
    },
    {
     "name": "stdout",
     "output_type": "stream",
     "text": [
      "2019-04-24\n",
      "2019-04-25\n",
      "2019-04-25\n",
      "2019-04-26\n"
     ]
    },
    {
     "name": "stderr",
     "output_type": "stream",
     "text": [
      " ... (more hidden) ..."
     ]
    },
    {
     "name": "stdout",
     "output_type": "stream",
     "text": [
      "2019-04-26\n",
      "2019-04-29\n",
      "2019-04-29\n",
      "2019-04-30\n"
     ]
    },
    {
     "name": "stderr",
     "output_type": "stream",
     "text": [
      " ... (more hidden) ..."
     ]
    },
    {
     "name": "stdout",
     "output_type": "stream",
     "text": [
      "2019-04-30\n",
      "2019-05-02\n",
      "2019-05-02\n",
      "2019-05-03\n"
     ]
    },
    {
     "name": "stderr",
     "output_type": "stream",
     "text": [
      "\r",
      " ... (more hidden) ..."
     ]
    },
    {
     "name": "stdout",
     "output_type": "stream",
     "text": [
      "2019-05-03\n",
      "2019-05-07\n",
      "2019-05-07\n",
      "2019-05-08\n"
     ]
    },
    {
     "name": "stderr",
     "output_type": "stream",
     "text": [
      " ... (more hidden) ..."
     ]
    },
    {
     "name": "stdout",
     "output_type": "stream",
     "text": [
      "2019-05-08\n",
      "2019-05-09\n",
      "2019-05-09\n",
      "2019-05-10\n"
     ]
    },
    {
     "name": "stderr",
     "output_type": "stream",
     "text": [
      " ... (more hidden) ..."
     ]
    },
    {
     "name": "stdout",
     "output_type": "stream",
     "text": [
      "2019-05-10\n",
      "2019-05-13\n",
      "2019-05-13\n",
      "2019-05-14\n"
     ]
    },
    {
     "name": "stderr",
     "output_type": "stream",
     "text": [
      " ... (more hidden) ..."
     ]
    },
    {
     "name": "stdout",
     "output_type": "stream",
     "text": [
      "2019-05-14\n",
      "2019-05-15\n",
      "2019-05-15\n",
      "2019-05-16\n",
      "2019-05-16\n",
      "2019-05-17\n"
     ]
    },
    {
     "name": "stderr",
     "output_type": "stream",
     "text": [
      " ... (more hidden) ..."
     ]
    },
    {
     "name": "stdout",
     "output_type": "stream",
     "text": [
      "2019-05-17\n",
      "2019-05-20\n",
      "2019-05-20\n",
      "2019-05-21\n"
     ]
    },
    {
     "name": "stderr",
     "output_type": "stream",
     "text": [
      " ... (more hidden) ..."
     ]
    },
    {
     "name": "stdout",
     "output_type": "stream",
     "text": [
      "2019-05-21\n",
      "2019-05-22\n",
      "2019-05-22\n",
      "2019-05-23\n"
     ]
    },
    {
     "name": "stderr",
     "output_type": "stream",
     "text": [
      " ... (more hidden) ..."
     ]
    },
    {
     "name": "stdout",
     "output_type": "stream",
     "text": [
      "2019-05-23\n",
      "2019-05-24\n",
      "2019-05-24\n",
      "2019-05-27\n"
     ]
    },
    {
     "name": "stderr",
     "output_type": "stream",
     "text": [
      " ... (more hidden) ..."
     ]
    },
    {
     "name": "stdout",
     "output_type": "stream",
     "text": [
      "2019-05-27\n",
      "2019-05-28\n",
      "2019-05-28\n",
      "2019-05-29\n"
     ]
    },
    {
     "name": "stderr",
     "output_type": "stream",
     "text": [
      " ... (more hidden) ..."
     ]
    },
    {
     "name": "stdout",
     "output_type": "stream",
     "text": [
      "2019-05-29\n",
      "2019-05-30\n",
      "2019-05-30\n",
      "2019-05-31\n"
     ]
    },
    {
     "name": "stderr",
     "output_type": "stream",
     "text": [
      "\r",
      " ... (more hidden) ..."
     ]
    },
    {
     "name": "stdout",
     "output_type": "stream",
     "text": [
      "2019-05-31\n",
      "2019-06-03\n",
      "2019-06-03\n",
      "2019-06-04\n"
     ]
    },
    {
     "name": "stderr",
     "output_type": "stream",
     "text": [
      " ... (more hidden) ..."
     ]
    },
    {
     "name": "stdout",
     "output_type": "stream",
     "text": [
      "2019-06-04\n",
      "2019-06-05\n",
      "2019-06-05\n",
      "2019-06-07\n"
     ]
    },
    {
     "name": "stderr",
     "output_type": "stream",
     "text": [
      " ... (more hidden) ..."
     ]
    },
    {
     "name": "stdout",
     "output_type": "stream",
     "text": [
      "2019-06-07\n",
      "2019-06-10\n",
      "2019-06-10\n",
      "2019-06-11\n"
     ]
    },
    {
     "name": "stderr",
     "output_type": "stream",
     "text": [
      " ... (more hidden) ..."
     ]
    },
    {
     "name": "stdout",
     "output_type": "stream",
     "text": [
      "2019-06-11\n",
      "2019-06-12\n",
      "2019-06-12\n",
      "2019-06-13\n"
     ]
    },
    {
     "name": "stderr",
     "output_type": "stream",
     "text": [
      " ... (more hidden) ..."
     ]
    },
    {
     "name": "stdout",
     "output_type": "stream",
     "text": [
      "2019-06-13\n",
      "2019-06-14\n",
      "2019-06-14\n",
      "2019-06-17\n"
     ]
    },
    {
     "name": "stderr",
     "output_type": "stream",
     "text": [
      "\r",
      " ... (more hidden) ..."
     ]
    },
    {
     "name": "stdout",
     "output_type": "stream",
     "text": [
      "2019-06-17\n",
      "2019-06-18\n",
      "2019-06-18\n",
      "2019-06-19\n"
     ]
    },
    {
     "name": "stderr",
     "output_type": "stream",
     "text": [
      " ... (more hidden) ..."
     ]
    },
    {
     "name": "stdout",
     "output_type": "stream",
     "text": [
      "2019-06-19\n",
      "2019-06-20\n",
      "2019-06-20\n",
      "2019-06-21\n"
     ]
    },
    {
     "name": "stderr",
     "output_type": "stream",
     "text": [
      "\r",
      " ... (more hidden) ..."
     ]
    },
    {
     "name": "stdout",
     "output_type": "stream",
     "text": [
      "2019-06-21\n",
      "2019-06-24\n",
      "2019-06-24\n",
      "2019-06-25\n"
     ]
    },
    {
     "name": "stderr",
     "output_type": "stream",
     "text": [
      " ... (more hidden) ..."
     ]
    },
    {
     "name": "stdout",
     "output_type": "stream",
     "text": [
      "2019-06-25\n",
      "2019-06-26\n",
      "2019-06-26\n",
      "2019-06-27\n",
      "2019-06-27\n",
      "2019-06-28\n"
     ]
    },
    {
     "name": "stderr",
     "output_type": "stream",
     "text": [
      " ... (more hidden) ..."
     ]
    },
    {
     "name": "stdout",
     "output_type": "stream",
     "text": [
      "2019-06-28\n",
      "2019-07-01\n",
      "2019-07-01\n",
      "2019-07-02\n"
     ]
    },
    {
     "name": "stderr",
     "output_type": "stream",
     "text": [
      "\r",
      " ... (more hidden) ..."
     ]
    },
    {
     "name": "stdout",
     "output_type": "stream",
     "text": [
      "2019-07-02\n",
      "2019-07-03\n",
      "2019-07-03\n",
      "2019-07-04\n"
     ]
    },
    {
     "name": "stderr",
     "output_type": "stream",
     "text": [
      " ... (more hidden) ..."
     ]
    },
    {
     "name": "stdout",
     "output_type": "stream",
     "text": [
      "2019-07-04\n",
      "2019-07-05\n",
      "2019-07-05\n",
      "2019-07-08\n"
     ]
    },
    {
     "name": "stderr",
     "output_type": "stream",
     "text": [
      " ... (more hidden) ..."
     ]
    },
    {
     "name": "stdout",
     "output_type": "stream",
     "text": [
      "2019-07-08\n",
      "2019-07-09\n",
      "2019-07-09\n",
      "2019-07-10\n"
     ]
    },
    {
     "name": "stderr",
     "output_type": "stream",
     "text": [
      " ... (more hidden) ..."
     ]
    },
    {
     "name": "stdout",
     "output_type": "stream",
     "text": [
      "2019-07-10\n",
      "2019-07-11\n",
      "2019-07-11\n",
      "2019-07-12\n"
     ]
    },
    {
     "name": "stderr",
     "output_type": "stream",
     "text": [
      " ... (more hidden) ..."
     ]
    },
    {
     "name": "stdout",
     "output_type": "stream",
     "text": [
      "2019-07-12\n",
      "2019-07-15\n",
      "2019-07-15\n",
      "2019-07-16\n"
     ]
    },
    {
     "name": "stderr",
     "output_type": "stream",
     "text": [
      " ... (more hidden) ..."
     ]
    },
    {
     "name": "stdout",
     "output_type": "stream",
     "text": [
      "2019-07-16\n",
      "2019-07-17\n",
      "2019-07-17\n",
      "2019-07-18\n"
     ]
    },
    {
     "name": "stderr",
     "output_type": "stream",
     "text": [
      " ... (more hidden) ..."
     ]
    },
    {
     "name": "stdout",
     "output_type": "stream",
     "text": [
      "2019-07-18\n",
      "2019-07-19\n",
      "2019-07-19\n",
      "2019-07-22\n"
     ]
    },
    {
     "name": "stderr",
     "output_type": "stream",
     "text": [
      "\r",
      " ... (more hidden) ..."
     ]
    },
    {
     "name": "stdout",
     "output_type": "stream",
     "text": [
      "2019-07-22\n",
      "2019-07-23\n",
      "2019-07-23\n",
      "2019-07-24\n"
     ]
    },
    {
     "name": "stderr",
     "output_type": "stream",
     "text": [
      " ... (more hidden) ..."
     ]
    },
    {
     "name": "stdout",
     "output_type": "stream",
     "text": [
      "2019-07-24\n",
      "2019-07-25\n",
      "2019-07-25\n",
      "2019-07-26\n",
      "2019-07-26\n",
      "2019-07-29\n"
     ]
    },
    {
     "name": "stderr",
     "output_type": "stream",
     "text": [
      " ... (more hidden) ..."
     ]
    },
    {
     "name": "stdout",
     "output_type": "stream",
     "text": [
      "2019-07-29\n",
      "2019-07-30\n",
      "2019-07-30\n",
      "2019-07-31\n"
     ]
    },
    {
     "name": "stderr",
     "output_type": "stream",
     "text": [
      " ... (more hidden) ..."
     ]
    },
    {
     "name": "stdout",
     "output_type": "stream",
     "text": [
      "2019-07-31\n",
      "2019-08-01\n",
      "2019-08-01\n",
      "2019-08-02\n"
     ]
    },
    {
     "name": "stderr",
     "output_type": "stream",
     "text": [
      " ... (more hidden) ..."
     ]
    },
    {
     "name": "stdout",
     "output_type": "stream",
     "text": [
      "2019-08-02\n",
      "2019-08-05\n",
      "2019-08-05\n",
      "2019-08-06\n"
     ]
    },
    {
     "name": "stderr",
     "output_type": "stream",
     "text": [
      " ... (more hidden) ..."
     ]
    },
    {
     "name": "stdout",
     "output_type": "stream",
     "text": [
      "2019-08-06\n",
      "2019-08-07\n",
      "2019-08-07\n",
      "2019-08-08\n"
     ]
    },
    {
     "name": "stderr",
     "output_type": "stream",
     "text": [
      " ... (more hidden) ..."
     ]
    },
    {
     "name": "stdout",
     "output_type": "stream",
     "text": [
      "2019-08-08\n",
      "2019-08-09\n",
      "2019-08-09\n",
      "2019-08-12\n"
     ]
    },
    {
     "name": "stderr",
     "output_type": "stream",
     "text": [
      " ... (more hidden) ..."
     ]
    },
    {
     "name": "stdout",
     "output_type": "stream",
     "text": [
      "2019-08-12\n",
      "2019-08-13\n",
      "2019-08-13\n",
      "2019-08-14\n"
     ]
    },
    {
     "name": "stderr",
     "output_type": "stream",
     "text": [
      "\r",
      " ... (more hidden) ..."
     ]
    },
    {
     "name": "stdout",
     "output_type": "stream",
     "text": [
      "2019-08-14\n",
      "2019-08-16\n",
      "2019-08-16\n",
      "2019-08-19\n"
     ]
    },
    {
     "name": "stderr",
     "output_type": "stream",
     "text": [
      " ... (more hidden) ..."
     ]
    },
    {
     "name": "stdout",
     "output_type": "stream",
     "text": [
      "2019-08-19\n",
      "2019-08-20\n",
      "2019-08-20\n",
      "2019-08-21\n"
     ]
    },
    {
     "name": "stderr",
     "output_type": "stream",
     "text": [
      " ... (more hidden) ..."
     ]
    },
    {
     "name": "stdout",
     "output_type": "stream",
     "text": [
      "2019-08-21\n",
      "2019-08-22\n",
      "2019-08-22\n",
      "2019-08-23\n"
     ]
    },
    {
     "name": "stderr",
     "output_type": "stream",
     "text": [
      " ... (more hidden) ..."
     ]
    },
    {
     "name": "stdout",
     "output_type": "stream",
     "text": [
      "2019-08-23\n",
      "2019-08-26\n",
      "2019-08-26\n",
      "2019-08-27\n"
     ]
    },
    {
     "name": "stderr",
     "output_type": "stream",
     "text": [
      " ... (more hidden) ..."
     ]
    },
    {
     "name": "stdout",
     "output_type": "stream",
     "text": [
      "2019-08-27\n",
      "2019-08-28\n",
      "2019-08-28\n",
      "2019-08-29\n",
      "2019-08-29\n",
      "2019-08-30\n"
     ]
    },
    {
     "name": "stderr",
     "output_type": "stream",
     "text": [
      " ... (more hidden) ..."
     ]
    },
    {
     "name": "stdout",
     "output_type": "stream",
     "text": [
      "2019-08-30\n",
      "2019-09-02\n",
      "2019-09-02\n",
      "2019-09-03\n"
     ]
    },
    {
     "name": "stderr",
     "output_type": "stream",
     "text": [
      "\r",
      " ... (more hidden) ..."
     ]
    },
    {
     "name": "stdout",
     "output_type": "stream",
     "text": [
      "2019-09-03\n",
      "2019-09-04\n",
      "2019-09-04\n",
      "2019-09-05\n"
     ]
    },
    {
     "name": "stderr",
     "output_type": "stream",
     "text": [
      " ... (more hidden) ..."
     ]
    },
    {
     "name": "stdout",
     "output_type": "stream",
     "text": [
      "2019-09-05\n",
      "2019-09-06\n",
      "2019-09-06\n",
      "2019-09-09\n"
     ]
    },
    {
     "name": "stderr",
     "output_type": "stream",
     "text": [
      "\r",
      " ... (more hidden) ..."
     ]
    },
    {
     "name": "stdout",
     "output_type": "stream",
     "text": [
      "2019-09-09\n",
      "2019-09-10\n",
      "2019-09-10\n",
      "2019-09-11\n"
     ]
    },
    {
     "name": "stderr",
     "output_type": "stream",
     "text": [
      " ... (more hidden) ..."
     ]
    },
    {
     "name": "stdout",
     "output_type": "stream",
     "text": [
      "2019-09-11\n",
      "2019-09-16\n",
      "2019-09-16\n",
      "2019-09-17\n"
     ]
    },
    {
     "name": "stderr",
     "output_type": "stream",
     "text": [
      " ... (more hidden) ..."
     ]
    },
    {
     "name": "stdout",
     "output_type": "stream",
     "text": [
      "2019-09-17\n",
      "2019-09-18\n",
      "2019-09-18\n",
      "2019-09-19\n"
     ]
    },
    {
     "name": "stderr",
     "output_type": "stream",
     "text": [
      "\r",
      " ... (more hidden) ..."
     ]
    },
    {
     "name": "stdout",
     "output_type": "stream",
     "text": [
      "2019-09-19\n",
      "2019-09-20\n",
      "2019-09-20\n",
      "2019-09-23\n"
     ]
    },
    {
     "name": "stderr",
     "output_type": "stream",
     "text": [
      " ... (more hidden) ..."
     ]
    },
    {
     "name": "stdout",
     "output_type": "stream",
     "text": [
      "2019-09-23\n",
      "2019-09-24\n",
      "2019-09-24\n",
      "2019-09-25\n"
     ]
    },
    {
     "name": "stderr",
     "output_type": "stream",
     "text": [
      " ... (more hidden) ..."
     ]
    },
    {
     "name": "stdout",
     "output_type": "stream",
     "text": [
      "2019-09-25\n",
      "2019-09-26\n",
      "2019-09-26\n",
      "2019-09-27\n"
     ]
    },
    {
     "name": "stderr",
     "output_type": "stream",
     "text": [
      " ... (more hidden) ..."
     ]
    },
    {
     "name": "stdout",
     "output_type": "stream",
     "text": [
      "2019-09-27\n",
      "2019-09-30\n",
      "2019-09-30\n",
      "2019-10-01\n"
     ]
    },
    {
     "name": "stderr",
     "output_type": "stream",
     "text": [
      " ... (more hidden) ..."
     ]
    },
    {
     "name": "stdout",
     "output_type": "stream",
     "text": [
      "2019-10-01\n",
      "2019-10-02\n",
      "2019-10-02\n",
      "2019-10-04\n"
     ]
    },
    {
     "name": "stderr",
     "output_type": "stream",
     "text": [
      " ... (more hidden) ..."
     ]
    },
    {
     "name": "stdout",
     "output_type": "stream",
     "text": [
      "2019-10-04\n",
      "2019-10-07\n",
      "2019-10-07\n",
      "2019-10-08\n",
      "2019-10-08\n",
      "2019-10-10\n"
     ]
    },
    {
     "name": "stderr",
     "output_type": "stream",
     "text": [
      " ... (more hidden) ..."
     ]
    },
    {
     "name": "stdout",
     "output_type": "stream",
     "text": [
      "2019-10-10\n",
      "2019-10-11\n",
      "2019-10-11\n",
      "2019-10-14\n"
     ]
    },
    {
     "name": "stderr",
     "output_type": "stream",
     "text": [
      " ... (more hidden) ..."
     ]
    },
    {
     "name": "stdout",
     "output_type": "stream",
     "text": [
      "2019-10-14\n",
      "2019-10-15\n",
      "2019-10-15\n",
      "2019-10-16\n"
     ]
    },
    {
     "name": "stderr",
     "output_type": "stream",
     "text": [
      "\r",
      " ... (more hidden) ..."
     ]
    },
    {
     "name": "stdout",
     "output_type": "stream",
     "text": [
      "2019-10-16\n",
      "2019-10-17\n",
      "2019-10-17\n",
      "2019-10-18\n"
     ]
    },
    {
     "name": "stderr",
     "output_type": "stream",
     "text": [
      " ... (more hidden) ..."
     ]
    },
    {
     "name": "stdout",
     "output_type": "stream",
     "text": [
      "2019-10-18\n",
      "2019-10-21\n",
      "2019-10-21\n",
      "2019-10-22\n"
     ]
    },
    {
     "name": "stderr",
     "output_type": "stream",
     "text": [
      "\r",
      " ... (more hidden) ..."
     ]
    },
    {
     "name": "stdout",
     "output_type": "stream",
     "text": [
      "2019-10-22\n",
      "2019-10-23\n",
      "2019-10-23\n",
      "2019-10-24\n"
     ]
    },
    {
     "name": "stderr",
     "output_type": "stream",
     "text": [
      " ... (more hidden) ..."
     ]
    },
    {
     "name": "stdout",
     "output_type": "stream",
     "text": [
      "2019-10-24\n",
      "2019-10-25\n",
      "2019-10-25\n",
      "2019-10-28\n"
     ]
    },
    {
     "name": "stderr",
     "output_type": "stream",
     "text": [
      " ... (more hidden) ..."
     ]
    },
    {
     "name": "stdout",
     "output_type": "stream",
     "text": [
      "2019-10-28\n",
      "2019-10-29\n",
      "2019-10-29\n",
      "2019-10-30\n"
     ]
    },
    {
     "name": "stderr",
     "output_type": "stream",
     "text": [
      " ... (more hidden) ..."
     ]
    },
    {
     "name": "stdout",
     "output_type": "stream",
     "text": [
      "2019-10-30\n",
      "2019-10-31\n",
      "2019-10-31\n",
      "2019-11-01\n"
     ]
    },
    {
     "name": "stderr",
     "output_type": "stream",
     "text": [
      " ... (more hidden) ..."
     ]
    },
    {
     "name": "stdout",
     "output_type": "stream",
     "text": [
      "2019-11-01\n",
      "2019-11-04\n",
      "2019-11-04\n",
      "2019-11-05\n"
     ]
    },
    {
     "name": "stderr",
     "output_type": "stream",
     "text": [
      "\r",
      " ... (more hidden) ..."
     ]
    },
    {
     "name": "stdout",
     "output_type": "stream",
     "text": [
      "2019-11-05\n",
      "2019-11-06\n",
      "2019-11-06\n",
      "2019-11-07\n"
     ]
    },
    {
     "name": "stderr",
     "output_type": "stream",
     "text": [
      " ... (more hidden) ..."
     ]
    },
    {
     "name": "stdout",
     "output_type": "stream",
     "text": [
      "2019-11-07\n",
      "2019-11-08\n",
      "2019-11-08\n",
      "2019-11-11\n"
     ]
    },
    {
     "name": "stderr",
     "output_type": "stream",
     "text": [
      " ... (more hidden) ..."
     ]
    },
    {
     "name": "stdout",
     "output_type": "stream",
     "text": [
      "2019-11-11\n",
      "2019-11-12\n",
      "2019-11-12\n",
      "2019-11-13\n"
     ]
    },
    {
     "name": "stderr",
     "output_type": "stream",
     "text": [
      " ... (more hidden) ..."
     ]
    },
    {
     "name": "stdout",
     "output_type": "stream",
     "text": [
      "2019-11-13\n",
      "2019-11-14\n",
      "2019-11-14\n",
      "2019-11-15\n"
     ]
    },
    {
     "name": "stderr",
     "output_type": "stream",
     "text": [
      " ... (more hidden) ..."
     ]
    },
    {
     "name": "stdout",
     "output_type": "stream",
     "text": [
      "2019-11-15\n",
      "2019-11-18\n",
      "2019-11-18\n",
      "2019-11-19\n"
     ]
    },
    {
     "name": "stderr",
     "output_type": "stream",
     "text": [
      " ... (more hidden) ..."
     ]
    },
    {
     "name": "stdout",
     "output_type": "stream",
     "text": [
      "2019-11-19\n",
      "2019-11-20\n",
      "2019-11-20\n",
      "2019-11-21\n"
     ]
    },
    {
     "name": "stderr",
     "output_type": "stream",
     "text": [
      " ... (more hidden) ..."
     ]
    },
    {
     "name": "stdout",
     "output_type": "stream",
     "text": [
      "2019-11-21\n",
      "2019-11-22\n",
      "2019-11-22\n",
      "2019-11-25\n",
      "2019-11-25\n",
      "2019-11-26\n"
     ]
    },
    {
     "name": "stderr",
     "output_type": "stream",
     "text": [
      " ... (more hidden) ..."
     ]
    },
    {
     "name": "stdout",
     "output_type": "stream",
     "text": [
      "2019-11-26\n",
      "2019-11-27\n",
      "2019-11-27\n",
      "2019-11-28\n"
     ]
    },
    {
     "name": "stderr",
     "output_type": "stream",
     "text": [
      " ... (more hidden) ..."
     ]
    },
    {
     "name": "stdout",
     "output_type": "stream",
     "text": [
      "2019-11-28\n",
      "2019-11-29\n",
      "2019-11-29\n",
      "2019-12-02\n"
     ]
    },
    {
     "name": "stderr",
     "output_type": "stream",
     "text": [
      " ... (more hidden) ..."
     ]
    },
    {
     "name": "stdout",
     "output_type": "stream",
     "text": [
      "2019-12-02\n",
      "2019-12-03\n",
      "2019-12-03\n",
      "2019-12-04\n"
     ]
    },
    {
     "name": "stderr",
     "output_type": "stream",
     "text": [
      " ... (more hidden) ..."
     ]
    },
    {
     "name": "stdout",
     "output_type": "stream",
     "text": [
      "2019-12-04\n",
      "2019-12-05\n",
      "2019-12-05\n",
      "2019-12-06\n"
     ]
    },
    {
     "name": "stderr",
     "output_type": "stream",
     "text": [
      " ... (more hidden) ..."
     ]
    },
    {
     "name": "stdout",
     "output_type": "stream",
     "text": [
      "2019-12-06\n",
      "2019-12-09\n",
      "2019-12-09\n",
      "2019-12-10\n"
     ]
    },
    {
     "name": "stderr",
     "output_type": "stream",
     "text": [
      "\r",
      " ... (more hidden) ..."
     ]
    },
    {
     "name": "stdout",
     "output_type": "stream",
     "text": [
      "2019-12-10\n",
      "2019-12-11\n",
      "2019-12-11\n",
      "2019-12-12\n"
     ]
    },
    {
     "name": "stderr",
     "output_type": "stream",
     "text": [
      " ... (more hidden) ..."
     ]
    },
    {
     "name": "stdout",
     "output_type": "stream",
     "text": [
      "2019-12-12\n",
      "2019-12-13\n",
      "2019-12-13\n",
      "2019-12-16\n"
     ]
    },
    {
     "name": "stderr",
     "output_type": "stream",
     "text": [
      "\r",
      " ... (more hidden) ..."
     ]
    },
    {
     "name": "stdout",
     "output_type": "stream",
     "text": [
      "2019-12-16\n",
      "2019-12-17\n",
      "2019-12-17\n",
      "2019-12-18\n"
     ]
    },
    {
     "name": "stderr",
     "output_type": "stream",
     "text": [
      " ... (more hidden) ..."
     ]
    },
    {
     "name": "stdout",
     "output_type": "stream",
     "text": [
      "2019-12-18\n",
      "2019-12-19\n",
      "2019-12-19\n",
      "2019-12-20\n"
     ]
    },
    {
     "name": "stderr",
     "output_type": "stream",
     "text": [
      " ... (more hidden) ..."
     ]
    },
    {
     "name": "stdout",
     "output_type": "stream",
     "text": [
      "2019-12-20\n",
      "2019-12-23\n",
      "2019-12-23\n",
      "2019-12-24\n"
     ]
    },
    {
     "name": "stderr",
     "output_type": "stream",
     "text": [
      "\r",
      " ... (more hidden) ..."
     ]
    },
    {
     "name": "stdout",
     "output_type": "stream",
     "text": [
      "2019-12-24\n",
      "2019-12-26\n",
      "2019-12-26\n",
      "2019-12-27\n"
     ]
    },
    {
     "name": "stderr",
     "output_type": "stream",
     "text": [
      " ... (more hidden) ..."
     ]
    },
    {
     "name": "stdout",
     "output_type": "stream",
     "text": [
      "2019-12-27\n",
      "2019-12-30\n",
      "2019-12-30\n",
      "2020-01-02\n"
     ]
    },
    {
     "name": "stderr",
     "output_type": "stream",
     "text": [
      " ... (more hidden) ..."
     ]
    },
    {
     "name": "stdout",
     "output_type": "stream",
     "text": [
      "2020-01-02\n",
      "2020-01-03\n",
      "2020-01-03\n",
      "2020-01-06\n"
     ]
    },
    {
     "name": "stderr",
     "output_type": "stream",
     "text": [
      " ... (more hidden) ..."
     ]
    },
    {
     "name": "stdout",
     "output_type": "stream",
     "text": [
      "2020-01-06\n",
      "2020-01-07\n",
      "2020-01-07\n",
      "2020-01-08\n",
      "2020-01-08\n",
      "2020-01-09\n"
     ]
    },
    {
     "name": "stderr",
     "output_type": "stream",
     "text": [
      " ... (more hidden) ..."
     ]
    },
    {
     "name": "stdout",
     "output_type": "stream",
     "text": [
      "2020-01-09\n",
      "2020-01-10\n",
      "2020-01-10\n",
      "2020-01-13\n"
     ]
    },
    {
     "name": "stderr",
     "output_type": "stream",
     "text": [
      " ... (more hidden) ..."
     ]
    },
    {
     "name": "stdout",
     "output_type": "stream",
     "text": [
      "2020-01-13\n",
      "2020-01-14\n",
      "2020-01-14\n",
      "2020-01-15\n"
     ]
    },
    {
     "name": "stderr",
     "output_type": "stream",
     "text": [
      " ... (more hidden) ..."
     ]
    },
    {
     "name": "stdout",
     "output_type": "stream",
     "text": [
      "2020-01-15\n",
      "2020-01-16\n",
      "2020-01-16\n",
      "2020-01-17\n"
     ]
    },
    {
     "name": "stderr",
     "output_type": "stream",
     "text": [
      " ... (more hidden) ..."
     ]
    },
    {
     "name": "stdout",
     "output_type": "stream",
     "text": [
      "2020-01-17\n",
      "2020-01-20\n",
      "2020-01-20\n",
      "2020-01-21\n"
     ]
    },
    {
     "name": "stderr",
     "output_type": "stream",
     "text": [
      " ... (more hidden) ..."
     ]
    },
    {
     "name": "stdout",
     "output_type": "stream",
     "text": [
      "2020-01-21\n",
      "2020-01-22\n",
      "2020-01-22\n",
      "2020-01-23\n"
     ]
    },
    {
     "name": "stderr",
     "output_type": "stream",
     "text": [
      "\r",
      " ... (more hidden) ..."
     ]
    },
    {
     "name": "stdout",
     "output_type": "stream",
     "text": [
      "2020-01-23\n",
      "2020-01-28\n",
      "2020-01-28\n",
      "2020-01-29\n"
     ]
    },
    {
     "name": "stderr",
     "output_type": "stream",
     "text": [
      " ... (more hidden) ..."
     ]
    },
    {
     "name": "stdout",
     "output_type": "stream",
     "text": [
      "2020-01-29\n",
      "2020-01-30\n",
      "2020-01-30\n",
      "2020-01-31\n"
     ]
    },
    {
     "name": "stderr",
     "output_type": "stream",
     "text": [
      " ... (more hidden) ..."
     ]
    },
    {
     "name": "stdout",
     "output_type": "stream",
     "text": [
      "2020-01-31\n",
      "2020-02-03\n",
      "2020-02-03\n",
      "2020-02-04\n"
     ]
    },
    {
     "name": "stderr",
     "output_type": "stream",
     "text": [
      " ... (more hidden) ..."
     ]
    },
    {
     "name": "stdout",
     "output_type": "stream",
     "text": [
      "2020-02-04\n",
      "2020-02-05\n",
      "2020-02-05\n",
      "2020-02-06\n"
     ]
    },
    {
     "name": "stderr",
     "output_type": "stream",
     "text": [
      " ... (more hidden) ..."
     ]
    },
    {
     "name": "stdout",
     "output_type": "stream",
     "text": [
      "2020-02-06\n",
      "2020-02-07\n",
      "2020-02-07\n",
      "2020-02-10\n",
      "2020-02-10\n",
      "2020-02-11\n"
     ]
    },
    {
     "name": "stderr",
     "output_type": "stream",
     "text": [
      " ... (more hidden) ..."
     ]
    },
    {
     "name": "stdout",
     "output_type": "stream",
     "text": [
      "2020-02-11\n",
      "2020-02-12\n",
      "2020-02-12\n",
      "2020-02-13\n"
     ]
    },
    {
     "name": "stderr",
     "output_type": "stream",
     "text": [
      "\r",
      " ... (more hidden) ..."
     ]
    },
    {
     "name": "stdout",
     "output_type": "stream",
     "text": [
      "2020-02-13\n",
      "2020-02-14\n",
      "2020-02-14\n",
      "2020-02-17\n"
     ]
    },
    {
     "name": "stderr",
     "output_type": "stream",
     "text": [
      " ... (more hidden) ..."
     ]
    },
    {
     "name": "stdout",
     "output_type": "stream",
     "text": [
      "2020-02-17\n",
      "2020-02-18\n",
      "2020-02-18\n",
      "2020-02-19\n"
     ]
    },
    {
     "name": "stderr",
     "output_type": "stream",
     "text": [
      " ... (more hidden) ..."
     ]
    },
    {
     "name": "stdout",
     "output_type": "stream",
     "text": [
      "2020-02-19\n",
      "2020-02-20\n",
      "2020-02-20\n",
      "2020-02-21\n",
      "2020-02-21\n",
      "2020-02-24\n"
     ]
    },
    {
     "name": "stderr",
     "output_type": "stream",
     "text": [
      " ... (more hidden) ..."
     ]
    },
    {
     "name": "stdout",
     "output_type": "stream",
     "text": [
      "2020-02-24\n",
      "2020-02-25\n",
      "2020-02-25\n",
      "2020-02-26\n"
     ]
    },
    {
     "name": "stderr",
     "output_type": "stream",
     "text": [
      " ... (more hidden) ..."
     ]
    },
    {
     "name": "stdout",
     "output_type": "stream",
     "text": [
      "2020-02-26\n",
      "2020-02-27\n",
      "2020-02-27\n",
      "2020-02-28\n"
     ]
    },
    {
     "name": "stderr",
     "output_type": "stream",
     "text": [
      " ... (more hidden) ..."
     ]
    },
    {
     "name": "stdout",
     "output_type": "stream",
     "text": [
      "2020-02-28\n",
      "2020-03-02\n",
      "2020-03-02\n",
      "2020-03-03\n"
     ]
    },
    {
     "name": "stderr",
     "output_type": "stream",
     "text": [
      "\r",
      " ... (more hidden) ..."
     ]
    },
    {
     "name": "stdout",
     "output_type": "stream",
     "text": [
      "2020-03-03\n",
      "2020-03-04\n",
      "2020-03-04\n",
      "2020-03-05\n"
     ]
    },
    {
     "name": "stderr",
     "output_type": "stream",
     "text": [
      " ... (more hidden) ..."
     ]
    },
    {
     "name": "stdout",
     "output_type": "stream",
     "text": [
      "2020-03-05\n",
      "2020-03-06\n",
      "2020-03-06\n",
      "2020-03-09\n"
     ]
    },
    {
     "name": "stderr",
     "output_type": "stream",
     "text": [
      " ... (more hidden) ..."
     ]
    },
    {
     "name": "stdout",
     "output_type": "stream",
     "text": [
      "2020-03-09\n",
      "2020-03-10\n",
      "2020-03-10\n",
      "2020-03-11\n",
      "2020-03-11\n",
      "2020-03-12\n"
     ]
    },
    {
     "name": "stderr",
     "output_type": "stream",
     "text": [
      " ... (more hidden) ..."
     ]
    },
    {
     "name": "stdout",
     "output_type": "stream",
     "text": [
      "2020-03-12\n",
      "2020-03-13\n",
      "2020-03-13\n",
      "2020-03-16\n"
     ]
    },
    {
     "name": "stderr",
     "output_type": "stream",
     "text": [
      " ... (more hidden) ..."
     ]
    },
    {
     "name": "stdout",
     "output_type": "stream",
     "text": [
      "2020-03-16\n",
      "2020-03-17\n",
      "2020-03-17\n",
      "2020-03-18\n"
     ]
    },
    {
     "name": "stderr",
     "output_type": "stream",
     "text": [
      " ... (more hidden) ..."
     ]
    },
    {
     "name": "stdout",
     "output_type": "stream",
     "text": [
      "2020-03-18\n",
      "2020-03-19\n",
      "2020-03-19\n",
      "2020-03-20\n"
     ]
    },
    {
     "name": "stderr",
     "output_type": "stream",
     "text": [
      " ... (more hidden) ..."
     ]
    },
    {
     "name": "stdout",
     "output_type": "stream",
     "text": [
      "2020-03-20\n",
      "2020-03-23\n",
      "2020-03-23\n",
      "2020-03-24\n",
      "2020-03-24\n",
      "2020-03-25\n"
     ]
    },
    {
     "name": "stderr",
     "output_type": "stream",
     "text": [
      " ... (more hidden) ..."
     ]
    },
    {
     "name": "stdout",
     "output_type": "stream",
     "text": [
      "2020-03-25\n",
      "2020-03-26\n",
      "2020-03-26\n",
      "2020-03-27\n"
     ]
    },
    {
     "name": "stderr",
     "output_type": "stream",
     "text": [
      "\r",
      " ... (more hidden) ..."
     ]
    },
    {
     "name": "stdout",
     "output_type": "stream",
     "text": [
      "2020-03-27\n",
      "2020-03-30\n",
      "2020-03-30\n",
      "2020-03-31\n"
     ]
    },
    {
     "name": "stderr",
     "output_type": "stream",
     "text": [
      " ... (more hidden) ..."
     ]
    },
    {
     "name": "stdout",
     "output_type": "stream",
     "text": [
      "2020-03-31\n",
      "2020-04-01\n",
      "2020-04-01\n",
      "2020-04-02\n"
     ]
    },
    {
     "name": "stderr",
     "output_type": "stream",
     "text": [
      " ... (more hidden) ..."
     ]
    },
    {
     "name": "stdout",
     "output_type": "stream",
     "text": [
      "2020-04-02\n",
      "2020-04-03\n",
      "2020-04-03\n",
      "2020-04-06\n"
     ]
    },
    {
     "name": "stderr",
     "output_type": "stream",
     "text": [
      " ... (more hidden) ..."
     ]
    },
    {
     "name": "stdout",
     "output_type": "stream",
     "text": [
      "2020-04-06\n",
      "2020-04-07\n",
      "2020-04-07\n",
      "2020-04-08\n"
     ]
    },
    {
     "name": "stderr",
     "output_type": "stream",
     "text": [
      " ... (more hidden) ..."
     ]
    },
    {
     "name": "stdout",
     "output_type": "stream",
     "text": [
      "2020-04-08\n",
      "2020-04-09\n",
      "2020-04-09\n",
      "2020-04-10\n"
     ]
    },
    {
     "name": "stderr",
     "output_type": "stream",
     "text": [
      " ... (more hidden) ..."
     ]
    },
    {
     "name": "stdout",
     "output_type": "stream",
     "text": [
      "2020-04-10\n",
      "2020-04-13\n",
      "2020-04-13\n",
      "2020-04-14\n",
      "2020-04-14\n",
      "2020-04-16\n"
     ]
    },
    {
     "name": "stderr",
     "output_type": "stream",
     "text": [
      " ... (more hidden) ..."
     ]
    },
    {
     "name": "stdout",
     "output_type": "stream",
     "text": [
      "2020-04-16\n",
      "2020-04-17\n",
      "2020-04-17\n",
      "2020-04-20\n"
     ]
    },
    {
     "name": "stderr",
     "output_type": "stream",
     "text": [
      " ... (more hidden) ..."
     ]
    },
    {
     "name": "stdout",
     "output_type": "stream",
     "text": [
      "2020-04-20\n",
      "2020-04-21\n",
      "2020-04-21\n",
      "2020-04-22\n"
     ]
    },
    {
     "name": "stderr",
     "output_type": "stream",
     "text": [
      " ... (more hidden) ..."
     ]
    },
    {
     "name": "stdout",
     "output_type": "stream",
     "text": [
      "2020-04-22\n",
      "2020-04-23\n",
      "2020-04-23\n",
      "2020-04-24\n"
     ]
    },
    {
     "name": "stderr",
     "output_type": "stream",
     "text": [
      "\r",
      " ... (more hidden) ..."
     ]
    },
    {
     "name": "stdout",
     "output_type": "stream",
     "text": [
      "2020-04-24\n",
      "2020-04-27\n",
      "2020-04-27\n",
      "2020-04-28\n"
     ]
    },
    {
     "name": "stderr",
     "output_type": "stream",
     "text": [
      " ... (more hidden) ..."
     ]
    },
    {
     "name": "stdout",
     "output_type": "stream",
     "text": [
      "2020-04-28\n",
      "2020-04-29\n",
      "2020-04-29\n",
      "2020-05-04\n"
     ]
    },
    {
     "name": "stderr",
     "output_type": "stream",
     "text": [
      " ... (more hidden) ..."
     ]
    },
    {
     "name": "stdout",
     "output_type": "stream",
     "text": [
      "2020-05-04\n",
      "2020-05-06\n",
      "2020-05-06\n",
      "2020-05-07\n"
     ]
    },
    {
     "name": "stderr",
     "output_type": "stream",
     "text": [
      " ... (more hidden) ..."
     ]
    },
    {
     "name": "stdout",
     "output_type": "stream",
     "text": [
      "2020-05-07\n",
      "2020-05-08\n",
      "2020-05-08\n",
      "2020-05-11\n"
     ]
    },
    {
     "name": "stderr",
     "output_type": "stream",
     "text": [
      "\r",
      " ... (more hidden) ..."
     ]
    },
    {
     "name": "stdout",
     "output_type": "stream",
     "text": [
      "2020-05-11\n",
      "2020-05-12\n",
      "2020-05-12\n",
      "2020-05-13\n"
     ]
    },
    {
     "name": "stderr",
     "output_type": "stream",
     "text": [
      " ... (more hidden) ..."
     ]
    },
    {
     "name": "stdout",
     "output_type": "stream",
     "text": [
      "2020-05-13\n",
      "2020-05-14\n",
      "2020-05-14\n",
      "2020-05-15\n"
     ]
    },
    {
     "name": "stderr",
     "output_type": "stream",
     "text": [
      "\r",
      " ... (more hidden) ..."
     ]
    },
    {
     "name": "stdout",
     "output_type": "stream",
     "text": [
      "2020-05-15\n",
      "2020-05-18\n",
      "2020-05-18\n",
      "2020-05-19\n"
     ]
    },
    {
     "name": "stderr",
     "output_type": "stream",
     "text": [
      " ... (more hidden) ..."
     ]
    },
    {
     "name": "stdout",
     "output_type": "stream",
     "text": [
      "2020-05-19\n",
      "2020-05-20\n",
      "2020-05-20\n",
      "2020-05-21\n",
      "2020-05-21\n",
      "2020-05-22\n"
     ]
    },
    {
     "name": "stderr",
     "output_type": "stream",
     "text": [
      " ... (more hidden) ..."
     ]
    },
    {
     "name": "stdout",
     "output_type": "stream",
     "text": [
      "2020-05-22\n",
      "2020-05-25\n",
      "2020-05-25\n",
      "2020-05-26\n"
     ]
    },
    {
     "name": "stderr",
     "output_type": "stream",
     "text": [
      " ... (more hidden) ..."
     ]
    },
    {
     "name": "stdout",
     "output_type": "stream",
     "text": [
      "2020-05-26\n",
      "2020-05-27\n",
      "2020-05-27\n",
      "2020-05-28\n"
     ]
    },
    {
     "name": "stderr",
     "output_type": "stream",
     "text": [
      " ... (more hidden) ..."
     ]
    },
    {
     "name": "stdout",
     "output_type": "stream",
     "text": [
      "2020-05-28\n",
      "2020-05-29\n",
      "2020-05-29\n",
      "2020-06-01\n"
     ]
    },
    {
     "name": "stderr",
     "output_type": "stream",
     "text": [
      " ... (more hidden) ..."
     ]
    },
    {
     "name": "stdout",
     "output_type": "stream",
     "text": [
      "2020-06-01\n",
      "2020-06-02\n",
      "2020-06-02\n",
      "2020-06-03\n"
     ]
    },
    {
     "name": "stderr",
     "output_type": "stream",
     "text": [
      " ... (more hidden) ..."
     ]
    },
    {
     "name": "stdout",
     "output_type": "stream",
     "text": [
      "2020-06-03\n",
      "2020-06-04\n",
      "2020-06-04\n",
      "2020-06-05\n"
     ]
    },
    {
     "name": "stderr",
     "output_type": "stream",
     "text": [
      " ... (more hidden) ..."
     ]
    },
    {
     "name": "stdout",
     "output_type": "stream",
     "text": [
      "2020-06-05\n",
      "2020-06-08\n",
      "2020-06-08\n",
      "2020-06-09\n",
      "2020-06-09\n",
      "2020-06-10\n"
     ]
    },
    {
     "name": "stderr",
     "output_type": "stream",
     "text": [
      " ... (more hidden) ..."
     ]
    },
    {
     "name": "stdout",
     "output_type": "stream",
     "text": [
      "2020-06-10\n",
      "2020-06-11\n",
      "2020-06-11\n",
      "2020-06-12\n"
     ]
    },
    {
     "name": "stderr",
     "output_type": "stream",
     "text": [
      " ... (more hidden) ..."
     ]
    },
    {
     "name": "stdout",
     "output_type": "stream",
     "text": [
      "2020-06-12\n",
      "2020-06-15\n",
      "2020-06-15\n",
      "2020-06-16\n"
     ]
    },
    {
     "name": "stderr",
     "output_type": "stream",
     "text": [
      " ... (more hidden) ..."
     ]
    },
    {
     "name": "stdout",
     "output_type": "stream",
     "text": [
      "2020-06-16\n",
      "2020-06-17\n",
      "2020-06-17\n",
      "2020-06-18\n"
     ]
    },
    {
     "name": "stderr",
     "output_type": "stream",
     "text": [
      "\r",
      " ... (more hidden) ..."
     ]
    },
    {
     "name": "stdout",
     "output_type": "stream",
     "text": [
      "2020-06-18\n",
      "2020-06-19\n",
      "2020-06-19\n",
      "2020-06-22\n"
     ]
    },
    {
     "name": "stderr",
     "output_type": "stream",
     "text": [
      " ... (more hidden) ..."
     ]
    },
    {
     "name": "stdout",
     "output_type": "stream",
     "text": [
      "2020-06-22\n",
      "2020-06-23\n",
      "2020-06-23\n",
      "2020-06-24\n"
     ]
    },
    {
     "name": "stderr",
     "output_type": "stream",
     "text": [
      " ... (more hidden) ..."
     ]
    },
    {
     "name": "stdout",
     "output_type": "stream",
     "text": [
      "2020-06-24\n",
      "2020-06-25\n",
      "2020-06-25\n",
      "2020-06-26\n"
     ]
    },
    {
     "name": "stderr",
     "output_type": "stream",
     "text": [
      " ... (more hidden) ..."
     ]
    },
    {
     "name": "stdout",
     "output_type": "stream",
     "text": [
      "2020-06-26\n",
      "2020-06-29\n",
      "2020-06-29\n",
      "2020-06-30\n"
     ]
    },
    {
     "name": "stderr",
     "output_type": "stream",
     "text": [
      " ... (more hidden) ..."
     ]
    },
    {
     "name": "stdout",
     "output_type": "stream",
     "text": [
      "2020-06-30\n",
      "2020-07-01\n",
      "2020-07-01\n",
      "2020-07-02\n"
     ]
    },
    {
     "name": "stderr",
     "output_type": "stream",
     "text": [
      " ... (more hidden) ..."
     ]
    },
    {
     "name": "stdout",
     "output_type": "stream",
     "text": [
      "2020-07-02\n",
      "2020-07-03\n",
      "2020-07-03\n",
      "2020-07-06\n"
     ]
    },
    {
     "name": "stderr",
     "output_type": "stream",
     "text": [
      " ... (more hidden) ..."
     ]
    },
    {
     "name": "stdout",
     "output_type": "stream",
     "text": [
      "2020-07-06\n",
      "2020-07-07\n",
      "2020-07-07\n",
      "2020-07-08\n"
     ]
    },
    {
     "name": "stderr",
     "output_type": "stream",
     "text": [
      "\r",
      " ... (more hidden) ..."
     ]
    },
    {
     "name": "stdout",
     "output_type": "stream",
     "text": [
      "2020-07-08\n",
      "2020-07-09\n",
      "2020-07-09\n",
      "2020-07-10\n"
     ]
    },
    {
     "name": "stderr",
     "output_type": "stream",
     "text": [
      " ... (more hidden) ..."
     ]
    },
    {
     "name": "stdout",
     "output_type": "stream",
     "text": [
      "2020-07-10\n",
      "2020-07-13\n",
      "2020-07-13\n",
      "2020-07-14\n"
     ]
    },
    {
     "name": "stderr",
     "output_type": "stream",
     "text": [
      " ... (more hidden) ..."
     ]
    },
    {
     "name": "stdout",
     "output_type": "stream",
     "text": [
      "2020-07-14\n",
      "2020-07-15\n",
      "2020-07-15\n",
      "2020-07-16\n",
      "2020-07-16\n"
     ]
    },
    {
     "name": "stderr",
     "output_type": "stream",
     "text": [
      "\r",
      " ... (more hidden) ..."
     ]
    },
    {
     "name": "stdout",
     "output_type": "stream",
     "text": [
      "2020-07-17\n",
      "2020-07-17\n",
      "2020-07-20\n"
     ]
    },
    {
     "name": "stderr",
     "output_type": "stream",
     "text": [
      " ... (more hidden) ..."
     ]
    },
    {
     "name": "stdout",
     "output_type": "stream",
     "text": [
      "2020-07-20\n",
      "2020-07-21\n",
      "2020-07-21\n",
      "2020-07-22\n"
     ]
    },
    {
     "name": "stderr",
     "output_type": "stream",
     "text": [
      " ... (more hidden) ..."
     ]
    },
    {
     "name": "stdout",
     "output_type": "stream",
     "text": [
      "2020-07-22\n",
      "2020-07-23\n",
      "2020-07-23\n",
      "2020-07-24\n",
      "2020-07-24\n",
      "2020-07-27\n"
     ]
    },
    {
     "name": "stderr",
     "output_type": "stream",
     "text": [
      " ... (more hidden) ..."
     ]
    },
    {
     "name": "stdout",
     "output_type": "stream",
     "text": [
      "2020-07-27\n",
      "2020-07-28\n",
      "2020-07-28\n",
      "2020-07-29\n",
      "2020-07-29\n",
      "2020-07-30\n"
     ]
    },
    {
     "name": "stderr",
     "output_type": "stream",
     "text": [
      " ... (more hidden) ..."
     ]
    },
    {
     "name": "stdout",
     "output_type": "stream",
     "text": [
      "2020-07-30\n",
      "2020-07-31\n",
      "2020-07-31\n",
      "2020-08-03\n"
     ]
    },
    {
     "name": "stderr",
     "output_type": "stream",
     "text": [
      " ... (more hidden) ..."
     ]
    },
    {
     "name": "stdout",
     "output_type": "stream",
     "text": [
      "2020-08-03\n",
      "2020-08-04\n",
      "2020-08-04\n",
      "2020-08-05\n"
     ]
    },
    {
     "name": "stderr",
     "output_type": "stream",
     "text": [
      " ... (more hidden) ..."
     ]
    },
    {
     "name": "stdout",
     "output_type": "stream",
     "text": [
      "2020-08-05\n",
      "2020-08-06\n",
      "2020-08-06\n",
      "2020-08-07\n"
     ]
    },
    {
     "name": "stderr",
     "output_type": "stream",
     "text": [
      " ... (more hidden) ..."
     ]
    },
    {
     "name": "stdout",
     "output_type": "stream",
     "text": [
      "2020-08-07\n",
      "2020-08-10\n",
      "2020-08-10\n",
      "2020-08-11\n"
     ]
    },
    {
     "name": "stderr",
     "output_type": "stream",
     "text": [
      " ... (more hidden) ..."
     ]
    },
    {
     "name": "stdout",
     "output_type": "stream",
     "text": [
      "2020-08-11\n",
      "2020-08-12\n",
      "2020-08-12\n",
      "2020-08-13\n",
      "2020-08-13\n",
      "2020-08-14\n"
     ]
    },
    {
     "name": "stderr",
     "output_type": "stream",
     "text": [
      " ... (more hidden) ..."
     ]
    },
    {
     "name": "stdout",
     "output_type": "stream",
     "text": [
      "2020-08-14\n",
      "2020-08-18\n",
      "2020-08-18\n",
      "2020-08-19\n",
      "2020-08-19\n",
      "2020-08-20\n"
     ]
    },
    {
     "name": "stderr",
     "output_type": "stream",
     "text": [
      " ... (more hidden) ..."
     ]
    },
    {
     "name": "stdout",
     "output_type": "stream",
     "text": [
      "2020-08-20\n",
      "2020-08-21\n",
      "2020-08-21\n",
      "2020-08-24\n"
     ]
    },
    {
     "name": "stderr",
     "output_type": "stream",
     "text": [
      " ... (more hidden) ..."
     ]
    },
    {
     "name": "stdout",
     "output_type": "stream",
     "text": [
      "2020-08-24\n",
      "2020-08-25\n",
      "2020-08-25\n",
      "2020-08-26\n"
     ]
    },
    {
     "name": "stderr",
     "output_type": "stream",
     "text": [
      "\r",
      " ... (more hidden) ..."
     ]
    },
    {
     "name": "stdout",
     "output_type": "stream",
     "text": [
      "2020-08-26\n",
      "2020-08-27\n",
      "2020-08-27\n",
      "2020-08-28\n"
     ]
    },
    {
     "name": "stderr",
     "output_type": "stream",
     "text": [
      " ... (more hidden) ..."
     ]
    },
    {
     "name": "stdout",
     "output_type": "stream",
     "text": [
      "2020-08-28\n",
      "2020-08-31\n",
      "2020-08-31\n",
      "2020-09-01\n"
     ]
    },
    {
     "name": "stderr",
     "output_type": "stream",
     "text": [
      " ... (more hidden) ..."
     ]
    },
    {
     "name": "stdout",
     "output_type": "stream",
     "text": [
      "2020-09-01\n",
      "2020-09-02\n",
      "2020-09-02\n",
      "2020-09-03\n"
     ]
    },
    {
     "name": "stderr",
     "output_type": "stream",
     "text": [
      " ... (more hidden) ..."
     ]
    },
    {
     "name": "stdout",
     "output_type": "stream",
     "text": [
      "2020-09-03\n",
      "2020-09-04\n",
      "2020-09-04\n",
      "2020-09-07\n"
     ]
    },
    {
     "name": "stderr",
     "output_type": "stream",
     "text": [
      " ... (more hidden) ..."
     ]
    },
    {
     "name": "stdout",
     "output_type": "stream",
     "text": [
      "2020-09-07\n",
      "2020-09-08\n",
      "2020-09-08\n",
      "2020-09-09\n"
     ]
    },
    {
     "name": "stderr",
     "output_type": "stream",
     "text": [
      " ... (more hidden) ..."
     ]
    },
    {
     "name": "stdout",
     "output_type": "stream",
     "text": [
      "2020-09-09\n",
      "2020-09-10\n",
      "2020-09-10\n",
      "2020-09-11\n"
     ]
    },
    {
     "name": "stderr",
     "output_type": "stream",
     "text": [
      " ... (more hidden) ..."
     ]
    },
    {
     "name": "stdout",
     "output_type": "stream",
     "text": [
      "2020-09-11\n",
      "2020-09-14\n",
      "2020-09-14\n",
      "2020-09-15\n"
     ]
    },
    {
     "name": "stderr",
     "output_type": "stream",
     "text": [
      " ... (more hidden) ..."
     ]
    },
    {
     "name": "stdout",
     "output_type": "stream",
     "text": [
      "2020-09-15\n",
      "2020-09-16\n",
      "2020-09-16\n",
      "2020-09-17\n"
     ]
    },
    {
     "name": "stderr",
     "output_type": "stream",
     "text": [
      " ... (more hidden) ..."
     ]
    },
    {
     "name": "stdout",
     "output_type": "stream",
     "text": [
      "2020-09-17\n",
      "2020-09-18\n",
      "2020-09-18\n",
      "2020-09-21\n"
     ]
    },
    {
     "name": "stderr",
     "output_type": "stream",
     "text": [
      " ... (more hidden) ..."
     ]
    },
    {
     "name": "stdout",
     "output_type": "stream",
     "text": [
      "2020-09-21\n",
      "2020-09-22\n",
      "2020-09-22\n",
      "2020-09-23\n"
     ]
    },
    {
     "name": "stderr",
     "output_type": "stream",
     "text": [
      " ... (more hidden) ..."
     ]
    },
    {
     "name": "stdout",
     "output_type": "stream",
     "text": [
      "2020-09-23\n",
      "2020-09-24\n",
      "2020-09-24\n",
      "2020-09-25\n",
      "2020-09-25\n",
      "2020-09-28\n"
     ]
    },
    {
     "name": "stderr",
     "output_type": "stream",
     "text": [
      " ... (more hidden) ..."
     ]
    },
    {
     "name": "stdout",
     "output_type": "stream",
     "text": [
      "2020-09-28\n",
      "2020-09-29\n",
      "2020-09-29\n",
      "2020-10-05\n"
     ]
    },
    {
     "name": "stderr",
     "output_type": "stream",
     "text": [
      " ... (more hidden) ..."
     ]
    },
    {
     "name": "stdout",
     "output_type": "stream",
     "text": [
      "2020-10-05\n",
      "2020-10-06\n",
      "2020-10-06\n",
      "2020-10-07\n"
     ]
    },
    {
     "name": "stderr",
     "output_type": "stream",
     "text": [
      " ... (more hidden) ..."
     ]
    },
    {
     "name": "stdout",
     "output_type": "stream",
     "text": [
      "2020-10-07\n",
      "2020-10-08\n",
      "2020-10-08\n",
      "2020-10-12\n"
     ]
    },
    {
     "name": "stderr",
     "output_type": "stream",
     "text": [
      "\r",
      " ... (more hidden) ..."
     ]
    },
    {
     "name": "stdout",
     "output_type": "stream",
     "text": [
      "2020-10-12\n",
      "2020-10-13\n",
      "2020-10-13\n",
      "2020-10-14\n"
     ]
    },
    {
     "name": "stderr",
     "output_type": "stream",
     "text": [
      " ... (more hidden) ..."
     ]
    },
    {
     "name": "stdout",
     "output_type": "stream",
     "text": [
      "2020-10-14\n",
      "2020-10-15\n",
      "2020-10-15\n",
      "2020-10-16\n"
     ]
    },
    {
     "name": "stderr",
     "output_type": "stream",
     "text": [
      " ... (more hidden) ..."
     ]
    },
    {
     "name": "stdout",
     "output_type": "stream",
     "text": [
      "2020-10-16\n",
      "2020-10-19\n",
      "2020-10-19\n",
      "2020-10-20\n"
     ]
    },
    {
     "name": "stderr",
     "output_type": "stream",
     "text": [
      " ... (more hidden) ..."
     ]
    },
    {
     "name": "stdout",
     "output_type": "stream",
     "text": [
      "2020-10-20\n",
      "2020-10-21\n",
      "2020-10-21\n",
      "2020-10-22\n"
     ]
    },
    {
     "name": "stderr",
     "output_type": "stream",
     "text": [
      " ... (more hidden) ..."
     ]
    },
    {
     "name": "stdout",
     "output_type": "stream",
     "text": [
      "2020-10-22\n",
      "2020-10-23\n",
      "2020-10-23\n",
      "2020-10-26\n"
     ]
    },
    {
     "name": "stderr",
     "output_type": "stream",
     "text": [
      " ... (more hidden) ..."
     ]
    },
    {
     "name": "stdout",
     "output_type": "stream",
     "text": [
      "2020-10-26\n",
      "2020-10-27\n",
      "2020-10-27\n",
      "2020-10-28\n"
     ]
    },
    {
     "name": "stderr",
     "output_type": "stream",
     "text": [
      "\r",
      " ... (more hidden) ..."
     ]
    },
    {
     "name": "stdout",
     "output_type": "stream",
     "text": [
      "2020-10-28\n",
      "2020-10-29\n",
      "2020-10-29\n",
      "2020-10-30\n"
     ]
    },
    {
     "name": "stderr",
     "output_type": "stream",
     "text": [
      " ... (more hidden) ..."
     ]
    },
    {
     "name": "stdout",
     "output_type": "stream",
     "text": [
      "2020-10-30\n",
      "2020-11-02\n",
      "2020-11-02\n",
      "2020-11-03\n"
     ]
    },
    {
     "name": "stderr",
     "output_type": "stream",
     "text": [
      " ... (more hidden) ..."
     ]
    },
    {
     "name": "stdout",
     "output_type": "stream",
     "text": [
      "2020-11-03\n",
      "2020-11-04\n",
      "2020-11-04\n",
      "2020-11-05\n"
     ]
    },
    {
     "name": "stderr",
     "output_type": "stream",
     "text": [
      " ... (more hidden) ..."
     ]
    },
    {
     "name": "stdout",
     "output_type": "stream",
     "text": [
      "2020-11-05\n",
      "2020-11-06\n",
      "2020-11-06\n",
      "2020-11-09\n"
     ]
    },
    {
     "name": "stderr",
     "output_type": "stream",
     "text": [
      " ... (more hidden) ..."
     ]
    },
    {
     "name": "stdout",
     "output_type": "stream",
     "text": [
      "2020-11-09\n",
      "2020-11-10\n",
      "2020-11-10\n",
      "2020-11-11\n"
     ]
    },
    {
     "name": "stderr",
     "output_type": "stream",
     "text": [
      " ... (more hidden) ..."
     ]
    },
    {
     "name": "stdout",
     "output_type": "stream",
     "text": [
      "2020-11-11\n",
      "2020-11-12\n",
      "2020-11-12\n",
      "2020-11-13\n"
     ]
    },
    {
     "name": "stderr",
     "output_type": "stream",
     "text": [
      "\r",
      " ... (more hidden) ..."
     ]
    },
    {
     "name": "stdout",
     "output_type": "stream",
     "text": [
      "2020-11-13\n",
      "2020-11-16\n",
      "2020-11-16\n",
      "2020-11-17\n"
     ]
    },
    {
     "name": "stderr",
     "output_type": "stream",
     "text": [
      " ... (more hidden) ..."
     ]
    },
    {
     "name": "stdout",
     "output_type": "stream",
     "text": [
      "2020-11-17\n",
      "2020-11-18\n",
      "2020-11-18\n",
      "2020-11-19\n"
     ]
    },
    {
     "name": "stderr",
     "output_type": "stream",
     "text": [
      "\r",
      " ... (more hidden) ..."
     ]
    },
    {
     "name": "stdout",
     "output_type": "stream",
     "text": [
      "2020-11-19\n",
      "2020-11-20\n",
      "2020-11-20\n",
      "2020-11-23\n"
     ]
    },
    {
     "name": "stderr",
     "output_type": "stream",
     "text": [
      " ... (more hidden) ..."
     ]
    },
    {
     "name": "stdout",
     "output_type": "stream",
     "text": [
      "2020-11-23\n",
      "2020-11-24\n",
      "2020-11-24\n",
      "2020-11-25\n"
     ]
    },
    {
     "name": "stderr",
     "output_type": "stream",
     "text": [
      " ... (more hidden) ..."
     ]
    },
    {
     "name": "stdout",
     "output_type": "stream",
     "text": [
      "2020-11-25\n",
      "2020-11-26\n",
      "2020-11-26\n",
      "2020-11-27\n"
     ]
    },
    {
     "name": "stderr",
     "output_type": "stream",
     "text": [
      "\r",
      " ... (more hidden) ..."
     ]
    },
    {
     "name": "stdout",
     "output_type": "stream",
     "text": [
      "2020-11-27\n",
      "2020-11-30\n",
      "2020-11-30\n",
      "2020-12-01\n"
     ]
    },
    {
     "name": "stderr",
     "output_type": "stream",
     "text": [
      " ... (more hidden) ..."
     ]
    },
    {
     "name": "stdout",
     "output_type": "stream",
     "text": [
      "2020-12-01\n",
      "2020-12-02\n",
      "2020-12-02\n",
      "2020-12-03\n",
      "2020-12-03\n",
      "2020-12-04\n"
     ]
    },
    {
     "name": "stderr",
     "output_type": "stream",
     "text": [
      " ... (more hidden) ..."
     ]
    },
    {
     "name": "stdout",
     "output_type": "stream",
     "text": [
      "2020-12-04\n",
      "2020-12-07\n",
      "2020-12-07\n",
      "2020-12-08\n"
     ]
    },
    {
     "name": "stderr",
     "output_type": "stream",
     "text": [
      " ... (more hidden) ..."
     ]
    },
    {
     "name": "stdout",
     "output_type": "stream",
     "text": [
      "2020-12-08\n",
      "2020-12-09\n",
      "2020-12-09\n",
      "2020-12-10\n"
     ]
    },
    {
     "name": "stderr",
     "output_type": "stream",
     "text": [
      " ... (more hidden) ..."
     ]
    },
    {
     "name": "stdout",
     "output_type": "stream",
     "text": [
      "2020-12-10\n",
      "2020-12-11\n",
      "2020-12-11\n",
      "2020-12-14\n"
     ]
    },
    {
     "name": "stderr",
     "output_type": "stream",
     "text": [
      " ... (more hidden) ..."
     ]
    },
    {
     "name": "stdout",
     "output_type": "stream",
     "text": [
      "2020-12-14\n",
      "2020-12-15\n",
      "2020-12-15\n",
      "2020-12-16\n",
      "2020-12-16\n",
      "2020-12-17\n"
     ]
    },
    {
     "name": "stderr",
     "output_type": "stream",
     "text": [
      " ... (more hidden) ..."
     ]
    },
    {
     "name": "stdout",
     "output_type": "stream",
     "text": [
      "2020-12-17\n",
      "2020-12-18\n",
      "2020-12-18\n",
      "2020-12-21\n"
     ]
    },
    {
     "name": "stderr",
     "output_type": "stream",
     "text": [
      " ... (more hidden) ..."
     ]
    },
    {
     "name": "stdout",
     "output_type": "stream",
     "text": [
      "2020-12-21\n",
      "2020-12-22\n",
      "2020-12-22\n",
      "2020-12-23\n"
     ]
    },
    {
     "name": "stderr",
     "output_type": "stream",
     "text": [
      " ... (more hidden) ..."
     ]
    },
    {
     "name": "stdout",
     "output_type": "stream",
     "text": [
      "2020-12-23\n",
      "2020-12-24\n",
      "2020-12-24\n",
      "2020-12-28\n"
     ]
    },
    {
     "name": "stderr",
     "output_type": "stream",
     "text": [
      "\r",
      " ... (more hidden) ..."
     ]
    },
    {
     "name": "stdout",
     "output_type": "stream",
     "text": [
      "2020-12-28\n",
      "2020-12-29\n",
      "2020-12-29\n",
      "2020-12-30\n"
     ]
    },
    {
     "name": "stderr",
     "output_type": "stream",
     "text": [
      " ... (more hidden) ..."
     ]
    },
    {
     "name": "stdout",
     "output_type": "stream",
     "text": [
      "2020-12-30\n",
      "2021-01-04\n",
      "2021-01-04\n",
      "2021-01-05\n"
     ]
    },
    {
     "name": "stderr",
     "output_type": "stream",
     "text": [
      " ... (more hidden) ..."
     ]
    },
    {
     "name": "stdout",
     "output_type": "stream",
     "text": [
      "2021-01-05\n",
      "2021-01-06\n",
      "2021-01-06\n",
      "2021-01-07\n"
     ]
    },
    {
     "name": "stderr",
     "output_type": "stream",
     "text": [
      " ... (more hidden) ..."
     ]
    },
    {
     "name": "stdout",
     "output_type": "stream",
     "text": [
      "2021-01-07\n",
      "2021-01-08\n",
      "2021-01-08\n",
      "2021-01-11\n",
      "2021-01-11\n",
      "2021-01-12\n"
     ]
    },
    {
     "name": "stderr",
     "output_type": "stream",
     "text": [
      " ... (more hidden) ..."
     ]
    },
    {
     "name": "stdout",
     "output_type": "stream",
     "text": [
      "2021-01-12\n",
      "2021-01-13\n",
      "2021-01-13\n",
      "2021-01-14\n"
     ]
    },
    {
     "name": "stderr",
     "output_type": "stream",
     "text": [
      " ... (more hidden) ..."
     ]
    },
    {
     "name": "stdout",
     "output_type": "stream",
     "text": [
      "2021-01-14\n",
      "2021-01-15\n",
      "2021-01-15\n",
      "2021-01-18\n"
     ]
    },
    {
     "name": "stderr",
     "output_type": "stream",
     "text": [
      " ... (more hidden) ..."
     ]
    },
    {
     "name": "stdout",
     "output_type": "stream",
     "text": [
      "2021-01-18\n",
      "2021-01-19\n",
      "2021-01-19\n",
      "2021-01-20\n",
      "2021-01-20\n",
      "2021-01-21\n"
     ]
    },
    {
     "name": "stderr",
     "output_type": "stream",
     "text": [
      " ... (more hidden) ..."
     ]
    },
    {
     "name": "stdout",
     "output_type": "stream",
     "text": [
      "2021-01-21\n",
      "2021-01-22\n",
      "2021-01-22\n",
      "2021-01-25\n",
      "2021-01-25\n",
      "2021-01-26\n"
     ]
    },
    {
     "name": "stderr",
     "output_type": "stream",
     "text": [
      " ... (more hidden) ..."
     ]
    },
    {
     "name": "stdout",
     "output_type": "stream",
     "text": [
      "2021-01-26\n",
      "2021-01-27\n",
      "2021-01-27\n",
      "2021-01-28\n"
     ]
    },
    {
     "name": "stderr",
     "output_type": "stream",
     "text": [
      " ... (more hidden) ..."
     ]
    },
    {
     "name": "stdout",
     "output_type": "stream",
     "text": [
      "2021-01-28\n",
      "2021-01-29\n",
      "2021-01-29\n",
      "2021-02-01\n"
     ]
    },
    {
     "name": "stderr",
     "output_type": "stream",
     "text": [
      " ... (more hidden) ..."
     ]
    },
    {
     "name": "stdout",
     "output_type": "stream",
     "text": [
      "2021-02-01\n",
      "2021-02-02\n",
      "2021-02-02\n",
      "2021-02-03\n"
     ]
    },
    {
     "name": "stderr",
     "output_type": "stream",
     "text": [
      " ... (more hidden) ..."
     ]
    },
    {
     "name": "stdout",
     "output_type": "stream",
     "text": [
      "2021-02-03\n",
      "2021-02-04\n",
      "2021-02-04\n",
      "2021-02-05\n"
     ]
    },
    {
     "name": "stderr",
     "output_type": "stream",
     "text": [
      " ... (more hidden) ..."
     ]
    },
    {
     "name": "stdout",
     "output_type": "stream",
     "text": [
      "2021-02-05\n",
      "2021-02-08\n",
      "2021-02-08\n",
      "2021-02-09\n"
     ]
    },
    {
     "name": "stderr",
     "output_type": "stream",
     "text": [
      " ... (more hidden) ..."
     ]
    },
    {
     "name": "stdout",
     "output_type": "stream",
     "text": [
      "2021-02-09\n",
      "2021-02-10\n",
      "2021-02-10\n",
      "2021-02-15\n"
     ]
    },
    {
     "name": "stderr",
     "output_type": "stream",
     "text": [
      " ... (more hidden) ..."
     ]
    },
    {
     "name": "stdout",
     "output_type": "stream",
     "text": [
      "2021-02-15\n",
      "2021-02-16\n",
      "2021-02-16\n",
      "2021-02-17\n"
     ]
    },
    {
     "name": "stderr",
     "output_type": "stream",
     "text": [
      " ... (more hidden) ..."
     ]
    },
    {
     "name": "stdout",
     "output_type": "stream",
     "text": [
      "2021-02-17\n",
      "2021-02-18\n",
      "2021-02-18\n",
      "2021-02-19\n"
     ]
    },
    {
     "name": "stderr",
     "output_type": "stream",
     "text": [
      "\r",
      " ... (more hidden) ..."
     ]
    },
    {
     "name": "stdout",
     "output_type": "stream",
     "text": [
      "2021-02-19\n",
      "2021-02-22\n",
      "2021-02-22\n",
      "2021-02-23\n"
     ]
    },
    {
     "name": "stderr",
     "output_type": "stream",
     "text": [
      " ... (more hidden) ..."
     ]
    },
    {
     "name": "stdout",
     "output_type": "stream",
     "text": [
      "2021-02-23\n",
      "2021-02-24\n",
      "2021-02-24\n",
      "2021-02-25\n"
     ]
    },
    {
     "name": "stderr",
     "output_type": "stream",
     "text": [
      " ... (more hidden) ..."
     ]
    },
    {
     "name": "stdout",
     "output_type": "stream",
     "text": [
      "2021-02-25\n",
      "2021-02-26\n",
      "2021-02-26\n",
      "2021-03-02\n"
     ]
    },
    {
     "name": "stderr",
     "output_type": "stream",
     "text": [
      " ... (more hidden) ..."
     ]
    },
    {
     "name": "stdout",
     "output_type": "stream",
     "text": [
      "2021-03-02\n",
      "2021-03-03\n",
      "2021-03-03\n",
      "2021-03-04\n",
      "2021-03-04\n",
      "2021-03-05\n"
     ]
    },
    {
     "name": "stderr",
     "output_type": "stream",
     "text": [
      " ... (more hidden) ..."
     ]
    },
    {
     "name": "stdout",
     "output_type": "stream",
     "text": [
      "2021-03-05\n",
      "2021-03-08\n",
      "2021-03-08\n",
      "2021-03-09\n"
     ]
    },
    {
     "name": "stderr",
     "output_type": "stream",
     "text": [
      " ... (more hidden) ..."
     ]
    },
    {
     "name": "stdout",
     "output_type": "stream",
     "text": [
      "2021-03-09\n",
      "2021-03-10\n",
      "2021-03-10\n",
      "2021-03-11\n",
      "2021-03-11\n",
      "2021-03-12\n"
     ]
    },
    {
     "name": "stderr",
     "output_type": "stream",
     "text": [
      " ... (more hidden) ..."
     ]
    },
    {
     "name": "stdout",
     "output_type": "stream",
     "text": [
      "2021-03-12\n",
      "2021-03-15\n",
      "2021-03-15\n",
      "2021-03-16\n"
     ]
    },
    {
     "name": "stderr",
     "output_type": "stream",
     "text": [
      " ... (more hidden) ..."
     ]
    },
    {
     "name": "stdout",
     "output_type": "stream",
     "text": [
      "2021-03-16\n",
      "2021-03-17\n",
      "2021-03-17\n",
      "2021-03-18\n"
     ]
    },
    {
     "name": "stderr",
     "output_type": "stream",
     "text": [
      " ... (more hidden) ..."
     ]
    },
    {
     "name": "stdout",
     "output_type": "stream",
     "text": [
      "2021-03-18\n",
      "2021-03-19\n",
      "2021-03-19\n",
      "2021-03-22\n"
     ]
    },
    {
     "name": "stderr",
     "output_type": "stream",
     "text": [
      " ... (more hidden) ..."
     ]
    },
    {
     "name": "stdout",
     "output_type": "stream",
     "text": [
      "2021-03-22\n",
      "2021-03-23\n",
      "2021-03-23\n",
      "2021-03-24\n"
     ]
    },
    {
     "name": "stderr",
     "output_type": "stream",
     "text": [
      " ... (more hidden) ..."
     ]
    },
    {
     "name": "stdout",
     "output_type": "stream",
     "text": [
      "2021-03-24\n",
      "2021-03-25\n",
      "2021-03-25\n",
      "2021-03-26\n"
     ]
    },
    {
     "name": "stderr",
     "output_type": "stream",
     "text": [
      " ... (more hidden) ..."
     ]
    },
    {
     "name": "stdout",
     "output_type": "stream",
     "text": [
      "2021-03-26\n",
      "2021-03-29\n",
      "2021-03-29\n",
      "2021-03-30\n"
     ]
    },
    {
     "name": "stderr",
     "output_type": "stream",
     "text": [
      " ... (more hidden) ..."
     ]
    },
    {
     "name": "stdout",
     "output_type": "stream",
     "text": [
      "2021-03-30\n",
      "2021-03-31\n",
      "2021-03-31\n",
      "2021-04-01\n"
     ]
    },
    {
     "name": "stderr",
     "output_type": "stream",
     "text": [
      " ... (more hidden) ..."
     ]
    },
    {
     "name": "stdout",
     "output_type": "stream",
     "text": [
      "2021-04-01\n",
      "2021-04-02\n",
      "2021-04-02\n",
      "2021-04-05\n"
     ]
    },
    {
     "name": "stderr",
     "output_type": "stream",
     "text": [
      " ... (more hidden) ..."
     ]
    },
    {
     "name": "stdout",
     "output_type": "stream",
     "text": [
      "2021-04-05\n",
      "2021-04-06\n",
      "2021-04-06\n",
      "2021-04-07\n"
     ]
    },
    {
     "name": "stderr",
     "output_type": "stream",
     "text": [
      "\r",
      " ... (more hidden) ..."
     ]
    },
    {
     "name": "stdout",
     "output_type": "stream",
     "text": [
      "2021-04-07\n",
      "2021-04-08\n",
      "2021-04-08\n",
      "2021-04-09\n"
     ]
    },
    {
     "name": "stderr",
     "output_type": "stream",
     "text": [
      " ... (more hidden) ..."
     ]
    },
    {
     "name": "stdout",
     "output_type": "stream",
     "text": [
      "2021-04-09\n",
      "2021-04-12\n",
      "2021-04-12\n",
      "2021-04-13\n"
     ]
    },
    {
     "name": "stderr",
     "output_type": "stream",
     "text": [
      " ... (more hidden) ..."
     ]
    },
    {
     "name": "stdout",
     "output_type": "stream",
     "text": [
      "2021-04-13\n",
      "2021-04-14\n",
      "2021-04-14\n",
      "2021-04-15\n"
     ]
    },
    {
     "name": "stderr",
     "output_type": "stream",
     "text": [
      " ... (more hidden) ..."
     ]
    },
    {
     "name": "stdout",
     "output_type": "stream",
     "text": [
      "2021-04-15\n",
      "2021-04-16\n",
      "2021-04-16\n",
      "2021-04-19\n"
     ]
    },
    {
     "name": "stderr",
     "output_type": "stream",
     "text": [
      " ... (more hidden) ..."
     ]
    },
    {
     "name": "stdout",
     "output_type": "stream",
     "text": [
      "2021-04-19\n",
      "2021-04-20\n",
      "2021-04-20\n",
      "2021-04-21\n"
     ]
    },
    {
     "name": "stderr",
     "output_type": "stream",
     "text": [
      " ... (more hidden) ..."
     ]
    },
    {
     "name": "stdout",
     "output_type": "stream",
     "text": [
      "2021-04-21\n",
      "2021-04-22\n",
      "2021-04-22\n",
      "2021-04-23\n"
     ]
    },
    {
     "name": "stderr",
     "output_type": "stream",
     "text": [
      " ... (more hidden) ..."
     ]
    },
    {
     "name": "stdout",
     "output_type": "stream",
     "text": [
      "2021-04-23\n",
      "2021-04-26\n",
      "2021-04-26\n",
      "2021-04-27\n"
     ]
    },
    {
     "name": "stderr",
     "output_type": "stream",
     "text": [
      " ... (more hidden) ..."
     ]
    },
    {
     "name": "stdout",
     "output_type": "stream",
     "text": [
      "2021-04-27\n",
      "2021-04-28\n",
      "2021-04-28\n",
      "2021-04-29\n"
     ]
    },
    {
     "name": "stderr",
     "output_type": "stream",
     "text": [
      "\r",
      " ... (more hidden) ..."
     ]
    },
    {
     "name": "stdout",
     "output_type": "stream",
     "text": [
      "2021-04-29\n",
      "2021-04-30\n",
      "2021-04-30\n",
      "2021-05-03\n"
     ]
    },
    {
     "name": "stderr",
     "output_type": "stream",
     "text": [
      " ... (more hidden) ..."
     ]
    },
    {
     "name": "stdout",
     "output_type": "stream",
     "text": [
      "2021-05-03\n",
      "2021-05-04\n",
      "2021-05-04\n",
      "2021-05-06\n"
     ]
    },
    {
     "name": "stderr",
     "output_type": "stream",
     "text": [
      " ... (more hidden) ..."
     ]
    },
    {
     "name": "stdout",
     "output_type": "stream",
     "text": [
      "2021-05-06\n",
      "2021-05-07\n",
      "2021-05-07\n",
      "2021-05-10\n"
     ]
    },
    {
     "name": "stderr",
     "output_type": "stream",
     "text": [
      " ... (more hidden) ..."
     ]
    },
    {
     "name": "stdout",
     "output_type": "stream",
     "text": [
      "2021-05-10\n",
      "2021-05-11\n",
      "2021-05-11\n",
      "2021-05-12\n"
     ]
    },
    {
     "name": "stderr",
     "output_type": "stream",
     "text": [
      " ... (more hidden) ..."
     ]
    },
    {
     "name": "stdout",
     "output_type": "stream",
     "text": [
      "2021-05-12\n",
      "2021-05-13\n",
      "2021-05-13\n",
      "2021-05-14\n",
      "2021-05-14\n",
      "2021-05-17\n"
     ]
    },
    {
     "name": "stderr",
     "output_type": "stream",
     "text": [
      " ... (more hidden) ..."
     ]
    },
    {
     "name": "stdout",
     "output_type": "stream",
     "text": [
      "2021-05-17\n",
      "2021-05-18\n",
      "2021-05-18\n",
      "2021-05-20\n"
     ]
    },
    {
     "name": "stderr",
     "output_type": "stream",
     "text": [
      " ... (more hidden) ..."
     ]
    },
    {
     "name": "stdout",
     "output_type": "stream",
     "text": [
      "2021-05-20\n",
      "2021-05-21\n",
      "2021-05-21\n",
      "2021-05-24\n"
     ]
    },
    {
     "name": "stderr",
     "output_type": "stream",
     "text": [
      " ... (more hidden) ..."
     ]
    },
    {
     "name": "stdout",
     "output_type": "stream",
     "text": [
      "2021-05-24\n",
      "2021-05-25\n",
      "2021-05-25\n",
      "2021-05-26\n"
     ]
    },
    {
     "name": "stderr",
     "output_type": "stream",
     "text": [
      " ... (more hidden) ..."
     ]
    },
    {
     "name": "stdout",
     "output_type": "stream",
     "text": [
      "2021-05-26\n",
      "2021-05-27\n",
      "2021-05-27\n",
      "2021-05-28\n"
     ]
    },
    {
     "name": "stderr",
     "output_type": "stream",
     "text": [
      " ... (more hidden) ..."
     ]
    },
    {
     "name": "stdout",
     "output_type": "stream",
     "text": [
      "2021-05-28\n",
      "2021-05-31\n",
      "2021-05-31\n",
      "2021-06-01\n"
     ]
    },
    {
     "name": "stderr",
     "output_type": "stream",
     "text": [
      " ... (more hidden) ..."
     ]
    },
    {
     "name": "stdout",
     "output_type": "stream",
     "text": [
      "2021-06-01\n",
      "2021-06-02\n",
      "2021-06-02\n",
      "2021-06-03\n"
     ]
    },
    {
     "name": "stderr",
     "output_type": "stream",
     "text": [
      " ... (more hidden) ..."
     ]
    },
    {
     "name": "stdout",
     "output_type": "stream",
     "text": [
      "2021-06-03\n",
      "2021-06-04\n",
      "2021-06-04\n",
      "2021-06-07\n"
     ]
    },
    {
     "name": "stderr",
     "output_type": "stream",
     "text": [
      "\r",
      " ... (more hidden) ..."
     ]
    },
    {
     "name": "stdout",
     "output_type": "stream",
     "text": [
      "2021-06-07\n",
      "2021-06-08\n",
      "2021-06-08\n",
      "2021-06-09\n"
     ]
    },
    {
     "name": "stderr",
     "output_type": "stream",
     "text": [
      " ... (more hidden) ..."
     ]
    },
    {
     "name": "stdout",
     "output_type": "stream",
     "text": [
      "2021-06-09\n",
      "2021-06-10\n",
      "2021-06-10\n",
      "2021-06-11\n"
     ]
    },
    {
     "name": "stderr",
     "output_type": "stream",
     "text": [
      " ... (more hidden) ..."
     ]
    },
    {
     "name": "stdout",
     "output_type": "stream",
     "text": [
      "2021-06-11\n",
      "2021-06-14\n",
      "2021-06-14\n",
      "2021-06-15\n"
     ]
    },
    {
     "name": "stderr",
     "output_type": "stream",
     "text": [
      " ... (more hidden) ..."
     ]
    },
    {
     "name": "stdout",
     "output_type": "stream",
     "text": [
      "2021-06-15\n",
      "2021-06-16\n",
      "2021-06-16\n",
      "2021-06-17\n"
     ]
    },
    {
     "name": "stderr",
     "output_type": "stream",
     "text": [
      " ... (more hidden) ..."
     ]
    },
    {
     "name": "stdout",
     "output_type": "stream",
     "text": [
      "2021-06-17\n",
      "2021-06-18\n",
      "2021-06-18\n",
      "2021-06-21\n"
     ]
    },
    {
     "name": "stderr",
     "output_type": "stream",
     "text": [
      " ... (more hidden) ..."
     ]
    },
    {
     "name": "stdout",
     "output_type": "stream",
     "text": [
      "2021-06-21\n",
      "2021-06-22\n",
      "2021-06-22\n",
      "2021-06-23\n"
     ]
    },
    {
     "name": "stderr",
     "output_type": "stream",
     "text": [
      " ... (more hidden) ..."
     ]
    },
    {
     "name": "stdout",
     "output_type": "stream",
     "text": [
      "2021-06-23\n",
      "2021-06-24\n",
      "2021-06-24\n",
      "2021-06-25\n"
     ]
    },
    {
     "name": "stderr",
     "output_type": "stream",
     "text": [
      " ... (more hidden) ..."
     ]
    },
    {
     "name": "stdout",
     "output_type": "stream",
     "text": [
      "2021-06-25\n",
      "2021-06-28\n",
      "2021-06-28\n",
      "2021-06-29\n"
     ]
    },
    {
     "name": "stderr",
     "output_type": "stream",
     "text": [
      " ... (more hidden) ..."
     ]
    },
    {
     "name": "stdout",
     "output_type": "stream",
     "text": [
      "2021-06-29\n",
      "2021-06-30\n",
      "2021-06-30\n",
      "2021-07-01\n"
     ]
    },
    {
     "name": "stderr",
     "output_type": "stream",
     "text": [
      " ... (more hidden) ..."
     ]
    },
    {
     "name": "stdout",
     "output_type": "stream",
     "text": [
      "2021-07-01\n",
      "2021-07-02\n",
      "2021-07-02\n",
      "2021-07-05\n"
     ]
    },
    {
     "name": "stderr",
     "output_type": "stream",
     "text": [
      " ... (more hidden) ..."
     ]
    },
    {
     "name": "stdout",
     "output_type": "stream",
     "text": [
      "2021-07-05\n",
      "2021-07-06\n",
      "2021-07-06\n",
      "2021-07-07\n"
     ]
    },
    {
     "name": "stderr",
     "output_type": "stream",
     "text": [
      " ... (more hidden) ..."
     ]
    },
    {
     "name": "stdout",
     "output_type": "stream",
     "text": [
      "2021-07-07\n",
      "2021-07-08\n",
      "2021-07-08\n",
      "2021-07-09\n"
     ]
    },
    {
     "name": "stderr",
     "output_type": "stream",
     "text": [
      " ... (more hidden) ..."
     ]
    },
    {
     "name": "stdout",
     "output_type": "stream",
     "text": [
      "2021-07-09\n",
      "2021-07-12\n",
      "2021-07-12\n",
      "2021-07-13\n"
     ]
    },
    {
     "name": "stderr",
     "output_type": "stream",
     "text": [
      " ... (more hidden) ..."
     ]
    },
    {
     "name": "stdout",
     "output_type": "stream",
     "text": [
      "2021-07-13\n",
      "2021-07-14\n",
      "2021-07-14\n",
      "2021-07-15\n"
     ]
    },
    {
     "name": "stderr",
     "output_type": "stream",
     "text": [
      " ... (more hidden) ..."
     ]
    },
    {
     "name": "stdout",
     "output_type": "stream",
     "text": [
      "2021-07-15\n",
      "2021-07-16\n",
      "2021-07-16\n",
      "2021-07-19\n"
     ]
    },
    {
     "name": "stderr",
     "output_type": "stream",
     "text": [
      " ... (more hidden) ..."
     ]
    },
    {
     "name": "stdout",
     "output_type": "stream",
     "text": [
      "2021-07-19\n",
      "2021-07-20\n",
      "2021-07-20\n",
      "2021-07-21\n"
     ]
    },
    {
     "name": "stderr",
     "output_type": "stream",
     "text": [
      " ... (more hidden) ..."
     ]
    },
    {
     "name": "stdout",
     "output_type": "stream",
     "text": [
      "2021-07-21\n",
      "2021-07-22\n",
      "2021-07-22\n",
      "2021-07-23\n"
     ]
    },
    {
     "name": "stderr",
     "output_type": "stream",
     "text": [
      " ... (more hidden) ..."
     ]
    },
    {
     "name": "stdout",
     "output_type": "stream",
     "text": [
      "2021-07-23\n",
      "2021-07-26\n",
      "2021-07-26\n"
     ]
    },
    {
     "name": "stderr",
     "output_type": "stream",
     "text": [
      "\r",
      " ... (more hidden) ..."
     ]
    },
    {
     "name": "stdout",
     "output_type": "stream",
     "text": [
      "2021-07-27\n",
      "2021-07-27\n",
      "2021-07-28\n"
     ]
    },
    {
     "name": "stderr",
     "output_type": "stream",
     "text": [
      " ... (more hidden) ..."
     ]
    },
    {
     "name": "stdout",
     "output_type": "stream",
     "text": [
      "2021-07-28\n",
      "2021-07-29\n",
      "2021-07-29\n",
      "2021-07-30\n"
     ]
    },
    {
     "name": "stderr",
     "output_type": "stream",
     "text": [
      " ... (more hidden) ..."
     ]
    },
    {
     "name": "stdout",
     "output_type": "stream",
     "text": [
      "2021-07-30\n",
      "2021-08-02\n",
      "2021-08-02\n",
      "2021-08-03\n"
     ]
    },
    {
     "name": "stderr",
     "output_type": "stream",
     "text": [
      " ... (more hidden) ..."
     ]
    },
    {
     "name": "stdout",
     "output_type": "stream",
     "text": [
      "2021-08-03\n",
      "2021-08-04\n",
      "2021-08-04\n",
      "2021-08-05\n"
     ]
    },
    {
     "name": "stderr",
     "output_type": "stream",
     "text": [
      " ... (more hidden) ..."
     ]
    },
    {
     "name": "stdout",
     "output_type": "stream",
     "text": [
      "2021-08-05\n",
      "2021-08-06\n",
      "2021-08-06\n",
      "2021-08-09\n"
     ]
    },
    {
     "name": "stderr",
     "output_type": "stream",
     "text": [
      " ... (more hidden) ..."
     ]
    },
    {
     "name": "stdout",
     "output_type": "stream",
     "text": [
      "2021-08-09\n",
      "2021-08-10\n",
      "2021-08-10\n",
      "2021-08-11\n"
     ]
    },
    {
     "name": "stderr",
     "output_type": "stream",
     "text": [
      " ... (more hidden) ..."
     ]
    },
    {
     "name": "stdout",
     "output_type": "stream",
     "text": [
      "2021-08-11\n",
      "2021-08-12\n",
      "2021-08-12\n",
      "2021-08-13\n"
     ]
    },
    {
     "name": "stderr",
     "output_type": "stream",
     "text": [
      " ... (more hidden) ..."
     ]
    },
    {
     "name": "stdout",
     "output_type": "stream",
     "text": [
      "2021-08-13\n",
      "2021-08-17\n",
      "2021-08-17\n",
      "2021-08-18\n",
      "2021-08-18\n",
      "2021-08-19\n"
     ]
    },
    {
     "name": "stderr",
     "output_type": "stream",
     "text": [
      " ... (more hidden) ..."
     ]
    },
    {
     "name": "stdout",
     "output_type": "stream",
     "text": [
      "2021-08-19\n",
      "2021-08-20\n",
      "2021-08-20\n",
      "2021-08-23\n"
     ]
    },
    {
     "name": "stderr",
     "output_type": "stream",
     "text": [
      " ... (more hidden) ..."
     ]
    },
    {
     "name": "stdout",
     "output_type": "stream",
     "text": [
      "2021-08-23\n",
      "2021-08-24\n",
      "2021-08-24\n",
      "2021-08-25\n"
     ]
    },
    {
     "name": "stderr",
     "output_type": "stream",
     "text": [
      " ... (more hidden) ..."
     ]
    },
    {
     "name": "stdout",
     "output_type": "stream",
     "text": [
      "2021-08-25\n",
      "2021-08-26\n",
      "2021-08-26\n",
      "2021-08-27\n"
     ]
    },
    {
     "name": "stderr",
     "output_type": "stream",
     "text": [
      " ... (more hidden) ..."
     ]
    },
    {
     "name": "stdout",
     "output_type": "stream",
     "text": [
      "2021-08-27\n",
      "2021-08-30\n",
      "2021-08-30\n",
      "2021-08-31\n"
     ]
    },
    {
     "name": "stderr",
     "output_type": "stream",
     "text": [
      " ... (more hidden) ..."
     ]
    },
    {
     "name": "stdout",
     "output_type": "stream",
     "text": [
      "2021-08-31\n",
      "2021-09-01\n",
      "2021-09-01\n",
      "2021-09-02\n"
     ]
    },
    {
     "name": "stderr",
     "output_type": "stream",
     "text": [
      " ... (more hidden) ..."
     ]
    },
    {
     "name": "stdout",
     "output_type": "stream",
     "text": [
      "2021-09-02\n",
      "2021-09-03\n",
      "2021-09-03\n",
      "2021-09-06\n"
     ]
    },
    {
     "name": "stderr",
     "output_type": "stream",
     "text": [
      " ... (more hidden) ..."
     ]
    },
    {
     "name": "stdout",
     "output_type": "stream",
     "text": [
      "2021-09-06\n",
      "2021-09-07\n",
      "2021-09-07\n",
      "2021-09-08\n"
     ]
    },
    {
     "name": "stderr",
     "output_type": "stream",
     "text": [
      " ... (more hidden) ..."
     ]
    },
    {
     "name": "stdout",
     "output_type": "stream",
     "text": [
      "2021-09-08\n",
      "2021-09-09\n",
      "2021-09-09\n",
      "2021-09-10\n"
     ]
    },
    {
     "name": "stderr",
     "output_type": "stream",
     "text": [
      " ... (more hidden) ..."
     ]
    },
    {
     "name": "stdout",
     "output_type": "stream",
     "text": [
      "2021-09-10\n",
      "2021-09-13\n",
      "2021-09-13\n",
      "2021-09-14\n"
     ]
    },
    {
     "name": "stderr",
     "output_type": "stream",
     "text": [
      " ... (more hidden) ..."
     ]
    },
    {
     "name": "stdout",
     "output_type": "stream",
     "text": [
      "2021-09-14\n",
      "2021-09-15\n",
      "2021-09-15\n",
      "2021-09-16\n",
      "2021-09-16\n",
      "2021-09-17\n"
     ]
    },
    {
     "name": "stderr",
     "output_type": "stream",
     "text": [
      " ... (more hidden) ..."
     ]
    },
    {
     "name": "stdout",
     "output_type": "stream",
     "text": [
      "2021-09-17\n",
      "2021-09-23\n",
      "2021-09-23\n",
      "2021-09-24\n",
      "2021-09-24\n",
      "2021-09-27\n"
     ]
    },
    {
     "name": "stderr",
     "output_type": "stream",
     "text": [
      " ... (more hidden) ..."
     ]
    },
    {
     "name": "stdout",
     "output_type": "stream",
     "text": [
      "2021-09-27\n",
      "2021-09-28\n",
      "2021-09-28\n",
      "2021-09-29\n"
     ]
    },
    {
     "name": "stderr",
     "output_type": "stream",
     "text": [
      " ... (more hidden) ..."
     ]
    },
    {
     "name": "stdout",
     "output_type": "stream",
     "text": [
      "2021-09-29\n",
      "2021-09-30\n",
      "2021-09-30\n",
      "2021-10-01\n"
     ]
    },
    {
     "name": "stderr",
     "output_type": "stream",
     "text": [
      " ... (more hidden) ..."
     ]
    },
    {
     "name": "stdout",
     "output_type": "stream",
     "text": [
      "2021-10-01\n",
      "2021-10-05\n",
      "2021-10-05\n",
      "2021-10-06\n"
     ]
    },
    {
     "name": "stderr",
     "output_type": "stream",
     "text": [
      " ... (more hidden) ..."
     ]
    },
    {
     "name": "stdout",
     "output_type": "stream",
     "text": [
      "2021-10-06\n",
      "2021-10-07\n",
      "2021-10-07\n",
      "2021-10-08\n"
     ]
    },
    {
     "name": "stderr",
     "output_type": "stream",
     "text": [
      " ... (more hidden) ..."
     ]
    },
    {
     "name": "stdout",
     "output_type": "stream",
     "text": [
      "2021-10-08\n",
      "2021-10-12\n",
      "2021-10-12\n",
      "2021-10-13\n"
     ]
    },
    {
     "name": "stderr",
     "output_type": "stream",
     "text": [
      " ... (more hidden) ..."
     ]
    },
    {
     "name": "stdout",
     "output_type": "stream",
     "text": [
      "2021-10-13\n",
      "2021-10-14\n",
      "2021-10-14\n",
      "2021-10-15\n"
     ]
    },
    {
     "name": "stderr",
     "output_type": "stream",
     "text": [
      " ... (more hidden) ..."
     ]
    },
    {
     "name": "stdout",
     "output_type": "stream",
     "text": [
      "2021-10-15\n",
      "2021-10-18\n",
      "2021-10-18\n",
      "2021-10-19\n"
     ]
    },
    {
     "name": "stderr",
     "output_type": "stream",
     "text": [
      " ... (more hidden) ..."
     ]
    },
    {
     "name": "stdout",
     "output_type": "stream",
     "text": [
      "2021-10-19\n",
      "2021-10-20\n",
      "2021-10-20\n",
      "2021-10-21\n",
      "2021-10-21\n",
      "2021-10-22\n"
     ]
    },
    {
     "name": "stderr",
     "output_type": "stream",
     "text": [
      " ... (more hidden) ..."
     ]
    },
    {
     "name": "stdout",
     "output_type": "stream",
     "text": [
      "2021-10-22\n",
      "2021-10-25\n",
      "2021-10-25\n",
      "2021-10-26\n",
      "2021-10-26\n",
      "2021-10-27\n"
     ]
    },
    {
     "name": "stderr",
     "output_type": "stream",
     "text": [
      " ... (more hidden) ..."
     ]
    },
    {
     "name": "stdout",
     "output_type": "stream",
     "text": [
      "2021-10-27\n",
      "2021-10-28\n",
      "2021-10-28\n",
      "2021-10-29\n"
     ]
    },
    {
     "name": "stderr",
     "output_type": "stream",
     "text": [
      " ... (more hidden) ..."
     ]
    },
    {
     "name": "stdout",
     "output_type": "stream",
     "text": [
      "2021-10-29\n",
      "2021-11-01\n",
      "2021-11-01\n",
      "2021-11-02\n"
     ]
    },
    {
     "name": "stderr",
     "output_type": "stream",
     "text": [
      " ... (more hidden) ..."
     ]
    },
    {
     "name": "stdout",
     "output_type": "stream",
     "text": [
      "2021-11-02\n",
      "2021-11-03\n",
      "2021-11-03\n",
      "2021-11-04\n"
     ]
    },
    {
     "name": "stderr",
     "output_type": "stream",
     "text": [
      " ... (more hidden) ..."
     ]
    },
    {
     "name": "stdout",
     "output_type": "stream",
     "text": [
      "2021-11-04\n",
      "2021-11-05\n",
      "2021-11-05\n",
      "2021-11-08\n"
     ]
    },
    {
     "name": "stderr",
     "output_type": "stream",
     "text": [
      " ... (more hidden) ..."
     ]
    },
    {
     "name": "stdout",
     "output_type": "stream",
     "text": [
      "2021-11-08\n",
      "2021-11-09\n",
      "2021-11-09\n",
      "2021-11-10\n"
     ]
    },
    {
     "name": "stderr",
     "output_type": "stream",
     "text": [
      " ... (more hidden) ..."
     ]
    },
    {
     "name": "stdout",
     "output_type": "stream",
     "text": [
      "2021-11-10\n",
      "2021-11-11\n",
      "2021-11-11\n",
      "2021-11-12\n"
     ]
    },
    {
     "name": "stderr",
     "output_type": "stream",
     "text": [
      " ... (more hidden) ..."
     ]
    },
    {
     "name": "stdout",
     "output_type": "stream",
     "text": [
      "2021-11-12\n",
      "2021-11-15\n",
      "2021-11-15\n",
      "2021-11-16\n"
     ]
    },
    {
     "name": "stderr",
     "output_type": "stream",
     "text": [
      " ... (more hidden) ..."
     ]
    },
    {
     "name": "stdout",
     "output_type": "stream",
     "text": [
      "2021-11-16\n",
      "2021-11-17\n",
      "2021-11-17\n",
      "2021-11-18\n"
     ]
    },
    {
     "name": "stderr",
     "output_type": "stream",
     "text": [
      " ... (more hidden) ..."
     ]
    },
    {
     "name": "stdout",
     "output_type": "stream",
     "text": [
      "2021-11-18\n",
      "2021-11-19\n",
      "2021-11-19\n",
      "2021-11-22\n"
     ]
    },
    {
     "name": "stderr",
     "output_type": "stream",
     "text": [
      " ... (more hidden) ..."
     ]
    },
    {
     "name": "stdout",
     "output_type": "stream",
     "text": [
      "2021-11-22\n",
      "2021-11-23\n",
      "2021-11-23\n",
      "2021-11-24\n"
     ]
    },
    {
     "name": "stderr",
     "output_type": "stream",
     "text": [
      " ... (more hidden) ..."
     ]
    },
    {
     "name": "stdout",
     "output_type": "stream",
     "text": [
      "2021-11-24\n",
      "2021-11-25\n",
      "2021-11-25\n",
      "2021-11-26\n",
      "2021-11-26\n",
      "2021-11-29\n"
     ]
    },
    {
     "name": "stderr",
     "output_type": "stream",
     "text": [
      " ... (more hidden) ..."
     ]
    },
    {
     "name": "stdout",
     "output_type": "stream",
     "text": [
      "2021-11-29\n",
      "2021-11-30\n",
      "2021-11-30\n",
      "2021-12-01\n"
     ]
    },
    {
     "name": "stderr",
     "output_type": "stream",
     "text": [
      " ... (more hidden) ..."
     ]
    },
    {
     "name": "stdout",
     "output_type": "stream",
     "text": [
      "2021-12-01\n",
      "2021-12-02\n",
      "2021-12-02\n",
      "2021-12-03\n"
     ]
    },
    {
     "name": "stderr",
     "output_type": "stream",
     "text": [
      "\r",
      " ... (more hidden) ..."
     ]
    },
    {
     "name": "stdout",
     "output_type": "stream",
     "text": [
      "2021-12-03\n",
      "2021-12-06\n",
      "2021-12-06\n",
      "2021-12-07\n"
     ]
    },
    {
     "name": "stderr",
     "output_type": "stream",
     "text": [
      " ... (more hidden) ..."
     ]
    },
    {
     "name": "stdout",
     "output_type": "stream",
     "text": [
      "2021-12-07\n",
      "2021-12-08\n",
      "2021-12-08\n"
     ]
    },
    {
     "name": "stderr",
     "output_type": "stream",
     "text": [
      " ... (more hidden) ..."
     ]
    },
    {
     "name": "stdout",
     "output_type": "stream",
     "text": [
      "2021-12-09\n",
      "2021-12-09\n",
      "2021-12-10\n",
      "2021-12-10\n",
      "2021-12-13\n"
     ]
    },
    {
     "name": "stderr",
     "output_type": "stream",
     "text": [
      " ... (more hidden) ..."
     ]
    },
    {
     "name": "stdout",
     "output_type": "stream",
     "text": [
      "2021-12-13\n",
      "2021-12-14\n",
      "2021-12-14\n",
      "2021-12-15\n"
     ]
    },
    {
     "name": "stderr",
     "output_type": "stream",
     "text": [
      " ... (more hidden) ..."
     ]
    },
    {
     "name": "stdout",
     "output_type": "stream",
     "text": [
      "2021-12-15\n",
      "2021-12-16\n",
      "2021-12-16\n",
      "2021-12-17\n",
      "2021-12-17\n",
      "2021-12-20\n"
     ]
    },
    {
     "name": "stderr",
     "output_type": "stream",
     "text": [
      " ... (more hidden) ..."
     ]
    },
    {
     "name": "stdout",
     "output_type": "stream",
     "text": [
      "2021-12-20\n",
      "2021-12-21\n",
      "2021-12-21\n",
      "2021-12-22\n"
     ]
    },
    {
     "name": "stderr",
     "output_type": "stream",
     "text": [
      " ... (more hidden) ..."
     ]
    },
    {
     "name": "stdout",
     "output_type": "stream",
     "text": [
      "2021-12-22\n",
      "2021-12-23\n",
      "2021-12-23\n",
      "2021-12-24\n"
     ]
    },
    {
     "name": "stderr",
     "output_type": "stream",
     "text": [
      " ... (more hidden) ..."
     ]
    },
    {
     "name": "stdout",
     "output_type": "stream",
     "text": [
      "2021-12-24\n",
      "2021-12-27\n",
      "2021-12-27\n",
      "2021-12-28\n"
     ]
    },
    {
     "name": "stderr",
     "output_type": "stream",
     "text": [
      " ... (more hidden) ..."
     ]
    },
    {
     "name": "stdout",
     "output_type": "stream",
     "text": [
      "2021-12-28\n",
      "2021-12-29\n",
      "2021-12-29\n",
      "2021-12-30\n"
     ]
    },
    {
     "name": "stderr",
     "output_type": "stream",
     "text": [
      " ... (more hidden) ..."
     ]
    },
    {
     "name": "stdout",
     "output_type": "stream",
     "text": [
      "2021-12-30\n",
      "2022-01-03\n",
      "2022-01-03\n",
      "2022-01-04\n"
     ]
    },
    {
     "name": "stderr",
     "output_type": "stream",
     "text": [
      " ... (more hidden) ..."
     ]
    },
    {
     "name": "stdout",
     "output_type": "stream",
     "text": [
      "2022-01-04\n",
      "2022-01-05\n",
      "2022-01-05\n",
      "2022-01-06\n"
     ]
    },
    {
     "name": "stderr",
     "output_type": "stream",
     "text": [
      " ... (more hidden) ..."
     ]
    },
    {
     "name": "stdout",
     "output_type": "stream",
     "text": [
      "2022-01-06\n",
      "2022-01-07\n",
      "2022-01-07\n",
      "2022-01-10\n"
     ]
    },
    {
     "name": "stderr",
     "output_type": "stream",
     "text": [
      " ... (more hidden) ..."
     ]
    },
    {
     "name": "stdout",
     "output_type": "stream",
     "text": [
      "2022-01-10\n",
      "2022-01-11\n",
      "2022-01-11\n",
      "2022-01-12\n"
     ]
    },
    {
     "name": "stderr",
     "output_type": "stream",
     "text": [
      " ... (more hidden) ..."
     ]
    },
    {
     "name": "stdout",
     "output_type": "stream",
     "text": [
      "2022-01-12\n",
      "2022-01-13\n",
      "2022-01-13\n",
      "2022-01-14\n"
     ]
    },
    {
     "name": "stderr",
     "output_type": "stream",
     "text": [
      " ... (more hidden) ..."
     ]
    },
    {
     "name": "stdout",
     "output_type": "stream",
     "text": [
      "2022-01-14\n",
      "2022-01-17\n",
      "2022-01-17\n",
      "2022-01-18\n"
     ]
    },
    {
     "name": "stderr",
     "output_type": "stream",
     "text": [
      " ... (more hidden) ..."
     ]
    },
    {
     "name": "stdout",
     "output_type": "stream",
     "text": [
      "2022-01-18\n",
      "2022-01-19\n",
      "2022-01-19\n",
      "2022-01-20\n"
     ]
    },
    {
     "name": "stderr",
     "output_type": "stream",
     "text": [
      " ... (more hidden) ..."
     ]
    },
    {
     "name": "stdout",
     "output_type": "stream",
     "text": [
      "2022-01-20\n",
      "2022-01-21\n",
      "2022-01-21\n",
      "2022-01-24\n"
     ]
    },
    {
     "name": "stderr",
     "output_type": "stream",
     "text": [
      " ... (more hidden) ..."
     ]
    },
    {
     "name": "stdout",
     "output_type": "stream",
     "text": [
      "2022-01-24\n",
      "2022-01-25\n",
      "2022-01-25\n",
      "2022-01-26\n"
     ]
    },
    {
     "name": "stderr",
     "output_type": "stream",
     "text": [
      " ... (more hidden) ..."
     ]
    },
    {
     "name": "stdout",
     "output_type": "stream",
     "text": [
      "2022-01-26\n",
      "2022-01-27\n",
      "2022-01-27\n",
      "2022-01-28\n"
     ]
    },
    {
     "name": "stderr",
     "output_type": "stream",
     "text": [
      " ... (more hidden) ..."
     ]
    },
    {
     "name": "stdout",
     "output_type": "stream",
     "text": [
      "2022-01-28\n",
      "2022-02-03\n",
      "2022-02-03\n",
      "2022-02-04\n"
     ]
    },
    {
     "name": "stderr",
     "output_type": "stream",
     "text": [
      " ... (more hidden) ..."
     ]
    },
    {
     "name": "stdout",
     "output_type": "stream",
     "text": [
      "2022-02-04\n",
      "2022-02-07\n",
      "2022-02-07\n",
      "2022-02-08\n",
      "2022-02-08\n",
      "2022-02-09\n"
     ]
    },
    {
     "name": "stderr",
     "output_type": "stream",
     "text": [
      " ... (more hidden) ..."
     ]
    },
    {
     "name": "stdout",
     "output_type": "stream",
     "text": [
      "2022-02-09\n",
      "2022-02-10\n",
      "2022-02-10\n",
      "2022-02-11\n"
     ]
    },
    {
     "name": "stderr",
     "output_type": "stream",
     "text": [
      " ... (more hidden) ..."
     ]
    },
    {
     "name": "stdout",
     "output_type": "stream",
     "text": [
      "2022-02-11\n",
      "2022-02-14\n",
      "2022-02-14\n",
      "2022-02-15\n",
      "2022-02-15\n",
      "2022-02-16\n"
     ]
    },
    {
     "name": "stderr",
     "output_type": "stream",
     "text": [
      " ... (more hidden) ..."
     ]
    },
    {
     "name": "stdout",
     "output_type": "stream",
     "text": [
      "2022-02-16\n",
      "2022-02-17\n",
      "2022-02-17\n",
      "2022-02-18\n"
     ]
    },
    {
     "name": "stderr",
     "output_type": "stream",
     "text": [
      " ... (more hidden) ..."
     ]
    },
    {
     "name": "stdout",
     "output_type": "stream",
     "text": [
      "2022-02-18\n",
      "2022-02-21\n",
      "2022-02-21\n",
      "2022-02-22\n"
     ]
    },
    {
     "name": "stderr",
     "output_type": "stream",
     "text": [
      " ... (more hidden) ..."
     ]
    },
    {
     "name": "stdout",
     "output_type": "stream",
     "text": [
      "2022-02-22\n",
      "2022-02-23\n",
      "2022-02-23\n",
      "2022-02-24\n",
      "2022-02-24\n",
      "2022-02-25\n"
     ]
    },
    {
     "name": "stderr",
     "output_type": "stream",
     "text": [
      " ... (more hidden) ..."
     ]
    },
    {
     "name": "stdout",
     "output_type": "stream",
     "text": [
      "2022-02-25\n",
      "2022-02-28\n",
      "2022-02-28\n",
      "2022-03-02\n"
     ]
    },
    {
     "name": "stderr",
     "output_type": "stream",
     "text": [
      " ... (more hidden) ..."
     ]
    },
    {
     "name": "stdout",
     "output_type": "stream",
     "text": [
      "2022-03-02\n",
      "2022-03-03\n",
      "2022-03-03\n",
      "2022-03-04\n"
     ]
    },
    {
     "name": "stderr",
     "output_type": "stream",
     "text": [
      "\r",
      " ... (more hidden) ..."
     ]
    },
    {
     "name": "stdout",
     "output_type": "stream",
     "text": [
      "2022-03-04\n",
      "2022-03-07\n",
      "2022-03-07\n",
      "2022-03-08\n"
     ]
    },
    {
     "name": "stderr",
     "output_type": "stream",
     "text": [
      " ... (more hidden) ..."
     ]
    },
    {
     "name": "stdout",
     "output_type": "stream",
     "text": [
      "2022-03-08\n",
      "2022-03-10\n",
      "2022-03-10\n",
      "2022-03-11\n"
     ]
    },
    {
     "name": "stderr",
     "output_type": "stream",
     "text": [
      " ... (more hidden) ..."
     ]
    },
    {
     "name": "stdout",
     "output_type": "stream",
     "text": [
      "2022-03-11\n",
      "2022-03-14\n",
      "2022-03-14\n",
      "2022-03-15\n"
     ]
    },
    {
     "name": "stderr",
     "output_type": "stream",
     "text": [
      " ... (more hidden) ..."
     ]
    },
    {
     "name": "stdout",
     "output_type": "stream",
     "text": [
      "2022-03-15\n",
      "2022-03-16\n",
      "2022-03-16\n",
      "2022-03-17\n"
     ]
    },
    {
     "name": "stderr",
     "output_type": "stream",
     "text": [
      " ... (more hidden) ..."
     ]
    },
    {
     "name": "stdout",
     "output_type": "stream",
     "text": [
      "2022-03-17\n",
      "2022-03-18\n",
      "2022-03-18\n",
      "2022-03-21\n"
     ]
    },
    {
     "name": "stderr",
     "output_type": "stream",
     "text": [
      " ... (more hidden) ..."
     ]
    },
    {
     "name": "stdout",
     "output_type": "stream",
     "text": [
      "2022-03-21\n",
      "2022-03-22\n",
      "2022-03-22\n",
      "2022-03-23\n"
     ]
    },
    {
     "name": "stderr",
     "output_type": "stream",
     "text": [
      " ... (more hidden) ..."
     ]
    },
    {
     "name": "stdout",
     "output_type": "stream",
     "text": [
      "2022-03-23\n",
      "2022-03-24\n",
      "2022-03-24\n",
      "2022-03-25\n"
     ]
    },
    {
     "name": "stderr",
     "output_type": "stream",
     "text": [
      " ... (more hidden) ..."
     ]
    },
    {
     "name": "stdout",
     "output_type": "stream",
     "text": [
      "2022-03-25\n",
      "2022-03-28\n",
      "2022-03-28\n",
      "2022-03-29\n"
     ]
    },
    {
     "name": "stderr",
     "output_type": "stream",
     "text": [
      " ... (more hidden) ..."
     ]
    },
    {
     "name": "stdout",
     "output_type": "stream",
     "text": [
      "2022-03-29\n",
      "2022-03-30\n",
      "2022-03-30\n",
      "2022-03-31\n"
     ]
    },
    {
     "name": "stderr",
     "output_type": "stream",
     "text": [
      " ... (more hidden) ..."
     ]
    },
    {
     "name": "stdout",
     "output_type": "stream",
     "text": [
      "2022-03-31\n",
      "2022-04-01\n",
      "2022-04-01\n",
      "2022-04-04\n",
      "2022-04-04\n",
      "2022-04-05\n"
     ]
    },
    {
     "name": "stderr",
     "output_type": "stream",
     "text": [
      " ... (more hidden) ..."
     ]
    },
    {
     "name": "stdout",
     "output_type": "stream",
     "text": [
      "2022-04-05\n",
      "2022-04-06\n",
      "2022-04-06\n",
      "2022-04-07\n"
     ]
    },
    {
     "name": "stderr",
     "output_type": "stream",
     "text": [
      " ... (more hidden) ..."
     ]
    },
    {
     "name": "stdout",
     "output_type": "stream",
     "text": [
      "2022-04-07\n",
      "2022-04-08\n",
      "2022-04-08\n",
      "2022-04-11\n"
     ]
    },
    {
     "name": "stderr",
     "output_type": "stream",
     "text": [
      " ... (more hidden) ..."
     ]
    },
    {
     "name": "stdout",
     "output_type": "stream",
     "text": [
      "2022-04-11\n",
      "2022-04-12\n",
      "2022-04-12\n",
      "2022-04-13\n"
     ]
    },
    {
     "name": "stderr",
     "output_type": "stream",
     "text": [
      " ... (more hidden) ..."
     ]
    },
    {
     "name": "stdout",
     "output_type": "stream",
     "text": [
      "2022-04-13\n",
      "2022-04-14\n",
      "2022-04-14\n",
      "2022-04-15\n"
     ]
    },
    {
     "name": "stderr",
     "output_type": "stream",
     "text": [
      " ... (more hidden) ..."
     ]
    },
    {
     "name": "stdout",
     "output_type": "stream",
     "text": [
      "2022-04-15\n",
      "2022-04-18\n",
      "2022-04-18\n",
      "2022-04-19\n"
     ]
    },
    {
     "name": "stderr",
     "output_type": "stream",
     "text": [
      " ... (more hidden) ..."
     ]
    },
    {
     "name": "stdout",
     "output_type": "stream",
     "text": [
      "2022-04-19\n",
      "2022-04-20\n",
      "2022-04-20\n",
      "2022-04-21\n"
     ]
    },
    {
     "name": "stderr",
     "output_type": "stream",
     "text": [
      "\r",
      " ... (more hidden) ..."
     ]
    },
    {
     "name": "stdout",
     "output_type": "stream",
     "text": [
      "2022-04-21\n",
      "2022-04-22\n",
      "2022-04-22\n",
      "2022-04-25\n"
     ]
    },
    {
     "name": "stderr",
     "output_type": "stream",
     "text": [
      " ... (more hidden) ..."
     ]
    },
    {
     "name": "stdout",
     "output_type": "stream",
     "text": [
      "2022-04-25\n",
      "2022-04-26\n",
      "2022-04-26\n",
      "2022-04-27\n"
     ]
    },
    {
     "name": "stderr",
     "output_type": "stream",
     "text": [
      " ... (more hidden) ..."
     ]
    },
    {
     "name": "stdout",
     "output_type": "stream",
     "text": [
      "2022-04-27\n",
      "2022-04-28\n",
      "2022-04-28\n",
      "2022-04-29\n"
     ]
    },
    {
     "name": "stderr",
     "output_type": "stream",
     "text": [
      " ... (more hidden) ..."
     ]
    },
    {
     "name": "stdout",
     "output_type": "stream",
     "text": [
      "2022-04-29\n",
      "2022-05-02\n",
      "2022-05-02\n",
      "2022-05-03\n"
     ]
    },
    {
     "name": "stderr",
     "output_type": "stream",
     "text": [
      " ... (more hidden) ..."
     ]
    },
    {
     "name": "stdout",
     "output_type": "stream",
     "text": [
      "2022-05-03\n",
      "2022-05-04\n",
      "2022-05-04\n",
      "2022-05-06\n"
     ]
    },
    {
     "name": "stderr",
     "output_type": "stream",
     "text": [
      " ... (more hidden) ..."
     ]
    },
    {
     "name": "stdout",
     "output_type": "stream",
     "text": [
      "2022-05-06\n",
      "2022-05-09\n",
      "2022-05-09\n",
      "2022-05-10\n"
     ]
    },
    {
     "name": "stderr",
     "output_type": "stream",
     "text": [
      " ... (more hidden) ..."
     ]
    },
    {
     "name": "stdout",
     "output_type": "stream",
     "text": [
      "2022-05-10\n",
      "2022-05-11\n",
      "2022-05-11\n",
      "2022-05-12\n"
     ]
    },
    {
     "name": "stderr",
     "output_type": "stream",
     "text": [
      " ... (more hidden) ..."
     ]
    },
    {
     "name": "stdout",
     "output_type": "stream",
     "text": [
      "2022-05-12\n",
      "2022-05-13\n",
      "2022-05-13\n",
      "2022-05-16\n",
      "2022-05-16\n"
     ]
    },
    {
     "name": "stderr",
     "output_type": "stream",
     "text": [
      " ... (more hidden) ..."
     ]
    },
    {
     "name": "stdout",
     "output_type": "stream",
     "text": [
      "2022-05-17\n",
      "2022-05-17\n",
      "2022-05-18\n"
     ]
    },
    {
     "name": "stderr",
     "output_type": "stream",
     "text": [
      " ... (more hidden) ..."
     ]
    },
    {
     "name": "stdout",
     "output_type": "stream",
     "text": [
      "2022-05-18\n",
      "2022-05-19\n",
      "2022-05-19\n",
      "2022-05-20\n",
      "2022-05-20\n",
      "2022-05-23\n"
     ]
    },
    {
     "name": "stderr",
     "output_type": "stream",
     "text": [
      " ... (more hidden) ..."
     ]
    },
    {
     "name": "stdout",
     "output_type": "stream",
     "text": [
      "2022-05-23\n",
      "2022-05-24\n",
      "2022-05-24\n",
      "2022-05-25\n"
     ]
    },
    {
     "name": "stderr",
     "output_type": "stream",
     "text": [
      " ... (more hidden) ..."
     ]
    },
    {
     "name": "stdout",
     "output_type": "stream",
     "text": [
      "2022-05-25\n",
      "2022-05-26\n",
      "2022-05-26\n",
      "2022-05-27\n",
      "2022-05-27\n",
      "2022-05-30\n"
     ]
    },
    {
     "name": "stderr",
     "output_type": "stream",
     "text": [
      " ... (more hidden) ..."
     ]
    },
    {
     "name": "stdout",
     "output_type": "stream",
     "text": [
      "2022-05-30\n",
      "2022-05-31\n",
      "2022-05-31\n",
      "2022-06-02\n",
      "2022-06-02\n",
      "2022-06-03\n"
     ]
    },
    {
     "name": "stderr",
     "output_type": "stream",
     "text": [
      " ... (more hidden) ..."
     ]
    },
    {
     "name": "stdout",
     "output_type": "stream",
     "text": [
      "2022-06-03\n",
      "2022-06-07\n",
      "2022-06-07\n",
      "2022-06-08\n"
     ]
    },
    {
     "name": "stderr",
     "output_type": "stream",
     "text": [
      " ... (more hidden) ..."
     ]
    },
    {
     "name": "stdout",
     "output_type": "stream",
     "text": [
      "2022-06-08\n",
      "2022-06-09\n",
      "2022-06-09\n",
      "2022-06-10\n"
     ]
    },
    {
     "name": "stderr",
     "output_type": "stream",
     "text": [
      " ... (more hidden) ..."
     ]
    },
    {
     "name": "stdout",
     "output_type": "stream",
     "text": [
      "2022-06-10\n",
      "2022-06-13\n",
      "2022-06-13\n",
      "2022-06-14\n"
     ]
    },
    {
     "name": "stderr",
     "output_type": "stream",
     "text": [
      " ... (more hidden) ..."
     ]
    },
    {
     "name": "stdout",
     "output_type": "stream",
     "text": [
      "2022-06-14\n",
      "2022-06-15\n",
      "2022-06-15\n",
      "2022-06-16\n"
     ]
    },
    {
     "name": "stderr",
     "output_type": "stream",
     "text": [
      " ... (more hidden) ..."
     ]
    },
    {
     "name": "stdout",
     "output_type": "stream",
     "text": [
      "2022-06-16\n",
      "2022-06-17\n",
      "2022-06-17\n",
      "2022-06-20\n"
     ]
    },
    {
     "name": "stderr",
     "output_type": "stream",
     "text": [
      " ... (more hidden) ..."
     ]
    },
    {
     "name": "stdout",
     "output_type": "stream",
     "text": [
      "2022-06-20\n",
      "2022-06-21\n",
      "2022-06-21\n",
      "2022-06-22\n"
     ]
    },
    {
     "name": "stderr",
     "output_type": "stream",
     "text": [
      " ... (more hidden) ..."
     ]
    },
    {
     "name": "stdout",
     "output_type": "stream",
     "text": [
      "2022-06-22\n",
      "2022-06-23\n",
      "2022-06-23\n",
      "2022-06-24\n"
     ]
    },
    {
     "name": "stderr",
     "output_type": "stream",
     "text": [
      " ... (more hidden) ..."
     ]
    },
    {
     "name": "stdout",
     "output_type": "stream",
     "text": [
      "2022-06-24\n",
      "2022-06-27\n",
      "2022-06-27\n",
      "2022-06-28\n"
     ]
    },
    {
     "name": "stderr",
     "output_type": "stream",
     "text": [
      " ... (more hidden) ..."
     ]
    },
    {
     "name": "stdout",
     "output_type": "stream",
     "text": [
      "2022-06-28\n",
      "2022-06-29\n",
      "2022-06-29\n",
      "2022-06-30\n"
     ]
    },
    {
     "name": "stderr",
     "output_type": "stream",
     "text": [
      " ... (more hidden) ..."
     ]
    },
    {
     "name": "stdout",
     "output_type": "stream",
     "text": [
      "2022-06-30\n",
      "2022-07-01\n",
      "2022-07-01\n",
      "2022-07-04\n"
     ]
    },
    {
     "name": "stderr",
     "output_type": "stream",
     "text": [
      " ... (more hidden) ..."
     ]
    },
    {
     "name": "stdout",
     "output_type": "stream",
     "text": [
      "2022-07-04\n",
      "2022-07-05\n",
      "2022-07-05\n",
      "2022-07-06\n"
     ]
    },
    {
     "name": "stderr",
     "output_type": "stream",
     "text": [
      " ... (more hidden) ..."
     ]
    },
    {
     "name": "stdout",
     "output_type": "stream",
     "text": [
      "2022-07-06\n",
      "2022-07-07\n",
      "2022-07-07\n",
      "2022-07-08\n",
      "2022-07-08\n",
      "2022-07-11\n"
     ]
    },
    {
     "name": "stderr",
     "output_type": "stream",
     "text": [
      " ... (more hidden) ..."
     ]
    },
    {
     "name": "stdout",
     "output_type": "stream",
     "text": [
      "2022-07-11\n",
      "2022-07-12\n",
      "2022-07-12\n",
      "2022-07-13\n"
     ]
    },
    {
     "name": "stderr",
     "output_type": "stream",
     "text": [
      " ... (more hidden) ..."
     ]
    },
    {
     "name": "stdout",
     "output_type": "stream",
     "text": [
      "2022-07-13\n",
      "2022-07-14\n",
      "2022-07-14\n",
      "2022-07-15\n",
      "2022-07-15\n",
      "2022-07-18\n"
     ]
    },
    {
     "name": "stderr",
     "output_type": "stream",
     "text": [
      " ... (more hidden) ..."
     ]
    },
    {
     "name": "stdout",
     "output_type": "stream",
     "text": [
      "2022-07-18\n",
      "2022-07-19\n",
      "2022-07-19\n",
      "2022-07-20\n"
     ]
    },
    {
     "name": "stderr",
     "output_type": "stream",
     "text": [
      " ... (more hidden) ..."
     ]
    },
    {
     "name": "stdout",
     "output_type": "stream",
     "text": [
      "2022-07-20\n",
      "2022-07-21\n",
      "2022-07-21\n",
      "2022-07-22\n"
     ]
    },
    {
     "name": "stderr",
     "output_type": "stream",
     "text": [
      " ... (more hidden) ..."
     ]
    },
    {
     "name": "stdout",
     "output_type": "stream",
     "text": [
      "2022-07-22\n",
      "2022-07-25\n",
      "2022-07-25\n",
      "2022-07-26\n"
     ]
    },
    {
     "name": "stderr",
     "output_type": "stream",
     "text": [
      " ... (more hidden) ..."
     ]
    },
    {
     "name": "stdout",
     "output_type": "stream",
     "text": [
      "2022-07-26\n",
      "2022-07-27\n",
      "2022-07-27\n",
      "2022-07-28\n"
     ]
    },
    {
     "name": "stderr",
     "output_type": "stream",
     "text": [
      " ... (more hidden) ..."
     ]
    },
    {
     "name": "stdout",
     "output_type": "stream",
     "text": [
      "2022-07-28\n",
      "2022-07-29\n",
      "2022-07-29\n",
      "2022-08-01\n"
     ]
    },
    {
     "name": "stderr",
     "output_type": "stream",
     "text": [
      "\r",
      " ... (more hidden) ..."
     ]
    },
    {
     "name": "stdout",
     "output_type": "stream",
     "text": [
      "2022-08-01\n",
      "2022-08-02\n",
      "2022-08-02\n",
      "2022-08-03\n"
     ]
    },
    {
     "name": "stderr",
     "output_type": "stream",
     "text": [
      " ... (more hidden) ..."
     ]
    },
    {
     "name": "stdout",
     "output_type": "stream",
     "text": [
      "2022-08-03\n",
      "2022-08-04\n",
      "2022-08-04\n",
      "2022-08-05\n"
     ]
    },
    {
     "name": "stderr",
     "output_type": "stream",
     "text": [
      " ... (more hidden) ..."
     ]
    },
    {
     "name": "stdout",
     "output_type": "stream",
     "text": [
      "2022-08-05\n",
      "2022-08-08\n",
      "2022-08-08\n",
      "2022-08-09\n"
     ]
    },
    {
     "name": "stderr",
     "output_type": "stream",
     "text": [
      " ... (more hidden) ..."
     ]
    },
    {
     "name": "stdout",
     "output_type": "stream",
     "text": [
      "2022-08-09\n",
      "2022-08-10\n",
      "2022-08-10\n",
      "2022-08-11\n"
     ]
    },
    {
     "name": "stderr",
     "output_type": "stream",
     "text": [
      " ... (more hidden) ..."
     ]
    },
    {
     "name": "stdout",
     "output_type": "stream",
     "text": [
      "2022-08-11\n",
      "2022-08-12\n",
      "2022-08-12\n",
      "2022-08-16\n"
     ]
    },
    {
     "name": "stderr",
     "output_type": "stream",
     "text": [
      " ... (more hidden) ..."
     ]
    },
    {
     "name": "stdout",
     "output_type": "stream",
     "text": [
      "2022-08-16\n",
      "2022-08-17\n",
      "2022-08-17\n",
      "2022-08-18\n"
     ]
    },
    {
     "name": "stderr",
     "output_type": "stream",
     "text": [
      " ... (more hidden) ..."
     ]
    },
    {
     "name": "stdout",
     "output_type": "stream",
     "text": [
      "2022-08-18\n",
      "2022-08-19\n",
      "2022-08-19\n",
      "2022-08-22\n"
     ]
    },
    {
     "name": "stderr",
     "output_type": "stream",
     "text": [
      " ... (more hidden) ..."
     ]
    },
    {
     "name": "stdout",
     "output_type": "stream",
     "text": [
      "2022-08-22\n",
      "2022-08-23\n",
      "2022-08-23\n",
      "2022-08-24\n"
     ]
    },
    {
     "name": "stderr",
     "output_type": "stream",
     "text": [
      " ... (more hidden) ..."
     ]
    },
    {
     "name": "stdout",
     "output_type": "stream",
     "text": [
      "2022-08-24\n",
      "2022-08-25\n",
      "2022-08-25\n",
      "2022-08-26\n"
     ]
    },
    {
     "name": "stderr",
     "output_type": "stream",
     "text": [
      " ... (more hidden) ..."
     ]
    },
    {
     "name": "stdout",
     "output_type": "stream",
     "text": [
      "2022-08-26\n",
      "2022-08-29\n",
      "2022-08-29\n",
      "2022-08-30\n",
      "2022-08-30\n",
      "2022-08-31\n"
     ]
    },
    {
     "name": "stderr",
     "output_type": "stream",
     "text": [
      " ... (more hidden) ..."
     ]
    },
    {
     "name": "stdout",
     "output_type": "stream",
     "text": [
      "2022-08-31\n",
      "2022-09-01\n",
      "2022-09-01\n",
      "2022-09-02\n"
     ]
    },
    {
     "name": "stderr",
     "output_type": "stream",
     "text": [
      " ... (more hidden) ..."
     ]
    },
    {
     "name": "stdout",
     "output_type": "stream",
     "text": [
      "2022-09-02\n",
      "2022-09-05\n",
      "2022-09-05\n",
      "2022-09-06\n"
     ]
    },
    {
     "name": "stderr",
     "output_type": "stream",
     "text": [
      " ... (more hidden) ..."
     ]
    },
    {
     "name": "stdout",
     "output_type": "stream",
     "text": [
      "2022-09-06\n",
      "2022-09-07\n",
      "2022-09-07\n",
      "2022-09-08\n"
     ]
    },
    {
     "name": "stderr",
     "output_type": "stream",
     "text": [
      " ... (more hidden) ..."
     ]
    },
    {
     "name": "stdout",
     "output_type": "stream",
     "text": [
      "2022-09-08\n",
      "2022-09-13\n",
      "2022-09-13\n",
      "2022-09-14\n"
     ]
    },
    {
     "name": "stderr",
     "output_type": "stream",
     "text": [
      " ... (more hidden) ..."
     ]
    },
    {
     "name": "stdout",
     "output_type": "stream",
     "text": [
      "2022-09-14\n",
      "2022-09-15\n",
      "2022-09-15\n",
      "2022-09-16\n"
     ]
    },
    {
     "name": "stderr",
     "output_type": "stream",
     "text": [
      " ... (more hidden) ..."
     ]
    },
    {
     "name": "stdout",
     "output_type": "stream",
     "text": [
      "2022-09-16\n",
      "2022-09-19\n",
      "2022-09-19\n",
      "2022-09-20\n"
     ]
    },
    {
     "name": "stderr",
     "output_type": "stream",
     "text": [
      " ... (more hidden) ..."
     ]
    },
    {
     "name": "stdout",
     "output_type": "stream",
     "text": [
      "2022-09-20\n",
      "2022-09-21\n",
      "2022-09-21\n",
      "2022-09-22\n"
     ]
    },
    {
     "name": "stderr",
     "output_type": "stream",
     "text": [
      " ... (more hidden) ..."
     ]
    },
    {
     "name": "stdout",
     "output_type": "stream",
     "text": [
      "2022-09-22\n",
      "2022-09-23\n",
      "2022-09-23\n",
      "2022-09-26\n"
     ]
    },
    {
     "name": "stderr",
     "output_type": "stream",
     "text": [
      " ... (more hidden) ..."
     ]
    },
    {
     "name": "stdout",
     "output_type": "stream",
     "text": [
      "2022-09-26\n",
      "2022-09-27\n",
      "2022-09-27\n",
      "2022-09-28\n"
     ]
    },
    {
     "name": "stderr",
     "output_type": "stream",
     "text": [
      " ... (more hidden) ..."
     ]
    },
    {
     "name": "stdout",
     "output_type": "stream",
     "text": [
      "2022-09-28\n",
      "2022-09-29\n",
      "2022-09-29\n",
      "2022-09-30\n"
     ]
    },
    {
     "name": "stderr",
     "output_type": "stream",
     "text": [
      " ... (more hidden) ..."
     ]
    },
    {
     "name": "stdout",
     "output_type": "stream",
     "text": [
      "2022-09-30\n",
      "2022-10-04\n",
      "2022-10-04\n",
      "2022-10-05\n"
     ]
    },
    {
     "name": "stderr",
     "output_type": "stream",
     "text": [
      " ... (more hidden) ..."
     ]
    },
    {
     "name": "stdout",
     "output_type": "stream",
     "text": [
      "2022-10-05\n",
      "2022-10-06\n",
      "2022-10-06\n",
      "2022-10-07\n"
     ]
    },
    {
     "name": "stderr",
     "output_type": "stream",
     "text": [
      " ... (more hidden) ..."
     ]
    },
    {
     "name": "stdout",
     "output_type": "stream",
     "text": [
      "2022-10-07\n",
      "2022-10-11\n",
      "2022-10-11\n",
      "2022-10-12\n"
     ]
    },
    {
     "name": "stderr",
     "output_type": "stream",
     "text": [
      " ... (more hidden) ..."
     ]
    },
    {
     "name": "stdout",
     "output_type": "stream",
     "text": [
      "2022-10-12\n",
      "2022-10-13\n",
      "2022-10-13\n",
      "2022-10-14\n"
     ]
    },
    {
     "name": "stderr",
     "output_type": "stream",
     "text": [
      " ... (more hidden) ..."
     ]
    },
    {
     "name": "stdout",
     "output_type": "stream",
     "text": [
      "2022-10-14\n",
      "2022-10-17\n",
      "2022-10-17\n",
      "2022-10-18\n"
     ]
    },
    {
     "name": "stderr",
     "output_type": "stream",
     "text": [
      " ... (more hidden) ..."
     ]
    },
    {
     "name": "stdout",
     "output_type": "stream",
     "text": [
      "2022-10-18\n",
      "2022-10-19\n",
      "2022-10-19\n",
      "2022-10-20\n"
     ]
    },
    {
     "name": "stderr",
     "output_type": "stream",
     "text": [
      " ... (more hidden) ..."
     ]
    },
    {
     "name": "stdout",
     "output_type": "stream",
     "text": [
      "2022-10-20\n",
      "2022-10-21\n",
      "2022-10-21\n",
      "2022-10-24\n"
     ]
    },
    {
     "name": "stderr",
     "output_type": "stream",
     "text": [
      " ... (more hidden) ..."
     ]
    },
    {
     "name": "stdout",
     "output_type": "stream",
     "text": [
      "2022-10-24\n",
      "2022-10-25\n",
      "2022-10-25\n",
      "2022-10-26\n"
     ]
    },
    {
     "name": "stderr",
     "output_type": "stream",
     "text": [
      " ... (more hidden) ..."
     ]
    },
    {
     "name": "stdout",
     "output_type": "stream",
     "text": [
      "2022-10-26\n",
      "2022-10-27\n",
      "2022-10-27\n",
      "2022-10-28\n"
     ]
    },
    {
     "name": "stderr",
     "output_type": "stream",
     "text": [
      " ... (more hidden) ..."
     ]
    },
    {
     "name": "stdout",
     "output_type": "stream",
     "text": [
      "2022-10-28\n",
      "2022-10-31\n",
      "2022-10-31\n",
      "2022-11-01\n"
     ]
    },
    {
     "name": "stderr",
     "output_type": "stream",
     "text": [
      " ... (more hidden) ..."
     ]
    },
    {
     "name": "stdout",
     "output_type": "stream",
     "text": [
      "2022-11-01\n",
      "2022-11-02\n",
      "2022-11-02\n",
      "2022-11-03\n"
     ]
    },
    {
     "name": "stderr",
     "output_type": "stream",
     "text": [
      " ... (more hidden) ..."
     ]
    },
    {
     "name": "stdout",
     "output_type": "stream",
     "text": [
      "2022-11-03\n",
      "2022-11-04\n",
      "2022-11-04\n",
      "2022-11-07\n"
     ]
    },
    {
     "name": "stderr",
     "output_type": "stream",
     "text": [
      " ... (more hidden) ..."
     ]
    },
    {
     "name": "stdout",
     "output_type": "stream",
     "text": [
      "2022-11-07\n",
      "2022-11-08\n",
      "2022-11-08\n",
      "2022-11-09\n"
     ]
    },
    {
     "name": "stderr",
     "output_type": "stream",
     "text": [
      " ... (more hidden) ..."
     ]
    },
    {
     "name": "stdout",
     "output_type": "stream",
     "text": [
      "2022-11-09\n",
      "2022-11-10\n",
      "2022-11-10\n",
      "2022-11-11\n"
     ]
    },
    {
     "name": "stderr",
     "output_type": "stream",
     "text": [
      " ... (more hidden) ..."
     ]
    },
    {
     "name": "stdout",
     "output_type": "stream",
     "text": [
      "2022-11-11\n",
      "2022-11-14\n",
      "2022-11-14\n",
      "2022-11-15\n"
     ]
    },
    {
     "name": "stderr",
     "output_type": "stream",
     "text": [
      " ... (more hidden) ..."
     ]
    },
    {
     "name": "stdout",
     "output_type": "stream",
     "text": [
      "2022-11-15\n",
      "2022-11-16\n",
      "2022-11-16\n",
      "2022-11-17\n"
     ]
    },
    {
     "name": "stderr",
     "output_type": "stream",
     "text": [
      " ... (more hidden) ..."
     ]
    },
    {
     "name": "stdout",
     "output_type": "stream",
     "text": [
      "2022-11-17\n",
      "2022-11-18\n",
      "2022-11-18\n",
      "2022-11-21\n"
     ]
    },
    {
     "name": "stderr",
     "output_type": "stream",
     "text": [
      " ... (more hidden) ..."
     ]
    },
    {
     "name": "stdout",
     "output_type": "stream",
     "text": [
      "2022-11-21\n",
      "2022-11-22\n",
      "2022-11-22\n",
      "2022-11-23\n"
     ]
    },
    {
     "name": "stderr",
     "output_type": "stream",
     "text": [
      " ... (more hidden) ..."
     ]
    },
    {
     "name": "stdout",
     "output_type": "stream",
     "text": [
      "2022-11-23\n",
      "2022-11-24\n",
      "2022-11-24\n",
      "2022-11-25\n"
     ]
    },
    {
     "name": "stderr",
     "output_type": "stream",
     "text": [
      " ... (more hidden) ..."
     ]
    },
    {
     "name": "stdout",
     "output_type": "stream",
     "text": [
      "2022-11-25\n",
      "2022-11-28\n",
      "2022-11-28\n",
      "2022-11-29\n"
     ]
    },
    {
     "name": "stderr",
     "output_type": "stream",
     "text": [
      " ... (more hidden) ..."
     ]
    },
    {
     "name": "stdout",
     "output_type": "stream",
     "text": [
      "2022-11-29\n",
      "2022-11-30\n",
      "2022-11-30\n",
      "2022-12-01\n"
     ]
    },
    {
     "name": "stderr",
     "output_type": "stream",
     "text": [
      " ... (more hidden) ..."
     ]
    },
    {
     "name": "stdout",
     "output_type": "stream",
     "text": [
      "2022-12-01\n",
      "2022-12-02\n",
      "2022-12-02\n",
      "2022-12-05\n"
     ]
    },
    {
     "name": "stderr",
     "output_type": "stream",
     "text": [
      " ... (more hidden) ..."
     ]
    },
    {
     "name": "stdout",
     "output_type": "stream",
     "text": [
      "2022-12-05\n",
      "2022-12-06\n",
      "2022-12-06\n",
      "2022-12-07\n"
     ]
    },
    {
     "name": "stderr",
     "output_type": "stream",
     "text": [
      " ... (more hidden) ..."
     ]
    },
    {
     "name": "stdout",
     "output_type": "stream",
     "text": [
      "2022-12-07\n",
      "2022-12-08\n",
      "2022-12-08\n",
      "2022-12-09\n"
     ]
    },
    {
     "name": "stderr",
     "output_type": "stream",
     "text": [
      " ... (more hidden) ..."
     ]
    },
    {
     "name": "stdout",
     "output_type": "stream",
     "text": [
      "2022-12-09\n",
      "2022-12-12\n",
      "2022-12-12\n",
      "2022-12-13\n"
     ]
    },
    {
     "name": "stderr",
     "output_type": "stream",
     "text": [
      " ... (more hidden) ..."
     ]
    },
    {
     "name": "stdout",
     "output_type": "stream",
     "text": [
      "2022-12-13\n",
      "2022-12-14\n",
      "2022-12-14\n",
      "2022-12-15\n"
     ]
    },
    {
     "name": "stderr",
     "output_type": "stream",
     "text": [
      " ... (more hidden) ..."
     ]
    },
    {
     "name": "stdout",
     "output_type": "stream",
     "text": [
      "2022-12-15\n",
      "2022-12-16\n",
      "2022-12-16\n",
      "2022-12-19\n"
     ]
    },
    {
     "name": "stderr",
     "output_type": "stream",
     "text": [
      " ... (more hidden) ..."
     ]
    },
    {
     "name": "stdout",
     "output_type": "stream",
     "text": [
      "2022-12-19\n",
      "2022-12-20\n",
      "2022-12-20\n",
      "2022-12-21\n"
     ]
    },
    {
     "name": "stderr",
     "output_type": "stream",
     "text": [
      " ... (more hidden) ..."
     ]
    },
    {
     "name": "stdout",
     "output_type": "stream",
     "text": [
      "2022-12-21\n",
      "2022-12-22\n",
      "2022-12-22\n",
      "2022-12-23\n"
     ]
    },
    {
     "name": "stderr",
     "output_type": "stream",
     "text": [
      " ... (more hidden) ..."
     ]
    },
    {
     "name": "stdout",
     "output_type": "stream",
     "text": [
      "2022-12-23\n",
      "2022-12-26\n",
      "2022-12-26\n",
      "2022-12-27\n"
     ]
    },
    {
     "name": "stderr",
     "output_type": "stream",
     "text": [
      " ... (more hidden) ..."
     ]
    },
    {
     "name": "stdout",
     "output_type": "stream",
     "text": [
      "2022-12-27\n",
      "2022-12-28\n",
      "2022-12-28\n",
      "2022-12-29\n"
     ]
    },
    {
     "name": "stderr",
     "output_type": "stream",
     "text": [
      " ... (more hidden) ...\n"
     ]
    },
    {
     "name": "stdout",
     "output_type": "stream",
     "text": [
      "2022-12-29\n",
      "--------------------------------------------------\n",
      "기간:2018-01-29 00:00:00~2022-12-29 00:00:00\n",
      "승률: 37.0 %\n",
      "승리횟수:441\n",
      "전체횟수:1192\n",
      "수익률 11.32 %\n",
      "시장수익률: -13.92 %\n",
      "\n",
      "--------------------------------------------------\n"
     ]
    }
   ],
   "source": [
    "first_date = parse(sorted(df_signal['날짜'].unique())[0])\n",
    "last_date = parse(sorted(df_signal['날짜'].unique())[-1])\n",
    "df_signal_test = df_signal\n",
    "df_stock = stock.get_index_fundamental(str(first_date)[:10], str(last_date)[:10], '1001')\n",
    "bt.MONEY = 10000000\n",
    "first_monry = bt.MONEY\n",
    "bt.buy_sell(df=df_signal_test,buy='buy',sell='sell')\n",
    "bt.update_information()\n",
    "\n",
    "\n",
    "a = pd.DataFrame(bt.ASSET).T\n",
    "a['코드'] = a.index\n",
    "b= df_signal[df_signal['날짜'] == str(last_date)][['코드', '종가']]\n",
    "df_join = a.merge(b,on='코드', how='inner')\n",
    "res = pd.DataFrame((df_join['종가']* df_join['수량']) - (df_join['평단가']  * df_join['수량'])).sum()[0]\n",
    "\n",
    "print('-'*50)\n",
    "print('기간:' + str(first_date) + '~' + str(last_date))\n",
    "print('승률:', round(bt.ECONO_INFORM[bt.ECONO_INFORM['실현손익'] > 0.0].shape[0] / bt.ECONO_INFORM.shape[0]*100,2),'%')\n",
    "print('승리횟수:' + str(bt.ECONO_INFORM[bt.ECONO_INFORM['실현손익'] > 0.0].shape[0]))\n",
    "print('전체횟수:' + str(bt.ECONO_INFORM.shape[0]))\n",
    "print('수익률', round((bt.ECONO_INFORM['실현손익'].sum() + res)/first_monry * 100, 2),'%')\n",
    "print('시장수익률:', + round(((df_stock.iloc[-1, 0] - df_stock.iloc[0, 0]) / df_stock.iloc[0, 0]) *100, 2), '%')\n",
    "print()\n",
    "print('-'*50)"
   ]
  },
  {
   "cell_type": "code",
   "execution_count": 30,
   "metadata": {},
   "outputs": [
    {
     "data": {
      "text/plain": [
       "1132259.000000001"
      ]
     },
     "execution_count": 30,
     "metadata": {},
     "output_type": "execute_result"
    }
   ],
   "source": [
    "bt.ECONO_INFORM['실현손익'].sum()"
   ]
  },
  {
   "cell_type": "code",
   "execution_count": 31,
   "metadata": {},
   "outputs": [
    {
     "data": {
      "text/plain": [
       "{'002170': {'평단가': 53140.0, '수량': 10},\n",
       " '036190': {'평단가': 29050, '수량': 7},\n",
       " '001070': {'평단가': 51800, '수량': 4},\n",
       " '016590': {'평단가': 85833.33333333333, '수량': 15},\n",
       " '017480': {'평단가': 4995, '수량': 39},\n",
       " '043340': {'평단가': 878, '수량': 230},\n",
       " '006090': {'평단가': 8160, '수량': 32},\n",
       " '000650': {'평단가': 60900, '수량': 4},\n",
       " '004370': {'평단가': 357000, '수량': 1},\n",
       " '010140': {'평단가': 5220, '수량': 97},\n",
       " '007540': {'평단가': 48900, '수량': 7},\n",
       " '003100': {'평단가': 133620.0, '수량': 5},\n",
       " '072990': {'평단가': 8170, '수량': 43},\n",
       " '023460': {'평단가': 2800, '수량': 75},\n",
       " '065450': {'평단가': 5680, '수량': 36},\n",
       " '032940': {'평단가': 3960, '수량': 51},\n",
       " '078070': {'평단가': 16450, '수량': 15},\n",
       " '041830': {'평단가': 20200, '수량': 10},\n",
       " '044490': {'평단가': 9800, '수량': 20},\n",
       " '000540': {'평단가': 3370, '수량': 61}}"
      ]
     },
     "execution_count": 31,
     "metadata": {},
     "output_type": "execute_result"
    }
   ],
   "source": [
    "bt.ASSET"
   ]
  },
  {
   "cell_type": "markdown",
   "metadata": {},
   "source": [
    "### 원하는 날짜 기입"
   ]
  },
  {
   "cell_type": "code",
   "execution_count": 21,
   "metadata": {
    "scrolled": true
   },
   "outputs": [
    {
     "name": "stderr",
     "output_type": "stream",
     "text": [
      " ... (more hidden) ..."
     ]
    },
    {
     "name": "stdout",
     "output_type": "stream",
     "text": [
      "2020-05-04\n",
      "2020-05-04\n",
      "2020-05-06\n"
     ]
    },
    {
     "name": "stderr",
     "output_type": "stream",
     "text": [
      " ... (more hidden) ..."
     ]
    },
    {
     "name": "stdout",
     "output_type": "stream",
     "text": [
      "2020-05-06\n",
      "2020-05-07\n",
      "2020-05-07\n",
      "2020-05-08\n"
     ]
    },
    {
     "name": "stderr",
     "output_type": "stream",
     "text": [
      "\r",
      " ... (more hidden) ..."
     ]
    },
    {
     "name": "stdout",
     "output_type": "stream",
     "text": [
      "2020-05-08\n",
      "2020-05-11\n",
      "2020-05-11\n",
      "2020-05-12\n"
     ]
    },
    {
     "name": "stderr",
     "output_type": "stream",
     "text": [
      " ... (more hidden) ..."
     ]
    },
    {
     "name": "stdout",
     "output_type": "stream",
     "text": [
      "2020-05-12\n",
      "2020-05-13\n",
      "2020-05-13\n",
      "2020-05-14\n"
     ]
    },
    {
     "name": "stderr",
     "output_type": "stream",
     "text": [
      " ... (more hidden) ..."
     ]
    },
    {
     "name": "stdout",
     "output_type": "stream",
     "text": [
      "2020-05-14\n",
      "2020-05-15\n",
      "2020-05-15\n",
      "2020-05-18\n"
     ]
    },
    {
     "name": "stderr",
     "output_type": "stream",
     "text": [
      " ... (more hidden) ..."
     ]
    },
    {
     "name": "stdout",
     "output_type": "stream",
     "text": [
      "2020-05-18\n",
      "2020-05-19\n",
      "2020-05-19\n",
      "2020-05-20\n",
      "2020-05-20\n",
      "2020-05-21\n"
     ]
    },
    {
     "name": "stderr",
     "output_type": "stream",
     "text": [
      " ... (more hidden) ..."
     ]
    },
    {
     "name": "stdout",
     "output_type": "stream",
     "text": [
      "2020-05-21\n",
      "2020-05-22\n",
      "2020-05-22\n",
      "2020-05-25\n"
     ]
    },
    {
     "name": "stderr",
     "output_type": "stream",
     "text": [
      " ... (more hidden) ..."
     ]
    },
    {
     "name": "stdout",
     "output_type": "stream",
     "text": [
      "2020-05-25\n",
      "2020-05-26\n",
      "2020-05-26\n",
      "2020-05-27\n"
     ]
    },
    {
     "name": "stderr",
     "output_type": "stream",
     "text": [
      " ... (more hidden) ..."
     ]
    },
    {
     "name": "stdout",
     "output_type": "stream",
     "text": [
      "2020-05-27\n",
      "2020-05-28\n",
      "2020-05-28\n",
      "2020-05-29\n"
     ]
    },
    {
     "name": "stderr",
     "output_type": "stream",
     "text": [
      " ... (more hidden) ..."
     ]
    },
    {
     "name": "stdout",
     "output_type": "stream",
     "text": [
      "2020-05-29\n",
      "2020-06-01\n",
      "2020-06-01\n",
      "2020-06-02\n"
     ]
    },
    {
     "name": "stderr",
     "output_type": "stream",
     "text": [
      " ... (more hidden) ..."
     ]
    },
    {
     "name": "stdout",
     "output_type": "stream",
     "text": [
      "2020-06-02\n",
      "2020-06-03\n",
      "2020-06-03\n",
      "2020-06-04\n",
      "2020-06-04\n",
      "2020-06-05\n"
     ]
    },
    {
     "name": "stderr",
     "output_type": "stream",
     "text": [
      " ... (more hidden) ..."
     ]
    },
    {
     "name": "stdout",
     "output_type": "stream",
     "text": [
      "2020-06-05\n",
      "2020-06-08\n",
      "2020-06-08\n",
      "2020-06-09\n"
     ]
    },
    {
     "name": "stderr",
     "output_type": "stream",
     "text": [
      " ... (more hidden) ..."
     ]
    },
    {
     "name": "stdout",
     "output_type": "stream",
     "text": [
      "2020-06-09\n",
      "2020-06-10\n",
      "2020-06-10\n",
      "2020-06-11\n",
      "2020-06-11\n",
      "2020-06-12\n"
     ]
    },
    {
     "name": "stderr",
     "output_type": "stream",
     "text": [
      " ... (more hidden) ..."
     ]
    },
    {
     "name": "stdout",
     "output_type": "stream",
     "text": [
      "2020-06-12\n",
      "2020-06-15\n",
      "2020-06-15\n",
      "2020-06-16\n"
     ]
    },
    {
     "name": "stderr",
     "output_type": "stream",
     "text": [
      " ... (more hidden) ..."
     ]
    },
    {
     "name": "stdout",
     "output_type": "stream",
     "text": [
      "2020-06-16\n",
      "2020-06-17\n",
      "2020-06-17\n",
      "2020-06-18\n",
      "2020-06-18\n",
      "2020-06-19\n"
     ]
    },
    {
     "name": "stderr",
     "output_type": "stream",
     "text": [
      " ... (more hidden) ..."
     ]
    },
    {
     "name": "stdout",
     "output_type": "stream",
     "text": [
      "2020-06-19\n",
      "2020-06-22\n",
      "2020-06-22\n",
      "2020-06-23\n",
      "2020-06-23\n",
      "2020-06-24\n"
     ]
    },
    {
     "name": "stderr",
     "output_type": "stream",
     "text": [
      " ... (more hidden) ..."
     ]
    },
    {
     "name": "stdout",
     "output_type": "stream",
     "text": [
      "2020-06-24\n",
      "2020-06-25\n",
      "2020-06-25\n",
      "2020-06-26\n",
      "2020-06-26\n",
      "2020-06-29\n"
     ]
    },
    {
     "name": "stderr",
     "output_type": "stream",
     "text": [
      " ... (more hidden) ..."
     ]
    },
    {
     "name": "stdout",
     "output_type": "stream",
     "text": [
      "2020-06-29\n",
      "2020-06-30\n",
      "2020-06-30\n",
      "2020-07-01\n"
     ]
    },
    {
     "name": "stderr",
     "output_type": "stream",
     "text": [
      " ... (more hidden) ..."
     ]
    },
    {
     "name": "stdout",
     "output_type": "stream",
     "text": [
      "2020-07-01\n",
      "2020-07-02\n",
      "2020-07-02\n",
      "2020-07-03\n",
      "2020-07-03\n",
      "2020-07-06\n"
     ]
    },
    {
     "name": "stderr",
     "output_type": "stream",
     "text": [
      " ... (more hidden) ..."
     ]
    },
    {
     "name": "stdout",
     "output_type": "stream",
     "text": [
      "2020-07-06\n",
      "2020-07-07\n",
      "2020-07-07\n",
      "2020-07-08\n",
      "2020-07-08\n",
      "2020-07-09\n"
     ]
    },
    {
     "name": "stderr",
     "output_type": "stream",
     "text": [
      " ... (more hidden) ..."
     ]
    },
    {
     "name": "stdout",
     "output_type": "stream",
     "text": [
      "2020-07-09\n",
      "2020-07-10\n",
      "2020-07-10\n",
      "2020-07-13\n",
      "2020-07-13\n",
      "2020-07-14\n"
     ]
    },
    {
     "name": "stderr",
     "output_type": "stream",
     "text": [
      " ... (more hidden) ..."
     ]
    },
    {
     "name": "stdout",
     "output_type": "stream",
     "text": [
      "2020-07-14\n",
      "2020-07-15\n",
      "2020-07-15\n",
      "2020-07-16\n",
      "2020-07-16\n",
      "2020-07-17\n"
     ]
    },
    {
     "name": "stderr",
     "output_type": "stream",
     "text": [
      " ... (more hidden) ..."
     ]
    },
    {
     "name": "stdout",
     "output_type": "stream",
     "text": [
      "2020-07-17\n",
      "2020-07-20\n",
      "2020-07-20\n",
      "2020-07-21\n"
     ]
    },
    {
     "name": "stderr",
     "output_type": "stream",
     "text": [
      " ... (more hidden) ..."
     ]
    },
    {
     "name": "stdout",
     "output_type": "stream",
     "text": [
      "2020-07-21\n",
      "2020-07-22\n",
      "2020-07-22\n",
      "2020-07-23\n"
     ]
    },
    {
     "name": "stderr",
     "output_type": "stream",
     "text": [
      "\r",
      " ... (more hidden) ..."
     ]
    },
    {
     "name": "stdout",
     "output_type": "stream",
     "text": [
      "2020-07-23\n",
      "2020-07-24\n",
      "2020-07-24\n",
      "2020-07-27\n"
     ]
    },
    {
     "name": "stderr",
     "output_type": "stream",
     "text": [
      " ... (more hidden) ..."
     ]
    },
    {
     "name": "stdout",
     "output_type": "stream",
     "text": [
      "2020-07-27\n",
      "2020-07-28\n",
      "2020-07-28\n",
      "2020-07-29\n"
     ]
    },
    {
     "name": "stderr",
     "output_type": "stream",
     "text": [
      " ... (more hidden) ..."
     ]
    },
    {
     "name": "stdout",
     "output_type": "stream",
     "text": [
      "2020-07-29\n",
      "2020-07-30\n",
      "2020-07-30\n",
      "2020-07-31\n"
     ]
    },
    {
     "name": "stderr",
     "output_type": "stream",
     "text": [
      " ... (more hidden) ...\n"
     ]
    },
    {
     "name": "stdout",
     "output_type": "stream",
     "text": [
      "2020-07-31\n",
      "--------------------------------------------------\n",
      "기간:2020-05-01 00:00:00~2020-08-01 00:00:00\n",
      "승률: 46.88 %\n",
      "승리횟수:30\n",
      "전체횟수:64\n",
      "수익률 3.98 %\n",
      "시장수익률: 18.68 %\n",
      "\n",
      "--------------------------------------------------\n"
     ]
    }
   ],
   "source": [
    "#######여기에 적어주세요##############\n",
    "first_date = parse('2020-05-01')\n",
    "last_date = parse('2020-08-01')\n",
    "#####################################\n",
    "\n",
    "df_signal_test = df_signal[((df_signal['날짜'] >= str(first_date)) & (df_signal['날짜'] <= str(last_date)))]\n",
    "df_stock = stock.get_index_fundamental(str(first_date)[:10], str(last_date)[:10], '1001')\n",
    "bt.MONEY = 10000000\n",
    "first_monry = bt.MONEY\n",
    "bt.buy_sell(df=df_signal_test,buy='buy',sell='sell')\n",
    "bt.update_information()\n",
    "\n",
    "\n",
    "a = pd.DataFrame(bt.ASSET).T\n",
    "a['코드'] = a.index\n",
    "b= df_signal[df_signal['날짜'] == str(last_date)][['코드', '종가']]\n",
    "df_join = a.merge(b,on='코드', how='inner')\n",
    "res = pd.DataFrame((df_join['종가']* df_join['수량']) - (df_join['평단가']  * df_join['수량'])).sum()[0]\n",
    "\n",
    "print('-'*50)\n",
    "print('기간:' + str(first_date) + '~' + str(last_date))\n",
    "print('승률:', round(bt.ECONO_INFORM[bt.ECONO_INFORM['실현손익'] > 0.0].shape[0] / bt.ECONO_INFORM.shape[0]*100,2),'%')\n",
    "print('승리횟수:' + str(bt.ECONO_INFORM[bt.ECONO_INFORM['실현손익'] > 0.0].shape[0]))\n",
    "print('전체횟수:' + str(bt.ECONO_INFORM.shape[0]))\n",
    "print('수익률', round((bt.ECONO_INFORM['실현손익'].sum() + res)/first_monry * 100, 2),'%')\n",
    "print('시장수익률:', + round(((df_stock.iloc[-1, 0] - df_stock.iloc[0, 0]) / df_stock.iloc[0, 0]) *100, 2), '%')\n",
    "print()\n",
    "print('-'*50)"
   ]
  },
  {
   "cell_type": "code",
   "execution_count": 22,
   "metadata": {},
   "outputs": [
    {
     "data": {
      "text/html": [
       "<div>\n",
       "<style scoped>\n",
       "    .dataframe tbody tr th:only-of-type {\n",
       "        vertical-align: middle;\n",
       "    }\n",
       "\n",
       "    .dataframe tbody tr th {\n",
       "        vertical-align: top;\n",
       "    }\n",
       "\n",
       "    .dataframe thead th {\n",
       "        text-align: right;\n",
       "    }\n",
       "</style>\n",
       "<table border=\"1\" class=\"dataframe\">\n",
       "  <thead>\n",
       "    <tr style=\"text-align: right;\">\n",
       "      <th></th>\n",
       "      <th>날짜</th>\n",
       "      <th>종목코드</th>\n",
       "      <th>체결단가</th>\n",
       "      <th>체결수량</th>\n",
       "      <th>매매비용</th>\n",
       "      <th>매매구분</th>\n",
       "    </tr>\n",
       "  </thead>\n",
       "  <tbody>\n",
       "    <tr>\n",
       "      <th>0</th>\n",
       "      <td>2020-05-04</td>\n",
       "      <td>317240</td>\n",
       "      <td>1333</td>\n",
       "      <td>640</td>\n",
       "      <td>151.0</td>\n",
       "      <td>매수</td>\n",
       "    </tr>\n",
       "    <tr>\n",
       "      <th>1</th>\n",
       "      <td>2020-05-04</td>\n",
       "      <td>307750</td>\n",
       "      <td>2191</td>\n",
       "      <td>549</td>\n",
       "      <td>213.0</td>\n",
       "      <td>매수</td>\n",
       "    </tr>\n",
       "    <tr>\n",
       "      <th>2</th>\n",
       "      <td>2020-05-04</td>\n",
       "      <td>002840</td>\n",
       "      <td>61900</td>\n",
       "      <td>11</td>\n",
       "      <td>120.0</td>\n",
       "      <td>매수</td>\n",
       "    </tr>\n",
       "    <tr>\n",
       "      <th>3</th>\n",
       "      <td>2020-05-04</td>\n",
       "      <td>134380</td>\n",
       "      <td>46400</td>\n",
       "      <td>12</td>\n",
       "      <td>99.0</td>\n",
       "      <td>매수</td>\n",
       "    </tr>\n",
       "    <tr>\n",
       "      <th>4</th>\n",
       "      <td>2020-05-04</td>\n",
       "      <td>004080</td>\n",
       "      <td>9580</td>\n",
       "      <td>59</td>\n",
       "      <td>100.0</td>\n",
       "      <td>매수</td>\n",
       "    </tr>\n",
       "    <tr>\n",
       "      <th>5</th>\n",
       "      <td>2020-05-04</td>\n",
       "      <td>336060</td>\n",
       "      <td>2372</td>\n",
       "      <td>783</td>\n",
       "      <td>329.0</td>\n",
       "      <td>매수</td>\n",
       "    </tr>\n",
       "    <tr>\n",
       "      <th>6</th>\n",
       "      <td>2020-05-04</td>\n",
       "      <td>335870</td>\n",
       "      <td>1999</td>\n",
       "      <td>552</td>\n",
       "      <td>195.0</td>\n",
       "      <td>매수</td>\n",
       "    </tr>\n",
       "    <tr>\n",
       "      <th>7</th>\n",
       "      <td>2020-05-04</td>\n",
       "      <td>333430</td>\n",
       "      <td>2366</td>\n",
       "      <td>555</td>\n",
       "      <td>232.0</td>\n",
       "      <td>매수</td>\n",
       "    </tr>\n",
       "    <tr>\n",
       "      <th>8</th>\n",
       "      <td>2020-05-04</td>\n",
       "      <td>168490</td>\n",
       "      <td>1970</td>\n",
       "      <td>437</td>\n",
       "      <td>152.0</td>\n",
       "      <td>매수</td>\n",
       "    </tr>\n",
       "  </tbody>\n",
       "</table>\n",
       "</div>"
      ],
      "text/plain": [
       "           날짜    종목코드   체결단가 체결수량   매매비용 매매구분\n",
       "0  2020-05-04  317240   1333  640  151.0   매수\n",
       "1  2020-05-04  307750   2191  549  213.0   매수\n",
       "2  2020-05-04  002840  61900   11  120.0   매수\n",
       "3  2020-05-04  134380  46400   12   99.0   매수\n",
       "4  2020-05-04  004080   9580   59  100.0   매수\n",
       "5  2020-05-04  336060   2372  783  329.0   매수\n",
       "6  2020-05-04  335870   1999  552  195.0   매수\n",
       "7  2020-05-04  333430   2366  555  232.0   매수\n",
       "8  2020-05-04  168490   1970  437  152.0   매수"
      ]
     },
     "execution_count": 22,
     "metadata": {},
     "output_type": "execute_result"
    }
   ],
   "source": [
    "bt.JOUNAL[bt.JOUNAL['날짜'] == '2020-05-04']"
   ]
  },
  {
   "cell_type": "code",
   "execution_count": 23,
   "metadata": {},
   "outputs": [
    {
     "data": {
      "text/html": [
       "<div>\n",
       "<style scoped>\n",
       "    .dataframe tbody tr th:only-of-type {\n",
       "        vertical-align: middle;\n",
       "    }\n",
       "\n",
       "    .dataframe tbody tr th {\n",
       "        vertical-align: top;\n",
       "    }\n",
       "\n",
       "    .dataframe thead th {\n",
       "        text-align: right;\n",
       "    }\n",
       "</style>\n",
       "<table border=\"1\" class=\"dataframe\">\n",
       "  <thead>\n",
       "    <tr style=\"text-align: right;\">\n",
       "      <th></th>\n",
       "      <th>날짜</th>\n",
       "      <th>종목코드</th>\n",
       "      <th>체결단가</th>\n",
       "      <th>체결수량</th>\n",
       "      <th>매매비용</th>\n",
       "      <th>매매구분</th>\n",
       "    </tr>\n",
       "  </thead>\n",
       "  <tbody>\n",
       "    <tr>\n",
       "      <th>23</th>\n",
       "      <td>2020-05-08</td>\n",
       "      <td>004080</td>\n",
       "      <td>9530</td>\n",
       "      <td>59</td>\n",
       "      <td>1224.0</td>\n",
       "      <td>매도</td>\n",
       "    </tr>\n",
       "    <tr>\n",
       "      <th>32</th>\n",
       "      <td>2020-05-11</td>\n",
       "      <td>321260</td>\n",
       "      <td>4020</td>\n",
       "      <td>32</td>\n",
       "      <td>280.0</td>\n",
       "      <td>매도</td>\n",
       "    </tr>\n",
       "    <tr>\n",
       "      <th>40</th>\n",
       "      <td>2020-05-12</td>\n",
       "      <td>117580</td>\n",
       "      <td>4810</td>\n",
       "      <td>19</td>\n",
       "      <td>199.0</td>\n",
       "      <td>매도</td>\n",
       "    </tr>\n",
       "    <tr>\n",
       "      <th>41</th>\n",
       "      <td>2020-05-12</td>\n",
       "      <td>140910</td>\n",
       "      <td>5379</td>\n",
       "      <td>8</td>\n",
       "      <td>94.0</td>\n",
       "      <td>매도</td>\n",
       "    </tr>\n",
       "    <tr>\n",
       "      <th>51</th>\n",
       "      <td>2020-05-13</td>\n",
       "      <td>092130</td>\n",
       "      <td>19300</td>\n",
       "      <td>1</td>\n",
       "      <td>42.0</td>\n",
       "      <td>매도</td>\n",
       "    </tr>\n",
       "    <tr>\n",
       "      <th>...</th>\n",
       "      <td>...</td>\n",
       "      <td>...</td>\n",
       "      <td>...</td>\n",
       "      <td>...</td>\n",
       "      <td>...</td>\n",
       "      <td>...</td>\n",
       "    </tr>\n",
       "    <tr>\n",
       "      <th>817</th>\n",
       "      <td>2020-07-31</td>\n",
       "      <td>002030</td>\n",
       "      <td>74600</td>\n",
       "      <td>2</td>\n",
       "      <td>325.0</td>\n",
       "      <td>매도</td>\n",
       "    </tr>\n",
       "    <tr>\n",
       "      <th>818</th>\n",
       "      <td>2020-07-31</td>\n",
       "      <td>010050</td>\n",
       "      <td>574</td>\n",
       "      <td>130</td>\n",
       "      <td>162.0</td>\n",
       "      <td>매도</td>\n",
       "    </tr>\n",
       "    <tr>\n",
       "      <th>819</th>\n",
       "      <td>2020-07-31</td>\n",
       "      <td>323280</td>\n",
       "      <td>2568</td>\n",
       "      <td>33</td>\n",
       "      <td>184.0</td>\n",
       "      <td>매도</td>\n",
       "    </tr>\n",
       "    <tr>\n",
       "      <th>820</th>\n",
       "      <td>2020-07-31</td>\n",
       "      <td>272210</td>\n",
       "      <td>8717</td>\n",
       "      <td>21</td>\n",
       "      <td>399.0</td>\n",
       "      <td>매도</td>\n",
       "    </tr>\n",
       "    <tr>\n",
       "      <th>821</th>\n",
       "      <td>2020-07-31</td>\n",
       "      <td>000850</td>\n",
       "      <td>31850</td>\n",
       "      <td>2</td>\n",
       "      <td>139.0</td>\n",
       "      <td>매도</td>\n",
       "    </tr>\n",
       "  </tbody>\n",
       "</table>\n",
       "<p>282 rows × 6 columns</p>\n",
       "</div>"
      ],
      "text/plain": [
       "             날짜    종목코드   체결단가 체결수량    매매비용 매매구분\n",
       "23   2020-05-08  004080   9530   59  1224.0   매도\n",
       "32   2020-05-11  321260   4020   32   280.0   매도\n",
       "40   2020-05-12  117580   4810   19   199.0   매도\n",
       "41   2020-05-12  140910   5379    8    94.0   매도\n",
       "51   2020-05-13  092130  19300    1    42.0   매도\n",
       "..          ...     ...    ...  ...     ...  ...\n",
       "817  2020-07-31  002030  74600    2   325.0   매도\n",
       "818  2020-07-31  010050    574  130   162.0   매도\n",
       "819  2020-07-31  323280   2568   33   184.0   매도\n",
       "820  2020-07-31  272210   8717   21   399.0   매도\n",
       "821  2020-07-31  000850  31850    2   139.0   매도\n",
       "\n",
       "[282 rows x 6 columns]"
      ]
     },
     "execution_count": 23,
     "metadata": {},
     "output_type": "execute_result"
    }
   ],
   "source": [
    "bt.JOUNAL[bt.JOUNAL['매매구분'] == '매도']"
   ]
  },
  {
   "cell_type": "code",
   "execution_count": 24,
   "metadata": {},
   "outputs": [
    {
     "data": {
      "text/html": [
       "<div>\n",
       "<style scoped>\n",
       "    .dataframe tbody tr th:only-of-type {\n",
       "        vertical-align: middle;\n",
       "    }\n",
       "\n",
       "    .dataframe tbody tr th {\n",
       "        vertical-align: top;\n",
       "    }\n",
       "\n",
       "    .dataframe thead th {\n",
       "        text-align: right;\n",
       "    }\n",
       "</style>\n",
       "<table border=\"1\" class=\"dataframe\">\n",
       "  <thead>\n",
       "    <tr style=\"text-align: right;\">\n",
       "      <th></th>\n",
       "      <th>날짜</th>\n",
       "      <th>매수총합</th>\n",
       "      <th>매도총합</th>\n",
       "      <th>매매비용</th>\n",
       "      <th>실현손익</th>\n",
       "    </tr>\n",
       "  </thead>\n",
       "  <tbody>\n",
       "    <tr>\n",
       "      <th>0</th>\n",
       "      <td>2020-05-04</td>\n",
       "      <td>8993643</td>\n",
       "      <td>0.0</td>\n",
       "      <td>1591.0</td>\n",
       "      <td>0.0</td>\n",
       "    </tr>\n",
       "    <tr>\n",
       "      <th>1</th>\n",
       "      <td>2020-05-06</td>\n",
       "      <td>872696</td>\n",
       "      <td>0.0</td>\n",
       "      <td>155.0</td>\n",
       "      <td>0.0</td>\n",
       "    </tr>\n",
       "    <tr>\n",
       "      <th>2</th>\n",
       "      <td>2020-05-07</td>\n",
       "      <td>116255</td>\n",
       "      <td>0.0</td>\n",
       "      <td>20.0</td>\n",
       "      <td>0.0</td>\n",
       "    </tr>\n",
       "    <tr>\n",
       "      <th>3</th>\n",
       "      <td>2020-05-08</td>\n",
       "      <td>433457</td>\n",
       "      <td>562270</td>\n",
       "      <td>1301.0</td>\n",
       "      <td>-4174.0</td>\n",
       "    </tr>\n",
       "    <tr>\n",
       "      <th>4</th>\n",
       "      <td>2020-05-11</td>\n",
       "      <td>239996</td>\n",
       "      <td>128640</td>\n",
       "      <td>321.0</td>\n",
       "      <td>-600.0</td>\n",
       "    </tr>\n",
       "    <tr>\n",
       "      <th>...</th>\n",
       "      <td>...</td>\n",
       "      <td>...</td>\n",
       "      <td>...</td>\n",
       "      <td>...</td>\n",
       "      <td>...</td>\n",
       "    </tr>\n",
       "    <tr>\n",
       "      <th>59</th>\n",
       "      <td>2020-07-27</td>\n",
       "      <td>1069538</td>\n",
       "      <td>816115</td>\n",
       "      <td>1965.0</td>\n",
       "      <td>-12887.0</td>\n",
       "    </tr>\n",
       "    <tr>\n",
       "      <th>60</th>\n",
       "      <td>2020-07-28</td>\n",
       "      <td>212795</td>\n",
       "      <td>173850</td>\n",
       "      <td>415.0</td>\n",
       "      <td>-4558.0</td>\n",
       "    </tr>\n",
       "    <tr>\n",
       "      <th>61</th>\n",
       "      <td>2020-07-29</td>\n",
       "      <td>614434</td>\n",
       "      <td>1011903</td>\n",
       "      <td>2311.0</td>\n",
       "      <td>-2203.0</td>\n",
       "    </tr>\n",
       "    <tr>\n",
       "      <th>62</th>\n",
       "      <td>2020-07-30</td>\n",
       "      <td>1031580</td>\n",
       "      <td>1090309</td>\n",
       "      <td>2556.0</td>\n",
       "      <td>-5946.0</td>\n",
       "    </tr>\n",
       "    <tr>\n",
       "      <th>63</th>\n",
       "      <td>2020-07-31</td>\n",
       "      <td>1015879</td>\n",
       "      <td>773551</td>\n",
       "      <td>1865.0</td>\n",
       "      <td>-1710.0</td>\n",
       "    </tr>\n",
       "  </tbody>\n",
       "</table>\n",
       "<p>64 rows × 5 columns</p>\n",
       "</div>"
      ],
      "text/plain": [
       "            날짜     매수총합     매도총합    매매비용     실현손익\n",
       "0   2020-05-04  8993643      0.0  1591.0      0.0\n",
       "1   2020-05-06   872696      0.0   155.0      0.0\n",
       "2   2020-05-07   116255      0.0    20.0      0.0\n",
       "3   2020-05-08   433457   562270  1301.0  -4174.0\n",
       "4   2020-05-11   239996   128640   321.0   -600.0\n",
       "..         ...      ...      ...     ...      ...\n",
       "59  2020-07-27  1069538   816115  1965.0 -12887.0\n",
       "60  2020-07-28   212795   173850   415.0  -4558.0\n",
       "61  2020-07-29   614434  1011903  2311.0  -2203.0\n",
       "62  2020-07-30  1031580  1090309  2556.0  -5946.0\n",
       "63  2020-07-31  1015879   773551  1865.0  -1710.0\n",
       "\n",
       "[64 rows x 5 columns]"
      ]
     },
     "execution_count": 24,
     "metadata": {},
     "output_type": "execute_result"
    }
   ],
   "source": [
    "bt.ECONO_INFORM"
   ]
  },
  {
   "cell_type": "code",
   "execution_count": 25,
   "metadata": {},
   "outputs": [],
   "source": [
    "import plotly.express as px\n",
    "import numpy as np"
   ]
  },
  {
   "cell_type": "code",
   "execution_count": 26,
   "metadata": {},
   "outputs": [],
   "source": [
    "test = pd.DataFrame(bt.test)"
   ]
  },
  {
   "cell_type": "code",
   "execution_count": null,
   "metadata": {},
   "outputs": [],
   "source": []
  }
 ],
 "metadata": {
  "kernelspec": {
   "display_name": "Python 3 (ipykernel)",
   "language": "python",
   "name": "python3"
  },
  "language_info": {
   "codemirror_mode": {
    "name": "ipython",
    "version": 3
   },
   "file_extension": ".py",
   "mimetype": "text/x-python",
   "name": "python",
   "nbconvert_exporter": "python",
   "pygments_lexer": "ipython3",
   "version": "3.10.8"
  }
 },
 "nbformat": 4,
 "nbformat_minor": 2
}
