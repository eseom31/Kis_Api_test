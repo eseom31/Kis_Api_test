{
 "cells": [
  {
   "cell_type": "code",
   "execution_count": 1,
   "id": "0f8a2451",
   "metadata": {},
   "outputs": [],
   "source": [
    "import time\n",
    "from tqdm import tqdm\n",
    "import numpy as np\n",
    "from copy import deepcopy\n",
    "from dateutil.parser import parse\n",
    "import datetime as dt\n",
    "from pykrx import stock\n",
    "import sys\n",
    "sys.path.append('D:/ML/Kis_Api_test/')\n",
    "from BackTesting_System.backtesting import BackTesting,Utils"
   ]
  },
  {
   "cell_type": "code",
   "execution_count": 2,
   "id": "75dfe5c6",
   "metadata": {},
   "outputs": [],
   "source": [
    "import pandas as pd \n",
    "df_raw = pd.read_csv('../../../mom.csv', index_col=0)"
   ]
  },
  {
   "cell_type": "code",
   "execution_count": 3,
   "id": "87f0a39c",
   "metadata": {},
   "outputs": [],
   "source": [
    "def enter(df):\n",
    "    df = deepcopy(df)\n",
    "    buf = []\n",
    "    for _, gdf in tqdm(df.groupby('종목명')):\n",
    "        gdf['short_buy'] = (gdf['종가'].rolling(window=20, closed='left').max() < gdf['종가'])\n",
    "        gdf['middle_buy'] = (gdf['종가'].rolling(window=55, closed='left').max() < gdf['종가'])\n",
    "        gdf['buy'] = gdf['short_buy'] | gdf['middle_buy']\n",
    "        buf.append(gdf)\n",
    "    del df\n",
    "    res = pd.concat(buf)\n",
    "    return res"
   ]
  },
  {
   "cell_type": "code",
   "execution_count": 4,
   "id": "f0bcb0bb",
   "metadata": {},
   "outputs": [],
   "source": [
    "def make_tr(df):\n",
    "    df = deepcopy(df)\n",
    "    buf = []\n",
    "    for _, gdf in tqdm(df.groupby('종목명')):\n",
    "        gdf['con1'] = gdf['최고가'] - gdf['종가'].shift(1)\n",
    "        gdf['con2'] = gdf['최저가'] - gdf['종가'].shift(1)\n",
    "        buf.append(gdf)\n",
    "    del df\n",
    "    res = pd.concat(buf)\n",
    "    res['con3'] = res['최고가'] - res['최저가']\n",
    "    res['con1'] = res['con1'].abs()\n",
    "    res['con2'] = res['con2'].abs()\n",
    "    res['TR'] = res[['con1','con2','con3']].max(axis=1) \n",
    "    return res "
   ]
  },
  {
   "cell_type": "code",
   "execution_count": 5,
   "id": "1032d2ab",
   "metadata": {},
   "outputs": [],
   "source": [
    "def make_momentum(df):\n",
    "    df = deepcopy(df)\n",
    "    buf = []\n",
    "    for _, gdf in tqdm(df.groupby('종목명')):\n",
    "        gdf['short_mom'] = gdf['종가'] / gdf['종가'].shift(10)*100\n",
    "        buf.append(gdf)\n",
    "    del df\n",
    "    res = pd.concat(buf)\n",
    "    return res "
   ]
  },
  {
   "cell_type": "code",
   "execution_count": 7,
   "id": "e8ecbbce",
   "metadata": {},
   "outputs": [],
   "source": [
    "def make_atr(df):\n",
    "    df = deepcopy(df)\n",
    "    buf = []\n",
    "    for _, gdf in tqdm(df.groupby('종목명')):\n",
    "        gdf['ATR'] = gdf['TR'].rolling(21).mean()\n",
    "        buf.append(gdf)\n",
    "    del df\n",
    "    res = pd.concat(buf)\n",
    "    return res "
   ]
  },
  {
   "cell_type": "code",
   "execution_count": 8,
   "id": "738dfc55",
   "metadata": {
    "scrolled": true
   },
   "outputs": [
    {
     "name": "stderr",
     "output_type": "stream",
     "text": [
      "100%|███████████████████████████████████████████████████████████████████████████████████████████████████████████████| 2436/2436 [00:03<00:00, 614.00it/s]\n"
     ]
    }
   ],
   "source": [
    "df_test = enter(df_raw)"
   ]
  },
  {
   "cell_type": "code",
   "execution_count": 9,
   "id": "658ee71c",
   "metadata": {},
   "outputs": [
    {
     "name": "stderr",
     "output_type": "stream",
     "text": [
      "100%|███████████████████████████████████████████████████████████████████████████████████████████████████████████████| 2436/2436 [00:02<00:00, 890.96it/s]\n"
     ]
    }
   ],
   "source": [
    "df_test1 = make_tr(df_test)"
   ]
  },
  {
   "cell_type": "code",
   "execution_count": 12,
   "id": "81313034",
   "metadata": {},
   "outputs": [
    {
     "name": "stderr",
     "output_type": "stream",
     "text": [
      "100%|██████████████████████████████████████████████████████████████████████████████████████████████████████████████| 2436/2436 [00:01<00:00, 1615.38it/s]\n"
     ]
    }
   ],
   "source": [
    "df_test2 = make_atr(df_test1)"
   ]
  },
  {
   "cell_type": "code",
   "execution_count": 16,
   "id": "1f665419",
   "metadata": {},
   "outputs": [],
   "source": [
    "df_test2 = df_test2[df_test2['종목명'] == '삼성전자']"
   ]
  },
  {
   "cell_type": "code",
   "execution_count": 19,
   "id": "5f4cd9d3",
   "metadata": {},
   "outputs": [
    {
     "name": "stderr",
     "output_type": "stream",
     "text": [
      "C:\\Users\\SCH\\AppData\\Local\\Temp\\ipykernel_6680\\2147795975.py:1: SettingWithCopyWarning: \n",
      "A value is trying to be set on a copy of a slice from a DataFrame\n",
      "\n",
      "See the caveats in the documentation: https://pandas.pydata.org/pandas-docs/stable/user_guide/indexing.html#returning-a-view-versus-a-copy\n",
      "  df_test2.drop(columns=['5_mom', '10_mom', '20_mom', 'short_buy', 'middle_buy', 'con1', 'con2', 'con3'], inplace=True)\n"
     ]
    }
   ],
   "source": [
    "df_test2.drop(columns=['5_mom', '10_mom', '20_mom', 'short_buy', 'middle_buy', 'con1', 'con2', 'con3'], inplace=True)"
   ]
  },
  {
   "cell_type": "code",
   "execution_count": 20,
   "id": "916cee38",
   "metadata": {
    "scrolled": true
   },
   "outputs": [
    {
     "data": {
      "text/html": [
       "<div>\n",
       "<style scoped>\n",
       "    .dataframe tbody tr th:only-of-type {\n",
       "        vertical-align: middle;\n",
       "    }\n",
       "\n",
       "    .dataframe tbody tr th {\n",
       "        vertical-align: top;\n",
       "    }\n",
       "\n",
       "    .dataframe thead th {\n",
       "        text-align: right;\n",
       "    }\n",
       "</style>\n",
       "<table border=\"1\" class=\"dataframe\">\n",
       "  <thead>\n",
       "    <tr style=\"text-align: right;\">\n",
       "      <th></th>\n",
       "      <th>날짜</th>\n",
       "      <th>종가</th>\n",
       "      <th>시가</th>\n",
       "      <th>최고가</th>\n",
       "      <th>최저가</th>\n",
       "      <th>누적거래량</th>\n",
       "      <th>누적거래대금</th>\n",
       "      <th>종목명</th>\n",
       "      <th>buy</th>\n",
       "      <th>TR</th>\n",
       "      <th>ATR</th>\n",
       "    </tr>\n",
       "  </thead>\n",
       "  <tbody>\n",
       "    <tr>\n",
       "      <th>877204</th>\n",
       "      <td>2018-01-29</td>\n",
       "      <td>51220</td>\n",
       "      <td>51200</td>\n",
       "      <td>51480</td>\n",
       "      <td>50900</td>\n",
       "      <td>11838800</td>\n",
       "      <td>606585731237</td>\n",
       "      <td>삼성전자</td>\n",
       "      <td>False</td>\n",
       "      <td>580.0</td>\n",
       "      <td>NaN</td>\n",
       "    </tr>\n",
       "    <tr>\n",
       "      <th>877205</th>\n",
       "      <td>2018-01-30</td>\n",
       "      <td>49800</td>\n",
       "      <td>50440</td>\n",
       "      <td>50640</td>\n",
       "      <td>49780</td>\n",
       "      <td>12284550</td>\n",
       "      <td>616153770244</td>\n",
       "      <td>삼성전자</td>\n",
       "      <td>False</td>\n",
       "      <td>1440.0</td>\n",
       "      <td>NaN</td>\n",
       "    </tr>\n",
       "    <tr>\n",
       "      <th>877206</th>\n",
       "      <td>2018-01-31</td>\n",
       "      <td>49900</td>\n",
       "      <td>50020</td>\n",
       "      <td>54140</td>\n",
       "      <td>49600</td>\n",
       "      <td>64681300</td>\n",
       "      <td>3351453496000</td>\n",
       "      <td>삼성전자</td>\n",
       "      <td>False</td>\n",
       "      <td>4540.0</td>\n",
       "      <td>NaN</td>\n",
       "    </tr>\n",
       "    <tr>\n",
       "      <th>877207</th>\n",
       "      <td>2018-02-01</td>\n",
       "      <td>49820</td>\n",
       "      <td>50620</td>\n",
       "      <td>50960</td>\n",
       "      <td>49720</td>\n",
       "      <td>27609450</td>\n",
       "      <td>1385573101302</td>\n",
       "      <td>삼성전자</td>\n",
       "      <td>False</td>\n",
       "      <td>1240.0</td>\n",
       "      <td>NaN</td>\n",
       "    </tr>\n",
       "    <tr>\n",
       "      <th>877208</th>\n",
       "      <td>2018-02-02</td>\n",
       "      <td>47700</td>\n",
       "      <td>49380</td>\n",
       "      <td>49400</td>\n",
       "      <td>47700</td>\n",
       "      <td>29260350</td>\n",
       "      <td>1408721416002</td>\n",
       "      <td>삼성전자</td>\n",
       "      <td>False</td>\n",
       "      <td>2120.0</td>\n",
       "      <td>NaN</td>\n",
       "    </tr>\n",
       "    <tr>\n",
       "      <th>...</th>\n",
       "      <td>...</td>\n",
       "      <td>...</td>\n",
       "      <td>...</td>\n",
       "      <td>...</td>\n",
       "      <td>...</td>\n",
       "      <td>...</td>\n",
       "      <td>...</td>\n",
       "      <td>...</td>\n",
       "      <td>...</td>\n",
       "      <td>...</td>\n",
       "      <td>...</td>\n",
       "    </tr>\n",
       "    <tr>\n",
       "      <th>878412</th>\n",
       "      <td>2022-12-23</td>\n",
       "      <td>58100</td>\n",
       "      <td>58200</td>\n",
       "      <td>58400</td>\n",
       "      <td>57700</td>\n",
       "      <td>9829407</td>\n",
       "      <td>570401785680</td>\n",
       "      <td>삼성전자</td>\n",
       "      <td>False</td>\n",
       "      <td>1400.0</td>\n",
       "      <td>1142.857143</td>\n",
       "    </tr>\n",
       "    <tr>\n",
       "      <th>878413</th>\n",
       "      <td>2022-12-26</td>\n",
       "      <td>57900</td>\n",
       "      <td>58000</td>\n",
       "      <td>58100</td>\n",
       "      <td>57700</td>\n",
       "      <td>6756411</td>\n",
       "      <td>391223170600</td>\n",
       "      <td>삼성전자</td>\n",
       "      <td>False</td>\n",
       "      <td>400.0</td>\n",
       "      <td>1119.047619</td>\n",
       "    </tr>\n",
       "    <tr>\n",
       "      <th>878414</th>\n",
       "      <td>2022-12-27</td>\n",
       "      <td>58100</td>\n",
       "      <td>58000</td>\n",
       "      <td>58400</td>\n",
       "      <td>57900</td>\n",
       "      <td>10667027</td>\n",
       "      <td>620410096800</td>\n",
       "      <td>삼성전자</td>\n",
       "      <td>False</td>\n",
       "      <td>500.0</td>\n",
       "      <td>1085.714286</td>\n",
       "    </tr>\n",
       "    <tr>\n",
       "      <th>878415</th>\n",
       "      <td>2022-12-28</td>\n",
       "      <td>56600</td>\n",
       "      <td>57600</td>\n",
       "      <td>57600</td>\n",
       "      <td>56400</td>\n",
       "      <td>14665410</td>\n",
       "      <td>832919426100</td>\n",
       "      <td>삼성전자</td>\n",
       "      <td>False</td>\n",
       "      <td>1700.0</td>\n",
       "      <td>1128.571429</td>\n",
       "    </tr>\n",
       "    <tr>\n",
       "      <th>878416</th>\n",
       "      <td>2022-12-29</td>\n",
       "      <td>55300</td>\n",
       "      <td>56000</td>\n",
       "      <td>56200</td>\n",
       "      <td>55300</td>\n",
       "      <td>11295935</td>\n",
       "      <td>628653753150</td>\n",
       "      <td>삼성전자</td>\n",
       "      <td>False</td>\n",
       "      <td>1300.0</td>\n",
       "      <td>1095.238095</td>\n",
       "    </tr>\n",
       "  </tbody>\n",
       "</table>\n",
       "<p>1213 rows × 11 columns</p>\n",
       "</div>"
      ],
      "text/plain": [
       "                날짜     종가     시가    최고가    최저가     누적거래량         누적거래대금   종목명  \\\n",
       "877204  2018-01-29  51220  51200  51480  50900  11838800   606585731237  삼성전자   \n",
       "877205  2018-01-30  49800  50440  50640  49780  12284550   616153770244  삼성전자   \n",
       "877206  2018-01-31  49900  50020  54140  49600  64681300  3351453496000  삼성전자   \n",
       "877207  2018-02-01  49820  50620  50960  49720  27609450  1385573101302  삼성전자   \n",
       "877208  2018-02-02  47700  49380  49400  47700  29260350  1408721416002  삼성전자   \n",
       "...            ...    ...    ...    ...    ...       ...            ...   ...   \n",
       "878412  2022-12-23  58100  58200  58400  57700   9829407   570401785680  삼성전자   \n",
       "878413  2022-12-26  57900  58000  58100  57700   6756411   391223170600  삼성전자   \n",
       "878414  2022-12-27  58100  58000  58400  57900  10667027   620410096800  삼성전자   \n",
       "878415  2022-12-28  56600  57600  57600  56400  14665410   832919426100  삼성전자   \n",
       "878416  2022-12-29  55300  56000  56200  55300  11295935   628653753150  삼성전자   \n",
       "\n",
       "          buy      TR          ATR  \n",
       "877204  False   580.0          NaN  \n",
       "877205  False  1440.0          NaN  \n",
       "877206  False  4540.0          NaN  \n",
       "877207  False  1240.0          NaN  \n",
       "877208  False  2120.0          NaN  \n",
       "...       ...     ...          ...  \n",
       "878412  False  1400.0  1142.857143  \n",
       "878413  False   400.0  1119.047619  \n",
       "878414  False   500.0  1085.714286  \n",
       "878415  False  1700.0  1128.571429  \n",
       "878416  False  1300.0  1095.238095  \n",
       "\n",
       "[1213 rows x 11 columns]"
      ]
     },
     "execution_count": 20,
     "metadata": {},
     "output_type": "execute_result"
    }
   ],
   "source": [
    "df_test2"
   ]
  },
  {
   "cell_type": "code",
   "execution_count": null,
   "id": "6f33718c",
   "metadata": {},
   "outputs": [],
   "source": [
    "df_raw.shift()"
   ]
  },
  {
   "cell_type": "code",
   "execution_count": 22,
   "id": "1b846a8a",
   "metadata": {},
   "outputs": [
    {
     "data": {
      "text/plain": [
       "100000.0"
      ]
     },
     "execution_count": 22,
     "metadata": {},
     "output_type": "execute_result"
    }
   ],
   "source": [
    "10000000 * 0.01"
   ]
  },
  {
   "cell_type": "code",
   "execution_count": 24,
   "id": "fb68dcee",
   "metadata": {},
   "outputs": [
    {
     "name": "stderr",
     "output_type": "stream",
     "text": [
      "C:\\Users\\SCH\\AppData\\Local\\Temp\\ipykernel_6680\\3351133072.py:1: SettingWithCopyWarning: \n",
      "A value is trying to be set on a copy of a slice from a DataFrame.\n",
      "Try using .loc[row_indexer,col_indexer] = value instead\n",
      "\n",
      "See the caveats in the documentation: https://pandas.pydata.org/pandas-docs/stable/user_guide/indexing.html#returning-a-view-versus-a-copy\n",
      "  df_test2['1N_N'] = 10000000*0.01/df_test2['ATR']\n"
     ]
    }
   ],
   "source": [
    "df_test2['1N_N'] = 10000000*0.01/df_test2['ATR']"
   ]
  },
  {
   "cell_type": "code",
   "execution_count": 25,
   "id": "ef004f9a",
   "metadata": {},
   "outputs": [
    {
     "data": {
      "text/plain": [
       "877204          NaN\n",
       "877205          NaN\n",
       "877206          NaN\n",
       "877207          NaN\n",
       "877208          NaN\n",
       "            ...    \n",
       "878412    87.500000\n",
       "878413    89.361702\n",
       "878414    92.105263\n",
       "878415    88.607595\n",
       "878416    91.304348\n",
       "Name: 1N_N, Length: 1213, dtype: float64"
      ]
     },
     "execution_count": 25,
     "metadata": {},
     "output_type": "execute_result"
    }
   ],
   "source": [
    "df_test2['1N_N']"
   ]
  },
  {
   "cell_type": "code",
   "execution_count": 26,
   "id": "36781e0b",
   "metadata": {},
   "outputs": [
    {
     "name": "stderr",
     "output_type": "stream",
     "text": [
      "C:\\Users\\SCH\\AppData\\Local\\Temp\\ipykernel_6680\\1520988732.py:1: SettingWithCopyWarning: \n",
      "A value is trying to be set on a copy of a slice from a DataFrame.\n",
      "Try using .loc[row_indexer,col_indexer] = value instead\n",
      "\n",
      "See the caveats in the documentation: https://pandas.pydata.org/pandas-docs/stable/user_guide/indexing.html#returning-a-view-versus-a-copy\n",
      "  df_test2['1unit'] = df_test2['1N_N'] *df_test2['종가']\n"
     ]
    }
   ],
   "source": [
    "df_test2['1unit'] = df_test2['1N_N'] *df_test2['종가']"
   ]
  },
  {
   "cell_type": "code",
   "execution_count": 28,
   "id": "885bb7c6",
   "metadata": {},
   "outputs": [
    {
     "data": {
      "text/plain": [
       "877204             NaN\n",
       "877205             NaN\n",
       "877206             NaN\n",
       "877207             NaN\n",
       "877208             NaN\n",
       "              ...     \n",
       "878412    5.083750e+06\n",
       "878413    5.174043e+06\n",
       "878414    5.351316e+06\n",
       "878415    5.015190e+06\n",
       "878416    5.049130e+06\n",
       "Name: 1unit, Length: 1213, dtype: float64"
      ]
     },
     "execution_count": 28,
     "metadata": {},
     "output_type": "execute_result"
    }
   ],
   "source": [
    "df_test2['1unit']"
   ]
  },
  {
   "cell_type": "code",
   "execution_count": null,
   "id": "322cc3cb",
   "metadata": {},
   "outputs": [],
   "source": []
  }
 ],
 "metadata": {
  "kernelspec": {
   "display_name": "Python 3 (ipykernel)",
   "language": "python",
   "name": "python3"
  },
  "language_info": {
   "codemirror_mode": {
    "name": "ipython",
    "version": 3
   },
   "file_extension": ".py",
   "mimetype": "text/x-python",
   "name": "python",
   "nbconvert_exporter": "python",
   "pygments_lexer": "ipython3",
   "version": "3.10.8"
  }
 },
 "nbformat": 4,
 "nbformat_minor": 5
}
