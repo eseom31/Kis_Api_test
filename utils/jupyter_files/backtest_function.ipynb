{
 "cells": [
  {
   "cell_type": "code",
   "execution_count": 4,
   "metadata": {},
   "outputs": [],
   "source": [
    "df_1 = pd.read_csv('C:/Users/mi-bi/OneDrive/바탕 화면/data Row/5years_kospi.csv', index_col=0)\n",
    "df_2 = pd.read_csv('C:/Users/mi-bi/OneDrive/바탕 화면/data Row/5years_kosdaq.csv', index_col=0)\n",
    "df_raw = pd.concat([df_1,df_2],ignore_index=True)"
   ]
  },
  {
   "attachments": {},
   "cell_type": "markdown",
   "metadata": {},
   "source": [
    "#### Making Market Timming"
   ]
  },
  {
   "cell_type": "code",
   "execution_count": 3,
   "metadata": {},
   "outputs": [],
   "source": [
    "import pandas as pd"
   ]
  },
  {
   "cell_type": "code",
   "execution_count": 5,
   "metadata": {},
   "outputs": [],
   "source": [
    "def making_mt(start,end,code):\n",
    "    from pykrx import stock\n",
    "    df = stock.get_index_fundamental(start,end,code)\n",
    "    df = df.drop(['등락률','PER','선행PER','PBR','배당수익률'],axis=1)\n",
    "    \n",
    "    ''' code : KOSPI ('1001') KOSDAQ ('2001') '''\n",
    "    if code=='1001': \n",
    "        df['sma20'] = df['종가'].rolling(20).mean()\n",
    "        df['mt'] = df['종가']>df['sma20']\n",
    "        df = df.dropna()\n",
    "        return df\n",
    "    elif code=='2001':     \n",
    "        df['sma3'] = df['종가'].rolling(3).mean()\n",
    "        df['sma5'] = df['종가'].rolling(5).mean()\n",
    "        df['sma10'] = df['종가'].rolling(10).mean()\n",
    "        df['mt'] = ((df['종가']>df['sma3'])|(df['종가']>df['sma5'])|(df['종가']>df['sma10']))\n",
    "        df = df.dropna()\n",
    "        return df\n",
    "    else:\n",
    "        print('올바른 종목 code 입력')"
   ]
  },
  {
   "cell_type": "code",
   "execution_count": 6,
   "metadata": {},
   "outputs": [],
   "source": [
    "def making_mt_plot(df,code):\n",
    "    import matplotlib.pyplot as plt\n",
    "    from matplotlib import dates\n",
    "    if code=='1001': \n",
    "        plt.figure(figsize = (50, 10))\n",
    "        plt.title(\"Kospi Market timming\")\n",
    "        plt.plot(df[\"종가\"])\n",
    "        plt.plot(df['sma20'])\n",
    "        plt.scatter(df.loc[df['mt']==1].index, df['종가'][df['mt']==1],\n",
    "                    color = 'red',\n",
    "                    label='Go',\n",
    "                    marker ='^',\n",
    "                    alpha=0.8)\n",
    "        plt.scatter(df.loc[df['mt']==0].index, df['종가'][df['mt']==0],\n",
    "                    color = 'blue',\n",
    "                    label='Stop',\n",
    "                    marker ='v',\n",
    "                    alpha=0.8)\n",
    "        plt.xticks(rotation=45)\n",
    "        plt.legend()\n",
    "        plt.show()\n",
    "    elif code=='2001':\n",
    "        plt.figure(figsize = (50, 10))\n",
    "        plt.title(\"Kosdaq Market timming\")\n",
    "        plt.plot(df[\"종가\"])\n",
    "        plt.plot(df['sma3'])\n",
    "        plt.plot(df['sma5'])\n",
    "        plt.plot(df['sma10'])\n",
    "        plt.scatter(df.loc[df['mt']==1].index, df['종가'][df['mt']==1],\n",
    "                    color = 'red',\n",
    "                    label='Go',\n",
    "                    marker ='^',\n",
    "                    alpha=0.8)\n",
    "        plt.scatter(df.loc[df['mt']==0].index, df['종가'][df['mt']==0],\n",
    "                    color = 'blue',\n",
    "                    label='Stop',\n",
    "                    marker ='v',\n",
    "                    alpha=0.8)\n",
    "        plt.xticks(rotation=45)\n",
    "        plt.legend()\n",
    "        plt.show()\n",
    "    else:\n",
    "        print('Error : Code check')\n",
    "    "
   ]
  },
  {
   "attachments": {},
   "cell_type": "markdown",
   "metadata": {},
   "source": [
    "## 설명 \n",
    "* backtest 시작 , 끝날짜를 for 문으로 돌린다 ex) for i in range(start,end)  \n",
    "* 시작 날짜에 maket Timming 이 true면 아래전략 시행  \n",
    "* sort_vol = 시작 날짜 누적거래대금 범위에 속하는 종목 df로만든다.  output : df_vol\n",
    "* search momentum signal = df_vol과 df_raw 를 활용하여 Momentum 값을 계산하고 signal을 만든다 \n",
    "* True 인 종목을 매수한다. 현금계좌잔고 감소 , 보유잔고 증가 (주가*수량)  \n",
    "\n",
    "<익일>  \n",
    "* 다음날 보유잔고에 매도 조건을 확인한다 매도조건이 True이면 매도한다. 현금계좌잔고 증가 (당일 종가 * 수량) 보유잔고 감소  \n",
    "* 매도 후 전일과 같이 위 과정을 반복  \n",
    "\n",
    "<최종>  \n",
    "* 수익률 출력  \n",
    "* MDD 출력 (이전략으로 매매를 했을때 최대 몇% 까지 손실을 보았었는가)  \n",
    "* 샤프지수출력 (이 전략이아니라 그냥 지수에 투자했을 때에 비해 변동성이 얼마나 큰가 )\n",
    "* 승률 (이전략을 했을때 + 수익을 본횟수 / 전체횟수)  \n",
    "* log (활용 무궁무진 : 매수 매도 기록을 전부기록 추후 확률 통계에 기반이됨)  \n",
    "\n",
    "<고급>\n",
    "* momentum 지수가 몇일 때 매수를 하면 다음날 상승확률이 가장 높은지 통계적검증 해서 파라미터 조정가능 \n"
   ]
  },
  {
   "attachments": {},
   "cell_type": "markdown",
   "metadata": {},
   "source": [
    "#### Making 거래대금조회\n"
   ]
  },
  {
   "cell_type": "code",
   "execution_count": 7,
   "metadata": {},
   "outputs": [],
   "source": [
    "def sort_vol(df,date,range):\n",
    "    df = df[(df['누적거래대금']>=range)&(df['날짜']==date)]\n",
    "    return df"
   ]
  },
  {
   "attachments": {},
   "cell_type": "markdown",
   "metadata": {},
   "source": [
    "#### Momentum Search"
   ]
  },
  {
   "cell_type": "code",
   "execution_count": 8,
   "metadata": {},
   "outputs": [],
   "source": [
    "def search_momentum_signal(df_vol, df_raw):\n",
    "    li = df_vol['종목명'].values\n",
    "    dt = df_vol['날짜'].values[0]\n",
    "    df_vol['Buy'] = None\n",
    "    df_vol['momentum'] = None\n",
    "    for i in li:\n",
    "        today_idx = df_raw[(df_raw['종목명']==i)&(df_raw['날짜']==dt)].index\n",
    "        day5_idx = df_raw[(df_raw['종목명']==i)&(df_raw['날짜']==dt)].index-5\n",
    "        momentum = df_raw.loc[today_idx]['종가'].values/df_raw.loc[day5_idx]['종가'].values\n",
    "        df_vol.loc[df_vol['종목명']==i,'momentum']=momentum[0]\n",
    "        df_vol.loc[df_vol['종목명']==i,'Buy']=df_vol['momentum']>=1\n",
    "    return df_vol\n",
    "        "
   ]
  },
  {
   "attachments": {},
   "cell_type": "markdown",
   "metadata": {},
   "source": [
    "#### buy signal True 인 종목 매수후 +5일뒤 매도 "
   ]
  },
  {
   "cell_type": "code",
   "execution_count": 249,
   "metadata": {},
   "outputs": [],
   "source": [
    "df_vol = sort_vol(df_raw,20220104,10000000000)"
   ]
  },
  {
   "cell_type": "code",
   "execution_count": 250,
   "metadata": {},
   "outputs": [
    {
     "name": "stderr",
     "output_type": "stream",
     "text": [
      "C:\\Users\\mi-bi\\AppData\\Local\\Temp\\ipykernel_37524\\838232746.py:4: SettingWithCopyWarning: \n",
      "A value is trying to be set on a copy of a slice from a DataFrame.\n",
      "Try using .loc[row_indexer,col_indexer] = value instead\n",
      "\n",
      "See the caveats in the documentation: https://pandas.pydata.org/pandas-docs/stable/user_guide/indexing.html#returning-a-view-versus-a-copy\n",
      "  df_vol['Buy'] = None\n",
      "C:\\Users\\mi-bi\\AppData\\Local\\Temp\\ipykernel_37524\\838232746.py:5: SettingWithCopyWarning: \n",
      "A value is trying to be set on a copy of a slice from a DataFrame.\n",
      "Try using .loc[row_indexer,col_indexer] = value instead\n",
      "\n",
      "See the caveats in the documentation: https://pandas.pydata.org/pandas-docs/stable/user_guide/indexing.html#returning-a-view-versus-a-copy\n",
      "  df_vol['momentum'] = None\n"
     ]
    }
   ],
   "source": [
    "df_mom = search_momentum_signal(df_vol, df_raw)"
   ]
  },
  {
   "cell_type": "code",
   "execution_count": 251,
   "metadata": {},
   "outputs": [
    {
     "data": {
      "text/plain": [
       "<AxesSubplot: >"
      ]
     },
     "execution_count": 251,
     "metadata": {},
     "output_type": "execute_result"
    },
    {
     "data": {
      "image/png": "[encoded data removed]",
      "text/plain": [
       "<Figure size 640x480 with 1 Axes>"
      ]
     },
     "metadata": {},
     "output_type": "display_data"
    }
   ],
   "source": [
    "df_mom['momentum'].hist(bins=100)"
   ]
  },
  {
   "cell_type": "code",
   "execution_count": 42,
   "metadata": {},
   "outputs": [],
   "source": [
    "def buy_list(df_mom):\n",
    "    buy_list = df_mom[df_mom['Buy']==True]\n",
    "    return buy_list\n",
    "    "
   ]
  },
  {
   "cell_type": "code",
   "execution_count": 255,
   "metadata": {},
   "outputs": [
    {
     "name": "stderr",
     "output_type": "stream",
     "text": [
      "C:\\Users\\mi-bi\\AppData\\Local\\Temp\\ipykernel_37524\\650286458.py:3: SettingWithCopyWarning: \n",
      "A value is trying to be set on a copy of a slice from a DataFrame.\n",
      "Try using .loc[row_indexer,col_indexer] = value instead\n",
      "\n",
      "See the caveats in the documentation: https://pandas.pydata.org/pandas-docs/stable/user_guide/indexing.html#returning-a-view-versus-a-copy\n",
      "  b_li.loc[b_li['종목명']==i,'5일후종가']=df_raw[(df_raw['종목명']==i)&(df_raw.index==idx[0]+5)]['종가'].values[0]\n"
     ]
    }
   ],
   "source": [
    "for i in b_li['종목명'].unique():\n",
    "    idx = b_li[b_li['종목명']==i].index\n",
    "    b_li.loc[b_li['종목명']==i,'5일후종가']=df_raw[(df_raw['종목명']==i)&(df_raw.index==idx[0]+5)]['종가'].values[0]\n",
    "    "
   ]
  },
  {
   "cell_type": "code",
   "execution_count": 40,
   "metadata": {},
   "outputs": [],
   "source": [
    "date = date[20:23]"
   ]
  },
  {
   "cell_type": "code",
   "execution_count": 26,
   "metadata": {},
   "outputs": [],
   "source": [
    "import numpy as np"
   ]
  },
  {
   "cell_type": "code",
   "execution_count": 54,
   "metadata": {},
   "outputs": [
    {
     "name": "stderr",
     "output_type": "stream",
     "text": [
      "C:\\Users\\mi-bi\\AppData\\Local\\Temp\\ipykernel_38368\\838232746.py:4: SettingWithCopyWarning: \n",
      "A value is trying to be set on a copy of a slice from a DataFrame.\n",
      "Try using .loc[row_indexer,col_indexer] = value instead\n",
      "\n",
      "See the caveats in the documentation: https://pandas.pydata.org/pandas-docs/stable/user_guide/indexing.html#returning-a-view-versus-a-copy\n",
      "  df_vol['Buy'] = None\n",
      "C:\\Users\\mi-bi\\AppData\\Local\\Temp\\ipykernel_38368\\838232746.py:5: SettingWithCopyWarning: \n",
      "A value is trying to be set on a copy of a slice from a DataFrame.\n",
      "Try using .loc[row_indexer,col_indexer] = value instead\n",
      "\n",
      "See the caveats in the documentation: https://pandas.pydata.org/pandas-docs/stable/user_guide/indexing.html#returning-a-view-versus-a-copy\n",
      "  df_vol['momentum'] = None\n",
      "C:\\Users\\mi-bi\\AppData\\Local\\Temp\\ipykernel_38368\\1051114659.py:6: FutureWarning: The frame.append method is deprecated and will be removed from pandas in a future version. Use pandas.concat instead.\n",
      "  result = result.append(df_buy)\n",
      "C:\\Users\\mi-bi\\AppData\\Local\\Temp\\ipykernel_38368\\838232746.py:4: SettingWithCopyWarning: \n",
      "A value is trying to be set on a copy of a slice from a DataFrame.\n",
      "Try using .loc[row_indexer,col_indexer] = value instead\n",
      "\n",
      "See the caveats in the documentation: https://pandas.pydata.org/pandas-docs/stable/user_guide/indexing.html#returning-a-view-versus-a-copy\n",
      "  df_vol['Buy'] = None\n",
      "C:\\Users\\mi-bi\\AppData\\Local\\Temp\\ipykernel_38368\\838232746.py:5: SettingWithCopyWarning: \n",
      "A value is trying to be set on a copy of a slice from a DataFrame.\n",
      "Try using .loc[row_indexer,col_indexer] = value instead\n",
      "\n",
      "See the caveats in the documentation: https://pandas.pydata.org/pandas-docs/stable/user_guide/indexing.html#returning-a-view-versus-a-copy\n",
      "  df_vol['momentum'] = None\n",
      "C:\\Users\\mi-bi\\AppData\\Local\\Temp\\ipykernel_38368\\1051114659.py:6: FutureWarning: The frame.append method is deprecated and will be removed from pandas in a future version. Use pandas.concat instead.\n",
      "  result = result.append(df_buy)\n",
      "C:\\Users\\mi-bi\\AppData\\Local\\Temp\\ipykernel_38368\\838232746.py:4: SettingWithCopyWarning: \n",
      "A value is trying to be set on a copy of a slice from a DataFrame.\n",
      "Try using .loc[row_indexer,col_indexer] = value instead\n",
      "\n",
      "See the caveats in the documentation: https://pandas.pydata.org/pandas-docs/stable/user_guide/indexing.html#returning-a-view-versus-a-copy\n",
      "  df_vol['Buy'] = None\n",
      "C:\\Users\\mi-bi\\AppData\\Local\\Temp\\ipykernel_38368\\838232746.py:5: SettingWithCopyWarning: \n",
      "A value is trying to be set on a copy of a slice from a DataFrame.\n",
      "Try using .loc[row_indexer,col_indexer] = value instead\n",
      "\n",
      "See the caveats in the documentation: https://pandas.pydata.org/pandas-docs/stable/user_guide/indexing.html#returning-a-view-versus-a-copy\n",
      "  df_vol['momentum'] = None\n",
      "C:\\Users\\mi-bi\\AppData\\Local\\Temp\\ipykernel_38368\\1051114659.py:6: FutureWarning: The frame.append method is deprecated and will be removed from pandas in a future version. Use pandas.concat instead.\n",
      "  result = result.append(df_buy)\n"
     ]
    }
   ],
   "source": [
    "result = pd.DataFrame()\n",
    "for i in date:\n",
    "    df_vol = sort_vol(df_raw,i,10000000000)\n",
    "    df_mom = search_momentum_signal(df_vol, df_raw)\n",
    "    df_buy = buy_list(df_mom)\n",
    "    result = result.append(df_buy)\n",
    "    "
   ]
  },
  {
   "cell_type": "code",
   "execution_count": 63,
   "metadata": {},
   "outputs": [
    {
     "data": {
      "text/html": [
       "<div>\n",
       "<style scoped>\n",
       "    .dataframe tbody tr th:only-of-type {\n",
       "        vertical-align: middle;\n",
       "    }\n",
       "\n",
       "    .dataframe tbody tr th {\n",
       "        vertical-align: top;\n",
       "    }\n",
       "\n",
       "    .dataframe thead th {\n",
       "        text-align: right;\n",
       "    }\n",
       "</style>\n",
       "<table border=\"1\" class=\"dataframe\">\n",
       "  <thead>\n",
       "    <tr style=\"text-align: right;\">\n",
       "      <th></th>\n",
       "      <th>날짜</th>\n",
       "      <th>종가</th>\n",
       "      <th>시가</th>\n",
       "      <th>최고가</th>\n",
       "      <th>최저가</th>\n",
       "      <th>누적거래량</th>\n",
       "      <th>누적거래대금</th>\n",
       "      <th>종목명</th>\n",
       "      <th>Buy</th>\n",
       "      <th>momentum</th>\n",
       "    </tr>\n",
       "  </thead>\n",
       "  <tbody>\n",
       "    <tr>\n",
       "      <th>3717</th>\n",
       "      <td>20221216</td>\n",
       "      <td>13250</td>\n",
       "      <td>13600</td>\n",
       "      <td>15250</td>\n",
       "      <td>13200</td>\n",
       "      <td>6862443</td>\n",
       "      <td>97139155100</td>\n",
       "      <td>케이카</td>\n",
       "      <td>True</td>\n",
       "      <td>1.039216</td>\n",
       "    </tr>\n",
       "    <tr>\n",
       "      <th>4033</th>\n",
       "      <td>20221216</td>\n",
       "      <td>118500</td>\n",
       "      <td>115500</td>\n",
       "      <td>120000</td>\n",
       "      <td>115000</td>\n",
       "      <td>151048</td>\n",
       "      <td>17923527000</td>\n",
       "      <td>현대중공업</td>\n",
       "      <td>True</td>\n",
       "      <td>1.021552</td>\n",
       "    </tr>\n",
       "    <tr>\n",
       "      <th>4352</th>\n",
       "      <td>20221216</td>\n",
       "      <td>5390</td>\n",
       "      <td>5190</td>\n",
       "      <td>5640</td>\n",
       "      <td>5080</td>\n",
       "      <td>4801238</td>\n",
       "      <td>26029837040</td>\n",
       "      <td>SK리츠</td>\n",
       "      <td>True</td>\n",
       "      <td>1.036538</td>\n",
       "    </tr>\n",
       "    <tr>\n",
       "      <th>6366</th>\n",
       "      <td>20221216</td>\n",
       "      <td>183500</td>\n",
       "      <td>177000</td>\n",
       "      <td>183500</td>\n",
       "      <td>176000</td>\n",
       "      <td>252456</td>\n",
       "      <td>45717121000</td>\n",
       "      <td>크래프톤</td>\n",
       "      <td>True</td>\n",
       "      <td>1.01662</td>\n",
       "    </tr>\n",
       "    <tr>\n",
       "      <th>11544</th>\n",
       "      <td>20221216</td>\n",
       "      <td>85500</td>\n",
       "      <td>83500</td>\n",
       "      <td>85500</td>\n",
       "      <td>82100</td>\n",
       "      <td>302516</td>\n",
       "      <td>25344411100</td>\n",
       "      <td>SK바이오사이언스</td>\n",
       "      <td>True</td>\n",
       "      <td>1.031363</td>\n",
       "    </tr>\n",
       "    <tr>\n",
       "      <th>...</th>\n",
       "      <td>...</td>\n",
       "      <td>...</td>\n",
       "      <td>...</td>\n",
       "      <td>...</td>\n",
       "      <td>...</td>\n",
       "      <td>...</td>\n",
       "      <td>...</td>\n",
       "      <td>...</td>\n",
       "      <td>...</td>\n",
       "      <td>...</td>\n",
       "    </tr>\n",
       "    <tr>\n",
       "      <th>2409351</th>\n",
       "      <td>20221220</td>\n",
       "      <td>28600</td>\n",
       "      <td>29100</td>\n",
       "      <td>29100</td>\n",
       "      <td>27900</td>\n",
       "      <td>353806</td>\n",
       "      <td>10061695300</td>\n",
       "      <td>다우데이타</td>\n",
       "      <td>True</td>\n",
       "      <td>1.021429</td>\n",
       "    </tr>\n",
       "    <tr>\n",
       "      <th>2427546</th>\n",
       "      <td>20221220</td>\n",
       "      <td>4330</td>\n",
       "      <td>3985</td>\n",
       "      <td>4480</td>\n",
       "      <td>3920</td>\n",
       "      <td>22945430</td>\n",
       "      <td>98651642245</td>\n",
       "      <td>SCI평가정보</td>\n",
       "      <td>True</td>\n",
       "      <td>1.157754</td>\n",
       "    </tr>\n",
       "    <tr>\n",
       "      <th>2477279</th>\n",
       "      <td>20221220</td>\n",
       "      <td>950</td>\n",
       "      <td>848</td>\n",
       "      <td>1035</td>\n",
       "      <td>848</td>\n",
       "      <td>18104298</td>\n",
       "      <td>17804937422</td>\n",
       "      <td>원풍물산</td>\n",
       "      <td>True</td>\n",
       "      <td>1.24183</td>\n",
       "    </tr>\n",
       "    <tr>\n",
       "      <th>2497900</th>\n",
       "      <td>20221220</td>\n",
       "      <td>38700</td>\n",
       "      <td>36400</td>\n",
       "      <td>40200</td>\n",
       "      <td>35300</td>\n",
       "      <td>1957371</td>\n",
       "      <td>74645681400</td>\n",
       "      <td>양지사</td>\n",
       "      <td>True</td>\n",
       "      <td>1.133236</td>\n",
       "    </tr>\n",
       "    <tr>\n",
       "      <th>2584023</th>\n",
       "      <td>20221220</td>\n",
       "      <td>14700</td>\n",
       "      <td>12700</td>\n",
       "      <td>15300</td>\n",
       "      <td>12550</td>\n",
       "      <td>6215726</td>\n",
       "      <td>89963948800</td>\n",
       "      <td>푸른저축은행</td>\n",
       "      <td>True</td>\n",
       "      <td>1.176</td>\n",
       "    </tr>\n",
       "  </tbody>\n",
       "</table>\n",
       "<p>355 rows × 10 columns</p>\n",
       "</div>"
      ],
      "text/plain": [
       "               날짜      종가      시가     최고가     최저가     누적거래량       누적거래대금  \\\n",
       "3717     20221216   13250   13600   15250   13200   6862443  97139155100   \n",
       "4033     20221216  118500  115500  120000  115000    151048  17923527000   \n",
       "4352     20221216    5390    5190    5640    5080   4801238  26029837040   \n",
       "6366     20221216  183500  177000  183500  176000    252456  45717121000   \n",
       "11544    20221216   85500   83500   85500   82100    302516  25344411100   \n",
       "...           ...     ...     ...     ...     ...       ...          ...   \n",
       "2409351  20221220   28600   29100   29100   27900    353806  10061695300   \n",
       "2427546  20221220    4330    3985    4480    3920  22945430  98651642245   \n",
       "2477279  20221220     950     848    1035     848  18104298  17804937422   \n",
       "2497900  20221220   38700   36400   40200   35300   1957371  74645681400   \n",
       "2584023  20221220   14700   12700   15300   12550   6215726  89963948800   \n",
       "\n",
       "               종목명   Buy  momentum  \n",
       "3717           케이카  True  1.039216  \n",
       "4033         현대중공업  True  1.021552  \n",
       "4352          SK리츠  True  1.036538  \n",
       "6366          크래프톤  True   1.01662  \n",
       "11544    SK바이오사이언스  True  1.031363  \n",
       "...            ...   ...       ...  \n",
       "2409351      다우데이타  True  1.021429  \n",
       "2427546    SCI평가정보  True  1.157754  \n",
       "2477279       원풍물산  True   1.24183  \n",
       "2497900        양지사  True  1.133236  \n",
       "2584023     푸른저축은행  True     1.176  \n",
       "\n",
       "[355 rows x 10 columns]"
      ]
     },
     "execution_count": 63,
     "metadata": {},
     "output_type": "execute_result"
    }
   ],
   "source": [
    "result"
   ]
  },
  {
   "cell_type": "code",
   "execution_count": 64,
   "metadata": {},
   "outputs": [],
   "source": [
    "for i in result['종목명'].unique():\n",
    "    idx = result[result['종목명']==i].index\n",
    "    result.loc[result['종목명']==i,'5일후종가']=df_raw[(df_raw['종목명']==i)&(df_raw.index==idx[0]+5)]['종가'].values[0]"
   ]
  },
  {
   "cell_type": "code",
   "execution_count": 66,
   "metadata": {},
   "outputs": [],
   "source": [
    "result['수익률']=(result['5일후종가']-result['종가'])/result['종가']*100"
   ]
  },
  {
   "cell_type": "code",
   "execution_count": 70,
   "metadata": {},
   "outputs": [
    {
     "data": {
      "text/plain": [
       "-3.526213020380843"
      ]
     },
     "execution_count": 70,
     "metadata": {},
     "output_type": "execute_result"
    }
   ],
   "source": [
    "# 해당전략으로 3일 매매했을 때 평균수익률 (거래비용 제외..)\n",
    "result['수익률'].mean()"
   ]
  },
  {
   "cell_type": "code",
   "execution_count": 74,
   "metadata": {},
   "outputs": [
    {
     "data": {
      "text/plain": [
       "-0.0013940559825764034"
      ]
     },
     "execution_count": 74,
     "metadata": {},
     "output_type": "execute_result"
    }
   ],
   "source": [
    "#해당 코스피지수 수익률\n",
    "(2356.73-2360.02)/2360.02"
   ]
  },
  {
   "cell_type": "code",
   "execution_count": null,
   "metadata": {},
   "outputs": [],
   "source": []
  }
 ],
 "metadata": {
  "kernelspec": {
   "display_name": "kis_pjt",
   "language": "python",
   "name": "python3"
  },
  "language_info": {
   "codemirror_mode": {
    "name": "ipython",
    "version": 3
   },
   "file_extension": ".py",
   "mimetype": "text/x-python",
   "name": "python",
   "nbconvert_exporter": "python",
   "pygments_lexer": "ipython3",
   "version": "3.10.8"
  },
  "orig_nbformat": 4,
  "vscode": {
   "interpreter": {
    "hash": "46a644118eb29974eeb5114eb6b85dba363fd7e9df916f2c55edd890b4f86857"
   }
  }
 },
 "nbformat": 4,
 "nbformat_minor": 2
}
