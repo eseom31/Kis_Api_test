{
 "cells": [
  {
   "cell_type": "code",
   "execution_count": 77,
   "metadata": {},
   "outputs": [],
   "source": [
    "df_1 = pd.read_csv('C:/Users/mi-bi/OneDrive/바탕 화면/data Row/5years_kospi.csv', index_col=0)\n",
    "df_2 = pd.read_csv('C:/Users/mi-bi/OneDrive/바탕 화면/data Row/5years_kosdaq.csv', index_col=0)\n",
    "df_raw = pd.concat([df_1,df_2],ignore_index=True)"
   ]
  },
  {
   "attachments": {},
   "cell_type": "markdown",
   "metadata": {},
   "source": [
    "#### Making Market Timming"
   ]
  },
  {
   "cell_type": "code",
   "execution_count": 78,
   "metadata": {},
   "outputs": [],
   "source": [
    "import pandas as pd"
   ]
  },
  {
   "cell_type": "code",
   "execution_count": 79,
   "metadata": {},
   "outputs": [],
   "source": [
    "def making_mt(start,end,code):\n",
    "    from pykrx import stock\n",
    "    df = stock.get_index_fundamental(start,end,code)\n",
    "    df = df.drop(['등락률','PER','선행PER','PBR','배당수익률'],axis=1)\n",
    "    \n",
    "    ''' code : KOSPI ('1001') KOSDAQ ('2001') '''\n",
    "    if code=='1001': \n",
    "        df['sma20'] = df['종가'].rolling(20).mean()\n",
    "        df['mt'] = df['종가']>df['sma20']\n",
    "        df = df.dropna()\n",
    "        return df\n",
    "    elif code=='2001':     \n",
    "        df['sma3'] = df['종가'].rolling(3).mean()\n",
    "        df['sma5'] = df['종가'].rolling(5).mean()\n",
    "        df['sma10'] = df['종가'].rolling(10).mean()\n",
    "        df['mt'] = ((df['종가']>df['sma3'])|(df['종가']>df['sma5'])|(df['종가']>df['sma10']))\n",
    "        df = df.dropna()\n",
    "        return df\n",
    "    else:\n",
    "        print('올바른 종목 code 입력')"
   ]
  },
  {
   "cell_type": "code",
   "execution_count": 80,
   "metadata": {},
   "outputs": [],
   "source": [
    "def making_mt_plot(df,code):\n",
    "    import matplotlib.pyplot as plt\n",
    "    from matplotlib import dates\n",
    "    if code=='1001': \n",
    "        plt.figure(figsize = (50, 10))\n",
    "        plt.title(\"Kospi Market timming\")\n",
    "        plt.plot(df[\"종가\"])\n",
    "        plt.plot(df['sma20'])\n",
    "        plt.scatter(df.loc[df['mt']==1].index, df['종가'][df['mt']==1],\n",
    "                    color = 'red',\n",
    "                    label='Go',\n",
    "                    marker ='^',\n",
    "                    alpha=0.8)\n",
    "        plt.scatter(df.loc[df['mt']==0].index, df['종가'][df['mt']==0],\n",
    "                    color = 'blue',\n",
    "                    label='Stop',\n",
    "                    marker ='v',\n",
    "                    alpha=0.8)\n",
    "        plt.xticks(rotation=45)\n",
    "        plt.legend()\n",
    "        plt.show()\n",
    "    elif code=='2001':\n",
    "        plt.figure(figsize = (50, 10))\n",
    "        plt.title(\"Kosdaq Market timming\")\n",
    "        plt.plot(df[\"종가\"])\n",
    "        plt.plot(df['sma3'])\n",
    "        plt.plot(df['sma5'])\n",
    "        plt.plot(df['sma10'])\n",
    "        plt.scatter(df.loc[df['mt']==1].index, df['종가'][df['mt']==1],\n",
    "                    color = 'red',\n",
    "                    label='Go',\n",
    "                    marker ='^',\n",
    "                    alpha=0.8)\n",
    "        plt.scatter(df.loc[df['mt']==0].index, df['종가'][df['mt']==0],\n",
    "                    color = 'blue',\n",
    "                    label='Stop',\n",
    "                    marker ='v',\n",
    "                    alpha=0.8)\n",
    "        plt.xticks(rotation=45)\n",
    "        plt.legend()\n",
    "        plt.show()\n",
    "    else:\n",
    "        print('Error : Code check')\n",
    "    "
   ]
  },
  {
   "attachments": {},
   "cell_type": "markdown",
   "metadata": {},
   "source": [
    "## 설명 \n",
    "* backtest 시작 , 끝날짜를 for 문으로 돌린다 ex) for i in range(start,end)  \n",
    "* 시작 날짜에 maket Timming 이 true면 아래전략 시행  \n",
    "* sort_vol = 시작 날짜 누적거래대금 범위에 속하는 종목 df로만든다.  output : df_vol\n",
    "* search momentum signal = df_vol과 df_raw 를 활용하여 Momentum 값을 계산하고 signal을 만든다 \n",
    "* True 인 종목을 매수한다. 현금계좌잔고 감소 , 보유잔고 증가 (주가*수량)  \n",
    "\n",
    "<익일>  \n",
    "* 다음날 보유잔고에 매도 조건을 확인한다 매도조건이 True이면 매도한다. 현금계좌잔고 증가 (당일 종가 * 수량) 보유잔고 감소  \n",
    "* 매도 후 전일과 같이 위 과정을 반복  \n",
    "\n",
    "<최종>  \n",
    "* 수익률 출력  \n",
    "* MDD 출력 (이전략으로 매매를 했을때 최대 몇% 까지 손실을 보았었는가)  \n",
    "* 샤프지수출력 (이 전략이아니라 그냥 지수에 투자했을 때에 비해 변동성이 얼마나 큰가 )\n",
    "* 승률 (이전략을 했을때 + 수익을 본횟수 / 전체횟수)  \n",
    "* log (활용 무궁무진 : 매수 매도 기록을 전부기록 추후 확률 통계에 기반이됨)  \n",
    "\n",
    "<고급>\n",
    "* momentum 지수가 몇일 때 매수를 하면 다음날 상승확률이 가장 높은지 통계적검증 해서 파라미터 조정가능 \n"
   ]
  },
  {
   "attachments": {},
   "cell_type": "markdown",
   "metadata": {},
   "source": [
    "#### Making 거래대금조회\n"
   ]
  },
  {
   "cell_type": "code",
   "execution_count": 81,
   "metadata": {},
   "outputs": [],
   "source": [
    "def sort_vol(df,date,range):\n",
    "    df = df[(df['누적거래대금']>=range)&(df['날짜']==date)]\n",
    "    return df"
   ]
  },
  {
   "attachments": {},
   "cell_type": "markdown",
   "metadata": {},
   "source": [
    "#### Momentum Search"
   ]
  },
  {
   "cell_type": "code",
   "execution_count": 82,
   "metadata": {},
   "outputs": [],
   "source": [
    "def search_momentum_signal(df_vol, df_raw):\n",
    "    li = df_vol['종목명'].values\n",
    "    dt = df_vol['날짜'].values[0]\n",
    "    df_vol['Buy'] = None\n",
    "    df_vol['momentum'] = None\n",
    "    for i in li:\n",
    "        today_idx = df_raw[(df_raw['종목명']==i)&(df_raw['날짜']==dt)].index\n",
    "        day5_idx = df_raw[(df_raw['종목명']==i)&(df_raw['날짜']==dt)].index-5\n",
    "        momentum = df_raw.loc[today_idx]['종가'].values/df_raw.loc[day5_idx]['종가'].values\n",
    "        df_vol.loc[df_vol['종목명']==i,'momentum']=momentum[0]\n",
    "        df_vol.loc[df_vol['종목명']==i,'Buy']=df_vol['momentum']>=1\n",
    "    return df_vol\n",
    "        "
   ]
  },
  {
   "attachments": {},
   "cell_type": "markdown",
   "metadata": {},
   "source": [
    "#### buy signal True 인 종목 매수후 +5일뒤 매도 "
   ]
  },
  {
   "cell_type": "code",
   "execution_count": 249,
   "metadata": {},
   "outputs": [],
   "source": [
    "df_vol = sort_vol(df_raw,20220104,10000000000)"
   ]
  },
  {
   "cell_type": "code",
   "execution_count": 250,
   "metadata": {},
   "outputs": [
    {
     "name": "stderr",
     "output_type": "stream",
     "text": [
      "C:\\Users\\mi-bi\\AppData\\Local\\Temp\\ipykernel_37524\\838232746.py:4: SettingWithCopyWarning: \n",
      "A value is trying to be set on a copy of a slice from a DataFrame.\n",
      "Try using .loc[row_indexer,col_indexer] = value instead\n",
      "\n",
      "See the caveats in the documentation: https://pandas.pydata.org/pandas-docs/stable/user_guide/indexing.html#returning-a-view-versus-a-copy\n",
      "  df_vol['Buy'] = None\n",
      "C:\\Users\\mi-bi\\AppData\\Local\\Temp\\ipykernel_37524\\838232746.py:5: SettingWithCopyWarning: \n",
      "A value is trying to be set on a copy of a slice from a DataFrame.\n",
      "Try using .loc[row_indexer,col_indexer] = value instead\n",
      "\n",
      "See the caveats in the documentation: https://pandas.pydata.org/pandas-docs/stable/user_guide/indexing.html#returning-a-view-versus-a-copy\n",
      "  df_vol['momentum'] = None\n"
     ]
    }
   ],
   "source": [
    "df_mom = search_momentum_signal(df_vol, df_raw)"
   ]
  },
  {
   "cell_type": "code",
   "execution_count": 251,
   "metadata": {},
   "outputs": [
    {
     "data": {
      "text/plain": [
       "<AxesSubplot: >"
      ]
     },
     "execution_count": 251,
     "metadata": {},
     "output_type": "execute_result"
    },
    {
     "data": {
      "image/png": "[encoded data removed]",
      "text/plain": [
       "<Figure size 640x480 with 1 Axes>"
      ]
     },
     "metadata": {},
     "output_type": "display_data"
    }
   ],
   "source": [
    "df_mom['momentum'].hist(bins=100)"
   ]
  },
  {
   "cell_type": "code",
   "execution_count": 252,
   "metadata": {},
   "outputs": [],
   "source": [
    "def buy_list(df_mom):\n",
    "    buy_list = df_mom[df_mom['Buy']==True]\n",
    "    return buy_list\n",
    "    "
   ]
  },
  {
   "cell_type": "code",
   "execution_count": 253,
   "metadata": {},
   "outputs": [],
   "source": [
    "b_li = buy_list(df_mom)"
   ]
  },
  {
   "cell_type": "code",
   "execution_count": 254,
   "metadata": {},
   "outputs": [
    {
     "data": {
      "text/html": [
       "<div>\n",
       "<style scoped>\n",
       "    .dataframe tbody tr th:only-of-type {\n",
       "        vertical-align: middle;\n",
       "    }\n",
       "\n",
       "    .dataframe tbody tr th {\n",
       "        vertical-align: top;\n",
       "    }\n",
       "\n",
       "    .dataframe thead th {\n",
       "        text-align: right;\n",
       "    }\n",
       "</style>\n",
       "<table border=\"1\" class=\"dataframe\">\n",
       "  <thead>\n",
       "    <tr style=\"text-align: right;\">\n",
       "      <th></th>\n",
       "      <th>날짜</th>\n",
       "      <th>종가</th>\n",
       "      <th>시가</th>\n",
       "      <th>최고가</th>\n",
       "      <th>최저가</th>\n",
       "      <th>누적거래량</th>\n",
       "      <th>누적거래대금</th>\n",
       "      <th>종목명</th>\n",
       "      <th>Buy</th>\n",
       "      <th>momentum</th>\n",
       "    </tr>\n",
       "  </thead>\n",
       "  <tbody>\n",
       "    <tr>\n",
       "      <th>998</th>\n",
       "      <td>20220104</td>\n",
       "      <td>161900</td>\n",
       "      <td>168500</td>\n",
       "      <td>168600</td>\n",
       "      <td>161200</td>\n",
       "      <td>254928</td>\n",
       "      <td>41761768500</td>\n",
       "      <td>LX세미콘</td>\n",
       "      <td>True</td>\n",
       "      <td>1.009981</td>\n",
       "    </tr>\n",
       "  </tbody>\n",
       "</table>\n",
       "</div>"
      ],
      "text/plain": [
       "           날짜      종가      시가     최고가     최저가   누적거래량       누적거래대금    종목명  \\\n",
       "998  20220104  161900  168500  168600  161200  254928  41761768500  LX세미콘   \n",
       "\n",
       "      Buy  momentum  \n",
       "998  True  1.009981  "
      ]
     },
     "execution_count": 254,
     "metadata": {},
     "output_type": "execute_result"
    }
   ],
   "source": [
    "b_li.head(1)"
   ]
  },
  {
   "cell_type": "code",
   "execution_count": 255,
   "metadata": {},
   "outputs": [
    {
     "name": "stderr",
     "output_type": "stream",
     "text": [
      "C:\\Users\\mi-bi\\AppData\\Local\\Temp\\ipykernel_37524\\650286458.py:3: SettingWithCopyWarning: \n",
      "A value is trying to be set on a copy of a slice from a DataFrame.\n",
      "Try using .loc[row_indexer,col_indexer] = value instead\n",
      "\n",
      "See the caveats in the documentation: https://pandas.pydata.org/pandas-docs/stable/user_guide/indexing.html#returning-a-view-versus-a-copy\n",
      "  b_li.loc[b_li['종목명']==i,'5일후종가']=df_raw[(df_raw['종목명']==i)&(df_raw.index==idx[0]+5)]['종가'].values[0]\n"
     ]
    }
   ],
   "source": [
    "for i in b_li['종목명'].unique():\n",
    "    idx = b_li[b_li['종목명']==i].index\n",
    "    b_li.loc[b_li['종목명']==i,'5일후종가']=df_raw[(df_raw['종목명']==i)&(df_raw.index==idx[0]+5)]['종가'].values[0]\n",
    "    "
   ]
  },
  {
   "cell_type": "code",
   "execution_count": 256,
   "metadata": {},
   "outputs": [
    {
     "name": "stderr",
     "output_type": "stream",
     "text": [
      "C:\\Users\\mi-bi\\AppData\\Local\\Temp\\ipykernel_37524\\3609460801.py:1: SettingWithCopyWarning: \n",
      "A value is trying to be set on a copy of a slice from a DataFrame.\n",
      "Try using .loc[row_indexer,col_indexer] = value instead\n",
      "\n",
      "See the caveats in the documentation: https://pandas.pydata.org/pandas-docs/stable/user_guide/indexing.html#returning-a-view-versus-a-copy\n",
      "  b_li['수익률'] = (b_li['5일후종가']-b_li['종가'])/b_li['종가']*100\n"
     ]
    }
   ],
   "source": [
    "b_li['수익률'] = (b_li['5일후종가']-b_li['종가'])/b_li['종가']*100"
   ]
  },
  {
   "cell_type": "code",
   "execution_count": 257,
   "metadata": {},
   "outputs": [
    {
     "data": {
      "text/html": [
       "<div>\n",
       "<style scoped>\n",
       "    .dataframe tbody tr th:only-of-type {\n",
       "        vertical-align: middle;\n",
       "    }\n",
       "\n",
       "    .dataframe tbody tr th {\n",
       "        vertical-align: top;\n",
       "    }\n",
       "\n",
       "    .dataframe thead th {\n",
       "        text-align: right;\n",
       "    }\n",
       "</style>\n",
       "<table border=\"1\" class=\"dataframe\">\n",
       "  <thead>\n",
       "    <tr style=\"text-align: right;\">\n",
       "      <th></th>\n",
       "      <th>날짜</th>\n",
       "      <th>종가</th>\n",
       "      <th>시가</th>\n",
       "      <th>최고가</th>\n",
       "      <th>최저가</th>\n",
       "      <th>누적거래량</th>\n",
       "      <th>누적거래대금</th>\n",
       "      <th>종목명</th>\n",
       "      <th>Buy</th>\n",
       "      <th>momentum</th>\n",
       "      <th>5일후종가</th>\n",
       "      <th>수익률</th>\n",
       "    </tr>\n",
       "  </thead>\n",
       "  <tbody>\n",
       "    <tr>\n",
       "      <th>1481169</th>\n",
       "      <td>20220104</td>\n",
       "      <td>2445</td>\n",
       "      <td>2495</td>\n",
       "      <td>2520</td>\n",
       "      <td>2425</td>\n",
       "      <td>10416530</td>\n",
       "      <td>25795039285</td>\n",
       "      <td>휴센텍</td>\n",
       "      <td>True</td>\n",
       "      <td>1.042644</td>\n",
       "      <td>1605.0</td>\n",
       "      <td>-34.355828</td>\n",
       "    </tr>\n",
       "    <tr>\n",
       "      <th>1017966</th>\n",
       "      <td>20220104</td>\n",
       "      <td>17375</td>\n",
       "      <td>17000</td>\n",
       "      <td>18300</td>\n",
       "      <td>16600</td>\n",
       "      <td>7267058</td>\n",
       "      <td>126805747700</td>\n",
       "      <td>엔비티</td>\n",
       "      <td>True</td>\n",
       "      <td>1.463158</td>\n",
       "      <td>12525.0</td>\n",
       "      <td>-27.913669</td>\n",
       "    </tr>\n",
       "    <tr>\n",
       "      <th>2384854</th>\n",
       "      <td>20220104</td>\n",
       "      <td>6000</td>\n",
       "      <td>5270</td>\n",
       "      <td>6320</td>\n",
       "      <td>5240</td>\n",
       "      <td>45570552</td>\n",
       "      <td>266208863710</td>\n",
       "      <td>경남스틸</td>\n",
       "      <td>True</td>\n",
       "      <td>1.411765</td>\n",
       "      <td>4545.0</td>\n",
       "      <td>-24.250000</td>\n",
       "    </tr>\n",
       "    <tr>\n",
       "      <th>1494512</th>\n",
       "      <td>20220104</td>\n",
       "      <td>1971</td>\n",
       "      <td>1921</td>\n",
       "      <td>2238</td>\n",
       "      <td>1904</td>\n",
       "      <td>11383701</td>\n",
       "      <td>23366773650</td>\n",
       "      <td>스튜디오산타클로스</td>\n",
       "      <td>True</td>\n",
       "      <td>1.087748</td>\n",
       "      <td>1528.0</td>\n",
       "      <td>-22.475901</td>\n",
       "    </tr>\n",
       "    <tr>\n",
       "      <th>1180542</th>\n",
       "      <td>20220104</td>\n",
       "      <td>34600</td>\n",
       "      <td>31700</td>\n",
       "      <td>38450</td>\n",
       "      <td>31700</td>\n",
       "      <td>14985964</td>\n",
       "      <td>535074410650</td>\n",
       "      <td>로보티즈</td>\n",
       "      <td>True</td>\n",
       "      <td>1.527594</td>\n",
       "      <td>27400.0</td>\n",
       "      <td>-20.809249</td>\n",
       "    </tr>\n",
       "    <tr>\n",
       "      <th>...</th>\n",
       "      <td>...</td>\n",
       "      <td>...</td>\n",
       "      <td>...</td>\n",
       "      <td>...</td>\n",
       "      <td>...</td>\n",
       "      <td>...</td>\n",
       "      <td>...</td>\n",
       "      <td>...</td>\n",
       "      <td>...</td>\n",
       "      <td>...</td>\n",
       "      <td>...</td>\n",
       "      <td>...</td>\n",
       "    </tr>\n",
       "    <tr>\n",
       "      <th>2301157</th>\n",
       "      <td>20220104</td>\n",
       "      <td>4320</td>\n",
       "      <td>4050</td>\n",
       "      <td>4320</td>\n",
       "      <td>3890</td>\n",
       "      <td>8021525</td>\n",
       "      <td>33522043255</td>\n",
       "      <td>오픈베이스</td>\n",
       "      <td>True</td>\n",
       "      <td>1.210084</td>\n",
       "      <td>5250.0</td>\n",
       "      <td>21.527778</td>\n",
       "    </tr>\n",
       "    <tr>\n",
       "      <th>1852347</th>\n",
       "      <td>20220104</td>\n",
       "      <td>7290</td>\n",
       "      <td>5720</td>\n",
       "      <td>7290</td>\n",
       "      <td>5630</td>\n",
       "      <td>7602662</td>\n",
       "      <td>50730411490</td>\n",
       "      <td>알에프세미</td>\n",
       "      <td>True</td>\n",
       "      <td>1.410058</td>\n",
       "      <td>9070.0</td>\n",
       "      <td>24.417010</td>\n",
       "    </tr>\n",
       "    <tr>\n",
       "      <th>1176422</th>\n",
       "      <td>20220104</td>\n",
       "      <td>44600</td>\n",
       "      <td>40600</td>\n",
       "      <td>45050</td>\n",
       "      <td>40600</td>\n",
       "      <td>383258</td>\n",
       "      <td>16751062600</td>\n",
       "      <td>대보마그네틱</td>\n",
       "      <td>True</td>\n",
       "      <td>1.133418</td>\n",
       "      <td>56000.0</td>\n",
       "      <td>25.560538</td>\n",
       "    </tr>\n",
       "    <tr>\n",
       "      <th>1259190</th>\n",
       "      <td>20220104</td>\n",
       "      <td>19300</td>\n",
       "      <td>17750</td>\n",
       "      <td>19650</td>\n",
       "      <td>17750</td>\n",
       "      <td>1602748</td>\n",
       "      <td>30454795150</td>\n",
       "      <td>엠플러스</td>\n",
       "      <td>True</td>\n",
       "      <td>1.198758</td>\n",
       "      <td>25050.0</td>\n",
       "      <td>29.792746</td>\n",
       "    </tr>\n",
       "    <tr>\n",
       "      <th>578561</th>\n",
       "      <td>20220104</td>\n",
       "      <td>2950</td>\n",
       "      <td>2985</td>\n",
       "      <td>2990</td>\n",
       "      <td>2815</td>\n",
       "      <td>5482050</td>\n",
       "      <td>15971163465</td>\n",
       "      <td>까뮤이앤씨</td>\n",
       "      <td>True</td>\n",
       "      <td>1.150097</td>\n",
       "      <td>3970.0</td>\n",
       "      <td>34.576271</td>\n",
       "    </tr>\n",
       "  </tbody>\n",
       "</table>\n",
       "<p>268 rows × 12 columns</p>\n",
       "</div>"
      ],
      "text/plain": [
       "               날짜     종가     시가    최고가    최저가     누적거래량        누적거래대금  \\\n",
       "1481169  20220104   2445   2495   2520   2425  10416530   25795039285   \n",
       "1017966  20220104  17375  17000  18300  16600   7267058  126805747700   \n",
       "2384854  20220104   6000   5270   6320   5240  45570552  266208863710   \n",
       "1494512  20220104   1971   1921   2238   1904  11383701   23366773650   \n",
       "1180542  20220104  34600  31700  38450  31700  14985964  535074410650   \n",
       "...           ...    ...    ...    ...    ...       ...           ...   \n",
       "2301157  20220104   4320   4050   4320   3890   8021525   33522043255   \n",
       "1852347  20220104   7290   5720   7290   5630   7602662   50730411490   \n",
       "1176422  20220104  44600  40600  45050  40600    383258   16751062600   \n",
       "1259190  20220104  19300  17750  19650  17750   1602748   30454795150   \n",
       "578561   20220104   2950   2985   2990   2815   5482050   15971163465   \n",
       "\n",
       "               종목명   Buy  momentum    5일후종가        수익률  \n",
       "1481169        휴센텍  True  1.042644   1605.0 -34.355828  \n",
       "1017966        엔비티  True  1.463158  12525.0 -27.913669  \n",
       "2384854       경남스틸  True  1.411765   4545.0 -24.250000  \n",
       "1494512  스튜디오산타클로스  True  1.087748   1528.0 -22.475901  \n",
       "1180542       로보티즈  True  1.527594  27400.0 -20.809249  \n",
       "...            ...   ...       ...      ...        ...  \n",
       "2301157      오픈베이스  True  1.210084   5250.0  21.527778  \n",
       "1852347      알에프세미  True  1.410058   9070.0  24.417010  \n",
       "1176422     대보마그네틱  True  1.133418  56000.0  25.560538  \n",
       "1259190       엠플러스  True  1.198758  25050.0  29.792746  \n",
       "578561       까뮤이앤씨  True  1.150097   3970.0  34.576271  \n",
       "\n",
       "[268 rows x 12 columns]"
      ]
     },
     "execution_count": 257,
     "metadata": {},
     "output_type": "execute_result"
    }
   ],
   "source": [
    "b_li.sort_values(by='수익률')"
   ]
  },
  {
   "cell_type": "code",
   "execution_count": 262,
   "metadata": {},
   "outputs": [
    {
     "data": {
      "text/plain": [
       "-5.786643205327776"
      ]
     },
     "execution_count": 262,
     "metadata": {},
     "output_type": "execute_result"
    }
   ],
   "source": [
    "b_li['수익률'].mean()"
   ]
  },
  {
   "cell_type": "code",
   "execution_count": null,
   "metadata": {},
   "outputs": [],
   "source": []
  }
 ],
 "metadata": {
  "kernelspec": {
   "display_name": "kis_pjt",
   "language": "python",
   "name": "python3"
  },
  "language_info": {
   "codemirror_mode": {
    "name": "ipython",
    "version": 3
   },
   "file_extension": ".py",
   "mimetype": "text/x-python",
   "name": "python",
   "nbconvert_exporter": "python",
   "pygments_lexer": "ipython3",
   "version": "3.10.8"
  },
  "orig_nbformat": 4,
  "vscode": {
   "interpreter": {
    "hash": "46a644118eb29974eeb5114eb6b85dba363fd7e9df916f2c55edd890b4f86857"
   }
  }
 },
 "nbformat": 4,
 "nbformat_minor": 2
}
