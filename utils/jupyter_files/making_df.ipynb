{
 "cells": [
  {
   "cell_type": "code",
   "execution_count": 1,
   "id": "3dc26276",
   "metadata": {},
   "outputs": [],
   "source": [
    "import pandas as pd\n",
    "from tqdm import tqdm\n",
    "from dateutil.parser import parse\n",
    "import datetime as dt\n",
    "import time"
   ]
  },
  {
   "cell_type": "code",
   "execution_count": 2,
   "id": "69bf7cbf",
   "metadata": {},
   "outputs": [],
   "source": [
    "import warnings\n",
    "warnings.filterwarnings('ignore')"
   ]
  },
  {
   "cell_type": "code",
   "execution_count": 3,
   "id": "b8b7c9f8",
   "metadata": {},
   "outputs": [],
   "source": [
    "import sys\n",
    "sys.path.append('D:/ML/Kis_Api_test/')\n",
    "from DB_System.communication import StockConnection"
   ]
  },
  {
   "cell_type": "code",
   "execution_count": 4,
   "id": "c6d83394",
   "metadata": {},
   "outputs": [],
   "source": [
    "sc = StockConnection()"
   ]
  },
  {
   "cell_type": "code",
   "execution_count": 5,
   "id": "0e03562b",
   "metadata": {},
   "outputs": [],
   "source": [
    "# db 추출\n",
    "def db_extract(result):\n",
    "    #name = result['output1']['hts_kor_isnm']\n",
    "    df1 = pd.DataFrame(result['output2'])\n",
    "    df1.drop(df1.iloc[:,6:],axis=1,inplace=True)\n",
    "    df1['hts_kor_isnm'] = result['output1']['hts_kor_isnm']\n",
    "    df1['stck_shrn_iscd'] = result['output1']['stck_shrn_iscd']\n",
    "    #df['name'] = name\n",
    "    return df1"
   ]
  },
  {
   "cell_type": "code",
   "execution_count": 6,
   "id": "ce716fed",
   "metadata": {},
   "outputs": [],
   "source": [
    "kospi = pd.read_csv('../../../data_0402_20230323.csv', encoding='cp949')\n",
    "kosdaq = pd.read_csv('../../../data_0457_20230323.csv', encoding='cp949')\n",
    "kospi = kospi[['단축코드', '한글 종목약명', '상장일']]\n",
    "kosdaq = kosdaq[['단축코드', '한글 종목약명', '상장일']]\n",
    "kospi_kosdaq = pd.concat([kospi, kosdaq])"
   ]
  },
  {
   "cell_type": "code",
   "execution_count": 7,
   "id": "411f52c5",
   "metadata": {},
   "outputs": [
    {
     "data": {
      "text/html": [
       "<div>\n",
       "<style scoped>\n",
       "    .dataframe tbody tr th:only-of-type {\n",
       "        vertical-align: middle;\n",
       "    }\n",
       "\n",
       "    .dataframe tbody tr th {\n",
       "        vertical-align: top;\n",
       "    }\n",
       "\n",
       "    .dataframe thead th {\n",
       "        text-align: right;\n",
       "    }\n",
       "</style>\n",
       "<table border=\"1\" class=\"dataframe\">\n",
       "  <thead>\n",
       "    <tr style=\"text-align: right;\">\n",
       "      <th></th>\n",
       "      <th>단축코드</th>\n",
       "      <th>한글 종목약명</th>\n",
       "      <th>상장일</th>\n",
       "    </tr>\n",
       "  </thead>\n",
       "  <tbody>\n",
       "    <tr>\n",
       "      <th>835</th>\n",
       "      <td>247540</td>\n",
       "      <td>에코프로비엠</td>\n",
       "      <td>2019/03/05</td>\n",
       "    </tr>\n",
       "  </tbody>\n",
       "</table>\n",
       "</div>"
      ],
      "text/plain": [
       "       단축코드 한글 종목약명         상장일\n",
       "835  247540  에코프로비엠  2019/03/05"
      ]
     },
     "execution_count": 7,
     "metadata": {},
     "output_type": "execute_result"
    }
   ],
   "source": [
    "kospi_kosdaq[kospi_kosdaq['단축코드'] == '247540']"
   ]
  },
  {
   "cell_type": "code",
   "execution_count": 19,
   "id": "98ed8d1b",
   "metadata": {},
   "outputs": [],
   "source": [
    "kospi_kosdaq.to_csv('../../SRC/kospi_kosdaq_information.csv')"
   ]
  },
  {
   "cell_type": "code",
   "execution_count": 8,
   "id": "cbc16d5d",
   "metadata": {},
   "outputs": [
    {
     "data": {
      "text/plain": [
       "datetime.datetime(2023, 3, 23, 20, 34, 9, 359504)"
      ]
     },
     "execution_count": 8,
     "metadata": {},
     "output_type": "execute_result"
    }
   ],
   "source": [
    "dt.datetime.today()"
   ]
  },
  {
   "cell_type": "code",
   "execution_count": null,
   "id": "ba42bf98",
   "metadata": {},
   "outputs": [],
   "source": []
  },
  {
   "cell_type": "code",
   "execution_count": 9,
   "id": "d9aae7a1",
   "metadata": {},
   "outputs": [
    {
     "data": {
      "text/plain": [
       "'238490'"
      ]
     },
     "execution_count": 9,
     "metadata": {},
     "output_type": "execute_result"
    }
   ],
   "source": [
    "list(kospi_kosdaq['단축코드']).pop()"
   ]
  },
  {
   "cell_type": "code",
   "execution_count": 10,
   "id": "958eb50a",
   "metadata": {},
   "outputs": [
    {
     "name": "stderr",
     "output_type": "stream",
     "text": [
      "100%|████████████████████████████████████████████████████████████████████████████████████████████████████████████████████████| 2575/2575 [1:30:16<00:00,  2.10s/it]\n"
     ]
    }
   ],
   "source": [
    "fin_res = []\n",
    "companys = list(kospi_kosdaq['단축코드'])\n",
    "with tqdm(total = len(companys)) as pbar:\n",
    "        while len(companys) > 0:\n",
    "            try:\n",
    "                company = companys.pop()\n",
    "                \n",
    "                first_date = parse(kospi_kosdaq[kospi_kosdaq['단축코드'] == company]['상장일'].iloc[0])\n",
    "                first_date = first_date if first_date > parse('20180101') else parse('20180101')\n",
    "                last_date = dt.datetime.today()\n",
    "                term = dt.timedelta(days=98)\n",
    "                term_bias_date = first_date\n",
    "                buf2 = []\n",
    "                while last_date - term_bias_date > term:  \n",
    "                    date1 = str(term_bias_date)[:10].replace('-', '')\n",
    "                    date2 = str(term_bias_date + term - dt.timedelta(days=1))[:10].replace('-', '')\n",
    "        #             time.sleep(0.1)\n",
    "                    buf = sc.date_price(company, date1, date2)\n",
    "                    term_bias_date = term_bias_date + term\n",
    "                    buf2.append(db_extract(buf))   \n",
    "                buf = sc.date_price(company, str(term_bias_date + dt.timedelta(days=1))[:10].replace('-', ''), str(dt.datetime.today())[:10].replace('-', ''))\n",
    "                buf2.append(db_extract(buf))\n",
    "                res = pd.concat(buf2)\n",
    "                pbar.update(1)\n",
    "                res.columns =['날짜','종가','시가','최고가','최저가','누적거래량', '종목명', '종목코드']\n",
    "                res['날짜'] = pd.to_datetime(res['날짜'])\n",
    "                res.sort_values(by='날짜',inplace=True)\n",
    "                fin_res.append(res)\n",
    "                data = pd.concat(fin_res)\n",
    "            except:\n",
    "                companys.append(company)\n",
    "                buf2.clear()\n",
    "\n",
    "# for company in tqdm(kospi_kosdaq['단축코드']):\n",
    "    "
   ]
  },
  {
   "cell_type": "code",
   "execution_count": 11,
   "id": "7c479051",
   "metadata": {},
   "outputs": [
    {
     "data": {
      "text/plain": [
       "2575"
      ]
     },
     "execution_count": 11,
     "metadata": {},
     "output_type": "execute_result"
    }
   ],
   "source": [
    "len(fin_res)"
   ]
  },
  {
   "cell_type": "code",
   "execution_count": 17,
   "id": "30acbc48",
   "metadata": {},
   "outputs": [],
   "source": [
    "data.to_csv('../../../df_230323_fin.csv')"
   ]
  },
  {
   "cell_type": "code",
   "execution_count": 22,
   "id": "41697392",
   "metadata": {},
   "outputs": [],
   "source": [
    "first_date = parse(sorted(kospi_kosdaq['상장일'].unique())[0])"
   ]
  },
  {
   "cell_type": "markdown",
   "id": "e079f078",
   "metadata": {},
   "source": [
    "### 활용예시 (삼성전자 2022년도 1년치 주가를 저장)"
   ]
  },
  {
   "cell_type": "code",
   "execution_count": 9,
   "id": "6be0a546",
   "metadata": {},
   "outputs": [],
   "source": [
    "def yyy(company, year):\n",
    "    result_1Q = sc.date_price(company,f'{year}0101',f'{year}0331','D')\n",
    "    result_2Q = sc.date_price(company,f'{year}0401',f'{year}0630','D')\n",
    "    result_3Q = sc.date_price(company,f'{year}0701',f'{year}0930','D')\n",
    "    result_4Q = sc.date_price(company,f'{year}1001',f'{year}1231','D')\n",
    "    df_1q = db_extract(result_1Q)\n",
    "    df_2q = db_extract(result_2Q)\n",
    "    df_3q = db_extract(result_3Q)\n",
    "    df_4q = db_extract(result_4Q)\n",
    "    df = pd.concat([df_1q,df_2q,df_3q,df_4q])\n",
    "#     print(df)\n",
    "    df.columns =['날짜','종가','시가','최고가','최저가','누적거래량', '종목명', '종목코드']\n",
    "    df['날짜'] = pd.to_datetime(df['날짜'])\n",
    "    df.sort_values(by='날짜',inplace=True)\n",
    "    return df "
   ]
  },
  {
   "cell_type": "code",
   "execution_count": 10,
   "id": "70fc5df6",
   "metadata": {},
   "outputs": [
    {
     "name": "stderr",
     "output_type": "stream",
     "text": [
      "100%|█████████████████████████████████████████████████████████████████████████████████████████████████████████| 2438/2438 [1:16:49<00:00,  1.89s/it]\n"
     ]
    }
   ],
   "source": [
    "companys = buf3\n",
    "fin = []\n",
    "for company in tqdm(companys):\n",
    "    try:\n",
    "        buf = []\n",
    "        for year in [2018, 2019, 2020, 2021, 2022, 2023]:\n",
    "#             print(f'{company} : {year}')\n",
    "            \n",
    "            buf2 = yyy(company, year)\n",
    "            buf.append(buf2)\n",
    "        fin.append(pd.concat(buf))\n",
    "    except:\n",
    "        pass\n",
    "res = pd.concat(fin)"
   ]
  },
  {
   "cell_type": "code",
   "execution_count": 11,
   "id": "f1f19105",
   "metadata": {},
   "outputs": [],
   "source": [
    "res2 = res.dropna(axis=0)"
   ]
  },
  {
   "cell_type": "code",
   "execution_count": 12,
   "id": "7f957f02",
   "metadata": {},
   "outputs": [
    {
     "data": {
      "text/html": [
       "<div>\n",
       "<style scoped>\n",
       "    .dataframe tbody tr th:only-of-type {\n",
       "        vertical-align: middle;\n",
       "    }\n",
       "\n",
       "    .dataframe tbody tr th {\n",
       "        vertical-align: top;\n",
       "    }\n",
       "\n",
       "    .dataframe thead th {\n",
       "        text-align: right;\n",
       "    }\n",
       "</style>\n",
       "<table border=\"1\" class=\"dataframe\">\n",
       "  <thead>\n",
       "    <tr style=\"text-align: right;\">\n",
       "      <th></th>\n",
       "      <th>날짜</th>\n",
       "      <th>종가</th>\n",
       "      <th>시가</th>\n",
       "      <th>최고가</th>\n",
       "      <th>최저가</th>\n",
       "      <th>누적거래량</th>\n",
       "      <th>종목명</th>\n",
       "      <th>종목코드</th>\n",
       "    </tr>\n",
       "  </thead>\n",
       "  <tbody>\n",
       "    <tr>\n",
       "      <th>60</th>\n",
       "      <td>2018-01-02</td>\n",
       "      <td>9870</td>\n",
       "      <td>9750</td>\n",
       "      <td>9900</td>\n",
       "      <td>9700</td>\n",
       "      <td>120676</td>\n",
       "      <td>동화약품</td>\n",
       "      <td>000020</td>\n",
       "    </tr>\n",
       "    <tr>\n",
       "      <th>59</th>\n",
       "      <td>2018-01-03</td>\n",
       "      <td>10000</td>\n",
       "      <td>9900</td>\n",
       "      <td>10250</td>\n",
       "      <td>9820</td>\n",
       "      <td>268220</td>\n",
       "      <td>동화약품</td>\n",
       "      <td>000020</td>\n",
       "    </tr>\n",
       "    <tr>\n",
       "      <th>58</th>\n",
       "      <td>2018-01-04</td>\n",
       "      <td>9750</td>\n",
       "      <td>10050</td>\n",
       "      <td>10050</td>\n",
       "      <td>9680</td>\n",
       "      <td>161342</td>\n",
       "      <td>동화약품</td>\n",
       "      <td>000020</td>\n",
       "    </tr>\n",
       "    <tr>\n",
       "      <th>57</th>\n",
       "      <td>2018-01-05</td>\n",
       "      <td>9910</td>\n",
       "      <td>9750</td>\n",
       "      <td>9980</td>\n",
       "      <td>9750</td>\n",
       "      <td>116604</td>\n",
       "      <td>동화약품</td>\n",
       "      <td>000020</td>\n",
       "    </tr>\n",
       "    <tr>\n",
       "      <th>56</th>\n",
       "      <td>2018-01-08</td>\n",
       "      <td>9950</td>\n",
       "      <td>10000</td>\n",
       "      <td>10150</td>\n",
       "      <td>9940</td>\n",
       "      <td>158326</td>\n",
       "      <td>동화약품</td>\n",
       "      <td>000020</td>\n",
       "    </tr>\n",
       "    <tr>\n",
       "      <th>...</th>\n",
       "      <td>...</td>\n",
       "      <td>...</td>\n",
       "      <td>...</td>\n",
       "      <td>...</td>\n",
       "      <td>...</td>\n",
       "      <td>...</td>\n",
       "      <td>...</td>\n",
       "      <td>...</td>\n",
       "    </tr>\n",
       "    <tr>\n",
       "      <th>1</th>\n",
       "      <td>2023-03-21</td>\n",
       "      <td>8960</td>\n",
       "      <td>9250</td>\n",
       "      <td>9280</td>\n",
       "      <td>8950</td>\n",
       "      <td>57209</td>\n",
       "      <td>코오롱티슈진</td>\n",
       "      <td>950160</td>\n",
       "    </tr>\n",
       "    <tr>\n",
       "      <th>0</th>\n",
       "      <td>2023-03-22</td>\n",
       "      <td>8900</td>\n",
       "      <td>8980</td>\n",
       "      <td>9050</td>\n",
       "      <td>8850</td>\n",
       "      <td>67590</td>\n",
       "      <td>코오롱티슈진</td>\n",
       "      <td>950160</td>\n",
       "    </tr>\n",
       "    <tr>\n",
       "      <th>0</th>\n",
       "      <td>2023-03-22</td>\n",
       "      <td>8900</td>\n",
       "      <td>8980</td>\n",
       "      <td>9050</td>\n",
       "      <td>8850</td>\n",
       "      <td>67590</td>\n",
       "      <td>코오롱티슈진</td>\n",
       "      <td>950160</td>\n",
       "    </tr>\n",
       "    <tr>\n",
       "      <th>0</th>\n",
       "      <td>2023-03-22</td>\n",
       "      <td>8900</td>\n",
       "      <td>8980</td>\n",
       "      <td>9050</td>\n",
       "      <td>8850</td>\n",
       "      <td>67590</td>\n",
       "      <td>코오롱티슈진</td>\n",
       "      <td>950160</td>\n",
       "    </tr>\n",
       "    <tr>\n",
       "      <th>0</th>\n",
       "      <td>2023-03-22</td>\n",
       "      <td>8900</td>\n",
       "      <td>8980</td>\n",
       "      <td>9050</td>\n",
       "      <td>8850</td>\n",
       "      <td>67590</td>\n",
       "      <td>코오롱티슈진</td>\n",
       "      <td>950160</td>\n",
       "    </tr>\n",
       "  </tbody>\n",
       "</table>\n",
       "<p>2484227 rows × 8 columns</p>\n",
       "</div>"
      ],
      "text/plain": [
       "           날짜     종가     시가    최고가   최저가   누적거래량     종목명    종목코드\n",
       "60 2018-01-02   9870   9750   9900  9700  120676    동화약품  000020\n",
       "59 2018-01-03  10000   9900  10250  9820  268220    동화약품  000020\n",
       "58 2018-01-04   9750  10050  10050  9680  161342    동화약품  000020\n",
       "57 2018-01-05   9910   9750   9980  9750  116604    동화약품  000020\n",
       "56 2018-01-08   9950  10000  10150  9940  158326    동화약품  000020\n",
       "..        ...    ...    ...    ...   ...     ...     ...     ...\n",
       "1  2023-03-21   8960   9250   9280  8950   57209  코오롱티슈진  950160\n",
       "0  2023-03-22   8900   8980   9050  8850   67590  코오롱티슈진  950160\n",
       "0  2023-03-22   8900   8980   9050  8850   67590  코오롱티슈진  950160\n",
       "0  2023-03-22   8900   8980   9050  8850   67590  코오롱티슈진  950160\n",
       "0  2023-03-22   8900   8980   9050  8850   67590  코오롱티슈진  950160\n",
       "\n",
       "[2484227 rows x 8 columns]"
      ]
     },
     "execution_count": 12,
     "metadata": {},
     "output_type": "execute_result"
    }
   ],
   "source": [
    "res2"
   ]
  },
  {
   "cell_type": "code",
   "execution_count": 13,
   "id": "e2da3b22",
   "metadata": {},
   "outputs": [],
   "source": [
    "res2.to_csv('../../../df_230323.csv')"
   ]
  },
  {
   "cell_type": "code",
   "execution_count": null,
   "id": "9e0a2627",
   "metadata": {},
   "outputs": [],
   "source": []
  },
  {
   "cell_type": "code",
   "execution_count": null,
   "id": "b8ba2fd6",
   "metadata": {},
   "outputs": [],
   "source": []
  },
  {
   "cell_type": "code",
   "execution_count": null,
   "id": "a99d9336",
   "metadata": {},
   "outputs": [],
   "source": []
  },
  {
   "cell_type": "code",
   "execution_count": null,
   "id": "ba151444",
   "metadata": {},
   "outputs": [],
   "source": []
  },
  {
   "cell_type": "code",
   "execution_count": null,
   "id": "e161fa65",
   "metadata": {},
   "outputs": [],
   "source": []
  },
  {
   "cell_type": "code",
   "execution_count": null,
   "id": "1caa29f1",
   "metadata": {},
   "outputs": [],
   "source": []
  },
  {
   "cell_type": "code",
   "execution_count": null,
   "id": "0d70d92d",
   "metadata": {},
   "outputs": [],
   "source": []
  },
  {
   "cell_type": "code",
   "execution_count": 65,
   "id": "1148b53c",
   "metadata": {},
   "outputs": [],
   "source": [
    "sss = set(res['종목명'].to_list())"
   ]
  },
  {
   "cell_type": "code",
   "execution_count": 74,
   "id": "34e0c8cf",
   "metadata": {},
   "outputs": [],
   "source": [
    "tt = res.groupby(by='종목명', group_keys=True).apply(lambda x: x)"
   ]
  },
  {
   "cell_type": "code",
   "execution_count": null,
   "id": "61a0fc5e",
   "metadata": {},
   "outputs": [],
   "source": [
    "tt"
   ]
  },
  {
   "cell_type": "code",
   "execution_count": 78,
   "id": "5921a510",
   "metadata": {},
   "outputs": [],
   "source": [
    "tt.to_csv('kospi200_groub.csv')"
   ]
  },
  {
   "cell_type": "code",
   "execution_count": null,
   "id": "14768f0c",
   "metadata": {},
   "outputs": [],
   "source": []
  },
  {
   "cell_type": "code",
   "execution_count": null,
   "id": "a44adac9",
   "metadata": {},
   "outputs": [],
   "source": []
  },
  {
   "cell_type": "code",
   "execution_count": 34,
   "id": "421be8f3",
   "metadata": {},
   "outputs": [],
   "source": [
    "df = pd.concat([df_1q,df_2q,df_3q,df_4q])\n",
    "df.columns =['날짜','종가','시가','최고가','최저가','누적거래량','종목명']\n",
    "df['날짜'] = pd.to_datetime(df['날짜'])\n",
    "df.sort_values(by='날짜',inplace=True)"
   ]
  },
  {
   "cell_type": "code",
   "execution_count": 36,
   "id": "7188f417",
   "metadata": {},
   "outputs": [
    {
     "data": {
      "text/html": [
       "<div>\n",
       "<style scoped>\n",
       "    .dataframe tbody tr th:only-of-type {\n",
       "        vertical-align: middle;\n",
       "    }\n",
       "\n",
       "    .dataframe tbody tr th {\n",
       "        vertical-align: top;\n",
       "    }\n",
       "\n",
       "    .dataframe thead th {\n",
       "        text-align: right;\n",
       "    }\n",
       "</style>\n",
       "<table border=\"1\" class=\"dataframe\">\n",
       "  <thead>\n",
       "    <tr style=\"text-align: right;\">\n",
       "      <th></th>\n",
       "      <th>날짜</th>\n",
       "      <th>종가</th>\n",
       "      <th>시가</th>\n",
       "      <th>최고가</th>\n",
       "      <th>최저가</th>\n",
       "      <th>누적거래량</th>\n",
       "      <th>종목명</th>\n",
       "    </tr>\n",
       "  </thead>\n",
       "  <tbody>\n",
       "    <tr>\n",
       "      <th>58</th>\n",
       "      <td>2022-01-03</td>\n",
       "      <td>143500</td>\n",
       "      <td>143500</td>\n",
       "      <td>146000</td>\n",
       "      <td>142500</td>\n",
       "      <td>15765</td>\n",
       "      <td>BGF리테일</td>\n",
       "    </tr>\n",
       "    <tr>\n",
       "      <th>57</th>\n",
       "      <td>2022-01-04</td>\n",
       "      <td>142000</td>\n",
       "      <td>142500</td>\n",
       "      <td>143500</td>\n",
       "      <td>140500</td>\n",
       "      <td>29610</td>\n",
       "      <td>BGF리테일</td>\n",
       "    </tr>\n",
       "    <tr>\n",
       "      <th>56</th>\n",
       "      <td>2022-01-05</td>\n",
       "      <td>139500</td>\n",
       "      <td>140500</td>\n",
       "      <td>141500</td>\n",
       "      <td>138000</td>\n",
       "      <td>48402</td>\n",
       "      <td>BGF리테일</td>\n",
       "    </tr>\n",
       "    <tr>\n",
       "      <th>55</th>\n",
       "      <td>2022-01-06</td>\n",
       "      <td>141500</td>\n",
       "      <td>139000</td>\n",
       "      <td>143500</td>\n",
       "      <td>138500</td>\n",
       "      <td>36533</td>\n",
       "      <td>BGF리테일</td>\n",
       "    </tr>\n",
       "    <tr>\n",
       "      <th>54</th>\n",
       "      <td>2022-01-07</td>\n",
       "      <td>140000</td>\n",
       "      <td>143500</td>\n",
       "      <td>144500</td>\n",
       "      <td>139500</td>\n",
       "      <td>28464</td>\n",
       "      <td>BGF리테일</td>\n",
       "    </tr>\n",
       "    <tr>\n",
       "      <th>...</th>\n",
       "      <td>...</td>\n",
       "      <td>...</td>\n",
       "      <td>...</td>\n",
       "      <td>...</td>\n",
       "      <td>...</td>\n",
       "      <td>...</td>\n",
       "      <td>...</td>\n",
       "    </tr>\n",
       "    <tr>\n",
       "      <th>4</th>\n",
       "      <td>2022-12-23</td>\n",
       "      <td>206500</td>\n",
       "      <td>211000</td>\n",
       "      <td>211000</td>\n",
       "      <td>204500</td>\n",
       "      <td>28853</td>\n",
       "      <td>BGF리테일</td>\n",
       "    </tr>\n",
       "    <tr>\n",
       "      <th>3</th>\n",
       "      <td>2022-12-26</td>\n",
       "      <td>204500</td>\n",
       "      <td>206000</td>\n",
       "      <td>208000</td>\n",
       "      <td>201000</td>\n",
       "      <td>33859</td>\n",
       "      <td>BGF리테일</td>\n",
       "    </tr>\n",
       "    <tr>\n",
       "      <th>2</th>\n",
       "      <td>2022-12-27</td>\n",
       "      <td>208500</td>\n",
       "      <td>204500</td>\n",
       "      <td>209000</td>\n",
       "      <td>202000</td>\n",
       "      <td>43241</td>\n",
       "      <td>BGF리테일</td>\n",
       "    </tr>\n",
       "    <tr>\n",
       "      <th>1</th>\n",
       "      <td>2022-12-28</td>\n",
       "      <td>212000</td>\n",
       "      <td>205500</td>\n",
       "      <td>214000</td>\n",
       "      <td>202500</td>\n",
       "      <td>28229</td>\n",
       "      <td>BGF리테일</td>\n",
       "    </tr>\n",
       "    <tr>\n",
       "      <th>0</th>\n",
       "      <td>2022-12-29</td>\n",
       "      <td>210500</td>\n",
       "      <td>207000</td>\n",
       "      <td>212500</td>\n",
       "      <td>206500</td>\n",
       "      <td>33874</td>\n",
       "      <td>BGF리테일</td>\n",
       "    </tr>\n",
       "  </tbody>\n",
       "</table>\n",
       "<p>246 rows × 7 columns</p>\n",
       "</div>"
      ],
      "text/plain": [
       "           날짜      종가      시가     최고가     최저가  누적거래량     종목명\n",
       "58 2022-01-03  143500  143500  146000  142500  15765  BGF리테일\n",
       "57 2022-01-04  142000  142500  143500  140500  29610  BGF리테일\n",
       "56 2022-01-05  139500  140500  141500  138000  48402  BGF리테일\n",
       "55 2022-01-06  141500  139000  143500  138500  36533  BGF리테일\n",
       "54 2022-01-07  140000  143500  144500  139500  28464  BGF리테일\n",
       "..        ...     ...     ...     ...     ...    ...     ...\n",
       "4  2022-12-23  206500  211000  211000  204500  28853  BGF리테일\n",
       "3  2022-12-26  204500  206000  208000  201000  33859  BGF리테일\n",
       "2  2022-12-27  208500  204500  209000  202000  43241  BGF리테일\n",
       "1  2022-12-28  212000  205500  214000  202500  28229  BGF리테일\n",
       "0  2022-12-29  210500  207000  212500  206500  33874  BGF리테일\n",
       "\n",
       "[246 rows x 7 columns]"
      ]
     },
     "execution_count": 36,
     "metadata": {},
     "output_type": "execute_result"
    }
   ],
   "source": [
    "df"
   ]
  },
  {
   "cell_type": "code",
   "execution_count": 35,
   "id": "5203c7ff",
   "metadata": {},
   "outputs": [
    {
     "name": "stderr",
     "output_type": "stream",
     "text": [
      "C:\\Users\\SCH\\AppData\\Local\\Temp\\ipykernel_16256\\3874453458.py:1: FutureWarning: In a future version, `df.iloc[:, i] = newvals` will attempt to set the values inplace instead of always setting a new array. To retain the old behavior, use either `df[df.columns[i]] = newvals` or, if columns are non-unique, `df.isetitem(i, newvals)`\n",
      "  df.iloc[:,1:6] = df.iloc[:,1:6].astype('int')\n"
     ]
    }
   ],
   "source": [
    "df.iloc[:,1:6] = df.iloc[:,1:6].astype('int')"
   ]
  },
  {
   "cell_type": "code",
   "execution_count": 191,
   "id": "22a236d3",
   "metadata": {},
   "outputs": [],
   "source": [
    "# df.to_csv('df_example.csv')"
   ]
  },
  {
   "cell_type": "code",
   "execution_count": null,
   "id": "5caf8100",
   "metadata": {},
   "outputs": [],
   "source": []
  }
 ],
 "metadata": {
  "kernelspec": {
   "display_name": "Python 3 (ipykernel)",
   "language": "python",
   "name": "python3"
  },
  "language_info": {
   "codemirror_mode": {
    "name": "ipython",
    "version": 3
   },
   "file_extension": ".py",
   "mimetype": "text/x-python",
   "name": "python",
   "nbconvert_exporter": "python",
   "pygments_lexer": "ipython3",
   "version": "3.10.8"
  },
  "vscode": {
   "interpreter": {
    "hash": "7d2f72079e4e1bf3d02af8845c79bb0ffe53e9ff9ade8065e020e4f08df003e4"
   }
  }
 },
 "nbformat": 4,
 "nbformat_minor": 5
}
