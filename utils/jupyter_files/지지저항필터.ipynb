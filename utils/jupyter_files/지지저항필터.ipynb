{
 "cells": [
  {
   "attachments": {},
   "cell_type": "markdown",
   "metadata": {},
   "source": [
    "#### test 용 "
   ]
  },
  {
   "cell_type": "code",
   "execution_count": 1,
   "metadata": {},
   "outputs": [],
   "source": [
    "import pandas as pd\n",
    "import yfinance as yf\n",
    "import numpy as np\n",
    "import math\n",
    "from mplfinance.original_flavor import candlestick_ohlc\n",
    "import matplotlib.dates as mpl_dates\n",
    "import matplotlib.pyplot as plt"
   ]
  },
  {
   "cell_type": "code",
   "execution_count": 3,
   "metadata": {},
   "outputs": [
    {
     "name": "stdout",
     "output_type": "stream",
     "text": [
      "[*********************100%***********************]  1 of 1 completed\n"
     ]
    }
   ],
   "source": [
    "def get_stock_price(symbol):\n",
    "  df = yf.download(symbol, start='2021-02-01', threads= False)\n",
    "  df['Date'] = pd.to_datetime(df.index)\n",
    "  df['Date'] = df['Date'].apply(mpl_dates.date2num)\n",
    "  df = df.loc[:,['Date', 'Open', 'High', 'Low', 'Close']]\n",
    "  return df\n",
    "symbol = 'COST'\n",
    "df = get_stock_price(symbol)"
   ]
  },
  {
   "cell_type": "code",
   "execution_count": 5,
   "metadata": {},
   "outputs": [
    {
     "data": {
      "text/html": [
       "<div>\n",
       "<style scoped>\n",
       "    .dataframe tbody tr th:only-of-type {\n",
       "        vertical-align: middle;\n",
       "    }\n",
       "\n",
       "    .dataframe tbody tr th {\n",
       "        vertical-align: top;\n",
       "    }\n",
       "\n",
       "    .dataframe thead th {\n",
       "        text-align: right;\n",
       "    }\n",
       "</style>\n",
       "<table border=\"1\" class=\"dataframe\">\n",
       "  <thead>\n",
       "    <tr style=\"text-align: right;\">\n",
       "      <th></th>\n",
       "      <th>Date</th>\n",
       "      <th>Open</th>\n",
       "      <th>High</th>\n",
       "      <th>Low</th>\n",
       "      <th>Close</th>\n",
       "    </tr>\n",
       "    <tr>\n",
       "      <th>Date</th>\n",
       "      <th></th>\n",
       "      <th></th>\n",
       "      <th></th>\n",
       "      <th></th>\n",
       "      <th></th>\n",
       "    </tr>\n",
       "  </thead>\n",
       "  <tbody>\n",
       "    <tr>\n",
       "      <th>2021-02-01</th>\n",
       "      <td>18659.0</td>\n",
       "      <td>351.209991</td>\n",
       "      <td>352.790009</td>\n",
       "      <td>349.209991</td>\n",
       "      <td>350.519989</td>\n",
       "    </tr>\n",
       "  </tbody>\n",
       "</table>\n",
       "</div>"
      ],
      "text/plain": [
       "               Date        Open        High         Low       Close\n",
       "Date                                                               \n",
       "2021-02-01  18659.0  351.209991  352.790009  349.209991  350.519989"
      ]
     },
     "execution_count": 5,
     "metadata": {},
     "output_type": "execute_result"
    }
   ],
   "source": [
    "df.head(1)"
   ]
  },
  {
   "cell_type": "code",
   "execution_count": 29,
   "metadata": {},
   "outputs": [],
   "source": [
    "#method 1: fractal candlestick pattern\n",
    "# determine bullish fractal \n",
    "def is_support(df,i):  \n",
    "  cond1 = df['Low'][i] < df['Low'][i-1]   \n",
    "  cond2 = df['Low'][i] < df['Low'][i+1]   \n",
    "  cond3 = df['Low'][i+1] < df['Low'][i+2]   \n",
    "  cond4 = df['Low'][i-1] < df['Low'][i-2]  \n",
    "  return (cond1 and cond2 and cond3 and cond4) \n",
    "# determine bearish fractal\n",
    "def is_resistance(df,i):  \n",
    "  cond1 = df['High'][i] > df['High'][i-1]   \n",
    "  cond2 = df['High'][i] > df['High'][i+1]   \n",
    "  cond3 = df['High'][i+1] > df['High'][i+2]   \n",
    "  cond4 = df['High'][i-1] > df['High'][i-2]  \n",
    "  return (cond1 and cond2 and cond3 and cond4)\n",
    "# to make sure the new level area does not exist already\n",
    "def is_far_from_level(value, levels, df):    \n",
    "  ave =  np.mean(df['High'] - df['Low'])    \n",
    "  return np.sum([abs(value-level)<ave for _,level in levels])==0\n",
    "# a list to store resistance and support levels\n",
    "levels = []\n",
    "for i in range(2, df.shape[0] - 2):  \n",
    "  if is_support(df, i):    \n",
    "    low = df['Low'][i]    \n",
    "    if is_far_from_level(low, levels, df):      \n",
    "      levels.append((i, low))  \n",
    "  elif is_resistance(df, i):    \n",
    "    high = df['High'][i]    \n",
    "    if is_far_from_level(high, levels, df):      \n",
    "      levels.append((i, high))"
   ]
  },
  {
   "cell_type": "code",
   "execution_count": 30,
   "metadata": {},
   "outputs": [
    {
     "data": {
      "text/plain": [
       "[(6, 361.6700134277344),\n",
       " (23, 307.0),\n",
       " (32, 322.3800048828125),\n",
       " (68, 387.8900146484375),\n",
       " (75, 376.1300048828125),\n",
       " (129, 443.5),\n",
       " (140, 460.6199951171875),\n",
       " (165, 470.489990234375),\n",
       " (193, 520.2100219726562),\n",
       " (209, 560.780029296875),\n",
       " (225, 536.0800170898438),\n",
       " (230, 571.489990234375),\n",
       " (238, 508.5),\n",
       " (269, 482.9800109863281),\n",
       " (289, 549.219970703125),\n",
       " (294, 586.3200073242188),\n",
       " (299, 612.27001953125),\n",
       " (329, 406.510009765625),\n",
       " (497, 495.239990234375)]"
      ]
     },
     "execution_count": 30,
     "metadata": {},
     "output_type": "execute_result"
    }
   ],
   "source": [
    "levels"
   ]
  },
  {
   "cell_type": "code",
   "execution_count": 8,
   "metadata": {},
   "outputs": [],
   "source": [
    "def plot_all(levels, df):    \n",
    "  fig, ax = plt.subplots(figsize=(16, 9))   \n",
    "  candlestick_ohlc(ax,df.values,width=0.6, colorup='green', \n",
    "    colordown='red', alpha=0.8)    \n",
    "  date_format = mpl_dates.DateFormatter('%d %b %Y')\n",
    "  ax.xaxis.set_major_formatter(date_format)    \n",
    "  for level in levels:        \n",
    "    plt.hlines(level[1], xmin = df['Date'][level[0]], xmax = \n",
    "      max(df['Date']), colors='blue', linestyle='--')    \n",
    "  fig.show()"
   ]
  },
  {
   "cell_type": "code",
   "execution_count": 9,
   "metadata": {},
   "outputs": [
    {
     "name": "stdout",
     "output_type": "stream",
     "text": [
      "[*********************100%***********************]  1 of 1 completed\n"
     ]
    },
    {
     "name": "stderr",
     "output_type": "stream",
     "text": [
      "C:\\Users\\mi-bi\\AppData\\Local\\Temp\\ipykernel_13108\\2887692077.py:10: UserWarning: Matplotlib is currently using module://matplotlib_inline.backend_inline, which is a non-GUI backend, so cannot show the figure.\n",
      "  fig.show()\n"
     ]
    },
    {
     "data": {
      "image/png": "[encoded data removed]",
      "text/plain": [
       "<Figure size 1600x900 with 1 Axes>"
      ]
     },
     "metadata": {},
     "output_type": "display_data"
    }
   ],
   "source": [
    "symbol = 'COST'\n",
    "df = get_stock_price(symbol)\n",
    "pivots = []\n",
    "max_list = []\n",
    "min_list = []\n",
    "for i in range(5, len(df)-5):\n",
    "  # taking a window of 9 candles\n",
    "  high_range = df['High'][i-5:i+4]\n",
    "  current_max = high_range.max()\n",
    "  # if we find a new maximum value, empty the max_list \n",
    "  if current_max not in max_list:\n",
    "    max_list = []\n",
    "  max_list.append(current_max)\n",
    "  # if the maximum value remains the same after shifting 5 times\n",
    "  if len(max_list)==5 and is_far_from_level(current_max,pivots,df):\n",
    "      pivots.append((high_range.idxmax(), current_max))\n",
    "    \n",
    "  low_range = df['Low'][i-5:i+5]\n",
    "  current_min = low_range.min()\n",
    "  if current_min not in min_list:\n",
    "    min_list = []\n",
    "  min_list.append(current_min)\n",
    "  if len(min_list)==5 and is_far_from_level(current_min,pivots,df):\n",
    "    pivots.append((low_range.idxmin(), current_min))\n",
    "plot_all(pivots, df)"
   ]
  },
  {
   "attachments": {},
   "cell_type": "markdown",
   "metadata": {},
   "source": [
    "#### 우리데이터로"
   ]
  },
  {
   "cell_type": "code",
   "execution_count": 2,
   "metadata": {},
   "outputs": [],
   "source": [
    "df_raw = pd.read_csv('C:/Users/mi-bi/OneDrive/바탕 화면/data Row/mom.csv', index_col=0)"
   ]
  },
  {
   "cell_type": "code",
   "execution_count": 3,
   "metadata": {},
   "outputs": [],
   "source": [
    "df = df_raw[df_raw['종목명']=='삼성전자']"
   ]
  },
  {
   "cell_type": "code",
   "execution_count": 4,
   "metadata": {},
   "outputs": [
    {
     "name": "stderr",
     "output_type": "stream",
     "text": [
      "C:\\Users\\mi-bi\\AppData\\Local\\Temp\\ipykernel_31824\\135353743.py:2: SettingWithCopyWarning: \n",
      "A value is trying to be set on a copy of a slice from a DataFrame.\n",
      "Try using .loc[row_indexer,col_indexer] = value instead\n",
      "\n",
      "See the caveats in the documentation: https://pandas.pydata.org/pandas-docs/stable/user_guide/indexing.html#returning-a-view-versus-a-copy\n",
      "  df['날짜'] = pd.to_datetime(df['날짜'])\n"
     ]
    }
   ],
   "source": [
    "# 전처리\n",
    "df['날짜'] = pd.to_datetime(df['날짜'])\n",
    "df = df.drop(df.iloc[:,8:11],axis=1)\n",
    "df.columns = ['Date','Close','Open','High','Low','vol','vol_Price','Name']\n",
    "df.set_index('Date',drop=False,inplace=True)"
   ]
  },
  {
   "cell_type": "code",
   "execution_count": 19,
   "metadata": {},
   "outputs": [],
   "source": [
    "df_raw = df_raw.drop(df_raw.iloc[:,8:11],axis=1)\n",
    "df_raw.columns = ['Date','Close','Open','High','Low','vol','vol_Price','Name']"
   ]
  },
  {
   "cell_type": "code",
   "execution_count": 20,
   "metadata": {},
   "outputs": [
    {
     "data": {
      "text/html": [
       "<div>\n",
       "<style scoped>\n",
       "    .dataframe tbody tr th:only-of-type {\n",
       "        vertical-align: middle;\n",
       "    }\n",
       "\n",
       "    .dataframe tbody tr th {\n",
       "        vertical-align: top;\n",
       "    }\n",
       "\n",
       "    .dataframe thead th {\n",
       "        text-align: right;\n",
       "    }\n",
       "</style>\n",
       "<table border=\"1\" class=\"dataframe\">\n",
       "  <thead>\n",
       "    <tr style=\"text-align: right;\">\n",
       "      <th></th>\n",
       "      <th>Date</th>\n",
       "      <th>Close</th>\n",
       "      <th>Open</th>\n",
       "      <th>High</th>\n",
       "      <th>Low</th>\n",
       "      <th>vol</th>\n",
       "      <th>vol_Price</th>\n",
       "      <th>Name</th>\n",
       "    </tr>\n",
       "  </thead>\n",
       "  <tbody>\n",
       "    <tr>\n",
       "      <th>0</th>\n",
       "      <td>2022-12-22</td>\n",
       "      <td>10650</td>\n",
       "      <td>9980</td>\n",
       "      <td>11700</td>\n",
       "      <td>9930</td>\n",
       "      <td>28856232</td>\n",
       "      <td>309808795730</td>\n",
       "      <td>바이오노트</td>\n",
       "    </tr>\n",
       "  </tbody>\n",
       "</table>\n",
       "</div>"
      ],
      "text/plain": [
       "         Date  Close  Open   High   Low       vol     vol_Price   Name\n",
       "0  2022-12-22  10650  9980  11700  9930  28856232  309808795730  바이오노트"
      ]
     },
     "execution_count": 20,
     "metadata": {},
     "output_type": "execute_result"
    }
   ],
   "source": [
    "df_raw.head(1)"
   ]
  },
  {
   "cell_type": "code",
   "execution_count": 15,
   "metadata": {},
   "outputs": [],
   "source": [
    "#method 1: fractal candlestick pattern\n",
    "# determine bullish fractal \n",
    "def is_support(df,i):  \n",
    "  cond1 = df['Low'][i] < df['Low'][i-1]   \n",
    "  cond2 = df['Low'][i] < df['Low'][i+1]   \n",
    "  cond3 = df['Low'][i+1] < df['Low'][i+2]   \n",
    "  cond4 = df['Low'][i-1] < df['Low'][i-2]  \n",
    "  return (cond1 and cond2 and cond3 and cond4) \n",
    "# determine bearish fractal\n",
    "def is_resistance(df,i):  \n",
    "  cond1 = df['High'][i] > df['High'][i-1]   \n",
    "  cond2 = df['High'][i] > df['High'][i+1]   \n",
    "  cond3 = df['High'][i+1] > df['High'][i+2]   \n",
    "  cond4 = df['High'][i-1] > df['High'][i-2]  \n",
    "  return (cond1 and cond2 and cond3 and cond4)\n",
    "# to make sure the new level area does not exist already\n",
    "def is_far_from_level(value, levels, df):    \n",
    "  ave =  np.mean(df['High'] - df['Low'])    \n",
    "  return np.sum([abs(value-level)<ave for _,level in levels])==0"
   ]
  },
  {
   "cell_type": "code",
   "execution_count": 16,
   "metadata": {},
   "outputs": [],
   "source": [
    "levels = []\n",
    "for i in range(2, df.shape[0] - 2):  \n",
    "  if is_support(df, i):    \n",
    "    low = df['Low'][i]    \n",
    "    if is_far_from_level(low, levels, df):      \n",
    "      levels.append((i, low))  \n",
    "  elif is_resistance(df, i):    \n",
    "    high = df['High'][i]    \n",
    "    if is_far_from_level(high, levels, df):      \n",
    "      levels.append((i, high))"
   ]
  },
  {
   "cell_type": "code",
   "execution_count": 30,
   "metadata": {},
   "outputs": [],
   "source": [
    "def make_key_levels(df_raw):\n",
    "    levels = []\n",
    "    object_list = df_raw['Name'].unique()\n",
    "    for i in object_list:\n",
    "        idx = df_raw[df_raw['Name']==i].index\n",
    "        for i in idx[2:-2]:\n",
    "            if is_support(df_raw,i):\n",
    "                low = df['Low'][i]\n",
    "                if is_far_from_level(low, levels,df_raw):\n",
    "                    levels.append((i,low))\n",
    "            elif is_resistance(df_raw,i):\n",
    "                high = df['High'][i]\n",
    "                if is_far_from_level(high,levels,df_raw):\n",
    "                    levels.append((i,high))\n",
    "    return levels\n",
    "\n",
    "        \n"
   ]
  },
  {
   "cell_type": "code",
   "execution_count": 31,
   "metadata": {},
   "outputs": [
    {
     "data": {
      "text/html": [
       "<div>\n",
       "<style scoped>\n",
       "    .dataframe tbody tr th:only-of-type {\n",
       "        vertical-align: middle;\n",
       "    }\n",
       "\n",
       "    .dataframe tbody tr th {\n",
       "        vertical-align: top;\n",
       "    }\n",
       "\n",
       "    .dataframe thead th {\n",
       "        text-align: right;\n",
       "    }\n",
       "</style>\n",
       "<table border=\"1\" class=\"dataframe\">\n",
       "  <thead>\n",
       "    <tr style=\"text-align: right;\">\n",
       "      <th></th>\n",
       "      <th>Date</th>\n",
       "      <th>Close</th>\n",
       "      <th>Open</th>\n",
       "      <th>High</th>\n",
       "      <th>Low</th>\n",
       "      <th>vol</th>\n",
       "      <th>vol_Price</th>\n",
       "      <th>Name</th>\n",
       "    </tr>\n",
       "  </thead>\n",
       "  <tbody>\n",
       "    <tr>\n",
       "      <th>0</th>\n",
       "      <td>2022-12-22</td>\n",
       "      <td>10650</td>\n",
       "      <td>9980</td>\n",
       "      <td>11700</td>\n",
       "      <td>9930</td>\n",
       "      <td>28856232</td>\n",
       "      <td>309808795730</td>\n",
       "      <td>바이오노트</td>\n",
       "    </tr>\n",
       "    <tr>\n",
       "      <th>1</th>\n",
       "      <td>2022-12-23</td>\n",
       "      <td>10150</td>\n",
       "      <td>10600</td>\n",
       "      <td>11200</td>\n",
       "      <td>10100</td>\n",
       "      <td>8180753</td>\n",
       "      <td>86595242100</td>\n",
       "      <td>바이오노트</td>\n",
       "    </tr>\n",
       "    <tr>\n",
       "      <th>2</th>\n",
       "      <td>2022-12-26</td>\n",
       "      <td>9720</td>\n",
       "      <td>10550</td>\n",
       "      <td>10700</td>\n",
       "      <td>9650</td>\n",
       "      <td>4479667</td>\n",
       "      <td>45206813740</td>\n",
       "      <td>바이오노트</td>\n",
       "    </tr>\n",
       "    <tr>\n",
       "      <th>3</th>\n",
       "      <td>2022-12-27</td>\n",
       "      <td>9360</td>\n",
       "      <td>9770</td>\n",
       "      <td>9880</td>\n",
       "      <td>9130</td>\n",
       "      <td>4101930</td>\n",
       "      <td>38365054640</td>\n",
       "      <td>바이오노트</td>\n",
       "    </tr>\n",
       "    <tr>\n",
       "      <th>4</th>\n",
       "      <td>2022-12-28</td>\n",
       "      <td>8870</td>\n",
       "      <td>9390</td>\n",
       "      <td>9420</td>\n",
       "      <td>8700</td>\n",
       "      <td>3177379</td>\n",
       "      <td>28837782380</td>\n",
       "      <td>바이오노트</td>\n",
       "    </tr>\n",
       "    <tr>\n",
       "      <th>...</th>\n",
       "      <td>...</td>\n",
       "      <td>...</td>\n",
       "      <td>...</td>\n",
       "      <td>...</td>\n",
       "      <td>...</td>\n",
       "      <td>...</td>\n",
       "      <td>...</td>\n",
       "      <td>...</td>\n",
       "    </tr>\n",
       "    <tr>\n",
       "      <th>2621629</th>\n",
       "      <td>2022-12-23</td>\n",
       "      <td>3765</td>\n",
       "      <td>3900</td>\n",
       "      <td>3900</td>\n",
       "      <td>3765</td>\n",
       "      <td>33477</td>\n",
       "      <td>127543190</td>\n",
       "      <td>모헨즈</td>\n",
       "    </tr>\n",
       "    <tr>\n",
       "      <th>2621630</th>\n",
       "      <td>2022-12-26</td>\n",
       "      <td>3720</td>\n",
       "      <td>3765</td>\n",
       "      <td>3765</td>\n",
       "      <td>3610</td>\n",
       "      <td>30218</td>\n",
       "      <td>111265525</td>\n",
       "      <td>모헨즈</td>\n",
       "    </tr>\n",
       "    <tr>\n",
       "      <th>2621631</th>\n",
       "      <td>2022-12-27</td>\n",
       "      <td>3755</td>\n",
       "      <td>3700</td>\n",
       "      <td>3755</td>\n",
       "      <td>3665</td>\n",
       "      <td>17856</td>\n",
       "      <td>66261900</td>\n",
       "      <td>모헨즈</td>\n",
       "    </tr>\n",
       "    <tr>\n",
       "      <th>2621632</th>\n",
       "      <td>2022-12-28</td>\n",
       "      <td>3630</td>\n",
       "      <td>3770</td>\n",
       "      <td>3775</td>\n",
       "      <td>3615</td>\n",
       "      <td>25279</td>\n",
       "      <td>93477675</td>\n",
       "      <td>모헨즈</td>\n",
       "    </tr>\n",
       "    <tr>\n",
       "      <th>2621633</th>\n",
       "      <td>2022-12-29</td>\n",
       "      <td>3480</td>\n",
       "      <td>3630</td>\n",
       "      <td>3630</td>\n",
       "      <td>3450</td>\n",
       "      <td>41103</td>\n",
       "      <td>143662295</td>\n",
       "      <td>모헨즈</td>\n",
       "    </tr>\n",
       "  </tbody>\n",
       "</table>\n",
       "<p>2621634 rows × 8 columns</p>\n",
       "</div>"
      ],
      "text/plain": [
       "               Date  Close   Open   High    Low       vol     vol_Price   Name\n",
       "0        2022-12-22  10650   9980  11700   9930  28856232  309808795730  바이오노트\n",
       "1        2022-12-23  10150  10600  11200  10100   8180753   86595242100  바이오노트\n",
       "2        2022-12-26   9720  10550  10700   9650   4479667   45206813740  바이오노트\n",
       "3        2022-12-27   9360   9770   9880   9130   4101930   38365054640  바이오노트\n",
       "4        2022-12-28   8870   9390   9420   8700   3177379   28837782380  바이오노트\n",
       "...             ...    ...    ...    ...    ...       ...           ...    ...\n",
       "2621629  2022-12-23   3765   3900   3900   3765     33477     127543190    모헨즈\n",
       "2621630  2022-12-26   3720   3765   3765   3610     30218     111265525    모헨즈\n",
       "2621631  2022-12-27   3755   3700   3755   3665     17856      66261900    모헨즈\n",
       "2621632  2022-12-28   3630   3770   3775   3615     25279      93477675    모헨즈\n",
       "2621633  2022-12-29   3480   3630   3630   3450     41103     143662295    모헨즈\n",
       "\n",
       "[2621634 rows x 8 columns]"
      ]
     },
     "execution_count": 31,
     "metadata": {},
     "output_type": "execute_result"
    }
   ],
   "source": [
    "df_raw"
   ]
  },
  {
   "cell_type": "code",
   "execution_count": null,
   "metadata": {},
   "outputs": [],
   "source": []
  },
  {
   "cell_type": "code",
   "execution_count": 28,
   "metadata": {},
   "outputs": [
    {
     "ename": "IndexError",
     "evalue": "index 1220 is out of bounds for axis 0 with size 1213",
     "output_type": "error",
     "traceback": [
      "\u001b[1;31m---------------------------------------------------------------------------\u001b[0m",
      "\u001b[1;31mIndexError\u001b[0m                                Traceback (most recent call last)",
      "Cell \u001b[1;32mIn[28], line 1\u001b[0m\n\u001b[1;32m----> 1\u001b[0m df_test \u001b[39m=\u001b[39m make_key_levels(df_raw)\n",
      "Cell \u001b[1;32mIn[27], line 8\u001b[0m, in \u001b[0;36mmake_key_levels\u001b[1;34m(df_raw)\u001b[0m\n\u001b[0;32m      6\u001b[0m \u001b[39mfor\u001b[39;00m i \u001b[39min\u001b[39;00m idx[\u001b[39m2\u001b[39m:\u001b[39m-\u001b[39m\u001b[39m2\u001b[39m]:\n\u001b[0;32m      7\u001b[0m     \u001b[39mif\u001b[39;00m is_support(df_raw,i):\n\u001b[1;32m----> 8\u001b[0m         low \u001b[39m=\u001b[39m df[\u001b[39m'\u001b[39;49m\u001b[39mLow\u001b[39;49m\u001b[39m'\u001b[39;49m][i]\n\u001b[0;32m      9\u001b[0m         \u001b[39mif\u001b[39;00m is_far_from_level(low, levels,df_raw):\n\u001b[0;32m     10\u001b[0m             levels\u001b[39m.\u001b[39mappend((i,low))\n",
      "File \u001b[1;32mc:\\Users\\mi-bi\\anaconda3\\envs\\kis_pjt\\lib\\site-packages\\pandas\\core\\series.py:978\u001b[0m, in \u001b[0;36mSeries.__getitem__\u001b[1;34m(self, key)\u001b[0m\n\u001b[0;32m    975\u001b[0m     key \u001b[39m=\u001b[39m unpack_1tuple(key)\n\u001b[0;32m    977\u001b[0m \u001b[39mif\u001b[39;00m is_integer(key) \u001b[39mand\u001b[39;00m \u001b[39mself\u001b[39m\u001b[39m.\u001b[39mindex\u001b[39m.\u001b[39m_should_fallback_to_positional:\n\u001b[1;32m--> 978\u001b[0m     \u001b[39mreturn\u001b[39;00m \u001b[39mself\u001b[39;49m\u001b[39m.\u001b[39;49m_values[key]\n\u001b[0;32m    980\u001b[0m \u001b[39melif\u001b[39;00m key_is_scalar:\n\u001b[0;32m    981\u001b[0m     \u001b[39mreturn\u001b[39;00m \u001b[39mself\u001b[39m\u001b[39m.\u001b[39m_get_value(key)\n",
      "\u001b[1;31mIndexError\u001b[0m: index 1220 is out of bounds for axis 0 with size 1213"
     ]
    }
   ],
   "source": [
    "df_test = make_key_levels(df_raw)"
   ]
  },
  {
   "cell_type": "code",
   "execution_count": 29,
   "metadata": {},
   "outputs": [
    {
     "ename": "NameError",
     "evalue": "name 'df_test' is not defined",
     "output_type": "error",
     "traceback": [
      "\u001b[1;31m---------------------------------------------------------------------------\u001b[0m",
      "\u001b[1;31mNameError\u001b[0m                                 Traceback (most recent call last)",
      "Cell \u001b[1;32mIn[29], line 1\u001b[0m\n\u001b[1;32m----> 1\u001b[0m df_test\n",
      "\u001b[1;31mNameError\u001b[0m: name 'df_test' is not defined"
     ]
    }
   ],
   "source": [
    "df_test"
   ]
  },
  {
   "cell_type": "code",
   "execution_count": 24,
   "metadata": {},
   "outputs": [
    {
     "ename": "KeyError",
     "evalue": "'종목명'",
     "output_type": "error",
     "traceback": [
      "\u001b[1;31m---------------------------------------------------------------------------\u001b[0m",
      "\u001b[1;31mKeyError\u001b[0m                                  Traceback (most recent call last)",
      "File \u001b[1;32mc:\\Users\\mi-bi\\anaconda3\\envs\\kis_pjt\\lib\\site-packages\\pandas\\core\\indexes\\base.py:3803\u001b[0m, in \u001b[0;36mIndex.get_loc\u001b[1;34m(self, key, method, tolerance)\u001b[0m\n\u001b[0;32m   3802\u001b[0m \u001b[39mtry\u001b[39;00m:\n\u001b[1;32m-> 3803\u001b[0m     \u001b[39mreturn\u001b[39;00m \u001b[39mself\u001b[39;49m\u001b[39m.\u001b[39;49m_engine\u001b[39m.\u001b[39;49mget_loc(casted_key)\n\u001b[0;32m   3804\u001b[0m \u001b[39mexcept\u001b[39;00m \u001b[39mKeyError\u001b[39;00m \u001b[39mas\u001b[39;00m err:\n",
      "File \u001b[1;32mc:\\Users\\mi-bi\\anaconda3\\envs\\kis_pjt\\lib\\site-packages\\pandas\\_libs\\index.pyx:138\u001b[0m, in \u001b[0;36mpandas._libs.index.IndexEngine.get_loc\u001b[1;34m()\u001b[0m\n",
      "File \u001b[1;32mc:\\Users\\mi-bi\\anaconda3\\envs\\kis_pjt\\lib\\site-packages\\pandas\\_libs\\index.pyx:165\u001b[0m, in \u001b[0;36mpandas._libs.index.IndexEngine.get_loc\u001b[1;34m()\u001b[0m\n",
      "File \u001b[1;32mpandas\\_libs\\hashtable_class_helper.pxi:5745\u001b[0m, in \u001b[0;36mpandas._libs.hashtable.PyObjectHashTable.get_item\u001b[1;34m()\u001b[0m\n",
      "File \u001b[1;32mpandas\\_libs\\hashtable_class_helper.pxi:5753\u001b[0m, in \u001b[0;36mpandas._libs.hashtable.PyObjectHashTable.get_item\u001b[1;34m()\u001b[0m\n",
      "\u001b[1;31mKeyError\u001b[0m: '종목명'",
      "\nThe above exception was the direct cause of the following exception:\n",
      "\u001b[1;31mKeyError\u001b[0m                                  Traceback (most recent call last)",
      "Cell \u001b[1;32mIn[24], line 1\u001b[0m\n\u001b[1;32m----> 1\u001b[0m df_raw[\u001b[39m'\u001b[39;49m\u001b[39m종목명\u001b[39;49m\u001b[39m'\u001b[39;49m]\u001b[39m==\u001b[39m\u001b[39m'\u001b[39m\u001b[39m삼성전자\u001b[39m\u001b[39m'\u001b[39m\n",
      "File \u001b[1;32mc:\\Users\\mi-bi\\anaconda3\\envs\\kis_pjt\\lib\\site-packages\\pandas\\core\\frame.py:3805\u001b[0m, in \u001b[0;36mDataFrame.__getitem__\u001b[1;34m(self, key)\u001b[0m\n\u001b[0;32m   3803\u001b[0m \u001b[39mif\u001b[39;00m \u001b[39mself\u001b[39m\u001b[39m.\u001b[39mcolumns\u001b[39m.\u001b[39mnlevels \u001b[39m>\u001b[39m \u001b[39m1\u001b[39m:\n\u001b[0;32m   3804\u001b[0m     \u001b[39mreturn\u001b[39;00m \u001b[39mself\u001b[39m\u001b[39m.\u001b[39m_getitem_multilevel(key)\n\u001b[1;32m-> 3805\u001b[0m indexer \u001b[39m=\u001b[39m \u001b[39mself\u001b[39;49m\u001b[39m.\u001b[39;49mcolumns\u001b[39m.\u001b[39;49mget_loc(key)\n\u001b[0;32m   3806\u001b[0m \u001b[39mif\u001b[39;00m is_integer(indexer):\n\u001b[0;32m   3807\u001b[0m     indexer \u001b[39m=\u001b[39m [indexer]\n",
      "File \u001b[1;32mc:\\Users\\mi-bi\\anaconda3\\envs\\kis_pjt\\lib\\site-packages\\pandas\\core\\indexes\\base.py:3805\u001b[0m, in \u001b[0;36mIndex.get_loc\u001b[1;34m(self, key, method, tolerance)\u001b[0m\n\u001b[0;32m   3803\u001b[0m     \u001b[39mreturn\u001b[39;00m \u001b[39mself\u001b[39m\u001b[39m.\u001b[39m_engine\u001b[39m.\u001b[39mget_loc(casted_key)\n\u001b[0;32m   3804\u001b[0m \u001b[39mexcept\u001b[39;00m \u001b[39mKeyError\u001b[39;00m \u001b[39mas\u001b[39;00m err:\n\u001b[1;32m-> 3805\u001b[0m     \u001b[39mraise\u001b[39;00m \u001b[39mKeyError\u001b[39;00m(key) \u001b[39mfrom\u001b[39;00m \u001b[39merr\u001b[39;00m\n\u001b[0;32m   3806\u001b[0m \u001b[39mexcept\u001b[39;00m \u001b[39mTypeError\u001b[39;00m:\n\u001b[0;32m   3807\u001b[0m     \u001b[39m# If we have a listlike key, _check_indexing_error will raise\u001b[39;00m\n\u001b[0;32m   3808\u001b[0m     \u001b[39m#  InvalidIndexError. Otherwise we fall through and re-raise\u001b[39;00m\n\u001b[0;32m   3809\u001b[0m     \u001b[39m#  the TypeError.\u001b[39;00m\n\u001b[0;32m   3810\u001b[0m     \u001b[39mself\u001b[39m\u001b[39m.\u001b[39m_check_indexing_error(key)\n",
      "\u001b[1;31mKeyError\u001b[0m: '종목명'"
     ]
    }
   ],
   "source": [
    "df_raw['Name']=='삼성전자'"
   ]
  },
  {
   "cell_type": "code",
   "execution_count": 13,
   "metadata": {},
   "outputs": [
    {
     "data": {
      "text/html": [
       "<div>\n",
       "<style scoped>\n",
       "    .dataframe tbody tr th:only-of-type {\n",
       "        vertical-align: middle;\n",
       "    }\n",
       "\n",
       "    .dataframe tbody tr th {\n",
       "        vertical-align: top;\n",
       "    }\n",
       "\n",
       "    .dataframe thead th {\n",
       "        text-align: right;\n",
       "    }\n",
       "</style>\n",
       "<table border=\"1\" class=\"dataframe\">\n",
       "  <thead>\n",
       "    <tr style=\"text-align: right;\">\n",
       "      <th></th>\n",
       "      <th>날짜</th>\n",
       "      <th>종가</th>\n",
       "      <th>시가</th>\n",
       "      <th>최고가</th>\n",
       "      <th>최저가</th>\n",
       "      <th>누적거래량</th>\n",
       "      <th>누적거래대금</th>\n",
       "      <th>종목명</th>\n",
       "      <th>5_mom</th>\n",
       "      <th>10_mom</th>\n",
       "      <th>20_mom</th>\n",
       "    </tr>\n",
       "  </thead>\n",
       "  <tbody>\n",
       "    <tr>\n",
       "      <th>0</th>\n",
       "      <td>2022-12-22</td>\n",
       "      <td>10650</td>\n",
       "      <td>9980</td>\n",
       "      <td>11700</td>\n",
       "      <td>9930</td>\n",
       "      <td>28856232</td>\n",
       "      <td>309808795730</td>\n",
       "      <td>바이오노트</td>\n",
       "      <td>NaN</td>\n",
       "      <td>NaN</td>\n",
       "      <td>NaN</td>\n",
       "    </tr>\n",
       "    <tr>\n",
       "      <th>1</th>\n",
       "      <td>2022-12-23</td>\n",
       "      <td>10150</td>\n",
       "      <td>10600</td>\n",
       "      <td>11200</td>\n",
       "      <td>10100</td>\n",
       "      <td>8180753</td>\n",
       "      <td>86595242100</td>\n",
       "      <td>바이오노트</td>\n",
       "      <td>NaN</td>\n",
       "      <td>NaN</td>\n",
       "      <td>NaN</td>\n",
       "    </tr>\n",
       "    <tr>\n",
       "      <th>2</th>\n",
       "      <td>2022-12-26</td>\n",
       "      <td>9720</td>\n",
       "      <td>10550</td>\n",
       "      <td>10700</td>\n",
       "      <td>9650</td>\n",
       "      <td>4479667</td>\n",
       "      <td>45206813740</td>\n",
       "      <td>바이오노트</td>\n",
       "      <td>NaN</td>\n",
       "      <td>NaN</td>\n",
       "      <td>NaN</td>\n",
       "    </tr>\n",
       "    <tr>\n",
       "      <th>3</th>\n",
       "      <td>2022-12-27</td>\n",
       "      <td>9360</td>\n",
       "      <td>9770</td>\n",
       "      <td>9880</td>\n",
       "      <td>9130</td>\n",
       "      <td>4101930</td>\n",
       "      <td>38365054640</td>\n",
       "      <td>바이오노트</td>\n",
       "      <td>NaN</td>\n",
       "      <td>NaN</td>\n",
       "      <td>NaN</td>\n",
       "    </tr>\n",
       "    <tr>\n",
       "      <th>4</th>\n",
       "      <td>2022-12-28</td>\n",
       "      <td>8870</td>\n",
       "      <td>9390</td>\n",
       "      <td>9420</td>\n",
       "      <td>8700</td>\n",
       "      <td>3177379</td>\n",
       "      <td>28837782380</td>\n",
       "      <td>바이오노트</td>\n",
       "      <td>NaN</td>\n",
       "      <td>NaN</td>\n",
       "      <td>NaN</td>\n",
       "    </tr>\n",
       "    <tr>\n",
       "      <th>...</th>\n",
       "      <td>...</td>\n",
       "      <td>...</td>\n",
       "      <td>...</td>\n",
       "      <td>...</td>\n",
       "      <td>...</td>\n",
       "      <td>...</td>\n",
       "      <td>...</td>\n",
       "      <td>...</td>\n",
       "      <td>...</td>\n",
       "      <td>...</td>\n",
       "      <td>...</td>\n",
       "    </tr>\n",
       "    <tr>\n",
       "      <th>2621629</th>\n",
       "      <td>2022-12-23</td>\n",
       "      <td>3765</td>\n",
       "      <td>3900</td>\n",
       "      <td>3900</td>\n",
       "      <td>3765</td>\n",
       "      <td>33477</td>\n",
       "      <td>127543190</td>\n",
       "      <td>모헨즈</td>\n",
       "      <td>95.195954</td>\n",
       "      <td>94.007491</td>\n",
       "      <td>93.077874</td>\n",
       "    </tr>\n",
       "    <tr>\n",
       "      <th>2621630</th>\n",
       "      <td>2022-12-26</td>\n",
       "      <td>3720</td>\n",
       "      <td>3765</td>\n",
       "      <td>3765</td>\n",
       "      <td>3610</td>\n",
       "      <td>30218</td>\n",
       "      <td>111265525</td>\n",
       "      <td>모헨즈</td>\n",
       "      <td>93.820933</td>\n",
       "      <td>95.140665</td>\n",
       "      <td>95.019157</td>\n",
       "    </tr>\n",
       "    <tr>\n",
       "      <th>2621631</th>\n",
       "      <td>2022-12-27</td>\n",
       "      <td>3755</td>\n",
       "      <td>3700</td>\n",
       "      <td>3755</td>\n",
       "      <td>3665</td>\n",
       "      <td>17856</td>\n",
       "      <td>66261900</td>\n",
       "      <td>모헨즈</td>\n",
       "      <td>100.133333</td>\n",
       "      <td>91.697192</td>\n",
       "      <td>92.487685</td>\n",
       "    </tr>\n",
       "    <tr>\n",
       "      <th>2621632</th>\n",
       "      <td>2022-12-28</td>\n",
       "      <td>3630</td>\n",
       "      <td>3770</td>\n",
       "      <td>3775</td>\n",
       "      <td>3615</td>\n",
       "      <td>25279</td>\n",
       "      <td>93477675</td>\n",
       "      <td>모헨즈</td>\n",
       "      <td>95.275591</td>\n",
       "      <td>87.787183</td>\n",
       "      <td>88.000000</td>\n",
       "    </tr>\n",
       "    <tr>\n",
       "      <th>2621633</th>\n",
       "      <td>2022-12-29</td>\n",
       "      <td>3480</td>\n",
       "      <td>3630</td>\n",
       "      <td>3630</td>\n",
       "      <td>3450</td>\n",
       "      <td>41103</td>\n",
       "      <td>143662295</td>\n",
       "      <td>모헨즈</td>\n",
       "      <td>89.575290</td>\n",
       "      <td>85.085575</td>\n",
       "      <td>83.653846</td>\n",
       "    </tr>\n",
       "  </tbody>\n",
       "</table>\n",
       "<p>2621634 rows × 11 columns</p>\n",
       "</div>"
      ],
      "text/plain": [
       "                 날짜     종가     시가    최고가    최저가     누적거래량        누적거래대금  \\\n",
       "0        2022-12-22  10650   9980  11700   9930  28856232  309808795730   \n",
       "1        2022-12-23  10150  10600  11200  10100   8180753   86595242100   \n",
       "2        2022-12-26   9720  10550  10700   9650   4479667   45206813740   \n",
       "3        2022-12-27   9360   9770   9880   9130   4101930   38365054640   \n",
       "4        2022-12-28   8870   9390   9420   8700   3177379   28837782380   \n",
       "...             ...    ...    ...    ...    ...       ...           ...   \n",
       "2621629  2022-12-23   3765   3900   3900   3765     33477     127543190   \n",
       "2621630  2022-12-26   3720   3765   3765   3610     30218     111265525   \n",
       "2621631  2022-12-27   3755   3700   3755   3665     17856      66261900   \n",
       "2621632  2022-12-28   3630   3770   3775   3615     25279      93477675   \n",
       "2621633  2022-12-29   3480   3630   3630   3450     41103     143662295   \n",
       "\n",
       "           종목명       5_mom     10_mom     20_mom  \n",
       "0        바이오노트         NaN        NaN        NaN  \n",
       "1        바이오노트         NaN        NaN        NaN  \n",
       "2        바이오노트         NaN        NaN        NaN  \n",
       "3        바이오노트         NaN        NaN        NaN  \n",
       "4        바이오노트         NaN        NaN        NaN  \n",
       "...        ...         ...        ...        ...  \n",
       "2621629    모헨즈   95.195954  94.007491  93.077874  \n",
       "2621630    모헨즈   93.820933  95.140665  95.019157  \n",
       "2621631    모헨즈  100.133333  91.697192  92.487685  \n",
       "2621632    모헨즈   95.275591  87.787183  88.000000  \n",
       "2621633    모헨즈   89.575290  85.085575  83.653846  \n",
       "\n",
       "[2621634 rows x 11 columns]"
      ]
     },
     "execution_count": 13,
     "metadata": {},
     "output_type": "execute_result"
    }
   ],
   "source": [
    "object_list = df_raw['종목명'].unique()\n",
    "for i in object_list:\n",
    "    idx = df[df['종목명']==i].index\n",
    "    "
   ]
  },
  {
   "cell_type": "code",
   "execution_count": 12,
   "metadata": {},
   "outputs": [
    {
     "data": {
      "text/plain": [
       "1213"
      ]
     },
     "execution_count": 12,
     "metadata": {},
     "output_type": "execute_result"
    }
   ],
   "source": [
    "df.shape[0]"
   ]
  },
  {
   "cell_type": "code",
   "execution_count": 11,
   "metadata": {},
   "outputs": [
    {
     "data": {
      "text/plain": [
       "[(13, 49800),\n",
       " (22, 45080),\n",
       " (30, 52020),\n",
       " (44, 46920),\n",
       " (145, 48450),\n",
       " (180, 40400),\n",
       " (227, 36850),\n",
       " (303, 43800),\n",
       " (433, 53500),\n",
       " (464, 57300),\n",
       " (491, 55200),\n",
       " (501, 62000),\n",
       " (614, 60400),\n",
       " (666, 59000),\n",
       " (688, 67000),\n",
       " (693, 69500),\n",
       " (724, 96800),\n",
       " (734, 89900),\n",
       " (742, 82100),\n",
       " (748, 86000),\n",
       " (808, 78400),\n",
       " (810, 80900),\n",
       " (867, 83300),\n",
       " (880, 76600),\n",
       " (882, 73800),\n",
       " (906, 71200),\n",
       " (910, 68300),\n",
       " (974, 79600),\n",
       " (1045, 64500),\n",
       " (1192, 63200)]"
      ]
     },
     "execution_count": 11,
     "metadata": {},
     "output_type": "execute_result"
    }
   ],
   "source": [
    "levels"
   ]
  },
  {
   "cell_type": "code",
   "execution_count": 64,
   "metadata": {},
   "outputs": [],
   "source": [
    "# for visualization\n",
    "def plot_all(levels, df):    \n",
    "  fig, ax = plt.subplots(figsize=(16, 9))   \n",
    "  candlestick_ohlc(ax,df.values,width=0.6, colorup='green', \n",
    "    colordown='red', alpha=0.8)    \n",
    "  date_format = mpl_dates.DateFormatter('%d %b %Y')\n",
    "  ax.xaxis.set_major_formatter(date_format)    \n",
    "  for level in levels:        \n",
    "    plt.hlines(level[1], xmin = df['Date'][level[0]], xmax = \n",
    "      max(df['Date']), colors='blue', linestyle='--')    \n",
    "  fig.show()"
   ]
  },
  {
   "cell_type": "code",
   "execution_count": 65,
   "metadata": {},
   "outputs": [
    {
     "ename": "TypeError",
     "evalue": "unsupported operand type(s) for -: 'Timestamp' and 'float'",
     "output_type": "error",
     "traceback": [
      "\u001b[1;31m---------------------------------------------------------------------------\u001b[0m",
      "\u001b[1;31mTypeError\u001b[0m                                 Traceback (most recent call last)",
      "Cell \u001b[1;32mIn[65], line 1\u001b[0m\n\u001b[1;32m----> 1\u001b[0m plot_all(levels,df)\n",
      "Cell \u001b[1;32mIn[64], line 4\u001b[0m, in \u001b[0;36mplot_all\u001b[1;34m(levels, df)\u001b[0m\n\u001b[0;32m      2\u001b[0m \u001b[39mdef\u001b[39;00m \u001b[39mplot_all\u001b[39m(levels, df):    \n\u001b[0;32m      3\u001b[0m   fig, ax \u001b[39m=\u001b[39m plt\u001b[39m.\u001b[39msubplots(figsize\u001b[39m=\u001b[39m(\u001b[39m16\u001b[39m, \u001b[39m9\u001b[39m))   \n\u001b[1;32m----> 4\u001b[0m   candlestick_ohlc(ax,df\u001b[39m.\u001b[39;49mvalues,width\u001b[39m=\u001b[39;49m\u001b[39m0.6\u001b[39;49m, colorup\u001b[39m=\u001b[39;49m\u001b[39m'\u001b[39;49m\u001b[39mgreen\u001b[39;49m\u001b[39m'\u001b[39;49m, \n\u001b[0;32m      5\u001b[0m     colordown\u001b[39m=\u001b[39;49m\u001b[39m'\u001b[39;49m\u001b[39mred\u001b[39;49m\u001b[39m'\u001b[39;49m, alpha\u001b[39m=\u001b[39;49m\u001b[39m0.8\u001b[39;49m)    \n\u001b[0;32m      6\u001b[0m   date_format \u001b[39m=\u001b[39m mpl_dates\u001b[39m.\u001b[39mDateFormatter(\u001b[39m'\u001b[39m\u001b[39m%d\u001b[39;00m\u001b[39m \u001b[39m\u001b[39m%\u001b[39m\u001b[39mb \u001b[39m\u001b[39m%\u001b[39m\u001b[39mY\u001b[39m\u001b[39m'\u001b[39m)\n\u001b[0;32m      7\u001b[0m   ax\u001b[39m.\u001b[39mxaxis\u001b[39m.\u001b[39mset_major_formatter(date_format)    \n",
      "File \u001b[1;32mc:\\Users\\mi-bi\\anaconda3\\envs\\kis_pjt\\lib\\site-packages\\mplfinance\\original_flavor.py:234\u001b[0m, in \u001b[0;36mcandlestick_ohlc\u001b[1;34m(ax, quotes, width, colorup, colordown, alpha)\u001b[0m\n\u001b[0;32m    200\u001b[0m \u001b[39mdef\u001b[39;00m \u001b[39mcandlestick_ohlc\u001b[39m(ax, quotes, width\u001b[39m=\u001b[39m\u001b[39m0.2\u001b[39m, colorup\u001b[39m=\u001b[39m\u001b[39m'\u001b[39m\u001b[39mk\u001b[39m\u001b[39m'\u001b[39m, colordown\u001b[39m=\u001b[39m\u001b[39m'\u001b[39m\u001b[39mr\u001b[39m\u001b[39m'\u001b[39m,\n\u001b[0;32m    201\u001b[0m                      alpha\u001b[39m=\u001b[39m\u001b[39m1.0\u001b[39m):\n\u001b[0;32m    202\u001b[0m     \u001b[39m\"\"\"\u001b[39;00m\n\u001b[0;32m    203\u001b[0m \u001b[39m    Plot the time, open, high, low, close as a vertical line ranging\u001b[39;00m\n\u001b[0;32m    204\u001b[0m \u001b[39m    from low to high.  Use a rectangular bar to represent the\u001b[39;00m\n\u001b[1;32m   (...)\u001b[0m\n\u001b[0;32m    232\u001b[0m \n\u001b[0;32m    233\u001b[0m \u001b[39m    \"\"\"\u001b[39;00m\n\u001b[1;32m--> 234\u001b[0m     \u001b[39mreturn\u001b[39;00m _candlestick(ax, quotes, width\u001b[39m=\u001b[39;49mwidth, colorup\u001b[39m=\u001b[39;49mcolorup,\n\u001b[0;32m    235\u001b[0m                         colordown\u001b[39m=\u001b[39;49mcolordown,\n\u001b[0;32m    236\u001b[0m                         alpha\u001b[39m=\u001b[39;49malpha, ochl\u001b[39m=\u001b[39;49m\u001b[39mFalse\u001b[39;49;00m)\n",
      "File \u001b[1;32mc:\\Users\\mi-bi\\anaconda3\\envs\\kis_pjt\\lib\\site-packages\\mplfinance\\original_flavor.py:302\u001b[0m, in \u001b[0;36m_candlestick\u001b[1;34m(ax, quotes, width, colorup, colordown, alpha, ochl)\u001b[0m\n\u001b[0;32m    292\u001b[0m     height \u001b[39m=\u001b[39m \u001b[39mopen\u001b[39m \u001b[39m-\u001b[39m close\n\u001b[0;32m    294\u001b[0m vline \u001b[39m=\u001b[39m Line2D(\n\u001b[0;32m    295\u001b[0m     xdata\u001b[39m=\u001b[39m(t, t), ydata\u001b[39m=\u001b[39m(low, high),\n\u001b[0;32m    296\u001b[0m     color\u001b[39m=\u001b[39mcolor,\n\u001b[0;32m    297\u001b[0m     linewidth\u001b[39m=\u001b[39m\u001b[39m0.5\u001b[39m,\n\u001b[0;32m    298\u001b[0m     antialiased\u001b[39m=\u001b[39m\u001b[39mTrue\u001b[39;00m,\n\u001b[0;32m    299\u001b[0m )\n\u001b[0;32m    301\u001b[0m rect \u001b[39m=\u001b[39m Rectangle(\n\u001b[1;32m--> 302\u001b[0m     xy\u001b[39m=\u001b[39m(t \u001b[39m-\u001b[39;49m OFFSET, lower),\n\u001b[0;32m    303\u001b[0m     width\u001b[39m=\u001b[39mwidth,\n\u001b[0;32m    304\u001b[0m     height\u001b[39m=\u001b[39mheight,\n\u001b[0;32m    305\u001b[0m     facecolor\u001b[39m=\u001b[39mcolor,\n\u001b[0;32m    306\u001b[0m     edgecolor\u001b[39m=\u001b[39mcolor,\n\u001b[0;32m    307\u001b[0m )\n\u001b[0;32m    308\u001b[0m rect\u001b[39m.\u001b[39mset_alpha(alpha)\n\u001b[0;32m    310\u001b[0m lines\u001b[39m.\u001b[39mappend(vline)\n",
      "\u001b[1;31mTypeError\u001b[0m: unsupported operand type(s) for -: 'Timestamp' and 'float'"
     ]
    },
    {
     "data": {
      "image/png": "[encoded data removed]",
      "text/plain": [
       "<Figure size 1600x900 with 1 Axes>"
      ]
     },
     "metadata": {},
     "output_type": "display_data"
    }
   ],
   "source": [
    "plot_all(levels,df)"
   ]
  },
  {
   "cell_type": "code",
   "execution_count": null,
   "metadata": {},
   "outputs": [],
   "source": []
  }
 ],
 "metadata": {
  "kernelspec": {
   "display_name": "kis_pjt",
   "language": "python",
   "name": "python3"
  },
  "language_info": {
   "codemirror_mode": {
    "name": "ipython",
    "version": 3
   },
   "file_extension": ".py",
   "mimetype": "text/x-python",
   "name": "python",
   "nbconvert_exporter": "python",
   "pygments_lexer": "ipython3",
   "version": "3.10.8"
  },
  "orig_nbformat": 4
 },
 "nbformat": 4,
 "nbformat_minor": 2
}
