{
 "cells": [
  {
   "attachments": {},
   "cell_type": "markdown",
   "metadata": {},
   "source": [
    "#### Making Market Timming"
   ]
  },
  {
   "cell_type": "code",
   "execution_count": 52,
   "metadata": {},
   "outputs": [],
   "source": [
    "def making_mt(start,end,code):\n",
    "    from pykrx import stock\n",
    "    df = stock.get_index_fundamental(start,end,code)\n",
    "    df = df.drop(['등락률','PER','선행PER','PBR','배당수익률'],axis=1)\n",
    "    if code=='1001':\n",
    "        df['sma20'] = df['종가'].rolling(20).mean()\n",
    "        df['mt'] = df['종가']>df['sma20']\n",
    "        df = df.dropna()\n",
    "        return df\n",
    "    elif code=='2001':     \n",
    "        df['sma3'] = df['종가'].rolling(3).mean()\n",
    "        df['sma5'] = df['종가'].rolling(5).mean()\n",
    "        df['sma10'] = df['종가'].rolling(10).mean()\n",
    "        df['mt'] = ((df['종가']>df['sma3'])|(df['종가']>df['sma5'])|(df['종가']>df['sma10']))\n",
    "        df = df.dropna()\n",
    "        return df\n",
    "    else:\n",
    "        print('올바른 종목 code 입력')"
   ]
  },
  {
   "cell_type": "code",
   "execution_count": 53,
   "metadata": {},
   "outputs": [],
   "source": [
    "def making_mt_plot(df,code):\n",
    "    import matplotlib.pyplot as plt\n",
    "    from matplotlib import dates\n",
    "    if code=='1001': \n",
    "        plt.figure(figsize = (50, 10))\n",
    "        plt.title(\"Kospi Market timming\")\n",
    "        plt.plot(df[\"종가\"])\n",
    "        plt.plot(df['sma20'])\n",
    "        plt.scatter(df.loc[df['mt']==1].index, df['종가'][df['mt']==1],\n",
    "                    color = 'red',\n",
    "                    label='Go',\n",
    "                    marker ='^',\n",
    "                    alpha=0.8)\n",
    "        plt.scatter(df.loc[df['mt']==0].index, df['종가'][df['mt']==0],\n",
    "                    color = 'blue',\n",
    "                    label='Stop',\n",
    "                    marker ='v',\n",
    "                    alpha=0.8)\n",
    "        plt.xticks(rotation=45)\n",
    "        plt.legend()\n",
    "        plt.show()\n",
    "    elif code=='2001':\n",
    "        plt.figure(figsize = (50, 10))\n",
    "        plt.title(\"Kosdaq Market timming\")\n",
    "        plt.plot(df[\"종가\"])\n",
    "        plt.plot(df['sma3'])\n",
    "        plt.plot(df['sma5'])\n",
    "        plt.plot(df['sma10'])\n",
    "        plt.scatter(df.loc[df['mt']==1].index, df['종가'][df['mt']==1],\n",
    "                    color = 'red',\n",
    "                    label='Go',\n",
    "                    marker ='^',\n",
    "                    alpha=0.8)\n",
    "        plt.scatter(df.loc[df['mt']==0].index, df['종가'][df['mt']==0],\n",
    "                    color = 'blue',\n",
    "                    label='Stop',\n",
    "                    marker ='v',\n",
    "                    alpha=0.8)\n",
    "        plt.xticks(rotation=45)\n",
    "        plt.legend()\n",
    "        plt.show()\n",
    "    else:\n",
    "        print('Error : Code check')\n",
    "    "
   ]
  },
  {
   "attachments": {},
   "cell_type": "markdown",
   "metadata": {},
   "source": [
    "#### Making Momentum "
   ]
  },
  {
   "cell_type": "code",
   "execution_count": 1,
   "metadata": {},
   "outputs": [],
   "source": [
    "def make_momentum(df):\n",
    "    object_list = df['종목명'].unique()\n",
    "    for i in object_list:\n",
    "        idx = df[df['종목명']==i].index\n",
    "        df.loc[idx[0]:idx[-1],'momentum'] = df.loc[idx[0]:idx[-1],'종가']/df.loc[idx[0]:idx[-1],'종가'].shift(5)*100"
   ]
  },
  {
   "cell_type": "code",
   "execution_count": null,
   "metadata": {},
   "outputs": [],
   "source": []
  }
 ],
 "metadata": {
  "kernelspec": {
   "display_name": "kis_pjt",
   "language": "python",
   "name": "python3"
  },
  "language_info": {
   "codemirror_mode": {
    "name": "ipython",
    "version": 3
   },
   "file_extension": ".py",
   "mimetype": "text/x-python",
   "name": "python",
   "nbconvert_exporter": "python",
   "pygments_lexer": "ipython3",
   "version": "3.10.8 | packaged by conda-forge | (main, Nov 24 2022, 14:07:00) [MSC v.1916 64 bit (AMD64)]"
  },
  "orig_nbformat": 4,
  "vscode": {
   "interpreter": {
    "hash": "46a644118eb29974eeb5114eb6b85dba363fd7e9df916f2c55edd890b4f86857"
   }
  }
 },
 "nbformat": 4,
 "nbformat_minor": 2
}
