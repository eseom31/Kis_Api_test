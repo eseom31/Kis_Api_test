{
 "cells": [
  {
   "cell_type": "code",
   "execution_count": 1,
   "metadata": {},
   "outputs": [],
   "source": [
    "import os\n",
    "import sys\n",
    "sys.path.append('D:/ML/Kis_Api_test/1_DB_System/')"
   ]
  },
  {
   "cell_type": "code",
   "execution_count": 6,
   "metadata": {},
   "outputs": [],
   "source": [
    "from communication import StockConnection, DB_Handle\n",
    "import datetime\n",
    "import pandas as pd\n",
    "from queue import Queue\n",
    "from tqdm import tqdm\n",
    "import pandas as pd"
   ]
  },
  {
   "cell_type": "code",
   "execution_count": 3,
   "metadata": {},
   "outputs": [],
   "source": [
    "def date_to_string(date:datetime.date):\n",
    "    conv_date = str(date)\n",
    "    return conv_date[:4] + conv_date[5:7] + conv_date[-2:]"
   ]
  },
  {
   "cell_type": "code",
   "execution_count": 4,
   "metadata": {},
   "outputs": [
    {
     "name": "stdout",
     "output_type": "stream",
     "text": [
      "good\n"
     ]
    }
   ],
   "source": [
    "sc = StockConnection()"
   ]
  },
  {
   "cell_type": "code",
   "execution_count": 5,
   "metadata": {},
   "outputs": [],
   "source": [
    "kospi = pd.read_csv('../../4_SRC/current_kospi_codes.csv')\n",
    "kospi['종목코드'] = kospi['종목코드'].apply(lambda x : str(x).zfill(6))"
   ]
  },
  {
   "cell_type": "code",
   "execution_count": null,
   "metadata": {},
   "outputs": [],
   "source": [
    "five_years_ago = datetime.date.today() - datetime.timedelta(1825)\n",
    "res = []\n",
    "for idx, context in tqdm(kospi.iterrows()):\n",
    "    start = five_years_ago\n",
    "    end = start + datetime.timedelta(99)\n",
    "    while end <= datetime.date.today():\n",
    "        # print(f'st:{start}, end:{end}')\n",
    "        result = sc.date_price(no=context['종목코드'], \n",
    "                                start=date_to_string(start), \n",
    "                                end=date_to_string(end), \n",
    "                                period='D')\n",
    "        for idx, res in enumerate(result['output2'][::-1]):\n",
    "            try:\n",
    "                buf = []\n",
    "                buf.append(res['stck_bsop_date'])\n",
    "                buf.append(res['stck_clpr'])\n",
    "                buf.append(res['stck_oprc'])\n",
    "                buf.append(res['stck_hgpr'])\n",
    "                buf.append(res['stck_lwpr'])\n",
    "                buf.append(res['acml_vol'])\n",
    "                buf.append(res['acml_tr_pbmn'])\n",
    "                buf.append(result['output1']['hts_kor_isnm'])\n",
    "                res.append(buf)\n",
    "            except:\n",
    "                pass\n",
    "            start = end + datetime.timedelta(1)\n",
    "            end = start + datetime.timedelta(99)\n",
    "#         print(f'st:{start}, end:{end}')\n",
    "        result = sc.date_price(no=context['종목코드'], \n",
    "                                start=date_to_string(start), \n",
    "                                end=date_to_string(datetime.date.today()), \n",
    "                                period='D')\n",
    "        for idx, res in enumerate(result['output2'][::-1]):\n",
    "            try:\n",
    "                buf = []\n",
    "                buf.append(res['stck_bsop_date'])\n",
    "                buf.append(res['stck_clpr'])\n",
    "                buf.append(res['stck_oprc'])\n",
    "                buf.append(res['stck_hgpr'])\n",
    "                buf.append(res['stck_lwpr'])\n",
    "                buf.append(res['acml_vol'])\n",
    "                buf.append(res['acml_tr_pbmn'])\n",
    "                buf.append(result['output1']['hts_kor_isnm'])\n",
    "                res.append(buf)\n",
    "            except:\n",
    "                pass\n",
    "    \n",
    "    else:\n",
    "        pass"
   ]
  },
  {
   "cell_type": "code",
   "execution_count": null,
   "metadata": {},
   "outputs": [],
   "source": [
    "df = pd.DataFrame(data=res, columns=['날짜','종가','시가','최고가','최저가','누적거래량','누적거래대금','종목명'])\n",
    "df"
   ]
  }
 ],
 "metadata": {
  "kernelspec": {
   "display_name": "side",
   "language": "python",
   "name": "python3"
  },
  "language_info": {
   "codemirror_mode": {
    "name": "ipython",
    "version": 3
   },
   "file_extension": ".py",
   "mimetype": "text/x-python",
   "name": "python",
   "nbconvert_exporter": "python",
   "pygments_lexer": "ipython3",
   "version": "3.10.8"
  },
  "orig_nbformat": 4,
  "vscode": {
   "interpreter": {
    "hash": "19c5b079b0949d989e93d8d44da089aa5127371c84ae8f0b37929f6bc3106acf"
   }
  }
 },
 "nbformat": 4,
 "nbformat_minor": 2
}
