{
 "cells": [
  {
   "cell_type": "code",
   "execution_count": 11,
   "id": "b17e0c05",
   "metadata": {},
   "outputs": [],
   "source": [
    "import os\n",
    "import sys\n",
    "sys.path.append('D:/ML/Kis_Api_test/1_DB_System/')"
   ]
  },
  {
   "cell_type": "code",
   "execution_count": 12,
   "id": "dca1557b",
   "metadata": {},
   "outputs": [],
   "source": [
    "from communication import StockConnection, DB_Handle\n",
    "import datetime\n",
    "import pandas as pd\n",
    "from queue import Queue\n",
    "from tqdm import tqdm\n",
    "import time"
   ]
  },
  {
   "cell_type": "code",
   "execution_count": 13,
   "id": "52c60f5f",
   "metadata": {},
   "outputs": [],
   "source": [
    "def date_to_string(date:datetime.date):\n",
    "    conv_date = str(date)\n",
    "    return conv_date[:4] + conv_date[5:7] + conv_date[-2:]"
   ]
  },
  {
   "cell_type": "code",
   "execution_count": 14,
   "id": "cf9d6904",
   "metadata": {},
   "outputs": [
    {
     "name": "stdout",
     "output_type": "stream",
     "text": [
      "good\n"
     ]
    }
   ],
   "source": [
    "sc = StockConnection()\n",
    "db = DB_Handle(db_name='kospi_fin')"
   ]
  },
  {
   "cell_type": "code",
   "execution_count": 15,
   "id": "4b3807a7",
   "metadata": {},
   "outputs": [],
   "source": [
    "sql = f\"\"\"drop database kospi\"\"\"\n",
    "db.CUR.execute(sql)\n",
    "db.commit()"
   ]
  },
  {
   "cell_type": "code",
   "execution_count": 6,
   "id": "1f5f985f",
   "metadata": {},
   "outputs": [],
   "source": [
    "sql = f\"\"\"create database kospi_fin\"\"\"\n",
    "db.CUR.execute(sql)\n",
    "db.commit()"
   ]
  },
  {
   "cell_type": "code",
   "execution_count": 50,
   "id": "761d05b6",
   "metadata": {},
   "outputs": [],
   "source": [
    "kospi = pd.read_csv('../../4_SRC/current_kospi_codes.csv')\n",
    "kospi['종목코드'] = kospi['종목코드'].apply(lambda x : str(x).zfill(6))"
   ]
  },
  {
   "cell_type": "code",
   "execution_count": 51,
   "id": "6e86439a",
   "metadata": {},
   "outputs": [],
   "source": [
    "# kosdaq = pd.read_csv('../../4_SRC/current_kosdaq_codes.csv')\n",
    "# kosdaq['종목코드'] = kosdaq['종목코드'].apply(lambda x : str(x).zfill(6))"
   ]
  },
  {
   "cell_type": "code",
   "execution_count": 52,
   "id": "55cee93b",
   "metadata": {},
   "outputs": [
    {
     "data": {
      "text/html": [
       "<div>\n",
       "<style scoped>\n",
       "    .dataframe tbody tr th:only-of-type {\n",
       "        vertical-align: middle;\n",
       "    }\n",
       "\n",
       "    .dataframe tbody tr th {\n",
       "        vertical-align: top;\n",
       "    }\n",
       "\n",
       "    .dataframe thead th {\n",
       "        text-align: right;\n",
       "    }\n",
       "</style>\n",
       "<table border=\"1\" class=\"dataframe\">\n",
       "  <thead>\n",
       "    <tr style=\"text-align: right;\">\n",
       "      <th></th>\n",
       "      <th>회사명</th>\n",
       "      <th>종목코드</th>\n",
       "      <th>상장일</th>\n",
       "    </tr>\n",
       "  </thead>\n",
       "  <tbody>\n",
       "    <tr>\n",
       "      <th>358</th>\n",
       "      <td>KH필룩스</td>\n",
       "      <td>033180</td>\n",
       "      <td>2001-12-26</td>\n",
       "    </tr>\n",
       "    <tr>\n",
       "      <th>359</th>\n",
       "      <td>종근당바이오</td>\n",
       "      <td>063160</td>\n",
       "      <td>2001-12-11</td>\n",
       "    </tr>\n",
       "    <tr>\n",
       "      <th>360</th>\n",
       "      <td>신한지주</td>\n",
       "      <td>055550</td>\n",
       "      <td>2001-09-10</td>\n",
       "    </tr>\n",
       "    <tr>\n",
       "      <th>361</th>\n",
       "      <td>코웨이</td>\n",
       "      <td>021240</td>\n",
       "      <td>2001-08-07</td>\n",
       "    </tr>\n",
       "    <tr>\n",
       "      <th>362</th>\n",
       "      <td>세아홀딩스</td>\n",
       "      <td>058650</td>\n",
       "      <td>2001-07-30</td>\n",
       "    </tr>\n",
       "    <tr>\n",
       "      <th>363</th>\n",
       "      <td>LG생활건강</td>\n",
       "      <td>051900</td>\n",
       "      <td>2001-04-25</td>\n",
       "    </tr>\n",
       "    <tr>\n",
       "      <th>364</th>\n",
       "      <td>LG화학</td>\n",
       "      <td>051910</td>\n",
       "      <td>2001-04-25</td>\n",
       "    </tr>\n",
       "    <tr>\n",
       "      <th>365</th>\n",
       "      <td>대우건설</td>\n",
       "      <td>047040</td>\n",
       "      <td>2001-03-23</td>\n",
       "    </tr>\n",
       "    <tr>\n",
       "      <th>366</th>\n",
       "      <td>포스코인터내셔널</td>\n",
       "      <td>047050</td>\n",
       "      <td>2001-03-23</td>\n",
       "    </tr>\n",
       "    <tr>\n",
       "      <th>367</th>\n",
       "      <td>대우조선해양</td>\n",
       "      <td>042660</td>\n",
       "      <td>2001-02-02</td>\n",
       "    </tr>\n",
       "    <tr>\n",
       "      <th>368</th>\n",
       "      <td>현대두산인프라코어</td>\n",
       "      <td>042670</td>\n",
       "      <td>2001-02-02</td>\n",
       "    </tr>\n",
       "    <tr>\n",
       "      <th>369</th>\n",
       "      <td>진양화학</td>\n",
       "      <td>051630</td>\n",
       "      <td>2001-01-29</td>\n",
       "    </tr>\n",
       "    <tr>\n",
       "      <th>370</th>\n",
       "      <td>동원F_and_B</td>\n",
       "      <td>049770</td>\n",
       "      <td>2000-11-23</td>\n",
       "    </tr>\n",
       "    <tr>\n",
       "      <th>371</th>\n",
       "      <td>두산에너빌리티</td>\n",
       "      <td>034020</td>\n",
       "      <td>2000-10-25</td>\n",
       "    </tr>\n",
       "    <tr>\n",
       "      <th>372</th>\n",
       "      <td>한국내화</td>\n",
       "      <td>010040</td>\n",
       "      <td>2000-10-16</td>\n",
       "    </tr>\n",
       "    <tr>\n",
       "      <th>373</th>\n",
       "      <td>한세예스24홀딩스</td>\n",
       "      <td>016450</td>\n",
       "      <td>2000-01-06</td>\n",
       "    </tr>\n",
       "    <tr>\n",
       "      <th>374</th>\n",
       "      <td>대성홀딩스</td>\n",
       "      <td>016710</td>\n",
       "      <td>1999-12-22</td>\n",
       "    </tr>\n",
       "    <tr>\n",
       "      <th>375</th>\n",
       "      <td>대원제약</td>\n",
       "      <td>003220</td>\n",
       "      <td>1999-12-15</td>\n",
       "    </tr>\n",
       "    <tr>\n",
       "      <th>376</th>\n",
       "      <td>한국가스공사</td>\n",
       "      <td>036460</td>\n",
       "      <td>1999-12-15</td>\n",
       "    </tr>\n",
       "    <tr>\n",
       "      <th>377</th>\n",
       "      <td>미래아이앤지</td>\n",
       "      <td>007120</td>\n",
       "      <td>1999-11-26</td>\n",
       "    </tr>\n",
       "  </tbody>\n",
       "</table>\n",
       "</div>"
      ],
      "text/plain": [
       "           회사명    종목코드         상장일\n",
       "358      KH필룩스  033180  2001-12-26\n",
       "359     종근당바이오  063160  2001-12-11\n",
       "360       신한지주  055550  2001-09-10\n",
       "361        코웨이  021240  2001-08-07\n",
       "362      세아홀딩스  058650  2001-07-30\n",
       "363     LG생활건강  051900  2001-04-25\n",
       "364       LG화학  051910  2001-04-25\n",
       "365       대우건설  047040  2001-03-23\n",
       "366   포스코인터내셔널  047050  2001-03-23\n",
       "367     대우조선해양  042660  2001-02-02\n",
       "368  현대두산인프라코어  042670  2001-02-02\n",
       "369       진양화학  051630  2001-01-29\n",
       "370  동원F_and_B  049770  2000-11-23\n",
       "371    두산에너빌리티  034020  2000-10-25\n",
       "372       한국내화  010040  2000-10-16\n",
       "373  한세예스24홀딩스  016450  2000-01-06\n",
       "374      대성홀딩스  016710  1999-12-22\n",
       "375       대원제약  003220  1999-12-15\n",
       "376     한국가스공사  036460  1999-12-15\n",
       "377     미래아이앤지  007120  1999-11-26"
      ]
     },
     "execution_count": 52,
     "metadata": {},
     "output_type": "execute_result"
    }
   ],
   "source": [
    "kospi.iloc[358:, :].head(20)"
   ]
  },
  {
   "cell_type": "code",
   "execution_count": 53,
   "id": "b6b71dc4",
   "metadata": {
    "scrolled": false
   },
   "outputs": [
    {
     "name": "stderr",
     "output_type": "stream",
     "text": [
      "0it [00:00, ?it/s]"
     ]
    },
    {
     "name": "stdout",
     "output_type": "stream",
     "text": [
      "KH필룩스\n"
     ]
    },
    {
     "name": "stderr",
     "output_type": "stream",
     "text": [
      "1it [01:34, 94.22s/it]"
     ]
    },
    {
     "name": "stdout",
     "output_type": "stream",
     "text": [
      "종근당바이오\n"
     ]
    },
    {
     "name": "stderr",
     "output_type": "stream",
     "text": [
      "2it [03:08, 94.39s/it]"
     ]
    },
    {
     "name": "stdout",
     "output_type": "stream",
     "text": [
      "신한지주\n"
     ]
    },
    {
     "name": "stderr",
     "output_type": "stream",
     "text": [
      "3it [04:44, 94.90s/it]"
     ]
    },
    {
     "name": "stdout",
     "output_type": "stream",
     "text": [
      "코웨이\n"
     ]
    },
    {
     "name": "stderr",
     "output_type": "stream",
     "text": [
      "4it [06:19, 95.16s/it]"
     ]
    },
    {
     "name": "stdout",
     "output_type": "stream",
     "text": [
      "세아홀딩스\n"
     ]
    },
    {
     "name": "stderr",
     "output_type": "stream",
     "text": [
      "5it [07:56, 95.55s/it]"
     ]
    },
    {
     "name": "stdout",
     "output_type": "stream",
     "text": [
      "LG생활건강\n"
     ]
    },
    {
     "name": "stderr",
     "output_type": "stream",
     "text": [
      "6it [09:32, 95.96s/it]"
     ]
    },
    {
     "name": "stdout",
     "output_type": "stream",
     "text": [
      "LG화학\n"
     ]
    },
    {
     "name": "stderr",
     "output_type": "stream",
     "text": [
      "7it [11:09, 96.28s/it]"
     ]
    },
    {
     "name": "stdout",
     "output_type": "stream",
     "text": [
      "대우건설\n"
     ]
    },
    {
     "name": "stderr",
     "output_type": "stream",
     "text": [
      "8it [12:47, 96.60s/it]"
     ]
    },
    {
     "name": "stdout",
     "output_type": "stream",
     "text": [
      "포스코인터내셔널\n"
     ]
    },
    {
     "name": "stderr",
     "output_type": "stream",
     "text": [
      "9it [14:24, 96.73s/it]"
     ]
    },
    {
     "name": "stdout",
     "output_type": "stream",
     "text": [
      "대우조선해양\n"
     ]
    },
    {
     "name": "stderr",
     "output_type": "stream",
     "text": [
      "10it [16:02, 97.21s/it]"
     ]
    },
    {
     "name": "stdout",
     "output_type": "stream",
     "text": [
      "현대두산인프라코어\n"
     ]
    },
    {
     "name": "stderr",
     "output_type": "stream",
     "text": [
      "11it [17:41, 97.69s/it]"
     ]
    },
    {
     "name": "stdout",
     "output_type": "stream",
     "text": [
      "진양화학\n"
     ]
    },
    {
     "name": "stderr",
     "output_type": "stream",
     "text": [
      "12it [19:19, 97.77s/it]"
     ]
    },
    {
     "name": "stdout",
     "output_type": "stream",
     "text": [
      "동원F_and_B\n"
     ]
    },
    {
     "name": "stderr",
     "output_type": "stream",
     "text": [
      "13it [20:58, 98.23s/it]"
     ]
    },
    {
     "name": "stdout",
     "output_type": "stream",
     "text": [
      "두산에너빌리티\n"
     ]
    },
    {
     "name": "stderr",
     "output_type": "stream",
     "text": [
      "14it [22:37, 98.49s/it]"
     ]
    },
    {
     "name": "stdout",
     "output_type": "stream",
     "text": [
      "한국내화\n"
     ]
    },
    {
     "name": "stderr",
     "output_type": "stream",
     "text": [
      "15it [24:16, 98.77s/it]"
     ]
    },
    {
     "name": "stdout",
     "output_type": "stream",
     "text": [
      "한세예스24홀딩스\n"
     ]
    },
    {
     "name": "stderr",
     "output_type": "stream",
     "text": [
      "16it [25:59, 100.04s/it]"
     ]
    },
    {
     "name": "stdout",
     "output_type": "stream",
     "text": [
      "대성홀딩스\n"
     ]
    },
    {
     "name": "stderr",
     "output_type": "stream",
     "text": [
      "17it [27:42, 100.96s/it]"
     ]
    },
    {
     "name": "stdout",
     "output_type": "stream",
     "text": [
      "대원제약\n"
     ]
    },
    {
     "name": "stderr",
     "output_type": "stream",
     "text": [
      "18it [29:25, 101.55s/it]"
     ]
    },
    {
     "name": "stdout",
     "output_type": "stream",
     "text": [
      "한국가스공사\n"
     ]
    },
    {
     "name": "stderr",
     "output_type": "stream",
     "text": [
      "19it [31:08, 102.01s/it]"
     ]
    },
    {
     "name": "stdout",
     "output_type": "stream",
     "text": [
      "미래아이앤지\n"
     ]
    },
    {
     "name": "stderr",
     "output_type": "stream",
     "text": [
      "20it [32:51, 102.26s/it]"
     ]
    },
    {
     "name": "stdout",
     "output_type": "stream",
     "text": [
      "화천기공\n"
     ]
    },
    {
     "name": "stderr",
     "output_type": "stream",
     "text": [
      "21it [34:34, 102.47s/it]"
     ]
    },
    {
     "name": "stdout",
     "output_type": "stream",
     "text": [
      "팜스코\n"
     ]
    },
    {
     "name": "stderr",
     "output_type": "stream",
     "text": [
      "22it [36:17, 102.60s/it]"
     ]
    },
    {
     "name": "stdout",
     "output_type": "stream",
     "text": [
      "케이티앤지\n"
     ]
    },
    {
     "name": "stderr",
     "output_type": "stream",
     "text": [
      "23it [38:02, 103.18s/it]"
     ]
    },
    {
     "name": "stdout",
     "output_type": "stream",
     "text": [
      "한국조선해양\n"
     ]
    },
    {
     "name": "stderr",
     "output_type": "stream",
     "text": [
      "24it [39:46, 103.54s/it]"
     ]
    },
    {
     "name": "stdout",
     "output_type": "stream",
     "text": [
      "디씨엠\n"
     ]
    },
    {
     "name": "stderr",
     "output_type": "stream",
     "text": [
      "25it [41:30, 103.72s/it]"
     ]
    },
    {
     "name": "stdout",
     "output_type": "stream",
     "text": [
      "AK홀딩스\n"
     ]
    },
    {
     "name": "stderr",
     "output_type": "stream",
     "text": [
      "26it [43:14, 103.82s/it]"
     ]
    },
    {
     "name": "stdout",
     "output_type": "stream",
     "text": [
      "대한유화\n"
     ]
    },
    {
     "name": "stderr",
     "output_type": "stream",
     "text": [
      "27it [44:58, 103.93s/it]"
     ]
    },
    {
     "name": "stdout",
     "output_type": "stream",
     "text": [
      "백산\n"
     ]
    },
    {
     "name": "stderr",
     "output_type": "stream",
     "text": [
      "28it [46:43, 104.03s/it]"
     ]
    },
    {
     "name": "stdout",
     "output_type": "stream",
     "text": [
      "지투알\n"
     ]
    },
    {
     "name": "stderr",
     "output_type": "stream",
     "text": [
      "29it [48:27, 104.22s/it]"
     ]
    },
    {
     "name": "stdout",
     "output_type": "stream",
     "text": [
      "체시스\n"
     ]
    },
    {
     "name": "stderr",
     "output_type": "stream",
     "text": [
      "30it [50:11, 104.17s/it]"
     ]
    },
    {
     "name": "stdout",
     "output_type": "stream",
     "text": [
      "자화전자\n"
     ]
    },
    {
     "name": "stderr",
     "output_type": "stream",
     "text": [
      "31it [51:59, 105.18s/it]"
     ]
    },
    {
     "name": "stdout",
     "output_type": "stream",
     "text": [
      "케이티\n"
     ]
    },
    {
     "name": "stderr",
     "output_type": "stream",
     "text": [
      "32it [53:47, 105.98s/it]"
     ]
    },
    {
     "name": "stdout",
     "output_type": "stream",
     "text": [
      "하이트론씨스템즈\n"
     ]
    },
    {
     "name": "stderr",
     "output_type": "stream",
     "text": [
      "33it [55:35, 106.57s/it]"
     ]
    },
    {
     "name": "stdout",
     "output_type": "stream",
     "text": [
      "제일기획\n"
     ]
    },
    {
     "name": "stderr",
     "output_type": "stream",
     "text": [
      "34it [57:25, 107.80s/it]"
     ]
    },
    {
     "name": "stdout",
     "output_type": "stream",
     "text": [
      "스틱인베스트먼트\n"
     ]
    },
    {
     "name": "stderr",
     "output_type": "stream",
     "text": [
      "35it [59:17, 108.92s/it]"
     ]
    },
    {
     "name": "stdout",
     "output_type": "stream",
     "text": [
      "케이씨\n"
     ]
    },
    {
     "name": "stderr",
     "output_type": "stream",
     "text": [
      "36it [1:01:09, 109.97s/it]"
     ]
    },
    {
     "name": "stdout",
     "output_type": "stream",
     "text": [
      "대원화성\n"
     ]
    },
    {
     "name": "stderr",
     "output_type": "stream",
     "text": [
      "37it [1:03:03, 110.94s/it]"
     ]
    },
    {
     "name": "stdout",
     "output_type": "stream",
     "text": [
      "E1\n"
     ]
    },
    {
     "name": "stderr",
     "output_type": "stream",
     "text": [
      "38it [1:04:55, 111.51s/it]"
     ]
    },
    {
     "name": "stdout",
     "output_type": "stream",
     "text": [
      "SK가스\n"
     ]
    },
    {
     "name": "stderr",
     "output_type": "stream",
     "text": [
      "39it [1:06:48, 111.96s/it]"
     ]
    },
    {
     "name": "stdout",
     "output_type": "stream",
     "text": [
      "다우기술\n"
     ]
    },
    {
     "name": "stderr",
     "output_type": "stream",
     "text": [
      "40it [1:08:42, 112.41s/it]"
     ]
    },
    {
     "name": "stdout",
     "output_type": "stream",
     "text": [
      "영보화학\n"
     ]
    },
    {
     "name": "stderr",
     "output_type": "stream",
     "text": [
      "41it [1:10:36, 112.80s/it]"
     ]
    },
    {
     "name": "stdout",
     "output_type": "stream",
     "text": [
      "SKC\n"
     ]
    },
    {
     "name": "stderr",
     "output_type": "stream",
     "text": [
      "42it [1:12:30, 113.34s/it]"
     ]
    },
    {
     "name": "stdout",
     "output_type": "stream",
     "text": [
      "웰바이오텍\n"
     ]
    },
    {
     "name": "stderr",
     "output_type": "stream",
     "text": [
      "43it [1:14:25, 113.82s/it]"
     ]
    },
    {
     "name": "stdout",
     "output_type": "stream",
     "text": [
      "한국주강\n"
     ]
    },
    {
     "name": "stderr",
     "output_type": "stream",
     "text": [
      "44it [1:16:21, 114.55s/it]"
     ]
    },
    {
     "name": "stdout",
     "output_type": "stream",
     "text": [
      "덕양산업\n"
     ]
    }
   ],
   "source": [
    "for idx, context in tqdm(kospi.iloc[358:, :].iterrows()):\n",
    "    if True:\n",
    "        db.create_table(context['회사명'])\n",
    "        print(context['회사명'])\n",
    "        first_y, first_m, first_d = context['상장일'].split('-')\n",
    "        first_date = datetime.date(int(first_y), int(first_m), int(first_d))\n",
    "        start = first_date\n",
    "        end = start + datetime.timedelta(99)\n",
    "        while end <= datetime.date.today():\n",
    "#             print(f'st:{start}, end:{end}')\n",
    "            result = sc.date_price(no=context['종목코드'], \n",
    "                                start=date_to_string(start), \n",
    "                                end=date_to_string(end), \n",
    "                                period='D')\n",
    "            for idx, res in enumerate(result['output2'][::-1]):\n",
    "                try:\n",
    "                    buf = []\n",
    "                    buf.append(result['output1']['stck_shrn_iscd'])\n",
    "                    buf.append(res['stck_bsop_date'])\n",
    "                    buf.append(res['stck_clpr'])\n",
    "                    buf.append(res['stck_oprc'])\n",
    "                    buf.append(res['stck_hgpr'])\n",
    "                    buf.append(res['stck_lwpr'])\n",
    "                    buf.append(res['acml_vol'])\n",
    "                    buf.append(res['acml_tr_pbmn'])\n",
    "                    db.insert(table_name=context['회사명'], telegram=buf)\n",
    "                except:\n",
    "                    pass\n",
    "            time.sleep(1.01)\n",
    "            start = end + datetime.timedelta(1)\n",
    "            end = start + datetime.timedelta(99)\n",
    "#         print(f'st:{start}, end:{end}')\n",
    "        result = sc.date_price(no=context['종목코드'], \n",
    "                                start=date_to_string(start), \n",
    "                                end=date_to_string(datetime.date.today()), \n",
    "                                period='D')\n",
    "        try:\n",
    "            for idx, res in enumerate(result['output2'][::-1]):\n",
    "                buf = []\n",
    "                buf.append(result['output1']['stck_shrn_iscd'])\n",
    "                buf.append(res['stck_bsop_date'])\n",
    "                buf.append(res['stck_clpr'])\n",
    "                buf.append(res['stck_oprc'])\n",
    "                buf.append(res['stck_hgpr'])\n",
    "                buf.append(res['stck_lwpr'])\n",
    "                buf.append(res['acml_vol'])\n",
    "                buf.append(res['acml_tr_pbmn'])\n",
    "                db.insert(table_name=context['회사명'], telegram=buf)\n",
    "        except:\n",
    "            pass\n",
    "    \n",
    "    else:\n",
    "        pass\n"
   ]
  },
  {
   "cell_type": "code",
   "execution_count": null,
   "id": "1aae8583",
   "metadata": {},
   "outputs": [],
   "source": [
    "#한국금융지주"
   ]
  }
 ],
 "metadata": {
  "kernelspec": {
   "display_name": "side",
   "language": "python",
   "name": "python3"
  },
  "language_info": {
   "codemirror_mode": {
    "name": "ipython",
    "version": 3
   },
   "file_extension": ".py",
   "mimetype": "text/x-python",
   "name": "python",
   "nbconvert_exporter": "python",
   "pygments_lexer": "ipython3",
   "version": "3.10.8"
  },
  "vscode": {
   "interpreter": {
    "hash": "19c5b079b0949d989e93d8d44da089aa5127371c84ae8f0b37929f6bc3106acf"
   }
  }
 },
 "nbformat": 4,
 "nbformat_minor": 5
}
