{
 "cells": [
  {
   "cell_type": "code",
   "execution_count": 1,
   "id": "b17e0c05",
   "metadata": {},
   "outputs": [],
   "source": [
    "import os\n",
    "import sys\n",
    "sys.path.append('D:/ML/Kis_Api_test/1_DB_System/')"
   ]
  },
  {
   "cell_type": "code",
   "execution_count": 2,
   "id": "dca1557b",
   "metadata": {},
   "outputs": [],
   "source": [
    "from communication import StockConnection, DB_Handle\n",
    "import datetime\n",
    "import pandas as pd\n",
    "from queue import Queue"
   ]
  },
  {
   "cell_type": "code",
   "execution_count": 3,
   "id": "52c60f5f",
   "metadata": {},
   "outputs": [],
   "source": [
    "def date_to_string(date:datetime.date):\n",
    "    conv_date = str(date)\n",
    "    return conv_date[:4] + conv_date[5:7] + conv_date[-2:]"
   ]
  },
  {
   "cell_type": "code",
   "execution_count": null,
   "id": "863c5cc9",
   "metadata": {},
   "outputs": [],
   "source": [
    "\n",
    "    "
   ]
  },
  {
   "cell_type": "code",
   "execution_count": 4,
   "id": "cf9d6904",
   "metadata": {},
   "outputs": [
    {
     "name": "stdout",
     "output_type": "stream",
     "text": [
      "good\n"
     ]
    }
   ],
   "source": [
    "sc = StockConnection()\n",
    "db = DB_Handle(db_name='db_for_test')\n",
    "que = Queue()"
   ]
  },
  {
   "cell_type": "code",
   "execution_count": 5,
   "id": "761d05b6",
   "metadata": {},
   "outputs": [],
   "source": [
    "kospi = pd.read_csv('../../4_SRC/current_kospi_codes.csv')\n",
    "kospi['종목코드'] = kospi['종목코드'].apply(lambda x : str(x).zfill(6))"
   ]
  },
  {
   "cell_type": "code",
   "execution_count": 6,
   "id": "6e86439a",
   "metadata": {},
   "outputs": [],
   "source": [
    "kosdaq = pd.read_csv('../../4_SRC/current_kosdaq_codes.csv')\n",
    "kosdaq['종목코드'] = kosdaq['종목코드'].apply(lambda x : str(x).zfill(6))"
   ]
  },
  {
   "cell_type": "code",
   "execution_count": 7,
   "id": "d5a0bd6c",
   "metadata": {},
   "outputs": [],
   "source": [
    "def result_handle(tr):\n",
    "    global que\n",
    "    try:\n",
    "        for idx, res in enumerate(tr['output2'][::-1]):\n",
    "            buf = []\n",
    "            buf.append(tr['output1']['stck_shrn_iscd'])\n",
    "            buf.append(res['stck_bsop_date'])\n",
    "            buf.append(res['stck_clpr'])\n",
    "            buf.append(res['stck_oprc'])\n",
    "            buf.append(res['stck_hgpr'])\n",
    "            buf.append(res['stck_lwpr'])\n",
    "            buf.append(res['acml_vol'])\n",
    "            buf.append(res['acml_tr_pbmn'])\n",
    "            que.put(buf)\n",
    "    except:     \n",
    "        pass"
   ]
  },
  {
   "cell_type": "code",
   "execution_count": 12,
   "id": "b6b71dc4",
   "metadata": {
    "scrolled": false
   },
   "outputs": [
    {
     "name": "stdout",
     "output_type": "stream",
     "text": [
      "st:2021-11-18, end:2022-02-25\n",
      "st:2022-02-26, end:2022-06-05\n",
      "st:2022-06-06, end:2022-09-13\n",
      "st:2022-09-14, end:2022-12-22\n",
      "['005930', '20221223', '58100', '58200', '58400', '57700', '9829407', '570401785680']\n"
     ]
    }
   ],
   "source": [
    "for idx, context in kospi.iterrows():\n",
    "    if context['회사명'] == '삼성전자':\n",
    "        first_y, first_m, first_d = context['상장일'].split('-')\n",
    "        first_date = datetime.date(int(first_y), int(first_m), int(first_d))\n",
    "        start = datetime.date(2021, 11 ,18)#first_date\n",
    "        end = start + datetime.timedelta(99)\n",
    "        while end <= datetime.date.today():\n",
    "            result = sc.date_price(no=context['종목코드'], \n",
    "                                   start=date_to_string(start), \n",
    "                                   end=date_to_string(end), \n",
    "                                   period='D')\n",
    "            for idx, res in enumerate(result['output2'][::-1]):\n",
    "                try:\n",
    "                    buf = []\n",
    "                    buf.append(result['output1']['stck_shrn_iscd'])\n",
    "                    buf.append(res['stck_bsop_date'])\n",
    "                    buf.append(res['stck_clpr'])\n",
    "                    buf.append(res['stck_oprc'])\n",
    "                    buf.append(res['stck_hgpr'])\n",
    "                    buf.append(res['stck_lwpr'])\n",
    "                    buf.append(res['acml_vol'])\n",
    "                    buf.append(res['acml_tr_pbmn'])\n",
    "#                     db.fetch(table_name='test', telegram=buf)\n",
    "                    sql = f'INSERT INTO test {db.COLUMNS} VALUES (%s, %s, %s, %s, %s, %s, %s, %s)'\n",
    "                    db.CONN.cursor().excute(sql, telegram)\n",
    "                except:\n",
    "                    pass\n",
    "            print(f'st:{start}, end:{end}')\n",
    "            start = end + datetime.timedelta(1)\n",
    "            end = start + datetime.timedelta(99)\n",
    "        result = sc.date_price(no=context['종목코드'], \n",
    "                                   start=date_to_string(start), \n",
    "                                   end=date_to_string(datetime.date.today()), \n",
    "                                   period='D')\n",
    "        try:\n",
    "            for idx, res in enumerate(result['output2'][::-1]):\n",
    "                buf = []\n",
    "                buf.append(result['output1']['stck_shrn_iscd'])\n",
    "                buf.append(res['stck_bsop_date'])\n",
    "                buf.append(res['stck_clpr'])\n",
    "                buf.append(res['stck_oprc'])\n",
    "                buf.append(res['stck_hgpr'])\n",
    "                buf.append(res['stck_lwpr'])\n",
    "                buf.append(res['acml_vol'])\n",
    "                buf.append(res['acml_tr_pbmn'])\n",
    "                db.fetch(table_name='test', telegram=buf)\n",
    "        except:\n",
    "            pass\n",
    "    \n",
    "    else:\n",
    "        pass\n",
    "db.commit()"
   ]
  },
  {
   "cell_type": "code",
   "execution_count": 10,
   "id": "dd5281f9",
   "metadata": {},
   "outputs": [
    {
     "data": {
      "text/plain": [
       "<pymysql.cursors.Cursor at 0x2299f132c80>"
      ]
     },
     "execution_count": 10,
     "metadata": {},
     "output_type": "execute_result"
    }
   ],
   "source": [
    "db.CUR"
   ]
  },
  {
   "cell_type": "code",
   "execution_count": 11,
   "id": "44dd93af",
   "metadata": {},
   "outputs": [
    {
     "data": {
      "text/plain": [
       "<pymysql.connections.Connection at 0x2299f1326b0>"
      ]
     },
     "execution_count": 11,
     "metadata": {},
     "output_type": "execute_result"
    }
   ],
   "source": [
    "db.CONN"
   ]
  },
  {
   "cell_type": "code",
   "execution_count": 9,
   "id": "ab88ceca",
   "metadata": {},
   "outputs": [
    {
     "data": {
      "text/plain": [
       "0"
      ]
     },
     "execution_count": 9,
     "metadata": {},
     "output_type": "execute_result"
    }
   ],
   "source": [
    "que.qsize()"
   ]
  },
  {
   "cell_type": "code",
   "execution_count": 1458,
   "id": "87d17107",
   "metadata": {},
   "outputs": [
    {
     "data": {
      "text/plain": [
       "['000880', '19920901', '5833', '5833', '5833', '5833', '78896', '4602540']"
      ]
     },
     "execution_count": 1458,
     "metadata": {},
     "output_type": "execute_result"
    }
   ],
   "source": [
    "gugu = que.get()\n",
    "gugu"
   ]
  },
  {
   "cell_type": "code",
   "execution_count": null,
   "id": "0188b86e",
   "metadata": {},
   "outputs": [],
   "source": []
  },
  {
   "cell_type": "code",
   "execution_count": 18,
   "id": "c120d429",
   "metadata": {},
   "outputs": [],
   "source": [
    "code = result['output1']['stck_shrn_iscd']\n",
    "date = result['output2'][0]['stck_bsop_date']\n",
    "clpr = result['output2'][0]['stck_clpr']\n",
    "oppr = result['output2'][0]['stck_oprc']\n",
    "hgpr = result['output2'][0]['stck_hgpr']\n",
    "lwpr = result['output2'][0]['stck_lwpr']\n",
    "volume = result['output2'][0]['acml_vol']\n",
    "acpr = result['output2'][0]['acml_tr_pbmn']\n"
   ]
  },
  {
   "cell_type": "code",
   "execution_count": 156,
   "id": "2d233374",
   "metadata": {
    "scrolled": true
   },
   "outputs": [
    {
     "data": {
      "text/plain": [
       "'20200718'"
      ]
     },
     "execution_count": 156,
     "metadata": {},
     "output_type": "execute_result"
    }
   ],
   "source": [
    "date_to_string(date=datetime.date(2020, 7, 18))"
   ]
  },
  {
   "cell_type": "code",
   "execution_count": 226,
   "id": "fadb8322",
   "metadata": {},
   "outputs": [
    {
     "data": {
      "text/plain": [
       "True"
      ]
     },
     "execution_count": 226,
     "metadata": {},
     "output_type": "execute_result"
    }
   ],
   "source": [
    "datetime.date(2020, 7, 20) > datetime.date(2020, 7, 19)"
   ]
  },
  {
   "cell_type": "code",
   "execution_count": 137,
   "id": "5e2461cf",
   "metadata": {},
   "outputs": [
    {
     "data": {
      "text/plain": [
       "datetime.date(2020, 10, 26)"
      ]
     },
     "execution_count": 137,
     "metadata": {},
     "output_type": "execute_result"
    }
   ],
   "source": [
    "datetime.date(2020, 7, 18) + datetime.timedelta(100)"
   ]
  },
  {
   "cell_type": "code",
   "execution_count": 142,
   "id": "2bc08a28",
   "metadata": {},
   "outputs": [],
   "source": [
    "result = sc.date_price(no='084010', start='20051031', end='20051031', period='D')"
   ]
  },
  {
   "cell_type": "code",
   "execution_count": 152,
   "id": "a57226dd",
   "metadata": {},
   "outputs": [],
   "source": []
  },
  {
   "cell_type": "code",
   "execution_count": 11,
   "id": "38daf1bd",
   "metadata": {},
   "outputs": [],
   "source": [
    "import pandas as pd"
   ]
  },
  {
   "cell_type": "code",
   "execution_count": 13,
   "id": "6664c606",
   "metadata": {},
   "outputs": [],
   "source": [
    "import pymysql"
   ]
  },
  {
   "cell_type": "code",
   "execution_count": 14,
   "id": "fb4ac78b",
   "metadata": {},
   "outputs": [],
   "source": [
    "conn = pymysql.connect(host='localhost', user='root', \n",
    "                       password='sp_1234', db='db_for_test', charset='utf8')"
   ]
  },
  {
   "cell_type": "code",
   "execution_count": 15,
   "id": "4a307647",
   "metadata": {},
   "outputs": [],
   "source": [
    "cur = conn.cursor()"
   ]
  },
  {
   "cell_type": "code",
   "execution_count": 25,
   "id": "5d2f95f7",
   "metadata": {},
   "outputs": [
    {
     "ename": "IntegrityError",
     "evalue": "(1062, \"Duplicate entry '5930' for key 'test.PRIMARY'\")",
     "output_type": "error",
     "traceback": [
      "\u001b[1;31m---------------------------------------------------------------------------\u001b[0m",
      "\u001b[1;31mIntegrityError\u001b[0m                            Traceback (most recent call last)",
      "Cell \u001b[1;32mIn[25], line 1\u001b[0m\n\u001b[1;32m----> 1\u001b[0m \u001b[43mcur\u001b[49m\u001b[38;5;241;43m.\u001b[39;49m\u001b[43mexecute\u001b[49m\u001b[43m(\u001b[49m\u001b[38;5;124;43mf\u001b[39;49m\u001b[38;5;124;43m'\u001b[39;49m\u001b[38;5;124;43mINSERT INTO test VALUES(\u001b[39;49m\u001b[38;5;132;43;01m{\u001b[39;49;00m\u001b[43mcode\u001b[49m\u001b[38;5;132;43;01m}\u001b[39;49;00m\u001b[38;5;124;43m, \u001b[39;49m\u001b[38;5;132;43;01m{\u001b[39;49;00m\u001b[43mdate\u001b[49m\u001b[38;5;132;43;01m}\u001b[39;49;00m\u001b[38;5;124;43m, \u001b[39;49m\u001b[38;5;132;43;01m{\u001b[39;49;00m\u001b[43mclpr\u001b[49m\u001b[38;5;132;43;01m}\u001b[39;49;00m\u001b[38;5;124;43m, \u001b[39;49m\u001b[38;5;132;43;01m{\u001b[39;49;00m\u001b[43moppr\u001b[49m\u001b[38;5;132;43;01m}\u001b[39;49;00m\u001b[38;5;124;43m, \u001b[39;49m\u001b[38;5;132;43;01m{\u001b[39;49;00m\u001b[43mhgpr\u001b[49m\u001b[38;5;132;43;01m}\u001b[39;49;00m\u001b[38;5;124;43m, \u001b[39;49m\u001b[38;5;132;43;01m{\u001b[39;49;00m\u001b[43mlwpr\u001b[49m\u001b[38;5;132;43;01m}\u001b[39;49;00m\u001b[38;5;124;43m, \u001b[39;49m\u001b[38;5;132;43;01m{\u001b[39;49;00m\u001b[43mvolume\u001b[49m\u001b[38;5;132;43;01m}\u001b[39;49;00m\u001b[38;5;124;43m, \u001b[39;49m\u001b[38;5;132;43;01m{\u001b[39;49;00m\u001b[43macpr\u001b[49m\u001b[38;5;132;43;01m}\u001b[39;49;00m\u001b[38;5;124;43m)\u001b[39;49m\u001b[38;5;124;43m'\u001b[39;49m\u001b[43m)\u001b[49m\n",
      "File \u001b[1;32m~\\miniconda3\\envs\\side\\lib\\site-packages\\pymysql\\cursors.py:148\u001b[0m, in \u001b[0;36mCursor.execute\u001b[1;34m(self, query, args)\u001b[0m\n\u001b[0;32m    144\u001b[0m     \u001b[38;5;28;01mpass\u001b[39;00m\n\u001b[0;32m    146\u001b[0m query \u001b[38;5;241m=\u001b[39m \u001b[38;5;28mself\u001b[39m\u001b[38;5;241m.\u001b[39mmogrify(query, args)\n\u001b[1;32m--> 148\u001b[0m result \u001b[38;5;241m=\u001b[39m \u001b[38;5;28;43mself\u001b[39;49m\u001b[38;5;241;43m.\u001b[39;49m\u001b[43m_query\u001b[49m\u001b[43m(\u001b[49m\u001b[43mquery\u001b[49m\u001b[43m)\u001b[49m\n\u001b[0;32m    149\u001b[0m \u001b[38;5;28mself\u001b[39m\u001b[38;5;241m.\u001b[39m_executed \u001b[38;5;241m=\u001b[39m query\n\u001b[0;32m    150\u001b[0m \u001b[38;5;28;01mreturn\u001b[39;00m result\n",
      "File \u001b[1;32m~\\miniconda3\\envs\\side\\lib\\site-packages\\pymysql\\cursors.py:310\u001b[0m, in \u001b[0;36mCursor._query\u001b[1;34m(self, q)\u001b[0m\n\u001b[0;32m    308\u001b[0m \u001b[38;5;28mself\u001b[39m\u001b[38;5;241m.\u001b[39m_last_executed \u001b[38;5;241m=\u001b[39m q\n\u001b[0;32m    309\u001b[0m \u001b[38;5;28mself\u001b[39m\u001b[38;5;241m.\u001b[39m_clear_result()\n\u001b[1;32m--> 310\u001b[0m \u001b[43mconn\u001b[49m\u001b[38;5;241;43m.\u001b[39;49m\u001b[43mquery\u001b[49m\u001b[43m(\u001b[49m\u001b[43mq\u001b[49m\u001b[43m)\u001b[49m\n\u001b[0;32m    311\u001b[0m \u001b[38;5;28mself\u001b[39m\u001b[38;5;241m.\u001b[39m_do_get_result()\n\u001b[0;32m    312\u001b[0m \u001b[38;5;28;01mreturn\u001b[39;00m \u001b[38;5;28mself\u001b[39m\u001b[38;5;241m.\u001b[39mrowcount\n",
      "File \u001b[1;32m~\\miniconda3\\envs\\side\\lib\\site-packages\\pymysql\\connections.py:548\u001b[0m, in \u001b[0;36mConnection.query\u001b[1;34m(self, sql, unbuffered)\u001b[0m\n\u001b[0;32m    546\u001b[0m     sql \u001b[38;5;241m=\u001b[39m sql\u001b[38;5;241m.\u001b[39mencode(\u001b[38;5;28mself\u001b[39m\u001b[38;5;241m.\u001b[39mencoding, \u001b[38;5;124m\"\u001b[39m\u001b[38;5;124msurrogateescape\u001b[39m\u001b[38;5;124m\"\u001b[39m)\n\u001b[0;32m    547\u001b[0m \u001b[38;5;28mself\u001b[39m\u001b[38;5;241m.\u001b[39m_execute_command(COMMAND\u001b[38;5;241m.\u001b[39mCOM_QUERY, sql)\n\u001b[1;32m--> 548\u001b[0m \u001b[38;5;28mself\u001b[39m\u001b[38;5;241m.\u001b[39m_affected_rows \u001b[38;5;241m=\u001b[39m \u001b[38;5;28;43mself\u001b[39;49m\u001b[38;5;241;43m.\u001b[39;49m\u001b[43m_read_query_result\u001b[49m\u001b[43m(\u001b[49m\u001b[43munbuffered\u001b[49m\u001b[38;5;241;43m=\u001b[39;49m\u001b[43munbuffered\u001b[49m\u001b[43m)\u001b[49m\n\u001b[0;32m    549\u001b[0m \u001b[38;5;28;01mreturn\u001b[39;00m \u001b[38;5;28mself\u001b[39m\u001b[38;5;241m.\u001b[39m_affected_rows\n",
      "File \u001b[1;32m~\\miniconda3\\envs\\side\\lib\\site-packages\\pymysql\\connections.py:775\u001b[0m, in \u001b[0;36mConnection._read_query_result\u001b[1;34m(self, unbuffered)\u001b[0m\n\u001b[0;32m    773\u001b[0m \u001b[38;5;28;01melse\u001b[39;00m:\n\u001b[0;32m    774\u001b[0m     result \u001b[38;5;241m=\u001b[39m MySQLResult(\u001b[38;5;28mself\u001b[39m)\n\u001b[1;32m--> 775\u001b[0m     \u001b[43mresult\u001b[49m\u001b[38;5;241;43m.\u001b[39;49m\u001b[43mread\u001b[49m\u001b[43m(\u001b[49m\u001b[43m)\u001b[49m\n\u001b[0;32m    776\u001b[0m \u001b[38;5;28mself\u001b[39m\u001b[38;5;241m.\u001b[39m_result \u001b[38;5;241m=\u001b[39m result\n\u001b[0;32m    777\u001b[0m \u001b[38;5;28;01mif\u001b[39;00m result\u001b[38;5;241m.\u001b[39mserver_status \u001b[38;5;129;01mis\u001b[39;00m \u001b[38;5;129;01mnot\u001b[39;00m \u001b[38;5;28;01mNone\u001b[39;00m:\n",
      "File \u001b[1;32m~\\miniconda3\\envs\\side\\lib\\site-packages\\pymysql\\connections.py:1156\u001b[0m, in \u001b[0;36mMySQLResult.read\u001b[1;34m(self)\u001b[0m\n\u001b[0;32m   1154\u001b[0m \u001b[38;5;28;01mdef\u001b[39;00m \u001b[38;5;21mread\u001b[39m(\u001b[38;5;28mself\u001b[39m):\n\u001b[0;32m   1155\u001b[0m     \u001b[38;5;28;01mtry\u001b[39;00m:\n\u001b[1;32m-> 1156\u001b[0m         first_packet \u001b[38;5;241m=\u001b[39m \u001b[38;5;28;43mself\u001b[39;49m\u001b[38;5;241;43m.\u001b[39;49m\u001b[43mconnection\u001b[49m\u001b[38;5;241;43m.\u001b[39;49m\u001b[43m_read_packet\u001b[49m\u001b[43m(\u001b[49m\u001b[43m)\u001b[49m\n\u001b[0;32m   1158\u001b[0m         \u001b[38;5;28;01mif\u001b[39;00m first_packet\u001b[38;5;241m.\u001b[39mis_ok_packet():\n\u001b[0;32m   1159\u001b[0m             \u001b[38;5;28mself\u001b[39m\u001b[38;5;241m.\u001b[39m_read_ok_packet(first_packet)\n",
      "File \u001b[1;32m~\\miniconda3\\envs\\side\\lib\\site-packages\\pymysql\\connections.py:725\u001b[0m, in \u001b[0;36mConnection._read_packet\u001b[1;34m(self, packet_type)\u001b[0m\n\u001b[0;32m    723\u001b[0m     \u001b[38;5;28;01mif\u001b[39;00m \u001b[38;5;28mself\u001b[39m\u001b[38;5;241m.\u001b[39m_result \u001b[38;5;129;01mis\u001b[39;00m \u001b[38;5;129;01mnot\u001b[39;00m \u001b[38;5;28;01mNone\u001b[39;00m \u001b[38;5;129;01mand\u001b[39;00m \u001b[38;5;28mself\u001b[39m\u001b[38;5;241m.\u001b[39m_result\u001b[38;5;241m.\u001b[39munbuffered_active \u001b[38;5;129;01mis\u001b[39;00m \u001b[38;5;28;01mTrue\u001b[39;00m:\n\u001b[0;32m    724\u001b[0m         \u001b[38;5;28mself\u001b[39m\u001b[38;5;241m.\u001b[39m_result\u001b[38;5;241m.\u001b[39munbuffered_active \u001b[38;5;241m=\u001b[39m \u001b[38;5;28;01mFalse\u001b[39;00m\n\u001b[1;32m--> 725\u001b[0m     \u001b[43mpacket\u001b[49m\u001b[38;5;241;43m.\u001b[39;49m\u001b[43mraise_for_error\u001b[49m\u001b[43m(\u001b[49m\u001b[43m)\u001b[49m\n\u001b[0;32m    726\u001b[0m \u001b[38;5;28;01mreturn\u001b[39;00m packet\n",
      "File \u001b[1;32m~\\miniconda3\\envs\\side\\lib\\site-packages\\pymysql\\protocol.py:221\u001b[0m, in \u001b[0;36mMysqlPacket.raise_for_error\u001b[1;34m(self)\u001b[0m\n\u001b[0;32m    219\u001b[0m \u001b[38;5;28;01mif\u001b[39;00m DEBUG:\n\u001b[0;32m    220\u001b[0m     \u001b[38;5;28mprint\u001b[39m(\u001b[38;5;124m\"\u001b[39m\u001b[38;5;124merrno =\u001b[39m\u001b[38;5;124m\"\u001b[39m, errno)\n\u001b[1;32m--> 221\u001b[0m \u001b[43merr\u001b[49m\u001b[38;5;241;43m.\u001b[39;49m\u001b[43mraise_mysql_exception\u001b[49m\u001b[43m(\u001b[49m\u001b[38;5;28;43mself\u001b[39;49m\u001b[38;5;241;43m.\u001b[39;49m\u001b[43m_data\u001b[49m\u001b[43m)\u001b[49m\n",
      "File \u001b[1;32m~\\miniconda3\\envs\\side\\lib\\site-packages\\pymysql\\err.py:143\u001b[0m, in \u001b[0;36mraise_mysql_exception\u001b[1;34m(data)\u001b[0m\n\u001b[0;32m    141\u001b[0m \u001b[38;5;28;01mif\u001b[39;00m errorclass \u001b[38;5;129;01mis\u001b[39;00m \u001b[38;5;28;01mNone\u001b[39;00m:\n\u001b[0;32m    142\u001b[0m     errorclass \u001b[38;5;241m=\u001b[39m InternalError \u001b[38;5;28;01mif\u001b[39;00m errno \u001b[38;5;241m<\u001b[39m \u001b[38;5;241m1000\u001b[39m \u001b[38;5;28;01melse\u001b[39;00m OperationalError\n\u001b[1;32m--> 143\u001b[0m \u001b[38;5;28;01mraise\u001b[39;00m errorclass(errno, errval)\n",
      "\u001b[1;31mIntegrityError\u001b[0m: (1062, \"Duplicate entry '5930' for key 'test.PRIMARY'\")"
     ]
    }
   ],
   "source": [
    "cur.execute(f'INSERT INTO test VALUES({code}, {date}, {clpr}, {oppr}, {hgpr}, {lwpr}, {volume}, {acpr})')\n"
   ]
  },
  {
   "cell_type": "code",
   "execution_count": 20,
   "id": "83c14343",
   "metadata": {},
   "outputs": [],
   "source": [
    "conn.commit()"
   ]
  },
  {
   "cell_type": "code",
   "execution_count": 280,
   "id": "a9bc9ae2",
   "metadata": {},
   "outputs": [
    {
     "ename": "TypeError",
     "evalue": "unhashable type: 'dict'",
     "output_type": "error",
     "traceback": [
      "\u001b[1;31m--------------------------------------------------------------------\u001b[0m",
      "\u001b[1;31mTypeError\u001b[0m                          Traceback (most recent call last)",
      "Cell \u001b[1;32mIn[280], line 1\u001b[0m\n\u001b[1;32m----> 1\u001b[0m \u001b[38;5;28;43mset\u001b[39;49m\u001b[43m(\u001b[49m\u001b[43mu\u001b[49m\u001b[43m)\u001b[49m\n",
      "\u001b[1;31mTypeError\u001b[0m: unhashable type: 'dict'"
     ]
    }
   ],
   "source": []
  },
  {
   "cell_type": "code",
   "execution_count": null,
   "id": "052f2290",
   "metadata": {},
   "outputs": [],
   "source": []
  }
 ],
 "metadata": {
  "kernelspec": {
   "display_name": "Python 3 (ipykernel)",
   "language": "python",
   "name": "python3"
  },
  "language_info": {
   "codemirror_mode": {
    "name": "ipython",
    "version": 3
   },
   "file_extension": ".py",
   "mimetype": "text/x-python",
   "name": "python",
   "nbconvert_exporter": "python",
   "pygments_lexer": "ipython3",
   "version": "3.10.8"
  }
 },
 "nbformat": 4,
 "nbformat_minor": 5
}
