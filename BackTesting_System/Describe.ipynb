{
 "cells": [
  {
   "attachments": {},
   "cell_type": "markdown",
   "metadata": {},
   "source": [
    "# BackTesting System main.ipynb  \n",
    "* Backtesting 구축을 위한 노트북  \n",
    "* Class 파일은 py 파일로 만들예정 "
   ]
  },
  {
   "attachments": {},
   "cell_type": "markdown",
   "metadata": {},
   "source": [
    "### 시스템 기능 정의 "
   ]
  },
  {
   "attachments": {},
   "cell_type": "markdown",
   "metadata": {},
   "source": [
    "#### 1. Making Market Timming  \n",
    "Kosdaq, Kospi 이동평균을 기반으로 {조건} 에 부합할 때만 {매수전략} 실행  \n",
    "\n",
    "{조건}  \n",
    "1. {Kospi 종가} >= {20일 이동평균선} : True  \n",
    "2. {kosdaq 종가} >= {3일 이동평균선} or {5일 이동평균선} or {10일 이동평균선} : True   \n",
    "\n",
    "Output  \n",
    "df_mt : 날짜, 종가, True, False\n"
   ]
  },
  {
   "attachments": {},
   "cell_type": "markdown",
   "metadata": {},
   "source": [
    "#### 2. Search Trade Value\n",
    "{df_raw} Data에 {date:해당날짜} 에서 {누적거래대금} >= 10,000,000,000 (100억원) 인 종목 추출  \n",
    "\n",
    "{df_raw}  \n",
    "- Kospi, Kosdaq 전종목의 {O,H,L,C,V,AC} n 년치 data \n",
    "\n",
    "Output  \n",
    "df_vol : 종목명 C,V,AC  "
   ]
  },
  {
   "attachments": {},
   "cell_type": "markdown",
   "metadata": {},
   "source": [
    "#### 3. Momentum Indicator Calculation\n",
    "{df_raw} 에서 {momentum} = {종가}.shift(n일)/{종가} \n",
    "\n",
    "Output  \n",
    "df_raw : momentum"
   ]
  },
  {
   "attachments": {},
   "cell_type": "markdown",
   "metadata": {},
   "source": [
    "#### 4. Making Signal\n",
    "{df_vol} 에서의 {종목명}과 일치하는 {df_raw} 의 {종목명} 을찾고  \n",
    "추출한 {df_raw}의 {종목명} 의 {condition} 을 search 하고 {df_vol}에서 True, False 구분\n",
    "\n",
    "{condition} 예시\n",
    "({2일전 momentum} < 100) & ({1일전 momentum} > 100) & ({현재모멘텀}>{1일전 momentum})  \n",
    "-> 상승초입을 찾는 Signal\n",
    "\n",
    "\n",
    "Output  \n",
    "df_vol: signal = (True, False)  "
   ]
  },
  {
   "attachments": {},
   "cell_type": "markdown",
   "metadata": {},
   "source": [
    "#### 5. Making Portfolio\n",
    "{df_vol} 에서 {signal} : True 인 종목들을 {portfolio} 에 넣는다.\n",
    "{portfolio} 에서 {매수비중*종가} {전체값} 찾고 {매수비중*5일뒤 종가} 합산\n",
    "\n",
    "output\n",
    "df_portfolo = 종목명, 종가, 5일뒤종가, 합산수익률 "
   ]
  },
  {
   "cell_type": "code",
   "execution_count": null,
   "metadata": {},
   "outputs": [],
   "source": []
  },
  {
   "cell_type": "code",
   "execution_count": null,
   "metadata": {},
   "outputs": [],
   "source": []
  }
 ],
 "metadata": {
  "kernelspec": {
   "display_name": "Python 3",
   "language": "python",
   "name": "python3"
  },
  "language_info": {
   "codemirror_mode": {
    "name": "ipython",
    "version": 3
   },
   "file_extension": ".py",
   "mimetype": "text/x-python",
   "name": "python",
   "nbconvert_exporter": "python",
   "pygments_lexer": "ipython3",
   "version": "3.10.1"
  },
  "orig_nbformat": 4,
  "vscode": {
   "interpreter": {
    "hash": "88af78ce36c607522033f525dafc12ee487cd774b80b621d52bfa1613a877267"
   }
  }
 },
 "nbformat": 4,
 "nbformat_minor": 2
}
