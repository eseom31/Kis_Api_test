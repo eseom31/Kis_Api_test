{
 "cells": [
  {
   "cell_type": "code",
   "execution_count": 1,
   "metadata": {},
   "outputs": [
    {
     "ename": "ModuleNotFoundError",
     "evalue": "No module named 'backtrader'",
     "output_type": "error",
     "traceback": [
      "\u001b[1;31m---------------------------------------------------------------------------\u001b[0m",
      "\u001b[1;31mModuleNotFoundError\u001b[0m                       Traceback (most recent call last)",
      "\u001b[1;32m~\\AppData\\Local\\Temp/ipykernel_7208/1322677989.py\u001b[0m in \u001b[0;36m<module>\u001b[1;34m\u001b[0m\n\u001b[0;32m      1\u001b[0m \u001b[1;32mfrom\u001b[0m \u001b[0mdatetime\u001b[0m \u001b[1;32mimport\u001b[0m \u001b[0mdatetime\u001b[0m\u001b[1;33m\u001b[0m\u001b[1;33m\u001b[0m\u001b[0m\n\u001b[1;32m----> 2\u001b[1;33m \u001b[1;32mimport\u001b[0m \u001b[0mbacktrader\u001b[0m \u001b[1;32mas\u001b[0m \u001b[0mbt\u001b[0m\u001b[1;33m\u001b[0m\u001b[1;33m\u001b[0m\u001b[0m\n\u001b[0m\u001b[0;32m      3\u001b[0m \u001b[1;32mimport\u001b[0m \u001b[0mpandas\u001b[0m \u001b[1;32mas\u001b[0m \u001b[0mpd\u001b[0m\u001b[1;33m\u001b[0m\u001b[1;33m\u001b[0m\u001b[0m\n\u001b[0;32m      4\u001b[0m \u001b[1;32mimport\u001b[0m \u001b[0mmatplotlib\u001b[0m\u001b[1;33m\u001b[0m\u001b[1;33m\u001b[0m\u001b[0m\n\u001b[0;32m      5\u001b[0m \u001b[1;32mimport\u001b[0m \u001b[0mmatplotlib\u001b[0m\u001b[1;33m.\u001b[0m\u001b[0mpyplot\u001b[0m \u001b[1;32mas\u001b[0m \u001b[0mplt\u001b[0m\u001b[1;33m\u001b[0m\u001b[1;33m\u001b[0m\u001b[0m\n",
      "\u001b[1;31mModuleNotFoundError\u001b[0m: No module named 'backtrader'"
     ]
    }
   ],
   "source": [
    "from datetime import datetime\n",
    "import backtrader as bt\n",
    "import pandas as pd\n",
    "import matplotlib\n",
    "import matplotlib.pyplot as plt\n",
    "\n",
    "# 전략\n",
    "class SmaCross(bt.SignalStrategy):\n",
    "    def __init__(self):\n",
    "        sma1, sma2 = bt.ind.SMA(period=10), bt.ind.SMA(period=30)\n",
    "        crossover = bt.ind.CrossOver(sma1, sma2)\n",
    "        self.signal_add(bt.SIGNAL_LONG, crossover)\n",
    "        \n",
    "\n",
    "\n",
    "cerebro = bt.Cerebro()\n",
    "cerebro.addstrategy(SmaCross)\n",
    "\n",
    "data = bt.feeds.GenericCSVData(\n",
    "            dataname=\"005930.csv\",\n",
    "\n",
    "            fromdate=datetime(2019, 1, 2),\n",
    "            todate=datetime(2020, 7, 30),\n",
    "\n",
    "            nullvalue=0.0,\n",
    "\n",
    "            dtformat=('%Y-%m-%d'),\n",
    "            #tmformat=('%I-%p'),\n",
    "\n",
    "            datetime=0,\n",
    "            time=-1,\n",
    "            high=3,\n",
    "            low=4,\n",
    "            open=2,\n",
    "            close=1,\n",
    "            volume=5,\n",
    "            openinterest=-1,\n",
    "\n",
    "                        headers = True,\n",
    "                        separator = ','\n",
    "        )\n",
    "cerebro.adddata(data)\n",
    "\n",
    "cerebro.broker.setcash(10000000) # 초기 투자 자금 설정 : 천만원\n",
    "cerebro.broker.setcommission(commission=0.0014) \n",
    "cerebro.run()\n",
    "cerebro.plot(style=\"candle\", barup=\"red\", bardown=\"blue\", figsize=(10,40))[0][0]"
   ]
  },
  {
   "cell_type": "code",
   "execution_count": 3,
   "metadata": {},
   "outputs": [
    {
     "ename": "ModuleNotFoundError",
     "evalue": "No module named 'backtrader'",
     "output_type": "error",
     "traceback": [
      "\u001b[1;31m---------------------------------------------------------------------------\u001b[0m",
      "\u001b[1;31mModuleNotFoundError\u001b[0m                       Traceback (most recent call last)",
      "\u001b[1;32m~\\AppData\\Local\\Temp/ipykernel_7208/1250245554.py\u001b[0m in \u001b[0;36m<module>\u001b[1;34m\u001b[0m\n\u001b[1;32m----> 1\u001b[1;33m \u001b[1;32mimport\u001b[0m \u001b[0mbacktrader\u001b[0m \u001b[1;32mas\u001b[0m \u001b[0mbt\u001b[0m\u001b[1;33m\u001b[0m\u001b[1;33m\u001b[0m\u001b[0m\n\u001b[0m\u001b[0;32m      2\u001b[0m \u001b[1;31m#import yfinance as yf\u001b[0m\u001b[1;33m\u001b[0m\u001b[1;33m\u001b[0m\u001b[1;33m\u001b[0m\u001b[0m\n\u001b[0;32m      3\u001b[0m \u001b[1;33m\u001b[0m\u001b[0m\n\u001b[0;32m      4\u001b[0m \u001b[1;32mclass\u001b[0m \u001b[0mMyStrategy\u001b[0m\u001b[1;33m(\u001b[0m\u001b[0mbt\u001b[0m\u001b[1;33m.\u001b[0m\u001b[0mStrategy\u001b[0m\u001b[1;33m)\u001b[0m\u001b[1;33m:\u001b[0m\u001b[1;33m\u001b[0m\u001b[1;33m\u001b[0m\u001b[0m\n\u001b[0;32m      5\u001b[0m     \u001b[1;32mdef\u001b[0m \u001b[0m__init__\u001b[0m\u001b[1;33m(\u001b[0m\u001b[0mself\u001b[0m\u001b[1;33m)\u001b[0m\u001b[1;33m:\u001b[0m\u001b[1;33m\u001b[0m\u001b[1;33m\u001b[0m\u001b[0m\n",
      "\u001b[1;31mModuleNotFoundError\u001b[0m: No module named 'backtrader'"
     ]
    }
   ],
   "source": [
    "import backtrader as bt\n",
    "#import yfinance as yf\n",
    "\n",
    "class MyStrategy(bt.Strategy):\n",
    "    def __init__(self):\n",
    "        self.dataclose = self.datas[0].close\n",
    "        self.order = None\n",
    "        self.buyprice = None\n",
    "        self.buycomm = None\n",
    "        self.rsi = bt.indicators.RSI_SMA(self.data.close, period=21)\n",
    "\n",
    "    def notify_order(self, order):\n",
    "        if order.status in [order.Submitted, order.Accepted]:\n",
    "            return\n",
    "        if order.status in [order.Completed]:\n",
    "            if order.isbuy():\n",
    "                self.log(f'BUY  : 주가 {order.executed.price:,.0f}, '\n",
    "                    f'수량 {order.executed.size:,.0f}, '\n",
    "                    f'수수료 {order.executed.comm:,.0f}, '        \n",
    "                    f'자산 {cerebro.broker.getvalue():,.0f}')\n",
    "                self.buyprice = order.executed.price\n",
    "                self.buycomm = order.executed.comm\n",
    "            else:\n",
    "                self.log(f'SELL : 주가 {order.executed.price:,.0f}, '\n",
    "                    f'수량 {order.executed.size:,.0f}, '\n",
    "                    f'수수료 {order.executed.comm:,.0f}, '\n",
    "                    f'자산 {cerebro.broker.getvalue():,.0f}')\n",
    "            self.bar_executed = len(self)\n",
    "        elif order.status in [order.Canceled]:\n",
    "            self.log('ORDER CANCELD')\n",
    "        elif order.status in [order.Margin]:\n",
    "            self.log('ORDER MARGIN')\n",
    "        elif order.status in [order.Rejected]:\n",
    "            self.log('ORDER REJECTED')\n",
    "        self.order = None\n",
    "\n",
    "    def next(self):\n",
    "        if not self.position:\n",
    "            if self.rsi < 30:\n",
    "                self.order = self.buy()\n",
    "        else:\n",
    "            if self.rsi > 70:\n",
    "                self.order = self.sell()\n",
    "\n",
    "    def log(self, txt, dt=None):\n",
    "        dt = self.datas[0].datetime.date(0)\n",
    "        print(f'[{dt.isoformat()}] {txt}')\n",
    "    \n",
    "data = bt.feeds.GenericCSVData(\n",
    "            dataname=\"005930.csv\",\n",
    "\n",
    "            fromdate=datetime(2019, 1, 2),\n",
    "            todate=datetime(2020, 7, 30),\n",
    "\n",
    "            nullvalue=0.0,\n",
    "\n",
    "            dtformat=('%Y-%m-%d'),\n",
    "            #tmformat=('%I-%p'),\n",
    "\n",
    "            datetime=0,\n",
    "            time=-1,\n",
    "            high=3,\n",
    "            low=4,\n",
    "            open=2,\n",
    "            close=1,\n",
    "            volume=5,\n",
    "            openinterest=-1,\n",
    "\n",
    "                        headers = True,\n",
    "                        separator = ','\n",
    "        )\n",
    "\n",
    "cerebro = bt.Cerebro()\n",
    "cerebro.addstrategy(MyStrategy)\n",
    "# data = bt.feeds.YahooFinanceData(dataname='036570.KS', fromdate=datetime(2017, 1, 1), todate=datetime(2019, 12, 1))\n",
    "# data = bt.feeds.PandasData(dataname='005930.csv')\n",
    "\n",
    "cerebro.adddata(data)\n",
    "cerebro.broker.setcash(10000000)\n",
    "cerebro.broker.setcommission(commission=0.0014)\n",
    "cerebro.addsizer(bt.sizers.PercentSizer, percents=90)\n",
    "\n",
    "print(f'Initial Portfolio Value : {cerebro.broker.getvalue():,.0f} KRW')\n",
    "cerebro.run()\n",
    "print(f'Final Portfolio Value   : {cerebro.broker.getvalue():,.0f} KRW')\n",
    "cerebro.plot(style='candlestick')[0][0]"
   ]
  },
  {
   "cell_type": "code",
   "execution_count": 83,
   "metadata": {},
   "outputs": [
    {
     "data": {
      "text/plain": [
       "10007538.819999997"
      ]
     },
     "execution_count": 83,
     "metadata": {},
     "output_type": "execute_result"
    }
   ],
   "source": [
    "cerebro.broker.get_value()"
   ]
  },
  {
   "cell_type": "code",
   "execution_count": 87,
   "metadata": {},
   "outputs": [],
   "source": [
    "df = pd.read_csv('kospi200_raw.csv', index_col=0)"
   ]
  },
  {
   "cell_type": "code",
   "execution_count": 90,
   "metadata": {},
   "outputs": [],
   "source": [
    "df.to_csv(\"test.csv\", mode='w',encoding='utf-8')"
   ]
  },
  {
   "cell_type": "code",
   "execution_count": null,
   "metadata": {},
   "outputs": [],
   "source": []
  }
 ],
 "metadata": {
  "kernelspec": {
   "display_name": "Python 3",
   "language": "python",
   "name": "python3"
  },
  "language_info": {
   "codemirror_mode": {
    "name": "ipython",
    "version": 3
   },
   "file_extension": ".py",
   "mimetype": "text/x-python",
   "name": "python",
   "nbconvert_exporter": "python",
   "pygments_lexer": "ipython3",
   "version": "3.7.9"
  },
  "orig_nbformat": 4,
  "vscode": {
   "interpreter": {
    "hash": "15f0b56025c37ee953d7fd8cdbc66a691775b2a908a0bc1ca19f832a158d9081"
   }
  }
 },
 "nbformat": 4,
 "nbformat_minor": 2
}
