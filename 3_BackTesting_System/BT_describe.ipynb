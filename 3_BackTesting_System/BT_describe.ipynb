{
 "cells": [
  {
   "cell_type": "code",
   "execution_count": 2,
   "metadata": {},
   "outputs": [],
   "source": [
    "import pandas as pd\n",
    "df = pd.read_csv(\"kospi200_raw.csv\", index_col = 0)\n",
    "df.columns = ['date','close','open','high','low','volume','name']\n",
    "df['date'] = pd.to_datetime(df['date'])"
   ]
  },
  {
   "cell_type": "code",
   "execution_count": 10,
   "metadata": {},
   "outputs": [
    {
     "data": {
      "text/html": [
       "<div>\n",
       "<style scoped>\n",
       "    .dataframe tbody tr th:only-of-type {\n",
       "        vertical-align: middle;\n",
       "    }\n",
       "\n",
       "    .dataframe tbody tr th {\n",
       "        vertical-align: top;\n",
       "    }\n",
       "\n",
       "    .dataframe thead th {\n",
       "        text-align: right;\n",
       "    }\n",
       "</style>\n",
       "<table border=\"1\" class=\"dataframe\">\n",
       "  <thead>\n",
       "    <tr style=\"text-align: right;\">\n",
       "      <th></th>\n",
       "      <th>date</th>\n",
       "      <th>close</th>\n",
       "      <th>open</th>\n",
       "      <th>high</th>\n",
       "      <th>low</th>\n",
       "      <th>volume</th>\n",
       "      <th>name</th>\n",
       "    </tr>\n",
       "  </thead>\n",
       "  <tbody>\n",
       "    <tr>\n",
       "      <th>60</th>\n",
       "      <td>2018-01-02</td>\n",
       "      <td>210500.0</td>\n",
       "      <td>212500.0</td>\n",
       "      <td>212500.0</td>\n",
       "      <td>208500.0</td>\n",
       "      <td>43076.0</td>\n",
       "      <td>BGF리테일</td>\n",
       "    </tr>\n",
       "  </tbody>\n",
       "</table>\n",
       "</div>"
      ],
      "text/plain": [
       "         date     close      open      high       low   volume    name\n",
       "60 2018-01-02  210500.0  212500.0  212500.0  208500.0  43076.0  BGF리테일"
      ]
     },
     "execution_count": 10,
     "metadata": {},
     "output_type": "execute_result"
    }
   ],
   "source": [
    "df.head(1)"
   ]
  },
  {
   "cell_type": "code",
   "execution_count": 11,
   "metadata": {},
   "outputs": [],
   "source": [
    "import chardet"
   ]
  },
  {
   "cell_type": "code",
   "execution_count": 30,
   "metadata": {},
   "outputs": [
    {
     "name": "stdout",
     "output_type": "stream",
     "text": [
      "utf-8\n"
     ]
    }
   ],
   "source": [
    "filename = \"C:\\\\Users\\\\mi-bi\\\\OneDrive\\\\바탕 화면\\\\Kis Pjt\\\\Kis_Api_test\\\\4_SRC\\\\kospi200_raw.csv\"\n",
    "with open(filename, 'rb') as f:\n",
    "    result = chardet.detect(f.readline())  # or read() if the file is small.\n",
    "    print(result['encoding'])"
   ]
  },
  {
   "attachments": {},
   "cell_type": "markdown",
   "metadata": {},
   "source": [
    "### Cerebro  \n",
    "Backtrader의 주춧돌 역할을 하는 메인클래스 "
   ]
  },
  {
   "cell_type": "code",
   "execution_count": 13,
   "metadata": {},
   "outputs": [],
   "source": [
    "import backtrader as bt\n",
    "cerebro = bt.Cerebro()"
   ]
  },
  {
   "attachments": {},
   "cell_type": "markdown",
   "metadata": {},
   "source": [
    "모든 입력을 모아주는 센터\n",
    "\n",
    "<가능한 입력>  \n",
    "DataFeeds: 과거 주가 데이터  \n",
    "Strategies: 매수매도 전략  \n",
    "Writer: 문서화, Analyzer: 분석, Observer: 감시  \n",
    "Broker: 거래소  \n",
    "Notificatio: 알림  \n",
    "과거 주가 데이터, 혹은 실시간 데이터에 대해 Backtesting을 수행합니다.  \n",
    "결과를 반환합니다.  \n",
    "그래프 그리기 등의 외부 라이브러리에 대한 접근을 제공합니다.  "
   ]
  },
  {
   "attachments": {},
   "cell_type": "markdown",
   "metadata": {},
   "source": [
    "### Data Feeds (GenericCSVData)"
   ]
  },
  {
   "attachments": {},
   "cell_type": "markdown",
   "metadata": {},
   "source": [
    "Cerebro 데이터 입력방법 야후 파이낸스, Pandas (우리 PJT는 dataframe)  \n",
    "datetime, time, high, row, open, colse, volum 등 데이터 위치 양식 명세 "
   ]
  },
  {
   "cell_type": "code",
   "execution_count": 68,
   "metadata": {},
   "outputs": [
    {
     "data": {
      "text/plain": [
       "<backtrader.feeds.csvgeneric.GenericCSVData at 0x20c9b1f33a0>"
      ]
     },
     "execution_count": 68,
     "metadata": {},
     "output_type": "execute_result"
    }
   ],
   "source": [
    "data = bt.feeds.GenericCSVData(\n",
    "            dataname=\"kospi200_raw.csv\",\n",
    "\n",
    "            fromdate=datetime.datetime(2018, 1, 2),\n",
    "            todate=datetime.datetime(2022, 12, 29),\n",
    "\n",
    "            nullvalue=0.0,\n",
    "\n",
    "            dtformat=('%Y-%m-%d'),\n",
    "            #tmformat=('%I-%p'),\n",
    "\n",
    "            datetime=0,\n",
    "            time=-1,\n",
    "            high=3,\n",
    "            low=4,\n",
    "            open=2,\n",
    "            close=1,\n",
    "            volume=5,\n",
    "            openinterest=-1,\n",
    "\n",
    "                        headers = True,\n",
    "                        separator = ','\n",
    "        )\n",
    "\n",
    "cerebro.adddata(data)"
   ]
  },
  {
   "attachments": {},
   "cell_type": "markdown",
   "metadata": {},
   "source": [
    "### Strategy"
   ]
  },
  {
   "attachments": {},
   "cell_type": "markdown",
   "metadata": {},
   "source": [
    "cerebro에 매수매도 전략 전달 \n",
    "\n",
    "<생애주기>  \n",
    "* Initialize (__init__) : 전략에서 이용하는 지표들(indicators) 정의  \n",
    "* Birth (start) : World(cerobro)에게 시작을 알림.  \n",
    "* Childhood (prenext) : Window Size가 아직 차지 않은 초기 단계.  \n",
    "* Adulthood (next) : Window Size만큼의 데이터를 축적하여 본격적인 예측을 할 수 있는 단계.  \n",
    "* Reproduction : Parameter Optimizing 등을 위해 전략을 복사할 때 이용.  \n",
    "* Death (stop) : 종료  "
   ]
  },
  {
   "cell_type": "code",
   "execution_count": 69,
   "metadata": {},
   "outputs": [],
   "source": [
    "class MyStrategy(bt.Strategy):\n",
    "\n",
    "    def __init__(self):\n",
    "        self.sma = btind.SimpleMovingAverage(period=15)\n",
    "\n",
    "    def next(self):\n",
    "        if self.sma > self.data.close:\n",
    "            # Do something\n",
    "            pass\n",
    "\n",
    "        elif self.sma < self.data.close:\n",
    "            # Do something else\n",
    "            pass"
   ]
  },
  {
   "attachments": {},
   "cell_type": "markdown",
   "metadata": {},
   "source": [
    "__init__ 과 next 로 구성됨 next에 상세 전략 필요함녀 헬퍼함수 추가    \n",
    "start, prenext, next, stop은 overide 하지않는다 !!!!    \n",
    "next 에서 정해진 조건에 도달했을 때 주문 방법 buy, sell, close, cancel 메소드 이용    \n",
    "buy sell 은 order를 리턴    \n",
    "\n",
    "* data (default: None) : 어떤 데이터에서 생성되었는가? (World에 여러 데이터가 있는 경우)    \n",
    "* size : 주문량  \n",
    "* price : 가격  \n",
    "* exectype : 조건부 발동 (Order.Market: 시장가, Order.Limit: 다음틱 등)  \n",
    "* plimit, tradeid, ..  "
   ]
  },
  {
   "attachments": {},
   "cell_type": "markdown",
   "metadata": {},
   "source": [
    "Order Notification은 notify_order, notify_trade, notify_cashvalue 등의 메소드를 이용합니다.   \n",
    "메소드를 overide하여 로그를 남기거나 Slack 혹은 Telegram 과 같은 메신저를 연결해 모바일로 푸쉬 알림을 발생시킬 수도 있습니다.   \n",
    "각 notification은 next가 한번 실행될 때 마다 함께 실행됩니다."
   ]
  },
  {
   "cell_type": "code",
   "execution_count": 15,
   "metadata": {},
   "outputs": [
    {
     "ename": "UnicodeDecodeError",
     "evalue": "'cp949' codec can't decode byte 0xeb in position 1: illegal multibyte sequence",
     "output_type": "error",
     "traceback": [
      "\u001b[1;31m---------------------------------------------------------------------------\u001b[0m",
      "\u001b[1;31mUnicodeDecodeError\u001b[0m                        Traceback (most recent call last)",
      "Cell \u001b[1;32mIn[15], line 40\u001b[0m\n\u001b[0;32m     38\u001b[0m cerebro\u001b[39m.\u001b[39mbroker\u001b[39m.\u001b[39msetcash(\u001b[39m10000000\u001b[39m) \u001b[39m# 초기 투자 자금 설정 : 천만원\u001b[39;00m\n\u001b[0;32m     39\u001b[0m cerebro\u001b[39m.\u001b[39mbroker\u001b[39m.\u001b[39msetcommission(commission\u001b[39m=\u001b[39m\u001b[39m0.0014\u001b[39m) \n\u001b[1;32m---> 40\u001b[0m cerebro\u001b[39m.\u001b[39;49mrun()\n\u001b[0;32m     41\u001b[0m cerebro\u001b[39m.\u001b[39mplot()\n",
      "File \u001b[1;32mc:\\Users\\mi-bi\\anaconda3\\envs\\kis_pjt\\lib\\site-packages\\backtrader\\cerebro.py:1127\u001b[0m, in \u001b[0;36mCerebro.run\u001b[1;34m(self, **kwargs)\u001b[0m\n\u001b[0;32m   1123\u001b[0m \u001b[39mif\u001b[39;00m \u001b[39mnot\u001b[39;00m \u001b[39mself\u001b[39m\u001b[39m.\u001b[39m_dooptimize \u001b[39mor\u001b[39;00m \u001b[39mself\u001b[39m\u001b[39m.\u001b[39mp\u001b[39m.\u001b[39mmaxcpus \u001b[39m==\u001b[39m \u001b[39m1\u001b[39m:\n\u001b[0;32m   1124\u001b[0m     \u001b[39m# If no optimmization is wished ... or 1 core is to be used\u001b[39;00m\n\u001b[0;32m   1125\u001b[0m     \u001b[39m# let's skip process \"spawning\"\u001b[39;00m\n\u001b[0;32m   1126\u001b[0m     \u001b[39mfor\u001b[39;00m iterstrat \u001b[39min\u001b[39;00m iterstrats:\n\u001b[1;32m-> 1127\u001b[0m         runstrat \u001b[39m=\u001b[39m \u001b[39mself\u001b[39;49m\u001b[39m.\u001b[39;49mrunstrategies(iterstrat)\n\u001b[0;32m   1128\u001b[0m         \u001b[39mself\u001b[39m\u001b[39m.\u001b[39mrunstrats\u001b[39m.\u001b[39mappend(runstrat)\n\u001b[0;32m   1129\u001b[0m         \u001b[39mif\u001b[39;00m \u001b[39mself\u001b[39m\u001b[39m.\u001b[39m_dooptimize:\n",
      "File \u001b[1;32mc:\\Users\\mi-bi\\anaconda3\\envs\\kis_pjt\\lib\\site-packages\\backtrader\\cerebro.py:1210\u001b[0m, in \u001b[0;36mCerebro.runstrategies\u001b[1;34m(self, iterstrat, predata)\u001b[0m\n\u001b[0;32m   1208\u001b[0m \u001b[39mif\u001b[39;00m \u001b[39mself\u001b[39m\u001b[39m.\u001b[39m_exactbars \u001b[39m<\u001b[39m \u001b[39m1\u001b[39m:  \u001b[39m# datas can be full length\u001b[39;00m\n\u001b[0;32m   1209\u001b[0m     data\u001b[39m.\u001b[39mextend(size\u001b[39m=\u001b[39m\u001b[39mself\u001b[39m\u001b[39m.\u001b[39mparams\u001b[39m.\u001b[39mlookahead)\n\u001b[1;32m-> 1210\u001b[0m data\u001b[39m.\u001b[39;49m_start()\n\u001b[0;32m   1211\u001b[0m \u001b[39mif\u001b[39;00m \u001b[39mself\u001b[39m\u001b[39m.\u001b[39m_dopreload:\n\u001b[0;32m   1212\u001b[0m     data\u001b[39m.\u001b[39mpreload()\n",
      "File \u001b[1;32mc:\\Users\\mi-bi\\anaconda3\\envs\\kis_pjt\\lib\\site-packages\\backtrader\\feed.py:203\u001b[0m, in \u001b[0;36mAbstractDataBase._start\u001b[1;34m(self)\u001b[0m\n\u001b[0;32m    202\u001b[0m \u001b[39mdef\u001b[39;00m \u001b[39m_start\u001b[39m(\u001b[39mself\u001b[39m):\n\u001b[1;32m--> 203\u001b[0m     \u001b[39mself\u001b[39;49m\u001b[39m.\u001b[39;49mstart()\n\u001b[0;32m    205\u001b[0m     \u001b[39mif\u001b[39;00m \u001b[39mnot\u001b[39;00m \u001b[39mself\u001b[39m\u001b[39m.\u001b[39m_started:\n\u001b[0;32m    206\u001b[0m         \u001b[39mself\u001b[39m\u001b[39m.\u001b[39m_start_finish()\n",
      "File \u001b[1;32mc:\\Users\\mi-bi\\anaconda3\\envs\\kis_pjt\\lib\\site-packages\\backtrader\\feeds\\csvgeneric.py:88\u001b[0m, in \u001b[0;36mGenericCSVData.start\u001b[1;34m(self)\u001b[0m\n\u001b[0;32m     87\u001b[0m \u001b[39mdef\u001b[39;00m \u001b[39mstart\u001b[39m(\u001b[39mself\u001b[39m):\n\u001b[1;32m---> 88\u001b[0m     \u001b[39msuper\u001b[39;49m(GenericCSVData, \u001b[39mself\u001b[39;49m)\u001b[39m.\u001b[39;49mstart()\n\u001b[0;32m     90\u001b[0m     \u001b[39mself\u001b[39m\u001b[39m.\u001b[39m_dtstr \u001b[39m=\u001b[39m \u001b[39mFalse\u001b[39;00m\n\u001b[0;32m     91\u001b[0m     \u001b[39mif\u001b[39;00m \u001b[39misinstance\u001b[39m(\u001b[39mself\u001b[39m\u001b[39m.\u001b[39mp\u001b[39m.\u001b[39mdtformat, string_types):\n",
      "File \u001b[1;32mc:\\Users\\mi-bi\\anaconda3\\envs\\kis_pjt\\lib\\site-packages\\backtrader\\feed.py:677\u001b[0m, in \u001b[0;36mCSVDataBase.start\u001b[1;34m(self)\u001b[0m\n\u001b[0;32m    674\u001b[0m         \u001b[39mself\u001b[39m\u001b[39m.\u001b[39mf \u001b[39m=\u001b[39m io\u001b[39m.\u001b[39mopen(\u001b[39mself\u001b[39m\u001b[39m.\u001b[39mp\u001b[39m.\u001b[39mdataname, \u001b[39m'\u001b[39m\u001b[39mr\u001b[39m\u001b[39m'\u001b[39m)\n\u001b[0;32m    676\u001b[0m \u001b[39mif\u001b[39;00m \u001b[39mself\u001b[39m\u001b[39m.\u001b[39mp\u001b[39m.\u001b[39mheaders:\n\u001b[1;32m--> 677\u001b[0m     \u001b[39mself\u001b[39;49m\u001b[39m.\u001b[39;49mf\u001b[39m.\u001b[39;49mreadline()  \u001b[39m# skip the headers\u001b[39;00m\n\u001b[0;32m    679\u001b[0m \u001b[39mself\u001b[39m\u001b[39m.\u001b[39mseparator \u001b[39m=\u001b[39m \u001b[39mself\u001b[39m\u001b[39m.\u001b[39mp\u001b[39m.\u001b[39mseparator\n",
      "\u001b[1;31mUnicodeDecodeError\u001b[0m: 'cp949' codec can't decode byte 0xeb in position 1: illegal multibyte sequence"
     ]
    }
   ],
   "source": [
    "from datetime import datetime\n",
    "import backtrader as bt\n",
    "\n",
    "class SmaCross(bt.SignalStrategy):\n",
    "    def __init__(self):\n",
    "        sma1, sma2 = bt.ind.SMA(period=10), bt.ind.SMA(period=30)\n",
    "        crossover = bt.ind.CrossOver(sma1, sma2)\n",
    "        self.signal_add(bt.SIGNAL_LONG, crossover)\n",
    "\n",
    "cerebro = bt.Cerebro()\n",
    "cerebro.addstrategy(SmaCross)\n",
    "\n",
    "data = bt.feeds.GenericCSVData(\n",
    "            dataname=\"kospi200_raw.csv\",\n",
    "\n",
    "            fromdate=datetime(2018, 1, 2),\n",
    "            todate=datetime(2022, 12, 29),\n",
    "\n",
    "            nullvalue=0.0,\n",
    "\n",
    "            dtformat=('%Y-%m-%d'),\n",
    "            #tmformat=('%I-%p'),\n",
    "\n",
    "            datetime=0,\n",
    "            time=-1,\n",
    "            high=3,\n",
    "            low=4,\n",
    "            open=2,\n",
    "            close=1,\n",
    "            volume=5,\n",
    "            openinterest=-1,\n",
    "\n",
    "                        headers = True,\n",
    "                        separator = ','\n",
    "        )\n",
    "cerebro.adddata(data)\n",
    "\n",
    "cerebro.broker.setcash(10000000) # 초기 투자 자금 설정 : 천만원\n",
    "cerebro.broker.setcommission(commission=0.0014) \n",
    "cerebro.run()\n",
    "cerebro.plot()"
   ]
  },
  {
   "cell_type": "code",
   "execution_count": 37,
   "metadata": {},
   "outputs": [],
   "source": [
    "import backtrader as bt\n",
    "import pandas as pd\n",
    "import datetime\n",
    "\n",
    "class DaillyBuy(bt.Strategy):\n",
    "    def __init__(self):\n",
    "        pass\n",
    "    def next(self):\n",
    "        self.buy(size=10)"
   ]
  },
  {
   "cell_type": "code",
   "execution_count": 38,
   "metadata": {},
   "outputs": [],
   "source": [
    "import backtrader.feeds as btfeeds\n",
    "\n",
    "class customCSV(btfeeds.GenericCSVData):\n",
    "    params=(\n",
    "        ('dtformat', '%Y-%m-%d'),\n",
    "        ('datetime', 0),\n",
    "        ('time', -1),\n",
    "        ('open', 2),\n",
    "        ('high', 3),\n",
    "        ('low', 4),\n",
    "        ('close', 1),\n",
    "        ('volume', 5),\n",
    "        ('openinterest', -1),\n",
    "        )"
   ]
  },
  {
   "cell_type": "code",
   "execution_count": 39,
   "metadata": {},
   "outputs": [],
   "source": [
    "data = customCSV(dataname='005930.csv')"
   ]
  },
  {
   "cell_type": "code",
   "execution_count": 40,
   "metadata": {},
   "outputs": [
    {
     "data": {
      "text/plain": [
       "0"
      ]
     },
     "execution_count": 40,
     "metadata": {},
     "output_type": "execute_result"
    }
   ],
   "source": [
    "cerebro = bt.Cerebro()\n",
    "cerebro.adddata(data)\n",
    "cerebro.broker.setcash(1000000)\n",
    "cerebro.addstrategy(DaillyBuy)"
   ]
  },
  {
   "cell_type": "code",
   "execution_count": 41,
   "metadata": {},
   "outputs": [],
   "source": [
    "back_init = cerebro.broker.getvalue()"
   ]
  },
  {
   "cell_type": "code",
   "execution_count": 42,
   "metadata": {},
   "outputs": [
    {
     "data": {
      "text/plain": [
       "1000000"
      ]
     },
     "execution_count": 42,
     "metadata": {},
     "output_type": "execute_result"
    }
   ],
   "source": [
    "back_init"
   ]
  },
  {
   "cell_type": "code",
   "execution_count": 43,
   "metadata": {},
   "outputs": [
    {
     "data": {
      "text/plain": [
       "[<__main__.DaillyBuy at 0x1da4a68d510>]"
      ]
     },
     "execution_count": 43,
     "metadata": {},
     "output_type": "execute_result"
    }
   ],
   "source": [
    "cerebro.run()"
   ]
  },
  {
   "cell_type": "code",
   "execution_count": 44,
   "metadata": {},
   "outputs": [],
   "source": [
    "result=cerebro.broker.getvalue()"
   ]
  },
  {
   "cell_type": "code",
   "execution_count": 45,
   "metadata": {},
   "outputs": [],
   "source": [
    "result = cerebro.broker.getvalue()"
   ]
  },
  {
   "cell_type": "code",
   "execution_count": 18,
   "metadata": {},
   "outputs": [
    {
     "data": {
      "text/plain": [
       "Index(['date', 'close', 'open', 'high', 'low', 'volume', 'name'], dtype='object')"
      ]
     },
     "execution_count": 18,
     "metadata": {},
     "output_type": "execute_result"
    }
   ],
   "source": [
    "df.columnsa"
   ]
  },
  {
   "cell_type": "code",
   "execution_count": 33,
   "metadata": {},
   "outputs": [
    {
     "ename": "SyntaxError",
     "evalue": "incomplete input (3766483592.py, line 1)",
     "output_type": "error",
     "traceback": [
      "\u001b[1;36m  Cell \u001b[1;32mIn[33], line 1\u001b[1;36m\u001b[0m\n\u001b[1;33m    with open('kospi200_raw.csv','r',encoding='utf-8') as f :\u001b[0m\n\u001b[1;37m                                                             ^\u001b[0m\n\u001b[1;31mSyntaxError\u001b[0m\u001b[1;31m:\u001b[0m incomplete input\n"
     ]
    }
   ],
   "source": [
    "with open('kospi200_raw.csv','r',encoding='utf-8') as f :"
   ]
  },
  {
   "cell_type": "code",
   "execution_count": 36,
   "metadata": {},
   "outputs": [],
   "source": [
    "import FinanceDataReader as fdr\n",
    "df = fdr.DataReader('005930','2019-01-02','2020-07-31')\n",
    "df.to_csv('005930.csv')"
   ]
  },
  {
   "cell_type": "code",
   "execution_count": null,
   "metadata": {},
   "outputs": [],
   "source": []
  }
 ],
 "metadata": {
  "kernelspec": {
   "display_name": "kis_pjt",
   "language": "python",
   "name": "python3"
  },
  "language_info": {
   "codemirror_mode": {
    "name": "ipython",
    "version": 3
   },
   "file_extension": ".py",
   "mimetype": "text/x-python",
   "name": "python",
   "nbconvert_exporter": "python",
   "pygments_lexer": "ipython3",
   "version": "3.10.8"
  },
  "orig_nbformat": 4,
  "vscode": {
   "interpreter": {
    "hash": "46a644118eb29974eeb5114eb6b85dba363fd7e9df916f2c55edd890b4f86857"
   }
  }
 },
 "nbformat": 4,
 "nbformat_minor": 2
}
